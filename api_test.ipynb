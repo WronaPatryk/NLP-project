{
 "cells": [
  {
   "cell_type": "code",
   "execution_count": 11,
   "metadata": {},
   "outputs": [],
   "source": [
    "import praw\n",
    "import pandas as pd"
   ]
  },
  {
   "cell_type": "code",
   "execution_count": 3,
   "metadata": {},
   "outputs": [],
   "source": [
    "client_id = \"C4pwEWXjVs1dyYeHAA86-A\"\n",
    "secret = \"MuodJ0i83u1nTYGmDCI0adgqS1f6-w\"\n",
    "user_agent = \"tag_predictor\""
   ]
  },
  {
   "cell_type": "code",
   "execution_count": 6,
   "metadata": {},
   "outputs": [],
   "source": [
    "reddit = praw.Reddit(client_id=client_id, client_secret=secret, user_agent=user_agent)"
   ]
  },
  {
   "cell_type": "code",
   "execution_count": 17,
   "metadata": {},
   "outputs": [
    {
     "name": "stdout",
     "output_type": "stream",
     "text": [
      "How to get a scientific paper for free\n",
      "UPDATE: I've crawled the entire PubMed database and collected all available literature on nootropics done in humans, here are the results (Human Nootropics Index 2.0)\n",
      "This is pretty much the biggest red-alert towards legal nootropics in the US.\n",
      "I just learned that 10 minutes of \"wakeful rest\" (doing nothing / no sensory input) after learning was associated with 40% higher memory retrieval a week later. What are some other cognitive-enhancing phenomena everyone should know?\n",
      "Since losing my job due to health issues 2 years ago I started to create a Health tracking app to help spot patterns between e.g. Mood/Symptoms and Meds/Supplements. I finally released a Free BETA version recently and I thought you might be interested to hear about it.\n",
      "How to get a scientific paper for free\n",
      "People who learn how to learn can outperform those with very high IQs. Much of it comes down to “metacognition,” paying close attention to how you are thinking, writes Center for American Progress’ Ulrich Boser.\n",
      "Less than one week left to get 3000 signatures to put psilocybin (the active ingredient in magic mushrooms) on the Oregon November ballot. This would allow it to be used to treat anxiety and depression at licensed facilities. Lets not let this pass us by!!\n",
      "Any thoughts on this? What could replace alcohol?\n",
      "\"Over the past 2.5 years, Google has decreased traffic to Examine.com by roughly 90%\" (Examine.com is not the only online informational website affected. It seems like a big problem if Google is making it hard for supplement newbies to find decent info.)\n",
      "Hopkins researchers recommend reclassifying psilocybin, the drug in 'magic' mushrooms, from schedule I to schedule IV\n",
      "Tens of thousands of fake supplements are being sold on Amazon by SerumLabs (Komprocha, Energecko, Vitablossom, Mistacy, ChriBubble, NMN Max, NMN Plus, Glorifikation, and more)\n",
      "Probiotics that make neurotransmitters.\n",
      "Installing air filters in classrooms has surprisingly large educational benefits - a few months of air filtering dramatically improves test scores\n",
      "Have you guys ever tried just taking… nothing?\n",
      "The oral bioavailability of EVERY nootropic (84+)\n",
      "[PSA bomb] Most people here need to be far more critical, skeptical, and cautious than they are.\n",
      "Magnesium fixed me, something I thought was impossible for 7 years.\n",
      "Got a threatening message from Cortex Labs - bizarre experience.\n",
      "FDA Approves Intranasal Ketamine for depression.\n",
      "Dr. Rhonda Patrick here. My new video explains how exercise, omega-3, and above all sleep beneficially impact the glymphatic system, which is key to delay brain aging -- and may factor into dementia prevention.\n",
      "MIT Chemistry students had their sleep mointored. Quality of sleep accounted for 25% of the variance in grades! And what matters is sleep the week/month before the exam, not the night of the exam itself.\n",
      "Rhonda Patrick here. I've just released my most in-depth video EVER (months in the making) on a profoundly important plant compound: sulforaphane. I believe sulforaphane holds promise as a nootropic because of its promising effects on the brain and behavior. Skip to 26:30 for brain section.\n",
      "For those who are late to the party (I were just an hour ago), neuroscientist Andrew Huberman has recently started a podcast on understanding the brain and applying the knowledge in practical and meaningful ways\n",
      "Warnings\n",
      "Gut Bacteria Linked to Depression Identified\n",
      "Vitamin D and Covid-19\n",
      "I recently ordered some Ashwagandha but came across a study showing that around 20% of brands have unsafe levels of heavy metals like lead, mercury and arsenic... How can I determine whether or not the brand I chose is free of toxic heavy metals and safe for consumption?\n",
      "Ten months of exercise treated depression at rates phenomenally higher than SSRI's. Patients in the exercise group even had a fantastically lower rate of relapse after stopping their exercise routine.\n",
      "\"Don't Skip Leg Day. Your Brain Will Thank You.\" Leg exercise is critical to brain and nervous system health -- ScienceDaily\n",
      "Rating every nootropic I've taken\n",
      "This sub is reckless as fuck\n",
      "I've crawled the entire PubMed database and collected all available literature on nootropics done in humans, here are the results (Human Nootropics Index)\n",
      "The Big Vitamin D Mistake. A statistical error in the estimation of the recommended dietary allowance (RDA) for vitamin D was recently discovered; in a correct analysis of the data used by the Institute of Medicine, it was found that 8895 IU/d was needed for 97.5% of individuals.\n",
      "A Beginner's Guide to Nootropics\n",
      "Haven't had brain fog in over three years all due to diet.\n",
      "Multiple Studies show an increase in fiber intake is very strongly associated with a decrease in depression symptoms. Very interesting research from China, Korea, the US and Japan with high numbers of participants.\n",
      "Vitamin D could be your best defence against a critical breakdown in your brain that could lead to cognitive disorders such as depression and schizophrenia\n",
      "Study: Sleeping on your side helps the brain clear toxins during sleep, including amyloid plaque (associated with Alzheimers/dementia). This is part of the recentlty discovered glymphatic system in the brain.\n",
      "Study Links Fluoridated Water During Pregnancy to Lower IQs\n",
      "Vitamin D deficiency weakens dopamine system, leading to overeating and obesity - Calcitriol (active Vitamin D) Upregulates Dopamine D2 receptors, Increases Dopamine Production (↑ Tyrosine Hydroxylase [↑TH]) [mice] (2016)\n",
      "An unexpected source of common cognitive impairment: atmospheric CO2. Humans evolved in air with about 300ppm CO2. Today, in urban areas, 500ppm is common OUTDOORS. Operating ~1000ppm results in ~15% cognitive decline. 1400ppm is 50% cognitive decline. These numbers are common in offices.\n",
      "My nootropics/supplement collection is getting slightly out of hand\n",
      "Why Your Nootropics Arent Working\n",
      "Sauna Bathing Has Cognitive Benefits and May Prevent Dementia (n=13,994 Finnish participants)\n",
      "I use video games with the Pomodoro technique to study 8 hours a day (and it’s all backed by science)\n",
      "L Theanine cured my ( social) anxiety. I'm blown away. I'm usually socially awkward but I MASTERED a job interview.\n",
      "New supp dispensers came in the post today - much easier than dealing with lots of seperate jars\n",
      "Higher aerobic fitness levels decrease the probability of experiencing tip-of-the-tongue states (when you can’t think of a word that’s on the tip of your tongue) in healthy older adults, in the first demonstration of a link between aerobic fitness and language functioning in healthy older adults.\n",
      "95% of your serotonin is produced in your gastrointestinal tract -Nutritional psychiatry: Your brain on food - Harvard Health Blog\n",
      "I took one supplement a week for 8 weeks to see any effect on Sleep Quality.\n",
      "One night of sleep deprivation causes the accumulation of a protein associated with Alzheimer's Disease progression\n",
      "Hangover Prevention Formulation I made - costs about 70 cents for you to make yourself at home\n",
      "Neuroscience study indicates the narcolepsy drug modafinil enhances cognitive control in healthy people\n",
      "MDMA therapy achieves astounding 76% success rate for treating PTSD\n",
      "Vitamin D determines severity in COVID-19 so government advice needs to change, experts urge: Researchers point to changes in government advice in Wales, England and Scotland\n",
      "Using emotion tracking and NLP to look into how Ritalin, L-Theanine and Lions Main changes my emotions! Will post the results here next week! (Making a pdf output).\n",
      "I thank life every day for L-Theanine and this sub.\n",
      "A study of 13,388 women showed fruit is NOT associated with cognitive benefits. However total vegetable intake was significantly associated with brain benefits. Cruciferous vegetables and leafy greens were the most important.\n",
      "Vitamin D Significantly Upregulates the D2 Dopamine Receptor, Increases Dopamine Synthesis, and Potentiates the Effects of Amphetamine in rats (2016)\n",
      "Tim Ferriss just posted a 2-hour 46-minute podcast (!) where I tackle questions from listeners. Lots of very deep discussion on nootropics, but also this might be THE most in-depth and organized coverage of my general thoughts on lifestyle and health ever!\n",
      "Cerebral Health Pyritinol Test Results (WARNING)\n",
      "Mood vs Supplements - I tracked my mood multiple times per day to find out which supplements made me happiest in the last year\n",
      "Probiotics and the microbiome are more vital then ever.\n",
      "Study finds that seeing your own brain activity helps you regulate activity in specific regions of the brain. This training, known as neurofeedback, offers an exciting and novel treatment method for psychiatric illnesses such as depression, ADHD, anxiety, and more.\n",
      "Alzheimer's memory loss reversed by new head device using Transcranial Stimulation\n",
      "Lmao: \"Start-up makes millions selling 'brain hacking' pills, but its own study found coffee works better\"\n",
      "Recruitment for Imperial College microdose study\n",
      "When given in a formulation that facilitates passage to the brain, lithium in doses up to 400 times lower than what is currently being prescribed for mood disorders is capable of both halting signs of advanced Alzheimer's pathology and of recovering lost cognitive abilities.\n",
      "Guide to vitamins and minerals: What to look for in multivitamins\n",
      "Cannabinoids drive motivation to voluntarily seek aerobic exercise\n",
      "Very specific GNC (I pointed it out and the salesperson said \"nootropic is a brain supplement, I think it's pretty new\"\n",
      "Caffeine + L-Theanine changed my life\n",
      "Link between Alzheimer's disease and imbalances in the gut microbiome has been confirmed in humans\n",
      "Ever wondered why fungi contain compounds that affect human cognition? It's because our unicellular ancestors shared ancient neurotransmitters that pre-dated the evolution of the brain. - Prof. Michael Levin NeurIPS 2018\n",
      "Joe Rogan's approach to Nootropics is wildly irresponsible, potentially dangerous, and flat out stupid.\n",
      "The biggest mistake beginners make with nootropics\n",
      "Drinking alcohol daily speeds up brain aging by one week per session\n",
      "Google: Supplements are...\n",
      "Adderall (ie, Dexedrine) can be neurotoxic in the long run by damaging dopamine neurons, while Ritalin has little to no neurotoxicity potential. This extended neurotoxicity can lead to neurological disorders like Parkinson's Disease and Restless Leg Syndrome (RLS).\n",
      "Caffeine fully blocks antidepressant-like effect of Creatine in mice [requires Adenosine receptors] (2015)\n",
      "L-theanine and Caffeine Improve Sustained Attention, Impulsivity and Cognition in Children with Attention Deficit Hyperactivity Disorders by Decreasing Mind Wandering - PUBMED 2019.\n",
      "Staying motivated is linked to the ratio of neurotransmitters glutamine and glutamate, according to neuroscientists at EPFL and the University of Edinburgh\n",
      "Learn basic neurochemistry before spending money\n",
      "Children who nap midday are happier, excel academically, and have fewer behavioral problems\n",
      "Results of the 2017 Nootropics Survey\n",
      "Study of 46 people undergoing brain surgery shows that neurons from individuals with higher IQ scores have larger dendrites\n",
      "Neuroscientist: Walking Is a 'Superpower' That Makes Us Smarter, Healthier, and Happier.\n",
      "Study says 3-Day Work Week Best for Cognition\n",
      "Study: Lumosity boosts brain function as much as normal video games—by 0%\n",
      "LSD microdoses improve attention and mood, impair working memory, and increase anxiety [2020]\n",
      "Adults Taking Cognitive Enhancers to Boost Mental Abilities at Work Considered Largely Acceptable by the Public\n",
      "We may finally know what causes Alzheimer’s – and how to stop it\n",
      "Ibuprofen increases BDNF levels, reverses depression caused by chronic stress exposure (2019)\n",
      "Probiotics are showing signs of treating depression and anxiety due to its relation to stress response\n",
      "Congratulations on the approval of psilocybin for the treatment of mental health conditions, Canada! Here is my recent video discussing research on psilocybin's use as a potential treatment for depression.\n",
      "A 10+ year nootropic enthusiast’s list of 20 obscure nootropics/supplements you may or may know about\n",
      "\"Dr. Rita Levi-Montalcini won a Nobel Prize for discovering Nerve Growth Factor. Now, at 100, she appears to be benefiting (from NGF supplementation).\"\n",
      "Autistic children (including high-functioning) have excessive serotonin levels - Vitamin A treatment normalizes serotonin and improves behavior [n = 33] (2017)\n",
      "UTSA Student Awarded Fellowship to Study Psychedelic Drugs to Regrow Brain Cells\n"
     ]
    }
   ],
   "source": [
    "   # Number of posts we want in our data\n",
    "top_posts = reddit.subreddit('Nootropics').top(limit=num_of_posts)\n",
    "\n",
    "# Printing the titles of the top_posts in this subreddit\n",
    "for post in top_posts:\n",
    "    print(post.title)"
   ]
  },
  {
   "cell_type": "code",
   "execution_count": 67,
   "metadata": {},
   "outputs": [
    {
     "data": {
      "text/html": [
       "<div>\n",
       "<style scoped>\n",
       "    .dataframe tbody tr th:only-of-type {\n",
       "        vertical-align: middle;\n",
       "    }\n",
       "\n",
       "    .dataframe tbody tr th {\n",
       "        vertical-align: top;\n",
       "    }\n",
       "\n",
       "    .dataframe thead th {\n",
       "        text-align: right;\n",
       "    }\n",
       "</style>\n",
       "<table border=\"1\" class=\"dataframe\">\n",
       "  <thead>\n",
       "    <tr style=\"text-align: right;\">\n",
       "      <th></th>\n",
       "      <th>URL</th>\n",
       "      <th>Title</th>\n",
       "      <th>Body</th>\n",
       "      <th>IsSelf</th>\n",
       "      <th>Score</th>\n",
       "      <th>UpvoteRatio</th>\n",
       "      <th>Flair</th>\n",
       "    </tr>\n",
       "  </thead>\n",
       "  <tbody>\n",
       "    <tr>\n",
       "      <th>0</th>\n",
       "      <td>https://www.reddit.com/r/Drugs/comments/tp0836...</td>\n",
       "      <td>Can i sell f-Phenibut</td>\n",
       "      <td>Litteraly nobody know about this drug i feel l...</td>\n",
       "      <td>True</td>\n",
       "      <td>1</td>\n",
       "      <td>1.0</td>\n",
       "      <td>None</td>\n",
       "    </tr>\n",
       "    <tr>\n",
       "      <th>1</th>\n",
       "      <td>https://www.reddit.com/r/Drugs/comments/tp01l4...</td>\n",
       "      <td>cross tolerance? molly and meth</td>\n",
       "      <td>I have been off meth for nearly 6 months but y...</td>\n",
       "      <td>True</td>\n",
       "      <td>1</td>\n",
       "      <td>1.0</td>\n",
       "      <td>Stimulants</td>\n",
       "    </tr>\n",
       "    <tr>\n",
       "      <th>2</th>\n",
       "      <td>https://www.reddit.com/r/Drugs/comments/tozuvm...</td>\n",
       "      <td>Did you start using drugs to cope with life or...</td>\n",
       "      <td>This question has always been in my mind when ...</td>\n",
       "      <td>True</td>\n",
       "      <td>1</td>\n",
       "      <td>1.0</td>\n",
       "      <td>I :love: Drugs</td>\n",
       "    </tr>\n",
       "  </tbody>\n",
       "</table>\n",
       "</div>"
      ],
      "text/plain": [
       "                                                 URL  \\\n",
       "0  https://www.reddit.com/r/Drugs/comments/tp0836...   \n",
       "1  https://www.reddit.com/r/Drugs/comments/tp01l4...   \n",
       "2  https://www.reddit.com/r/Drugs/comments/tozuvm...   \n",
       "\n",
       "                                               Title  \\\n",
       "0                              Can i sell f-Phenibut   \n",
       "1                    cross tolerance? molly and meth   \n",
       "2  Did you start using drugs to cope with life or...   \n",
       "\n",
       "                                                Body  IsSelf  Score  \\\n",
       "0  Litteraly nobody know about this drug i feel l...    True      1   \n",
       "1  I have been off meth for nearly 6 months but y...    True      1   \n",
       "2  This question has always been in my mind when ...    True      1   \n",
       "\n",
       "   UpvoteRatio           Flair  \n",
       "0          1.0            None  \n",
       "1          1.0      Stimulants  \n",
       "2          1.0  I :love: Drugs  "
      ]
     },
     "execution_count": 67,
     "metadata": {},
     "output_type": "execute_result"
    }
   ],
   "source": [
    "num_of_posts = 3\n",
    "sub = reddit.subreddit('Drugs')\n",
    "features = ['URL', \n",
    "            'Title', \n",
    "            'Body',\n",
    "            'IsSelf', \n",
    "            'Score',\n",
    "            'UpvoteRatio', \n",
    "            'Flair']\n",
    "\n",
    "all_posts = [] \n",
    "\n",
    "# Loop through each subreddit entry and append that to the posts list\n",
    "for thread in sub.new(limit=num_of_posts):\n",
    "    all_posts.append([thread.url, \n",
    "                      thread.title, \n",
    "                      thread.selftext, \n",
    "                      thread.is_self, \n",
    "                      thread.score, \n",
    "                      thread.upvote_ratio, \n",
    "                      thread.link_flair_text])\n",
    "\n",
    "# Convert to a DataFrame \n",
    "data = pd.DataFrame(all_posts, columns=features)\n",
    "data"
   ]
  },
  {
   "cell_type": "code",
   "execution_count": 61,
   "metadata": {},
   "outputs": [
    {
     "data": {
      "text/plain": [
       "'https://www.reddit.com/r/Drugs/comments/toy33c/collection_ruined/'"
      ]
     },
     "execution_count": 61,
     "metadata": {},
     "output_type": "execute_result"
    }
   ],
   "source": [
    "data.loc[1, \"URL\"]"
   ]
  },
  {
   "cell_type": "code",
   "execution_count": 36,
   "metadata": {},
   "outputs": [
    {
     "name": "stdout",
     "output_type": "stream",
     "text": [
      "❤\n"
     ]
    }
   ],
   "source": [
    "print(\"❤\")"
   ]
  }
 ],
 "metadata": {
  "kernelspec": {
   "display_name": "Python 3",
   "language": "python",
   "name": "python3"
  },
  "language_info": {
   "codemirror_mode": {
    "name": "ipython",
    "version": 3
   },
   "file_extension": ".py",
   "mimetype": "text/x-python",
   "name": "python",
   "nbconvert_exporter": "python",
   "pygments_lexer": "ipython3",
   "version": "3.8.10"
  }
 },
 "nbformat": 4,
 "nbformat_minor": 4
}
