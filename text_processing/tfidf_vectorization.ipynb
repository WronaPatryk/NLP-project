{
 "cells": [
  {
   "cell_type": "markdown",
   "id": "1ee14b47",
   "metadata": {},
   "source": [
    "# TfIdf + first attempts of fitting Naive Bayes & SVC"
   ]
  },
  {
   "cell_type": "code",
   "execution_count": 1,
   "id": "a36f094e",
   "metadata": {},
   "outputs": [],
   "source": [
    "# importing packages\n",
    "\n",
    "# heavy\n",
    "from sklearn.feature_extraction.text import TfidfVectorizer\n",
    "\n",
    "\n"
   ]
  },
  {
   "cell_type": "code",
   "execution_count": 11,
   "id": "849c2391",
   "metadata": {},
   "outputs": [],
   "source": [
    "# for recommendations\n",
    "from sklearn.metrics.pairwise import linear_kernel\n",
    "\n",
    "# ml models\n",
    "from sklearn.naive_bayes import MultinomialNB\n",
    "from sklearn import svm\n",
    "\n",
    "# ml stuff\n",
    "from sklearn.model_selection import train_test_split\n",
    "# other\n",
    "import pandas as pd\n",
    "import numpy as np\n"
   ]
  },
  {
   "cell_type": "code",
   "execution_count": 3,
   "id": "a47f5736",
   "metadata": {},
   "outputs": [
    {
     "name": "stderr",
     "output_type": "stream",
     "text": [
      "C:\\Users\\Patryk\\anaconda3\\lib\\site-packages\\IPython\\core\\interactiveshell.py:3444: DtypeWarning: Columns (8) have mixed types.Specify dtype option on import or set low_memory=False.\n",
      "  exec(code_obj, self.user_global_ns, self.user_ns)\n"
     ]
    }
   ],
   "source": [
    "# loading data\n",
    "aita = pd.read_csv('../data/aita.csv', index_col=0)\n",
    "\n"
   ]
  },
  {
   "cell_type": "markdown",
   "id": "9bc3fe2c",
   "metadata": {},
   "source": [
    "# Learning Naive Bayes"
   ]
  },
  {
   "cell_type": "code",
   "execution_count": 20,
   "id": "cba7c277",
   "metadata": {},
   "outputs": [],
   "source": [
    "nb = MultinomialNB()"
   ]
  },
  {
   "cell_type": "code",
   "execution_count": 69,
   "id": "afec84da",
   "metadata": {},
   "outputs": [
    {
     "data": {
      "text/html": [
       "<div>\n",
       "<style scoped>\n",
       "    .dataframe tbody tr th:only-of-type {\n",
       "        vertical-align: middle;\n",
       "    }\n",
       "\n",
       "    .dataframe tbody tr th {\n",
       "        vertical-align: top;\n",
       "    }\n",
       "\n",
       "    .dataframe thead th {\n",
       "        text-align: right;\n",
       "    }\n",
       "</style>\n",
       "<table border=\"1\" class=\"dataframe\">\n",
       "  <thead>\n",
       "    <tr style=\"text-align: right;\">\n",
       "      <th></th>\n",
       "      <th>flair</th>\n",
       "      <th>title</th>\n",
       "      <th>text</th>\n",
       "      <th>score</th>\n",
       "      <th>url</th>\n",
       "      <th>num_comments</th>\n",
       "      <th>created_utc</th>\n",
       "      <th>is_self</th>\n",
       "      <th>num_crossposts</th>\n",
       "      <th>title_wc</th>\n",
       "      <th>selftext_wc</th>\n",
       "      <th>title_cc</th>\n",
       "      <th>selftext_cc</th>\n",
       "    </tr>\n",
       "  </thead>\n",
       "  <tbody>\n",
       "    <tr>\n",
       "      <th>14</th>\n",
       "      <td>asshole</td>\n",
       "      <td>aita for missing my shift at work and studying?</td>\n",
       "      <td>i'm a highschool senior who works a part time ...</td>\n",
       "      <td>16.0</td>\n",
       "      <td>http://www.reddit.com/r/AmItheAsshole/comments...</td>\n",
       "      <td>17.0</td>\n",
       "      <td>1.422047e+09</td>\n",
       "      <td>True</td>\n",
       "      <td>NaN</td>\n",
       "      <td>9</td>\n",
       "      <td>120</td>\n",
       "      <td>47</td>\n",
       "      <td>614</td>\n",
       "    </tr>\n",
       "    <tr>\n",
       "      <th>18</th>\n",
       "      <td>asshole</td>\n",
       "      <td>aita for using robin williams' suicide to brea...</td>\n",
       "      <td>on okcupid this girl listed only robin william...</td>\n",
       "      <td>13.0</td>\n",
       "      <td>http://www.reddit.com/r/AmItheAsshole/comments...</td>\n",
       "      <td>12.0</td>\n",
       "      <td>1.422843e+09</td>\n",
       "      <td>True</td>\n",
       "      <td>NaN</td>\n",
       "      <td>10</td>\n",
       "      <td>69</td>\n",
       "      <td>56</td>\n",
       "      <td>395</td>\n",
       "    </tr>\n",
       "    <tr>\n",
       "      <th>27</th>\n",
       "      <td>asshole</td>\n",
       "      <td>aita for creating a fucked up love triangle?</td>\n",
       "      <td>so it started last semester as i'm a third yea...</td>\n",
       "      <td>10.0</td>\n",
       "      <td>http://www.reddit.com/r/AmItheAsshole/comments...</td>\n",
       "      <td>16.0</td>\n",
       "      <td>1.423202e+09</td>\n",
       "      <td>True</td>\n",
       "      <td>NaN</td>\n",
       "      <td>8</td>\n",
       "      <td>306</td>\n",
       "      <td>44</td>\n",
       "      <td>1585</td>\n",
       "    </tr>\n",
       "    <tr>\n",
       "      <th>33</th>\n",
       "      <td>everyone sucks</td>\n",
       "      <td>aita refused to go in to see a movie after tic...</td>\n",
       "      <td>now this happened a while ago and i'm pretty s...</td>\n",
       "      <td>29.0</td>\n",
       "      <td>http://www.reddit.com/r/AmItheAsshole/comments...</td>\n",
       "      <td>31.0</td>\n",
       "      <td>1.423225e+09</td>\n",
       "      <td>True</td>\n",
       "      <td>NaN</td>\n",
       "      <td>14</td>\n",
       "      <td>415</td>\n",
       "      <td>65</td>\n",
       "      <td>2003</td>\n",
       "    </tr>\n",
       "    <tr>\n",
       "      <th>34</th>\n",
       "      <td>asshole</td>\n",
       "      <td>aita for refusing to not touch my phone as the...</td>\n",
       "      <td>i figured out during a 7 hour road trip to go ...</td>\n",
       "      <td>10.0</td>\n",
       "      <td>http://www.reddit.com/r/AmItheAsshole/comments...</td>\n",
       "      <td>30.0</td>\n",
       "      <td>1.423260e+09</td>\n",
       "      <td>True</td>\n",
       "      <td>NaN</td>\n",
       "      <td>18</td>\n",
       "      <td>177</td>\n",
       "      <td>99</td>\n",
       "      <td>952</td>\n",
       "    </tr>\n",
       "  </tbody>\n",
       "</table>\n",
       "</div>"
      ],
      "text/plain": [
       "             flair                                              title  \\\n",
       "14         asshole    aita for missing my shift at work and studying?   \n",
       "18         asshole  aita for using robin williams' suicide to brea...   \n",
       "27         asshole       aita for creating a fucked up love triangle?   \n",
       "33  everyone sucks  aita refused to go in to see a movie after tic...   \n",
       "34         asshole  aita for refusing to not touch my phone as the...   \n",
       "\n",
       "                                                 text  score  \\\n",
       "14  i'm a highschool senior who works a part time ...   16.0   \n",
       "18  on okcupid this girl listed only robin william...   13.0   \n",
       "27  so it started last semester as i'm a third yea...   10.0   \n",
       "33  now this happened a while ago and i'm pretty s...   29.0   \n",
       "34  i figured out during a 7 hour road trip to go ...   10.0   \n",
       "\n",
       "                                                  url  num_comments  \\\n",
       "14  http://www.reddit.com/r/AmItheAsshole/comments...          17.0   \n",
       "18  http://www.reddit.com/r/AmItheAsshole/comments...          12.0   \n",
       "27  http://www.reddit.com/r/AmItheAsshole/comments...          16.0   \n",
       "33  http://www.reddit.com/r/AmItheAsshole/comments...          31.0   \n",
       "34  http://www.reddit.com/r/AmItheAsshole/comments...          30.0   \n",
       "\n",
       "     created_utc is_self  num_crossposts  title_wc  selftext_wc  title_cc  \\\n",
       "14  1.422047e+09    True             NaN         9          120        47   \n",
       "18  1.422843e+09    True             NaN        10           69        56   \n",
       "27  1.423202e+09    True             NaN         8          306        44   \n",
       "33  1.423225e+09    True             NaN        14          415        65   \n",
       "34  1.423260e+09    True             NaN        18          177        99   \n",
       "\n",
       "    selftext_cc  \n",
       "14          614  \n",
       "18          395  \n",
       "27         1585  \n",
       "33         2003  \n",
       "34          952  "
      ]
     },
     "execution_count": 69,
     "metadata": {},
     "output_type": "execute_result"
    }
   ],
   "source": [
    "aita.head()"
   ]
  },
  {
   "cell_type": "code",
   "execution_count": 30,
   "id": "a48a4d78",
   "metadata": {},
   "outputs": [],
   "source": [
    "data = aita[aita.flair.isin(['asshole', 'not the a-hole'])].head(2000)\n",
    "\n",
    "data = data.dropna(subset=['text', 'flair', 'score'])\n",
    "\n",
    "X = data.iloc[:,[1,2,3,4,5,6,7,8,9,10,11,12]]\n",
    "y = data.iloc[:,0]\n",
    "\n",
    "X_train, X_test, y_train, y_test = train_test_split(X, y, test_size=0.33, random_state=42)\n",
    "\n"
   ]
  },
  {
   "cell_type": "code",
   "execution_count": 31,
   "id": "b3279efd",
   "metadata": {},
   "outputs": [],
   "source": [
    "\n",
    "\n",
    "vectorizer = TfidfVectorizer(stop_words = 'english')\n",
    "\n",
    "aiti_selftext_bgw = vectorizer.fit_transform(X_train.text)\n",
    "aiti_selftext_bgw_test = vectorizer.transform(X_test.text)\n",
    "\n",
    "# Convert bow_matrix into a DataFrame\n",
    "bow_df = pd.DataFrame(aiti_selftext_bgw.toarray())\n",
    "X_test = pd.DataFrame(aiti_selftext_bgw_test.toarray())\n",
    "\n",
    "# Map the column names to vocabulary \n",
    "bow_df.columns = vectorizer.get_feature_names()\n",
    "X_test.columns = vectorizer.get_feature_names()\n"
   ]
  },
  {
   "cell_type": "code",
   "execution_count": 83,
   "id": "518637be",
   "metadata": {},
   "outputs": [
    {
     "data": {
      "text/plain": [
       "flair                  0\n",
       "title                  0\n",
       "text                 186\n",
       "score                  1\n",
       "url                    1\n",
       "num_comments           1\n",
       "created_utc            1\n",
       "is_self                1\n",
       "num_crossposts    347465\n",
       "title_wc               0\n",
       "selftext_wc            0\n",
       "title_cc               0\n",
       "selftext_cc            0\n",
       "dtype: int64"
      ]
     },
     "execution_count": 83,
     "metadata": {},
     "output_type": "execute_result"
    }
   ],
   "source": [
    "aita.isna().sum()"
   ]
  },
  {
   "cell_type": "code",
   "execution_count": 97,
   "id": "f73a5a38",
   "metadata": {},
   "outputs": [
    {
     "data": {
      "text/plain": [
       "(array(['asshole', 'not the a-hole'], dtype=object),\n",
       " array([1672, 4988], dtype=int64))"
      ]
     },
     "execution_count": 97,
     "metadata": {},
     "output_type": "execute_result"
    }
   ],
   "source": [
    "np.unique(pd.DataFrame(y_train), return_counts=True)"
   ]
  },
  {
   "cell_type": "code",
   "execution_count": 99,
   "id": "47e00c89",
   "metadata": {},
   "outputs": [
    {
     "name": "stdout",
     "output_type": "stream",
     "text": [
      "The accuracy of the classifier on the test set is 0.741\n"
     ]
    }
   ],
   "source": [
    "\n",
    "\n",
    "# Fit the classifier\n",
    "nb.fit(bow_df, y_train)\n",
    "\n",
    "# Measure the accuracy\n",
    "accuracy = nb.score(X_test, y_test)\n",
    "print(\"The accuracy of the classifier on the test set is %.3f\" % accuracy)\n",
    "\n",
    "# Predict the sentiment of a negative review\n",
    "post = \"I tell you that I am confirmed asshole\"\n",
    "prediction = nb.predict(vectorizer.transform([post]))[0]"
   ]
  },
  {
   "cell_type": "code",
   "execution_count": 100,
   "id": "4a66f73b",
   "metadata": {},
   "outputs": [
    {
     "data": {
      "text/plain": [
       "'not the a-hole'"
      ]
     },
     "execution_count": 100,
     "metadata": {},
     "output_type": "execute_result"
    }
   ],
   "source": [
    "prediction"
   ]
  },
  {
   "cell_type": "code",
   "execution_count": 105,
   "id": "80471b19",
   "metadata": {},
   "outputs": [],
   "source": [
    "preds = nb.predict(X_test)"
   ]
  },
  {
   "cell_type": "code",
   "execution_count": 106,
   "id": "7278dc68",
   "metadata": {},
   "outputs": [
    {
     "data": {
      "text/plain": [
       "array(['not the a-hole'], dtype='<U14')"
      ]
     },
     "execution_count": 106,
     "metadata": {},
     "output_type": "execute_result"
    }
   ],
   "source": [
    "np.unique(preds)"
   ]
  },
  {
   "cell_type": "markdown",
   "id": "7ab726f8",
   "metadata": {},
   "source": [
    "# SVC fitting"
   ]
  },
  {
   "cell_type": "code",
   "execution_count": 33,
   "id": "d3d5f705",
   "metadata": {},
   "outputs": [],
   "source": [
    "sv = svm.SVC(C=1.0, kernel='linear', degree=3, gamma='auto')"
   ]
  },
  {
   "cell_type": "code",
   "execution_count": null,
   "id": "9e3be6e8",
   "metadata": {},
   "outputs": [],
   "source": [
    "\n",
    "\n",
    "# Fit the classifier\n",
    "sv.fit(bow_df, y_train)\n",
    "\n",
    "# Measure the accuracy\n",
    "accuracy = sv.score(X_test, y_test)\n",
    "print(\"The accuracy of the classifier on the test set is %.3f\" % accuracy)\n",
    "\n",
    "# Predict the sentiment of a negative review\n",
    "post = [\"I tell you that I am confirmed asshole\", \"Even my cat told me I am asshole. What do you think about this information?\"]\n",
    "prediction = sv.predict(vectorizer.transform([post]))[0]"
   ]
  },
  {
   "cell_type": "code",
   "execution_count": null,
   "id": "21350095",
   "metadata": {},
   "outputs": [],
   "source": []
  },
  {
   "cell_type": "code",
   "execution_count": 28,
   "id": "e881e675",
   "metadata": {},
   "outputs": [],
   "source": [
    "preds = sv.predict(X_test)"
   ]
  },
  {
   "cell_type": "code",
   "execution_count": 29,
   "id": "4510e022",
   "metadata": {},
   "outputs": [
    {
     "data": {
      "text/plain": [
       "(array(['asshole', 'not the a-hole'], dtype=object),\n",
       " array([  5, 321], dtype=int64))"
      ]
     },
     "execution_count": 29,
     "metadata": {},
     "output_type": "execute_result"
    }
   ],
   "source": [
    "np.unique(preds, return_counts=True)"
   ]
  },
  {
   "cell_type": "markdown",
   "id": "33c7fc33",
   "metadata": {},
   "source": [
    "# NB - it predicts only not the a-hole (the biggest class), SVC predicts outlying assholes (but still not enough)\n",
    "\n",
    "We need to **reduce dimensions** (and take into account titles) - pure tfidf will not work\n",
    "\n",
    "Maybe we should \n",
    "* create parts of speech features \n",
    "* delete words that occured in each class with the same frequency\n",
    "* do sentiment analysis"
   ]
  }
 ],
 "metadata": {
  "kernelspec": {
   "display_name": "Python 3 (ipykernel)",
   "language": "python",
   "name": "python3"
  },
  "language_info": {
   "codemirror_mode": {
    "name": "ipython",
    "version": 3
   },
   "file_extension": ".py",
   "mimetype": "text/x-python",
   "name": "python",
   "nbconvert_exporter": "python",
   "pygments_lexer": "ipython3",
   "version": "3.9.7"
  }
 },
 "nbformat": 4,
 "nbformat_minor": 5
}
