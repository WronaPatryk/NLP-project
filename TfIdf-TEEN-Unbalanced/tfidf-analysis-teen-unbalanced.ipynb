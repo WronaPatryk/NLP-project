{
 "cells": [
  {
   "cell_type": "markdown",
   "metadata": {},
   "source": [
    "# Feature selection and Dimensionality reduction\n",
    "\n",
    "The goal of this investigation is to obtain the best predictions and to select the smallest possible\n",
    "subset of relevant input variables (features).\n",
    "\n",
    "The dataset is already divided into train and validation sets (both in 2 forms - unbalanced and balanced). It was done for both **teenagers** and **amItheAsshole** subreddits.\n",
    "\n",
    "On train and validation sets, there will be used the same dimensionality reduction technique at the same moment (to make the rsults fair) -- the **accuracy** metric value will be calculated on validation data set."
   ]
  },
  {
   "cell_type": "code",
   "execution_count": 1,
   "metadata": {},
   "outputs": [],
   "source": [
    "# importing packages\n",
    "\n",
    "from sklearn.feature_extraction.text import TfidfVectorizer\n",
    "from time import time\n",
    "\n",
    "from sklearn.metrics import classification_report\n",
    "\n",
    "from sklearn.metrics import precision_recall_fscore_support"
   ]
  },
  {
   "cell_type": "code",
   "execution_count": 2,
   "metadata": {},
   "outputs": [],
   "source": [
    "import sklearn\n",
    "import pandas as pd, numpy as np\n",
    "\n",
    "import seaborn as sns\n",
    "import matplotlib.pyplot as plt"
   ]
  },
  {
   "cell_type": "code",
   "execution_count": 3,
   "metadata": {},
   "outputs": [],
   "source": [
    "def replaceThisInsaneNa(x):\n",
    "    if pd.isna(x):\n",
    "        return \" \"\n",
    "    else:\n",
    "        return x\n",
    "    \n",
    "\n",
    "def datasetToTfIdfPredictorsAndLabels(df, vectorizer1, vectorizer2):\n",
    "    \n",
    "    text_bgw = pd.DataFrame(vectorizer1.fit_transform(df.text).toarray(), dtype = 'float32').reset_index(drop=True)\n",
    "    text_bgw.columns = vectorizer1.get_feature_names()\n",
    "    new_columns = []\n",
    "\n",
    "    for column in text_bgw.columns:\n",
    "        new_columns.append(\"text_\" + column)\n",
    "\n",
    "    text_bgw.columns = new_columns   \n",
    "    \n",
    "    title_bgw = pd.DataFrame(vectorizer2.fit_transform(df.title).toarray(), dtype = 'float32').reset_index(drop=True)\n",
    "    title_bgw.columns = vectorizer2.get_feature_names()\n",
    "    \n",
    "    new_columns = []\n",
    "\n",
    "    for column in title_bgw.columns:\n",
    "        new_columns.append(\"title_\" + column)\n",
    "\n",
    "    title_bgw.columns = new_columns\n",
    "    \n",
    "    X = pd.concat([df[[\"title_wc\", \"selftext_wc\", \"title_cc\", \"selftext_cc\"]].reset_index(drop=True), text_bgw, title_bgw], axis=1, join=\"inner\")\n",
    "    \n",
    "    return X, df[[\"flair\"]]\n",
    "\n",
    "def datasetToTfIdfPredictorsAndLabelsForTest(df, vectorizer1, vectorizer2):\n",
    "    \n",
    "    text_bgw = pd.DataFrame(vectorizer1.transform(df.text).toarray(), dtype = 'float32').reset_index(drop=True)\n",
    "    text_bgw.columns = vectorizer1.get_feature_names()\n",
    "    new_columns = []\n",
    "\n",
    "    for column in text_bgw.columns:\n",
    "        new_columns.append(\"text_\" + column)\n",
    "\n",
    "    text_bgw.columns = new_columns   \n",
    "    \n",
    "    title_bgw = pd.DataFrame(vectorizer2.transform(df.title).toarray(), dtype = 'float32').reset_index(drop=True)\n",
    "    title_bgw.columns = vectorizer2.get_feature_names()\n",
    "    \n",
    "    new_columns = []\n",
    "\n",
    "    for column in title_bgw.columns:\n",
    "        new_columns.append(\"title_\" + column)\n",
    "\n",
    "    title_bgw.columns = new_columns\n",
    "    \n",
    "    X = pd.concat([df[[\"title_wc\", \"selftext_wc\", \"title_cc\", \"selftext_cc\"]].reset_index(drop=True), text_bgw, title_bgw], axis=1, join=\"inner\")\n",
    "    \n",
    "    return X, df[[\"flair\"]]\n",
    "\n"
   ]
  },
  {
   "cell_type": "code",
   "execution_count": 4,
   "metadata": {},
   "outputs": [],
   "source": [
    "from sklearn.svm import LinearSVC\n",
    "from sklearn.ensemble import RandomForestClassifier\n",
    "from sklearn.naive_bayes import GaussianNB\n",
    "\n",
    "model = LinearSVC()\n",
    "model2 = RandomForestClassifier()\n",
    "model3 = GaussianNB()\n"
   ]
  },
  {
   "cell_type": "code",
   "execution_count": 12,
   "metadata": {},
   "outputs": [
    {
     "data": {
      "text/plain": [
       "'C:\\\\Users\\\\wronap\\\\Desktop\\\\NLP-stuff'"
      ]
     },
     "execution_count": 12,
     "metadata": {},
     "output_type": "execute_result"
    }
   ],
   "source": [
    "%pwd"
   ]
  },
  {
   "cell_type": "code",
   "execution_count": 28,
   "metadata": {},
   "outputs": [
    {
     "name": "stderr",
     "output_type": "stream",
     "text": [
      "C:\\ProgramData\\Anaconda3\\lib\\site-packages\\numpy\\lib\\arraysetops.py:569: FutureWarning: elementwise comparison failed; returning scalar instead, but in the future will perform elementwise comparison\n",
      "  mask |= (ar1 == a)\n"
     ]
    }
   ],
   "source": [
    "X_train = pd.read_csv('data/teen_train.csv', index_col=0, dtype = {'flair': str, 'title': str, 'text': str}).iloc[850000:1250000,:]\n"
   ]
  },
  {
   "cell_type": "code",
   "execution_count": 29,
   "metadata": {},
   "outputs": [],
   "source": [
    "# importing train and validation TEENAGERS datasets:\n",
    "\n",
    "X_train = pd.read_csv(\"data\\teen_train.csv\", index_col=0, dtype = {'flair': str, 'title': str, 'text': str}).iloc[850000:1250000,:]\n",
    "X_trainb = pd.read_csv(\"data/teen_train_balanced.csv\", index_col=0, dtype = {'flair': str, 'title': str, 'text': str}).iloc[np.arange(0,800000,2),:]\n",
    "X_test = pd.read_csv(\"data/teen_test.csv\", index_col=0, dtype = {'flair': str, 'title': str, 'text': str}).iloc[np.arange(0,529900,2),:]\n",
    "X_testb = pd.read_csv(\"data/teen_test_balanced.csv\", index_col=0, dtype = {'flair': str, 'title': str, 'text': str})\n",
    "# chosing columns\n",
    "\n",
    "X_train = X_train[[\"flair\", \"title\", \"text\", \"title_wc\", \"selftext_wc\", \"title_cc\", \"selftext_cc\"]]\n",
    "X_trainb = X_trainb[[\"flair\", \"title\", \"text\", \"title_wc\", \"selftext_wc\", \"title_cc\", \"selftext_cc\"]]\n",
    "X_test = X_test[[\"flair\", \"title\", \"text\", \"title_wc\", \"selftext_wc\", \"title_cc\", \"selftext_cc\"]]\n",
    "X_testb = X_testb[[\"flair\", \"title\", \"text\", \"title_wc\", \"selftext_wc\", \"title_cc\", \"selftext_cc\"]]\n",
    "\n",
    "X_train.text = X_train.text.apply(replaceThisInsaneNa)\n",
    "X_trainb.text = X_trainb.text.apply(replaceThisInsaneNa)\n",
    "\n",
    "X_test.text = X_test.text.apply(replaceThisInsaneNa)\n",
    "X_testb.text = X_testb.text.apply(replaceThisInsaneNa)\n",
    "\n",
    "X__train = X_train\n",
    "X__trainb = X_trainb\n",
    "X__test = X_test\n",
    "X__testb = X_testb\n",
    "\n"
   ]
  },
  {
   "cell_type": "code",
   "execution_count": 30,
   "metadata": {},
   "outputs": [
    {
     "name": "stdout",
     "output_type": "stream",
     "text": [
      "(400000, 7)\n",
      "(400000, 7)\n",
      "(264950, 7)\n",
      "(100000, 7)\n"
     ]
    }
   ],
   "source": [
    "\n",
    "\n",
    "print(X__train.shape)\n",
    "print(X__trainb.shape)\n",
    "print(X__test.shape)\n",
    "print(X__testb.shape)"
   ]
  },
  {
   "cell_type": "code",
   "execution_count": 31,
   "metadata": {},
   "outputs": [],
   "source": [
    "df = pd.DataFrame(columns=['method', 'model', 'n_components', 'n_neighbors', 'accuracy', 'train', 'test', 'precision', 'recall', 'f1'])"
   ]
  },
  {
   "cell_type": "code",
   "execution_count": null,
   "metadata": {},
   "outputs": [],
   "source": []
  },
  {
   "cell_type": "markdown",
   "metadata": {},
   "source": [
    "# TEEN fitting without Dimensionality reduction\n"
   ]
  },
  {
   "cell_type": "code",
   "execution_count": 32,
   "metadata": {},
   "outputs": [
    {
     "name": "stdout",
     "output_type": "stream",
     "text": [
      "@@@@@@@@@@@@ max features of TfIdf:  5\n",
      "fitting SVM - unbalanced\n"
     ]
    },
    {
     "name": "stderr",
     "output_type": "stream",
     "text": [
      "C:\\ProgramData\\Anaconda3\\lib\\site-packages\\sklearn\\utils\\validation.py:724: DataConversionWarning: A column-vector y was passed when a 1d array was expected. Please change the shape of y to (n_samples, ), for example using ravel().\n",
      "  y = column_or_1d(y, warn=True)\n",
      "C:\\ProgramData\\Anaconda3\\lib\\site-packages\\sklearn\\svm\\base.py:929: ConvergenceWarning: Liblinear failed to converge, increase the number of iterations.\n",
      "  \"the number of iterations.\", ConvergenceWarning)\n"
     ]
    },
    {
     "name": "stdout",
     "output_type": "stream",
     "text": [
      "Time: : 9.5e+02 sec\n",
      "fitting RF - unbalanced\n"
     ]
    },
    {
     "name": "stderr",
     "output_type": "stream",
     "text": [
      "C:\\ProgramData\\Anaconda3\\lib\\site-packages\\sklearn\\ensemble\\forest.py:245: FutureWarning: The default value of n_estimators will change from 10 in version 0.20 to 100 in 0.22.\n",
      "  \"10 in version 0.20 to 100 in 0.22.\", FutureWarning)\n",
      "C:\\ProgramData\\Anaconda3\\lib\\site-packages\\ipykernel_launcher.py:36: DataConversionWarning: A column-vector y was passed when a 1d array was expected. Please change the shape of y to (n_samples,), for example using ravel().\n"
     ]
    },
    {
     "name": "stdout",
     "output_type": "stream",
     "text": [
      "Time: : 15 sec\n",
      "fitting NB - unbalanced\n"
     ]
    },
    {
     "name": "stderr",
     "output_type": "stream",
     "text": [
      "C:\\ProgramData\\Anaconda3\\lib\\site-packages\\sklearn\\utils\\validation.py:724: DataConversionWarning: A column-vector y was passed when a 1d array was expected. Please change the shape of y to (n_samples, ), for example using ravel().\n",
      "  y = column_or_1d(y, warn=True)\n"
     ]
    },
    {
     "name": "stdout",
     "output_type": "stream",
     "text": [
      "Time: : 4.9 sec\n",
      "@@@@@@@@@@@@ max features of TfIdf:  25\n",
      "fitting SVM - unbalanced\n"
     ]
    },
    {
     "name": "stderr",
     "output_type": "stream",
     "text": [
      "C:\\ProgramData\\Anaconda3\\lib\\site-packages\\sklearn\\utils\\validation.py:724: DataConversionWarning: A column-vector y was passed when a 1d array was expected. Please change the shape of y to (n_samples, ), for example using ravel().\n",
      "  y = column_or_1d(y, warn=True)\n",
      "C:\\ProgramData\\Anaconda3\\lib\\site-packages\\sklearn\\svm\\base.py:929: ConvergenceWarning: Liblinear failed to converge, increase the number of iterations.\n",
      "  \"the number of iterations.\", ConvergenceWarning)\n",
      "C:\\ProgramData\\Anaconda3\\lib\\site-packages\\sklearn\\metrics\\classification.py:1437: UndefinedMetricWarning: Precision and F-score are ill-defined and being set to 0.0 in labels with no predicted samples.\n",
      "  'precision', 'predicted', average, warn_for)\n",
      "C:\\ProgramData\\Anaconda3\\lib\\site-packages\\ipykernel_launcher.py:36: DataConversionWarning: A column-vector y was passed when a 1d array was expected. Please change the shape of y to (n_samples,), for example using ravel().\n"
     ]
    },
    {
     "name": "stdout",
     "output_type": "stream",
     "text": [
      "Time: : 1.2e+03 sec\n",
      "fitting RF - unbalanced\n",
      "Time: : 24 sec\n",
      "fitting NB - unbalanced\n"
     ]
    },
    {
     "name": "stderr",
     "output_type": "stream",
     "text": [
      "C:\\ProgramData\\Anaconda3\\lib\\site-packages\\sklearn\\utils\\validation.py:724: DataConversionWarning: A column-vector y was passed when a 1d array was expected. Please change the shape of y to (n_samples, ), for example using ravel().\n",
      "  y = column_or_1d(y, warn=True)\n"
     ]
    },
    {
     "name": "stdout",
     "output_type": "stream",
     "text": [
      "Time: : 8.6 sec\n",
      "@@@@@@@@@@@@ max features of TfIdf:  45\n",
      "fitting SVM - unbalanced\n"
     ]
    },
    {
     "name": "stderr",
     "output_type": "stream",
     "text": [
      "C:\\ProgramData\\Anaconda3\\lib\\site-packages\\sklearn\\utils\\validation.py:724: DataConversionWarning: A column-vector y was passed when a 1d array was expected. Please change the shape of y to (n_samples, ), for example using ravel().\n",
      "  y = column_or_1d(y, warn=True)\n",
      "C:\\ProgramData\\Anaconda3\\lib\\site-packages\\sklearn\\svm\\base.py:929: ConvergenceWarning: Liblinear failed to converge, increase the number of iterations.\n",
      "  \"the number of iterations.\", ConvergenceWarning)\n",
      "C:\\ProgramData\\Anaconda3\\lib\\site-packages\\sklearn\\metrics\\classification.py:1437: UndefinedMetricWarning: Precision and F-score are ill-defined and being set to 0.0 in labels with no predicted samples.\n",
      "  'precision', 'predicted', average, warn_for)\n"
     ]
    },
    {
     "name": "stdout",
     "output_type": "stream",
     "text": [
      "Time: : 1.2e+03 sec\n",
      "fitting RF - unbalanced\n"
     ]
    },
    {
     "name": "stderr",
     "output_type": "stream",
     "text": [
      "C:\\ProgramData\\Anaconda3\\lib\\site-packages\\ipykernel_launcher.py:36: DataConversionWarning: A column-vector y was passed when a 1d array was expected. Please change the shape of y to (n_samples,), for example using ravel().\n"
     ]
    },
    {
     "name": "stdout",
     "output_type": "stream",
     "text": [
      "Time: : 32 sec\n",
      "fitting NB - unbalanced\n"
     ]
    },
    {
     "name": "stderr",
     "output_type": "stream",
     "text": [
      "C:\\ProgramData\\Anaconda3\\lib\\site-packages\\sklearn\\utils\\validation.py:724: DataConversionWarning: A column-vector y was passed when a 1d array was expected. Please change the shape of y to (n_samples, ), for example using ravel().\n",
      "  y = column_or_1d(y, warn=True)\n"
     ]
    },
    {
     "name": "stdout",
     "output_type": "stream",
     "text": [
      "Time: : 12 sec\n",
      "@@@@@@@@@@@@ max features of TfIdf:  65\n",
      "fitting SVM - unbalanced\n"
     ]
    },
    {
     "name": "stderr",
     "output_type": "stream",
     "text": [
      "C:\\ProgramData\\Anaconda3\\lib\\site-packages\\sklearn\\utils\\validation.py:724: DataConversionWarning: A column-vector y was passed when a 1d array was expected. Please change the shape of y to (n_samples, ), for example using ravel().\n",
      "  y = column_or_1d(y, warn=True)\n",
      "C:\\ProgramData\\Anaconda3\\lib\\site-packages\\sklearn\\svm\\base.py:929: ConvergenceWarning: Liblinear failed to converge, increase the number of iterations.\n",
      "  \"the number of iterations.\", ConvergenceWarning)\n",
      "C:\\ProgramData\\Anaconda3\\lib\\site-packages\\sklearn\\metrics\\classification.py:1437: UndefinedMetricWarning: Precision and F-score are ill-defined and being set to 0.0 in labels with no predicted samples.\n",
      "  'precision', 'predicted', average, warn_for)\n"
     ]
    },
    {
     "name": "stdout",
     "output_type": "stream",
     "text": [
      "Time: : 1.2e+03 sec\n",
      "fitting RF - unbalanced\n"
     ]
    },
    {
     "name": "stderr",
     "output_type": "stream",
     "text": [
      "C:\\ProgramData\\Anaconda3\\lib\\site-packages\\ipykernel_launcher.py:36: DataConversionWarning: A column-vector y was passed when a 1d array was expected. Please change the shape of y to (n_samples,), for example using ravel().\n"
     ]
    },
    {
     "name": "stdout",
     "output_type": "stream",
     "text": [
      "Time: : 40 sec\n",
      "fitting NB - unbalanced\n"
     ]
    },
    {
     "name": "stderr",
     "output_type": "stream",
     "text": [
      "C:\\ProgramData\\Anaconda3\\lib\\site-packages\\sklearn\\utils\\validation.py:724: DataConversionWarning: A column-vector y was passed when a 1d array was expected. Please change the shape of y to (n_samples, ), for example using ravel().\n",
      "  y = column_or_1d(y, warn=True)\n"
     ]
    },
    {
     "name": "stdout",
     "output_type": "stream",
     "text": [
      "Time: : 15 sec\n",
      "@@@@@@@@@@@@ max features of TfIdf:  85\n",
      "fitting SVM - unbalanced\n"
     ]
    },
    {
     "name": "stderr",
     "output_type": "stream",
     "text": [
      "C:\\ProgramData\\Anaconda3\\lib\\site-packages\\sklearn\\utils\\validation.py:724: DataConversionWarning: A column-vector y was passed when a 1d array was expected. Please change the shape of y to (n_samples, ), for example using ravel().\n",
      "  y = column_or_1d(y, warn=True)\n",
      "C:\\ProgramData\\Anaconda3\\lib\\site-packages\\sklearn\\svm\\base.py:929: ConvergenceWarning: Liblinear failed to converge, increase the number of iterations.\n",
      "  \"the number of iterations.\", ConvergenceWarning)\n",
      "C:\\ProgramData\\Anaconda3\\lib\\site-packages\\sklearn\\metrics\\classification.py:1437: UndefinedMetricWarning: Precision and F-score are ill-defined and being set to 0.0 in labels with no predicted samples.\n",
      "  'precision', 'predicted', average, warn_for)\n"
     ]
    },
    {
     "name": "stdout",
     "output_type": "stream",
     "text": [
      "Time: : 1.2e+03 sec\n",
      "fitting RF - unbalanced\n"
     ]
    },
    {
     "name": "stderr",
     "output_type": "stream",
     "text": [
      "C:\\ProgramData\\Anaconda3\\lib\\site-packages\\ipykernel_launcher.py:36: DataConversionWarning: A column-vector y was passed when a 1d array was expected. Please change the shape of y to (n_samples,), for example using ravel().\n"
     ]
    },
    {
     "name": "stdout",
     "output_type": "stream",
     "text": [
      "Time: : 47 sec\n",
      "fitting NB - unbalanced\n"
     ]
    },
    {
     "name": "stderr",
     "output_type": "stream",
     "text": [
      "C:\\ProgramData\\Anaconda3\\lib\\site-packages\\sklearn\\utils\\validation.py:724: DataConversionWarning: A column-vector y was passed when a 1d array was expected. Please change the shape of y to (n_samples, ), for example using ravel().\n",
      "  y = column_or_1d(y, warn=True)\n"
     ]
    },
    {
     "name": "stdout",
     "output_type": "stream",
     "text": [
      "Time: : 18 sec\n"
     ]
    }
   ],
   "source": [
    "#X_trainb, y_trainb = datasetToTfIdfPredictorsAndLabels(X__train, vectorizer1, vectorizer2)\n",
    "#X_testb, y_testb = datasetToTfIdfPredictorsAndLabelsForTest(X__test, vectorizer1, vectorizer2)\n",
    "\n",
    "#vectorizer1 = TfidfVectorizer(stop_words = 'english', max_features=500)\n",
    "#vectorizer2 = TfidfVectorizer(stop_words = 'english', max_features=500)\n",
    "\n",
    "method_name = \"TfIdf-max_features\"\n",
    "\n",
    "for i in range(5,100, 20):\n",
    "    \n",
    "\n",
    "    print(\"@@@@@@@@@@@@ max features of TfIdf: \", i)\n",
    "    \n",
    "        \n",
    "    vectorizer1 = TfidfVectorizer(stop_words = 'english', max_features=i)\n",
    "    vectorizer2 = TfidfVectorizer(stop_words = 'english', max_features=i)\n",
    "\n",
    "\n",
    "    X_pcab, y_trainb = datasetToTfIdfPredictorsAndLabels(X__train, vectorizer1, vectorizer2)\n",
    "    X_pca_testb, y_testb = datasetToTfIdfPredictorsAndLabelsForTest(X__test, vectorizer1, vectorizer2)\n",
    "\n",
    "    print(\"fitting SVM - unbalanced\")\n",
    "    t0 = time()\n",
    "    # trained on balanced dataset\n",
    "    model.fit(X_pcab, y_trainb)\n",
    "    acc = model.score(X_pca_testb, y_testb)\n",
    "    y_pred = model.predict(X_pca_testb)\n",
    "    prf = precision_recall_fscore_support(y_testb, y_pred, average = 'weighted')\n",
    "    df = df.append({'method': method_name, 'model':'SVM', 'n_components': i, 'n_neighbors': -1, 'accuracy': acc, 'train': 'unbalanced', 'test': 'unbalanced', 'precision': prf[0], 'recall': prf[1], 'f1': prf[2]}, ignore_index=True)\n",
    "    t1 = time()\n",
    "    print(\"%s: %.2g sec\" % ('Time: ', t1 - t0))\n",
    "\n",
    "    print(\"fitting RF - unbalanced\")\n",
    "    t0 = time()\n",
    "    # trained on balanced dataset\n",
    "    model2.fit(X_pcab, y_trainb)\n",
    "    acc = model2.score(X_pca_testb, y_testb)\n",
    "    y_pred = model2.predict(X_pca_testb)\n",
    "    prf = precision_recall_fscore_support(y_testb, y_pred, average = 'weighted')\n",
    "    df = df.append({'method': method_name, 'model':'RF', 'n_components': i, 'n_neighbors': -1, 'accuracy': acc, 'train': 'unbalanced', 'test': 'unbalanced', 'precision': prf[0], 'recall': prf[1], 'f1': prf[2]}, ignore_index=True)\n",
    "    t1 = time()\n",
    "    print(\"%s: %.2g sec\" % ('Time: ', t1 - t0))\n",
    "\n",
    "    print(\"fitting NB - unbalanced\")\n",
    "    t0 = time()\n",
    "    # trained on balanced dataset\n",
    "    model3.fit(X_pcab, y_trainb)\n",
    "    acc = model3.score(X_pca_testb, y_testb)\n",
    "    y_pred = model3.predict(X_pca_testb)\n",
    "    prf = precision_recall_fscore_support(y_testb, y_pred, average = 'weighted')\n",
    "    df = df.append({'method': method_name, 'model':'NB', 'n_components': i, 'n_neighbors': -1, 'accuracy': acc, 'train': 'unbalanced', 'test': 'unbalanced', 'precision': prf[0], 'recall': prf[1], 'f1': prf[2]}, ignore_index=True)\n",
    "    t1 = time()\n",
    "    print(\"%s: %.2g sec\" % ('Time: ', t1 - t0))\n",
    "\n",
    "\n",
    "df.to_csv(\"TEEN-TfIdf-unbalanced-1.csv\")"
   ]
  },
  {
   "cell_type": "code",
   "execution_count": 33,
   "metadata": {},
   "outputs": [
    {
     "name": "stdout",
     "output_type": "stream",
     "text": [
      "@@@@@@@@@@@@ max features of TfIdf:  100\n",
      "fitting SVM - unbalanced\n"
     ]
    },
    {
     "name": "stderr",
     "output_type": "stream",
     "text": [
      "C:\\ProgramData\\Anaconda3\\lib\\site-packages\\sklearn\\utils\\validation.py:724: DataConversionWarning: A column-vector y was passed when a 1d array was expected. Please change the shape of y to (n_samples, ), for example using ravel().\n",
      "  y = column_or_1d(y, warn=True)\n",
      "C:\\ProgramData\\Anaconda3\\lib\\site-packages\\sklearn\\svm\\base.py:929: ConvergenceWarning: Liblinear failed to converge, increase the number of iterations.\n",
      "  \"the number of iterations.\", ConvergenceWarning)\n",
      "C:\\ProgramData\\Anaconda3\\lib\\site-packages\\sklearn\\metrics\\classification.py:1437: UndefinedMetricWarning: Precision and F-score are ill-defined and being set to 0.0 in labels with no predicted samples.\n",
      "  'precision', 'predicted', average, warn_for)\n"
     ]
    },
    {
     "name": "stdout",
     "output_type": "stream",
     "text": [
      "Time: : 1.2e+03 sec\n",
      "fitting RF - unbalanced\n"
     ]
    },
    {
     "name": "stderr",
     "output_type": "stream",
     "text": [
      "C:\\ProgramData\\Anaconda3\\lib\\site-packages\\ipykernel_launcher.py:30: DataConversionWarning: A column-vector y was passed when a 1d array was expected. Please change the shape of y to (n_samples,), for example using ravel().\n"
     ]
    },
    {
     "name": "stdout",
     "output_type": "stream",
     "text": [
      "Time: : 53 sec\n",
      "fitting NB - unbalanced\n"
     ]
    },
    {
     "name": "stderr",
     "output_type": "stream",
     "text": [
      "C:\\ProgramData\\Anaconda3\\lib\\site-packages\\sklearn\\utils\\validation.py:724: DataConversionWarning: A column-vector y was passed when a 1d array was expected. Please change the shape of y to (n_samples, ), for example using ravel().\n",
      "  y = column_or_1d(y, warn=True)\n"
     ]
    },
    {
     "name": "stdout",
     "output_type": "stream",
     "text": [
      "Time: : 20 sec\n",
      "@@@@@@@@@@@@ max features of TfIdf:  300\n",
      "fitting SVM - unbalanced\n"
     ]
    },
    {
     "name": "stderr",
     "output_type": "stream",
     "text": [
      "C:\\ProgramData\\Anaconda3\\lib\\site-packages\\sklearn\\utils\\validation.py:724: DataConversionWarning: A column-vector y was passed when a 1d array was expected. Please change the shape of y to (n_samples, ), for example using ravel().\n",
      "  y = column_or_1d(y, warn=True)\n",
      "C:\\ProgramData\\Anaconda3\\lib\\site-packages\\sklearn\\svm\\base.py:929: ConvergenceWarning: Liblinear failed to converge, increase the number of iterations.\n",
      "  \"the number of iterations.\", ConvergenceWarning)\n",
      "C:\\ProgramData\\Anaconda3\\lib\\site-packages\\sklearn\\metrics\\classification.py:1437: UndefinedMetricWarning: Precision and F-score are ill-defined and being set to 0.0 in labels with no predicted samples.\n",
      "  'precision', 'predicted', average, warn_for)\n"
     ]
    },
    {
     "name": "stdout",
     "output_type": "stream",
     "text": [
      "Time: : 1.3e+03 sec\n",
      "fitting RF - unbalanced\n"
     ]
    },
    {
     "name": "stderr",
     "output_type": "stream",
     "text": [
      "C:\\ProgramData\\Anaconda3\\lib\\site-packages\\ipykernel_launcher.py:30: DataConversionWarning: A column-vector y was passed when a 1d array was expected. Please change the shape of y to (n_samples,), for example using ravel().\n"
     ]
    },
    {
     "name": "stdout",
     "output_type": "stream",
     "text": [
      "Time: : 1.1e+02 sec\n",
      "fitting NB - unbalanced\n"
     ]
    },
    {
     "name": "stderr",
     "output_type": "stream",
     "text": [
      "C:\\ProgramData\\Anaconda3\\lib\\site-packages\\sklearn\\utils\\validation.py:724: DataConversionWarning: A column-vector y was passed when a 1d array was expected. Please change the shape of y to (n_samples, ), for example using ravel().\n",
      "  y = column_or_1d(y, warn=True)\n"
     ]
    },
    {
     "name": "stdout",
     "output_type": "stream",
     "text": [
      "Time: : 54 sec\n",
      "@@@@@@@@@@@@ max features of TfIdf:  500\n",
      "fitting SVM - unbalanced\n"
     ]
    },
    {
     "name": "stderr",
     "output_type": "stream",
     "text": [
      "C:\\ProgramData\\Anaconda3\\lib\\site-packages\\sklearn\\utils\\validation.py:724: DataConversionWarning: A column-vector y was passed when a 1d array was expected. Please change the shape of y to (n_samples, ), for example using ravel().\n",
      "  y = column_or_1d(y, warn=True)\n",
      "C:\\ProgramData\\Anaconda3\\lib\\site-packages\\sklearn\\svm\\base.py:929: ConvergenceWarning: Liblinear failed to converge, increase the number of iterations.\n",
      "  \"the number of iterations.\", ConvergenceWarning)\n"
     ]
    },
    {
     "name": "stdout",
     "output_type": "stream",
     "text": [
      "Time: : 1.4e+03 sec\n",
      "fitting RF - unbalanced\n"
     ]
    },
    {
     "name": "stderr",
     "output_type": "stream",
     "text": [
      "C:\\ProgramData\\Anaconda3\\lib\\site-packages\\ipykernel_launcher.py:30: DataConversionWarning: A column-vector y was passed when a 1d array was expected. Please change the shape of y to (n_samples,), for example using ravel().\n"
     ]
    },
    {
     "name": "stdout",
     "output_type": "stream",
     "text": [
      "Time: : 1.7e+02 sec\n",
      "fitting NB - unbalanced\n"
     ]
    },
    {
     "name": "stderr",
     "output_type": "stream",
     "text": [
      "C:\\ProgramData\\Anaconda3\\lib\\site-packages\\sklearn\\utils\\validation.py:724: DataConversionWarning: A column-vector y was passed when a 1d array was expected. Please change the shape of y to (n_samples, ), for example using ravel().\n",
      "  y = column_or_1d(y, warn=True)\n"
     ]
    },
    {
     "name": "stdout",
     "output_type": "stream",
     "text": [
      "Time: : 93 sec\n",
      "@@@@@@@@@@@@ max features of TfIdf:  700\n",
      "fitting SVM - unbalanced\n"
     ]
    },
    {
     "name": "stderr",
     "output_type": "stream",
     "text": [
      "C:\\ProgramData\\Anaconda3\\lib\\site-packages\\sklearn\\utils\\validation.py:724: DataConversionWarning: A column-vector y was passed when a 1d array was expected. Please change the shape of y to (n_samples, ), for example using ravel().\n",
      "  y = column_or_1d(y, warn=True)\n",
      "C:\\ProgramData\\Anaconda3\\lib\\site-packages\\sklearn\\svm\\base.py:929: ConvergenceWarning: Liblinear failed to converge, increase the number of iterations.\n",
      "  \"the number of iterations.\", ConvergenceWarning)\n",
      "C:\\ProgramData\\Anaconda3\\lib\\site-packages\\sklearn\\metrics\\classification.py:1437: UndefinedMetricWarning: Precision and F-score are ill-defined and being set to 0.0 in labels with no predicted samples.\n",
      "  'precision', 'predicted', average, warn_for)\n"
     ]
    },
    {
     "name": "stdout",
     "output_type": "stream",
     "text": [
      "Time: : 1.4e+03 sec\n",
      "fitting RF - unbalanced\n"
     ]
    },
    {
     "name": "stderr",
     "output_type": "stream",
     "text": [
      "C:\\ProgramData\\Anaconda3\\lib\\site-packages\\ipykernel_launcher.py:30: DataConversionWarning: A column-vector y was passed when a 1d array was expected. Please change the shape of y to (n_samples,), for example using ravel().\n"
     ]
    },
    {
     "name": "stdout",
     "output_type": "stream",
     "text": [
      "Time: : 2.3e+02 sec\n",
      "fitting NB - unbalanced\n"
     ]
    },
    {
     "name": "stderr",
     "output_type": "stream",
     "text": [
      "C:\\ProgramData\\Anaconda3\\lib\\site-packages\\sklearn\\utils\\validation.py:724: DataConversionWarning: A column-vector y was passed when a 1d array was expected. Please change the shape of y to (n_samples, ), for example using ravel().\n",
      "  y = column_or_1d(y, warn=True)\n"
     ]
    },
    {
     "name": "stdout",
     "output_type": "stream",
     "text": [
      "Time: : 1.4e+02 sec\n",
      "@@@@@@@@@@@@ max features of TfIdf:  900\n",
      "fitting SVM - unbalanced\n"
     ]
    },
    {
     "name": "stderr",
     "output_type": "stream",
     "text": [
      "C:\\ProgramData\\Anaconda3\\lib\\site-packages\\sklearn\\utils\\validation.py:724: DataConversionWarning: A column-vector y was passed when a 1d array was expected. Please change the shape of y to (n_samples, ), for example using ravel().\n",
      "  y = column_or_1d(y, warn=True)\n",
      "C:\\ProgramData\\Anaconda3\\lib\\site-packages\\sklearn\\svm\\base.py:929: ConvergenceWarning: Liblinear failed to converge, increase the number of iterations.\n",
      "  \"the number of iterations.\", ConvergenceWarning)\n"
     ]
    },
    {
     "name": "stdout",
     "output_type": "stream",
     "text": [
      "Time: : 1.5e+03 sec\n",
      "fitting RF - unbalanced\n"
     ]
    },
    {
     "name": "stderr",
     "output_type": "stream",
     "text": [
      "C:\\ProgramData\\Anaconda3\\lib\\site-packages\\ipykernel_launcher.py:79: DataConversionWarning: A column-vector y was passed when a 1d array was expected. Please change the shape of y to (n_samples,), for example using ravel().\n"
     ]
    },
    {
     "name": "stdout",
     "output_type": "stream",
     "text": [
      "Time: : 2.9e+02 sec\n",
      "fitting NB - unbalanced\n"
     ]
    },
    {
     "name": "stderr",
     "output_type": "stream",
     "text": [
      "C:\\ProgramData\\Anaconda3\\lib\\site-packages\\sklearn\\utils\\validation.py:724: DataConversionWarning: A column-vector y was passed when a 1d array was expected. Please change the shape of y to (n_samples, ), for example using ravel().\n",
      "  y = column_or_1d(y, warn=True)\n"
     ]
    },
    {
     "name": "stdout",
     "output_type": "stream",
     "text": [
      "Time: : 1.8e+02 sec\n",
      "@@@@@@@@@@@@ max features of TfIdf:  1100\n",
      "fitting SVM - unbalanced\n"
     ]
    },
    {
     "name": "stderr",
     "output_type": "stream",
     "text": [
      "C:\\ProgramData\\Anaconda3\\lib\\site-packages\\sklearn\\utils\\validation.py:724: DataConversionWarning: A column-vector y was passed when a 1d array was expected. Please change the shape of y to (n_samples, ), for example using ravel().\n",
      "  y = column_or_1d(y, warn=True)\n",
      "C:\\ProgramData\\Anaconda3\\lib\\site-packages\\sklearn\\svm\\base.py:929: ConvergenceWarning: Liblinear failed to converge, increase the number of iterations.\n",
      "  \"the number of iterations.\", ConvergenceWarning)\n"
     ]
    },
    {
     "name": "stdout",
     "output_type": "stream",
     "text": [
      "Time: : 1.5e+03 sec\n",
      "fitting RF - unbalanced\n"
     ]
    },
    {
     "name": "stderr",
     "output_type": "stream",
     "text": [
      "C:\\ProgramData\\Anaconda3\\lib\\site-packages\\ipykernel_launcher.py:79: DataConversionWarning: A column-vector y was passed when a 1d array was expected. Please change the shape of y to (n_samples,), for example using ravel().\n"
     ]
    },
    {
     "name": "stdout",
     "output_type": "stream",
     "text": [
      "Time: : 3.4e+02 sec\n",
      "fitting NB - unbalanced\n"
     ]
    },
    {
     "name": "stderr",
     "output_type": "stream",
     "text": [
      "C:\\ProgramData\\Anaconda3\\lib\\site-packages\\sklearn\\utils\\validation.py:724: DataConversionWarning: A column-vector y was passed when a 1d array was expected. Please change the shape of y to (n_samples, ), for example using ravel().\n",
      "  y = column_or_1d(y, warn=True)\n"
     ]
    },
    {
     "name": "stdout",
     "output_type": "stream",
     "text": [
      "Time: : 2.8e+02 sec\n",
      "@@@@@@@@@@@@ max features of TfIdf:  1300\n",
      "fitting SVM - unbalanced\n"
     ]
    },
    {
     "name": "stderr",
     "output_type": "stream",
     "text": [
      "C:\\ProgramData\\Anaconda3\\lib\\site-packages\\sklearn\\utils\\validation.py:724: DataConversionWarning: A column-vector y was passed when a 1d array was expected. Please change the shape of y to (n_samples, ), for example using ravel().\n",
      "  y = column_or_1d(y, warn=True)\n",
      "C:\\ProgramData\\Anaconda3\\lib\\site-packages\\sklearn\\svm\\base.py:929: ConvergenceWarning: Liblinear failed to converge, increase the number of iterations.\n",
      "  \"the number of iterations.\", ConvergenceWarning)\n",
      "C:\\ProgramData\\Anaconda3\\lib\\site-packages\\sklearn\\metrics\\classification.py:1437: UndefinedMetricWarning: Precision and F-score are ill-defined and being set to 0.0 in labels with no predicted samples.\n",
      "  'precision', 'predicted', average, warn_for)\n"
     ]
    },
    {
     "name": "stdout",
     "output_type": "stream",
     "text": [
      "Time: : 1.5e+03 sec\n",
      "fitting RF - unbalanced\n"
     ]
    },
    {
     "name": "stderr",
     "output_type": "stream",
     "text": [
      "C:\\ProgramData\\Anaconda3\\lib\\site-packages\\ipykernel_launcher.py:79: DataConversionWarning: A column-vector y was passed when a 1d array was expected. Please change the shape of y to (n_samples,), for example using ravel().\n"
     ]
    },
    {
     "name": "stdout",
     "output_type": "stream",
     "text": [
      "Time: : 4.3e+02 sec\n",
      "fitting NB - unbalanced\n"
     ]
    },
    {
     "name": "stderr",
     "output_type": "stream",
     "text": [
      "C:\\ProgramData\\Anaconda3\\lib\\site-packages\\sklearn\\utils\\validation.py:724: DataConversionWarning: A column-vector y was passed when a 1d array was expected. Please change the shape of y to (n_samples, ), for example using ravel().\n",
      "  y = column_or_1d(y, warn=True)\n"
     ]
    },
    {
     "name": "stdout",
     "output_type": "stream",
     "text": [
      "Time: : 4.2e+02 sec\n"
     ]
    }
   ],
   "source": [
    "method_name = \"TfIdf-max_features\"\n",
    "\n",
    "for i in range(100,800, 200):\n",
    "    \n",
    "\n",
    "    print(\"@@@@@@@@@@@@ max features of TfIdf: \", i)\n",
    "    \n",
    "        \n",
    "    vectorizer1 = TfidfVectorizer(stop_words = 'english', max_features=i)\n",
    "    vectorizer2 = TfidfVectorizer(stop_words = 'english', max_features=i)\n",
    "\n",
    "\n",
    "    X_pcab, y_trainb = datasetToTfIdfPredictorsAndLabels(X__train, vectorizer1, vectorizer2)\n",
    "    X_pca_testb, y_testb = datasetToTfIdfPredictorsAndLabelsForTest(X__test, vectorizer1, vectorizer2)\n",
    "\n",
    "    print(\"fitting SVM - unbalanced\")\n",
    "    t0 = time()\n",
    "    # trained on balanced dataset\n",
    "    model.fit(X_pcab, y_trainb)\n",
    "    acc = model.score(X_pca_testb, y_testb)\n",
    "    y_pred = model.predict(X_pca_testb)\n",
    "    prf = precision_recall_fscore_support(y_testb, y_pred, average = 'weighted')\n",
    "    df = df.append({'method': method_name, 'model':'SVM', 'n_components': i, 'n_neighbors': -1, 'accuracy': acc, 'train': 'unbalanced', 'test': 'unbalanced', 'precision': prf[0], 'recall': prf[1], 'f1': prf[2]}, ignore_index=True)\n",
    "    t1 = time()\n",
    "    print(\"%s: %.2g sec\" % ('Time: ', t1 - t0))\n",
    "\n",
    "    print(\"fitting RF - unbalanced\")\n",
    "    t0 = time()\n",
    "    # trained on balanced dataset\n",
    "    model2.fit(X_pcab, y_trainb)\n",
    "    acc = model2.score(X_pca_testb, y_testb)\n",
    "    y_pred = model2.predict(X_pca_testb)\n",
    "    prf = precision_recall_fscore_support(y_testb, y_pred, average = 'weighted')\n",
    "    df = df.append({'method': method_name, 'model':'RF', 'n_components': i, 'n_neighbors': -1, 'accuracy': acc, 'train': 'unbalanced', 'test': 'unbalanced', 'precision': prf[0], 'recall': prf[1], 'f1': prf[2]}, ignore_index=True)\n",
    "    t1 = time()\n",
    "    print(\"%s: %.2g sec\" % ('Time: ', t1 - t0))\n",
    "\n",
    "    print(\"fitting NB - unbalanced\")\n",
    "    t0 = time()\n",
    "    # trained on balanced dataset\n",
    "    model3.fit(X_pcab, y_trainb)\n",
    "    acc = model3.score(X_pca_testb, y_testb)\n",
    "    y_pred = model3.predict(X_pca_testb)\n",
    "    prf = precision_recall_fscore_support(y_testb, y_pred, average = 'weighted')\n",
    "    df = df.append({'method': method_name, 'model':'NB', 'n_components': i, 'n_neighbors': -1, 'accuracy': acc, 'train': 'unbalanced', 'test': 'unbalanced', 'precision': prf[0], 'recall': prf[1], 'f1': prf[2]}, ignore_index=True)\n",
    "    t1 = time()\n",
    "    print(\"%s: %.2g sec\" % ('Time: ', t1 - t0))\n",
    "\n",
    "\n",
    "df.to_csv(\"TEEN-TfIdf-unbalanced-2.csv\")\n",
    "\n",
    "for i in range(900,1500, 200):\n",
    "    \n",
    "\n",
    "    print(\"@@@@@@@@@@@@ max features of TfIdf: \", i)\n",
    "    \n",
    "        \n",
    "    vectorizer1 = TfidfVectorizer(stop_words = 'english', max_features=i)\n",
    "    vectorizer2 = TfidfVectorizer(stop_words = 'english', max_features=i)\n",
    "\n",
    "\n",
    "    X_pcab, y_trainb = datasetToTfIdfPredictorsAndLabels(X__train, vectorizer1, vectorizer2)\n",
    "    X_pca_testb, y_testb = datasetToTfIdfPredictorsAndLabelsForTest(X__test, vectorizer1, vectorizer2)\n",
    "\n",
    "    print(\"fitting SVM - unbalanced\")\n",
    "    t0 = time()\n",
    "    # trained on balanced dataset\n",
    "    model.fit(X_pcab, y_trainb)\n",
    "    acc = model.score(X_pca_testb, y_testb)\n",
    "    y_pred = model.predict(X_pca_testb)\n",
    "    prf = precision_recall_fscore_support(y_testb, y_pred, average = 'weighted')\n",
    "    df = df.append({'method': method_name, 'model':'SVM', 'n_components': i, 'n_neighbors': -1, 'accuracy': acc, 'train': 'unbalanced', 'test': 'unbalanced', 'precision': prf[0], 'recall': prf[1], 'f1': prf[2]}, ignore_index=True)\n",
    "    t1 = time()\n",
    "    print(\"%s: %.2g sec\" % ('Time: ', t1 - t0))\n",
    "\n",
    "    print(\"fitting RF - unbalanced\")\n",
    "    t0 = time()\n",
    "    # trained on balanced dataset\n",
    "    model2.fit(X_pcab, y_trainb)\n",
    "    acc = model2.score(X_pca_testb, y_testb)\n",
    "    y_pred = model2.predict(X_pca_testb)\n",
    "    prf = precision_recall_fscore_support(y_testb, y_pred, average = 'weighted')\n",
    "    df = df.append({'method': method_name, 'model':'RF', 'n_components': i, 'n_neighbors': -1, 'accuracy': acc, 'train': 'unbalanced', 'test': 'unbalanced', 'precision': prf[0], 'recall': prf[1], 'f1': prf[2]}, ignore_index=True)\n",
    "    t1 = time()\n",
    "    print(\"%s: %.2g sec\" % ('Time: ', t1 - t0))\n",
    "\n",
    "    print(\"fitting NB - unbalanced\")\n",
    "    t0 = time()\n",
    "    # trained on balanced dataset\n",
    "    model3.fit(X_pcab, y_trainb)\n",
    "    acc = model3.score(X_pca_testb, y_testb)\n",
    "    y_pred = model3.predict(X_pca_testb)\n",
    "    prf = precision_recall_fscore_support(y_testb, y_pred, average = 'weighted')\n",
    "    df = df.append({'method': method_name, 'model':'NB', 'n_components': i, 'n_neighbors': -1, 'accuracy': acc, 'train': 'unbalanced', 'test': 'unbalanced', 'precision': prf[0], 'recall': prf[1], 'f1': prf[2]}, ignore_index=True)\n",
    "    t1 = time()\n",
    "    print(\"%s: %.2g sec\" % ('Time: ', t1 - t0))\n",
    "\n",
    "\n",
    "df.to_csv(\"TEEN-TfIdf-unbalanced-3.csv\")"
   ]
  },
  {
   "cell_type": "code",
   "execution_count": 35,
   "metadata": {},
   "outputs": [],
   "source": [
    "df_wide = df.pivot(\"n_components\", \"model\", \"f1\")"
   ]
  },
  {
   "cell_type": "code",
   "execution_count": 36,
   "metadata": {
    "scrolled": true
   },
   "outputs": [
    {
     "data": {
      "text/plain": [
       "Text(1020, 0.085, 'Random model')"
      ]
     },
     "execution_count": 36,
     "metadata": {},
     "output_type": "execute_result"
    },
    {
     "data": {
      "image/png": "[encoded data removed]",
      "text/plain": [
       "<Figure size 432x288 with 1 Axes>"
      ]
     },
     "metadata": {
      "needs_background": "light"
     },
     "output_type": "display_data"
    }
   ],
   "source": [
    "\n",
    "p = sns.lineplot(data=df_wide)\n",
    "p.set(ylim=(0., 0.3))\n",
    "p.set_xlabel('N of features from TfIdf (title and text)')\n",
    "p.set_ylabel('F1-Score')\n",
    "\n",
    "p.set_title('Impact of TfIdf max_features - TEEN dataset')\n",
    "\n",
    "p.axhline(0.1, ls='--')\n",
    "p.text(1020, 0.085, \"Random model\")"
   ]
  }
 ],
 "metadata": {
  "kernelspec": {
   "display_name": "Python 3",
   "language": "python",
   "name": "python3"
  },
  "language_info": {
   "codemirror_mode": {
    "name": "ipython",
    "version": 3
   },
   "file_extension": ".py",
   "mimetype": "text/x-python",
   "name": "python",
   "nbconvert_exporter": "python",
   "pygments_lexer": "ipython3",
   "version": "3.7.3"
  }
 },
 "nbformat": 4,
 "nbformat_minor": 5
}
