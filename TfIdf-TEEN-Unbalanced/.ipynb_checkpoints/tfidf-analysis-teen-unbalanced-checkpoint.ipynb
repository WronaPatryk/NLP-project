{
 "cells": [
  {
   "cell_type": "markdown",
   "id": "2d727c2a",
   "metadata": {},
   "source": [
    "# Feature selection and Dimensionality reduction\n",
    "\n",
    "The goal of this investigation is to obtain the best predictions and to select the smallest possible\n",
    "subset of relevant input variables (features).\n",
    "\n",
    "The dataset is already divided into train and validation sets (both in 2 forms - unbalanced and balanced). It was done for both **teenagers** and **amItheAsshole** subreddits.\n",
    "\n",
    "On train and validation sets, there will be used the same dimensionality reduction technique at the same moment (to make the rsults fair) -- the **accuracy** metric value will be calculated on validation data set."
   ]
  },
  {
   "cell_type": "code",
   "execution_count": 1,
   "id": "c38bf1a7",
   "metadata": {},
   "outputs": [],
   "source": [
    "# importing packages\n",
    "\n",
    "from sklearn.feature_extraction.text import TfidfVectorizer\n",
    "from time import time\n",
    "\n",
    "from sklearn.metrics import classification_report\n",
    "\n",
    "from sklearn.metrics import precision_recall_fscore_support"
   ]
  },
  {
   "cell_type": "code",
   "execution_count": 2,
   "id": "0526589b",
   "metadata": {},
   "outputs": [],
   "source": [
    "import sklearn\n",
    "import pandas as pd, numpy as np\n",
    "\n",
    "import seaborn as sns\n",
    "import matplotlib.pyplot as plt"
   ]
  },
  {
   "cell_type": "code",
   "execution_count": 4,
   "id": "9b156856",
   "metadata": {},
   "outputs": [],
   "source": [
    "def replaceThisInsaneNa(x):\n",
    "    if pd.isna(x):\n",
    "        return \" \"\n",
    "    else:\n",
    "        return x\n",
    "    \n",
    "\n",
    "def datasetToTfIdfPredictorsAndLabels(df, vectorizer1, vectorizer2):\n",
    "    \n",
    "    text_bgw = pd.DataFrame(vectorizer1.fit_transform(df.text).toarray(), dtype = 'float32').reset_index(drop=True)\n",
    "    text_bgw.columns = vectorizer1.get_feature_names()\n",
    "    new_columns = []\n",
    "\n",
    "    for column in text_bgw.columns:\n",
    "        new_columns.append(\"text_\" + column)\n",
    "\n",
    "    text_bgw.columns = new_columns   \n",
    "    \n",
    "    title_bgw = pd.DataFrame(vectorizer2.fit_transform(df.title).toarray(), dtype = 'float32').reset_index(drop=True)\n",
    "    title_bgw.columns = vectorizer2.get_feature_names()\n",
    "    \n",
    "    new_columns = []\n",
    "\n",
    "    for column in title_bgw.columns:\n",
    "        new_columns.append(\"title_\" + column)\n",
    "\n",
    "    title_bgw.columns = new_columns\n",
    "    \n",
    "    X = pd.concat([df[[\"title_wc\", \"selftext_wc\", \"title_cc\", \"selftext_cc\"]].reset_index(drop=True), text_bgw, title_bgw], axis=1, join=\"inner\")\n",
    "    \n",
    "    return X, df[[\"flair\"]]\n",
    "\n",
    "def datasetToTfIdfPredictorsAndLabelsForTest(df, vectorizer1, vectorizer2):\n",
    "    \n",
    "    text_bgw = pd.DataFrame(vectorizer1.transform(df.text).toarray(), dtype = 'float32').reset_index(drop=True)\n",
    "    text_bgw.columns = vectorizer1.get_feature_names()\n",
    "    new_columns = []\n",
    "\n",
    "    for column in text_bgw.columns:\n",
    "        new_columns.append(\"text_\" + column)\n",
    "\n",
    "    text_bgw.columns = new_columns   \n",
    "    \n",
    "    title_bgw = pd.DataFrame(vectorizer2.transform(df.title).toarray(), dtype = 'float32').reset_index(drop=True)\n",
    "    title_bgw.columns = vectorizer2.get_feature_names()\n",
    "    \n",
    "    new_columns = []\n",
    "\n",
    "    for column in title_bgw.columns:\n",
    "        new_columns.append(\"title_\" + column)\n",
    "\n",
    "    title_bgw.columns = new_columns\n",
    "    \n",
    "    X = pd.concat([df[[\"title_wc\", \"selftext_wc\", \"title_cc\", \"selftext_cc\"]].reset_index(drop=True), text_bgw, title_bgw], axis=1, join=\"inner\")\n",
    "    \n",
    "    return X, df[[\"flair\"]]\n",
    "\n"
   ]
  },
  {
   "cell_type": "code",
   "execution_count": 5,
   "id": "d631a307",
   "metadata": {},
   "outputs": [],
   "source": [
    "from sklearn.svm import LinearSVC\n",
    "from sklearn.ensemble import RandomForestClassifier\n",
    "from sklearn.naive_bayes import GaussianNB\n",
    "\n",
    "model = LinearSVC()\n",
    "model2 = RandomForestClassifier()\n",
    "model3 = GaussianNB()\n"
   ]
  },
  {
   "cell_type": "code",
   "execution_count": 12,
   "id": "aabb4e85",
   "metadata": {},
   "outputs": [
    {
     "data": {
      "text/plain": [
       "'C:\\\\Users\\\\wronap\\\\Desktop\\\\NLP-stuff'"
      ]
     },
     "execution_count": 12,
     "metadata": {},
     "output_type": "execute_result"
    }
   ],
   "source": [
    "%pwd"
   ]
  },
  {
   "cell_type": "code",
   "execution_count": 7,
   "id": "e94f1654",
   "metadata": {},
   "outputs": [],
   "source": [
    "# importing train and validation TEENAGERS datasets:\n",
    "\n",
    "X_train = pd.read_csv(\"../data/teen_train.csv\", index_col=0, dtype = {'flair': str, 'title': str, 'text': str})\n",
    "# X_trainb = pd.read_csv(\"../data/teen_train_balanced.csv\", index_col=0, dtype = {'flair': str, 'title': str, 'text': str})\n",
    "X_test = pd.read_csv(\"../data/teen_test.csv\", index_col=0, dtype = {'flair': str, 'title': str, 'text': str})\n",
    "# X_testb = pd.read_csv(\"../data/teen_test_balanced.csv\", index_col=0, dtype = {'flair': str, 'title': str, 'text': str})\n",
    "# chosing columns\n",
    "\n",
    "X_train = X_train[[\"flair\", \"title\", \"text\", \"title_wc\", \"selftext_wc\", \"title_cc\", \"selftext_cc\"]]\n",
    "# X_trainb = X_trainb[[\"flair\", \"title\", \"text\", \"title_wc\", \"selftext_wc\", \"title_cc\", \"selftext_cc\"]]\n",
    "X_test = X_test[[\"flair\", \"title\", \"text\", \"title_wc\", \"selftext_wc\", \"title_cc\", \"selftext_cc\"]]\n",
    "# X_testb = X_testb[[\"flair\", \"title\", \"text\", \"title_wc\", \"selftext_wc\", \"title_cc\", \"selftext_cc\"]]\n",
    "\n",
    "X_train.text = X_train.text.apply(replaceThisInsaneNa)\n",
    "# X_trainb.text = X_trainb.text.apply(replaceThisInsaneNa)\n",
    "\n",
    "X_test.text = X_test.text.apply(replaceThisInsaneNa)\n",
    "# X_testb.text = X_testb.text.apply(replaceThisInsaneNa)\n",
    "\n",
    "X__train = X_train\n",
    "# X__trainb = X_trainb\n",
    "X__test = X_test\n",
    "# X__testb = X_testb\n",
    "\n"
   ]
  },
  {
   "cell_type": "code",
   "execution_count": 8,
   "id": "113b0be3",
   "metadata": {},
   "outputs": [
    {
     "name": "stdout",
     "output_type": "stream",
     "text": [
      "(20000, 7)\n",
      "(2000, 7)\n"
     ]
    }
   ],
   "source": [
    "\n",
    "\n",
    "print(X__train.shape)\n",
    "# print(X__trainb.shape)\n",
    "print(X__test.shape)\n",
    "# print(X__testb.shape)"
   ]
  },
  {
   "cell_type": "code",
   "execution_count": 9,
   "id": "df36e1cd",
   "metadata": {},
   "outputs": [],
   "source": [
    "df = pd.DataFrame(columns=['method', 'model', 'n_components', 'n_neighbors', 'accuracy', 'train', 'test', 'precision', 'recall', 'f1'])"
   ]
  },
  {
   "cell_type": "code",
   "execution_count": 10,
   "id": "3c3dee95",
   "metadata": {},
   "outputs": [],
   "source": [
    "import pickle"
   ]
  },
  {
   "cell_type": "markdown",
   "id": "498b50c5",
   "metadata": {},
   "source": [
    "# TEEN fitting without Dimensionality reduction\n"
   ]
  },
  {
   "cell_type": "code",
   "execution_count": 11,
   "id": "e88c418b",
   "metadata": {},
   "outputs": [
    {
     "name": "stdout",
     "output_type": "stream",
     "text": [
      "@@@@@@@@@@@@ max features of TfIdf:  5\n",
      "fitting SVM - unbalanced\n"
     ]
    },
    {
     "name": "stderr",
     "output_type": "stream",
     "text": [
      "C:\\Users\\Patryk\\anaconda3\\lib\\site-packages\\sklearn\\utils\\validation.py:63: DataConversionWarning: A column-vector y was passed when a 1d array was expected. Please change the shape of y to (n_samples, ), for example using ravel().\n",
      "  return f(*args, **kwargs)\n",
      "C:\\Users\\Patryk\\anaconda3\\lib\\site-packages\\sklearn\\svm\\_base.py:985: ConvergenceWarning: Liblinear failed to converge, increase the number of iterations.\n",
      "  warnings.warn(\"Liblinear failed to converge, increase \"\n",
      "C:\\Users\\Patryk\\anaconda3\\lib\\site-packages\\sklearn\\metrics\\_classification.py:1248: UndefinedMetricWarning: Precision and F-score are ill-defined and being set to 0.0 in labels with no predicted samples. Use `zero_division` parameter to control this behavior.\n",
      "  _warn_prf(average, modifier, msg_start, len(result))\n",
      "C:\\Users\\Patryk\\AppData\\Local\\Temp/ipykernel_2064/868001968.py:36: DataConversionWarning: A column-vector y was passed when a 1d array was expected. Please change the shape of y to (n_samples,), for example using ravel().\n",
      "  model2.fit(X_pcab, y_trainb)\n"
     ]
    },
    {
     "name": "stdout",
     "output_type": "stream",
     "text": [
      "Time: : 31 sec\n",
      "fitting RF - unbalanced\n",
      "Time: : 4 sec\n",
      "fitting NB - unbalanced\n",
      "Time: : 0.086 sec\n"
     ]
    },
    {
     "name": "stderr",
     "output_type": "stream",
     "text": [
      "C:\\Users\\Patryk\\anaconda3\\lib\\site-packages\\sklearn\\utils\\validation.py:63: DataConversionWarning: A column-vector y was passed when a 1d array was expected. Please change the shape of y to (n_samples, ), for example using ravel().\n",
      "  return f(*args, **kwargs)\n"
     ]
    },
    {
     "name": "stdout",
     "output_type": "stream",
     "text": [
      "@@@@@@@@@@@@ max features of TfIdf:  25\n",
      "fitting SVM - unbalanced\n"
     ]
    },
    {
     "name": "stderr",
     "output_type": "stream",
     "text": [
      "C:\\Users\\Patryk\\anaconda3\\lib\\site-packages\\sklearn\\utils\\validation.py:63: DataConversionWarning: A column-vector y was passed when a 1d array was expected. Please change the shape of y to (n_samples, ), for example using ravel().\n",
      "  return f(*args, **kwargs)\n",
      "C:\\Users\\Patryk\\anaconda3\\lib\\site-packages\\sklearn\\svm\\_base.py:985: ConvergenceWarning: Liblinear failed to converge, increase the number of iterations.\n",
      "  warnings.warn(\"Liblinear failed to converge, increase \"\n",
      "C:\\Users\\Patryk\\anaconda3\\lib\\site-packages\\sklearn\\metrics\\_classification.py:1248: UndefinedMetricWarning: Precision and F-score are ill-defined and being set to 0.0 in labels with no predicted samples. Use `zero_division` parameter to control this behavior.\n",
      "  _warn_prf(average, modifier, msg_start, len(result))\n",
      "C:\\Users\\Patryk\\AppData\\Local\\Temp/ipykernel_2064/868001968.py:36: DataConversionWarning: A column-vector y was passed when a 1d array was expected. Please change the shape of y to (n_samples,), for example using ravel().\n",
      "  model2.fit(X_pcab, y_trainb)\n"
     ]
    },
    {
     "name": "stdout",
     "output_type": "stream",
     "text": [
      "Time: : 39 sec\n",
      "fitting RF - unbalanced\n",
      "Time: : 15 sec\n",
      "fitting NB - unbalanced\n",
      "Time: : 0.14 sec\n"
     ]
    },
    {
     "name": "stderr",
     "output_type": "stream",
     "text": [
      "C:\\Users\\Patryk\\anaconda3\\lib\\site-packages\\sklearn\\utils\\validation.py:63: DataConversionWarning: A column-vector y was passed when a 1d array was expected. Please change the shape of y to (n_samples, ), for example using ravel().\n",
      "  return f(*args, **kwargs)\n"
     ]
    },
    {
     "name": "stdout",
     "output_type": "stream",
     "text": [
      "@@@@@@@@@@@@ max features of TfIdf:  45\n",
      "fitting SVM - unbalanced\n"
     ]
    },
    {
     "name": "stderr",
     "output_type": "stream",
     "text": [
      "C:\\Users\\Patryk\\anaconda3\\lib\\site-packages\\sklearn\\utils\\validation.py:63: DataConversionWarning: A column-vector y was passed when a 1d array was expected. Please change the shape of y to (n_samples, ), for example using ravel().\n",
      "  return f(*args, **kwargs)\n",
      "C:\\Users\\Patryk\\anaconda3\\lib\\site-packages\\sklearn\\svm\\_base.py:985: ConvergenceWarning: Liblinear failed to converge, increase the number of iterations.\n",
      "  warnings.warn(\"Liblinear failed to converge, increase \"\n",
      "C:\\Users\\Patryk\\anaconda3\\lib\\site-packages\\sklearn\\metrics\\_classification.py:1248: UndefinedMetricWarning: Precision and F-score are ill-defined and being set to 0.0 in labels with no predicted samples. Use `zero_division` parameter to control this behavior.\n",
      "  _warn_prf(average, modifier, msg_start, len(result))\n",
      "C:\\Users\\Patryk\\AppData\\Local\\Temp/ipykernel_2064/868001968.py:36: DataConversionWarning: A column-vector y was passed when a 1d array was expected. Please change the shape of y to (n_samples,), for example using ravel().\n",
      "  model2.fit(X_pcab, y_trainb)\n"
     ]
    },
    {
     "name": "stdout",
     "output_type": "stream",
     "text": [
      "Time: : 40 sec\n",
      "fitting RF - unbalanced\n",
      "Time: : 10 sec\n",
      "fitting NB - unbalanced\n",
      "Time: : 0.19 sec\n"
     ]
    },
    {
     "name": "stderr",
     "output_type": "stream",
     "text": [
      "C:\\Users\\Patryk\\anaconda3\\lib\\site-packages\\sklearn\\utils\\validation.py:63: DataConversionWarning: A column-vector y was passed when a 1d array was expected. Please change the shape of y to (n_samples, ), for example using ravel().\n",
      "  return f(*args, **kwargs)\n"
     ]
    },
    {
     "name": "stdout",
     "output_type": "stream",
     "text": [
      "@@@@@@@@@@@@ max features of TfIdf:  65\n",
      "fitting SVM - unbalanced\n"
     ]
    },
    {
     "name": "stderr",
     "output_type": "stream",
     "text": [
      "C:\\Users\\Patryk\\anaconda3\\lib\\site-packages\\sklearn\\utils\\validation.py:63: DataConversionWarning: A column-vector y was passed when a 1d array was expected. Please change the shape of y to (n_samples, ), for example using ravel().\n",
      "  return f(*args, **kwargs)\n",
      "C:\\Users\\Patryk\\anaconda3\\lib\\site-packages\\sklearn\\svm\\_base.py:985: ConvergenceWarning: Liblinear failed to converge, increase the number of iterations.\n",
      "  warnings.warn(\"Liblinear failed to converge, increase \"\n",
      "C:\\Users\\Patryk\\anaconda3\\lib\\site-packages\\sklearn\\metrics\\_classification.py:1248: UndefinedMetricWarning: Precision and F-score are ill-defined and being set to 0.0 in labels with no predicted samples. Use `zero_division` parameter to control this behavior.\n",
      "  _warn_prf(average, modifier, msg_start, len(result))\n",
      "C:\\Users\\Patryk\\AppData\\Local\\Temp/ipykernel_2064/868001968.py:36: DataConversionWarning: A column-vector y was passed when a 1d array was expected. Please change the shape of y to (n_samples,), for example using ravel().\n",
      "  model2.fit(X_pcab, y_trainb)\n"
     ]
    },
    {
     "name": "stdout",
     "output_type": "stream",
     "text": [
      "Time: : 39 sec\n",
      "fitting RF - unbalanced\n",
      "Time: : 18 sec\n",
      "fitting NB - unbalanced\n"
     ]
    },
    {
     "name": "stderr",
     "output_type": "stream",
     "text": [
      "C:\\Users\\Patryk\\anaconda3\\lib\\site-packages\\sklearn\\utils\\validation.py:63: DataConversionWarning: A column-vector y was passed when a 1d array was expected. Please change the shape of y to (n_samples, ), for example using ravel().\n",
      "  return f(*args, **kwargs)\n"
     ]
    },
    {
     "name": "stdout",
     "output_type": "stream",
     "text": [
      "Time: : 0.74 sec\n",
      "@@@@@@@@@@@@ max features of TfIdf:  85\n",
      "fitting SVM - unbalanced\n"
     ]
    },
    {
     "name": "stderr",
     "output_type": "stream",
     "text": [
      "C:\\Users\\Patryk\\anaconda3\\lib\\site-packages\\sklearn\\utils\\validation.py:63: DataConversionWarning: A column-vector y was passed when a 1d array was expected. Please change the shape of y to (n_samples, ), for example using ravel().\n",
      "  return f(*args, **kwargs)\n",
      "C:\\Users\\Patryk\\anaconda3\\lib\\site-packages\\sklearn\\svm\\_base.py:985: ConvergenceWarning: Liblinear failed to converge, increase the number of iterations.\n",
      "  warnings.warn(\"Liblinear failed to converge, increase \"\n",
      "C:\\Users\\Patryk\\anaconda3\\lib\\site-packages\\sklearn\\metrics\\_classification.py:1248: UndefinedMetricWarning: Precision and F-score are ill-defined and being set to 0.0 in labels with no predicted samples. Use `zero_division` parameter to control this behavior.\n",
      "  _warn_prf(average, modifier, msg_start, len(result))\n",
      "C:\\Users\\Patryk\\AppData\\Local\\Temp/ipykernel_2064/868001968.py:36: DataConversionWarning: A column-vector y was passed when a 1d array was expected. Please change the shape of y to (n_samples,), for example using ravel().\n",
      "  model2.fit(X_pcab, y_trainb)\n"
     ]
    },
    {
     "name": "stdout",
     "output_type": "stream",
     "text": [
      "Time: : 43 sec\n",
      "fitting RF - unbalanced\n",
      "Time: : 17 sec\n",
      "fitting NB - unbalanced\n"
     ]
    },
    {
     "name": "stderr",
     "output_type": "stream",
     "text": [
      "C:\\Users\\Patryk\\anaconda3\\lib\\site-packages\\sklearn\\utils\\validation.py:63: DataConversionWarning: A column-vector y was passed when a 1d array was expected. Please change the shape of y to (n_samples, ), for example using ravel().\n",
      "  return f(*args, **kwargs)\n"
     ]
    },
    {
     "name": "stdout",
     "output_type": "stream",
     "text": [
      "Time: : 0.28 sec\n"
     ]
    }
   ],
   "source": [
    "#X_trainb, y_trainb = datasetToTfIdfPredictorsAndLabels(X__train, vectorizer1, vectorizer2)\n",
    "#X_testb, y_testb = datasetToTfIdfPredictorsAndLabelsForTest(X__test, vectorizer1, vectorizer2)\n",
    "\n",
    "#vectorizer1 = TfidfVectorizer(stop_words = 'english', max_features=500)\n",
    "#vectorizer2 = TfidfVectorizer(stop_words = 'english', max_features=500)\n",
    "\n",
    "method_name = \"TfIdf-max_features\"\n",
    "\n",
    "for i in range(5,100, 20):\n",
    "    \n",
    "\n",
    "    print(\"@@@@@@@@@@@@ max features of TfIdf: \", i)\n",
    "    \n",
    "        \n",
    "    vectorizer1 = TfidfVectorizer(stop_words = 'english', max_features=i)\n",
    "    vectorizer2 = TfidfVectorizer(stop_words = 'english', max_features=i)\n",
    "\n",
    "\n",
    "    X_pcab, y_trainb = datasetToTfIdfPredictorsAndLabels(X__train, vectorizer1, vectorizer2)\n",
    "    X_pca_testb, y_testb = datasetToTfIdfPredictorsAndLabelsForTest(X__test, vectorizer1, vectorizer2)\n",
    "\n",
    "    print(\"fitting SVM - unbalanced\")\n",
    "    t0 = time()\n",
    "    # trained on balanced dataset\n",
    "    model.fit(X_pcab, y_trainb)\n",
    "    acc = model.score(X_pca_testb, y_testb)\n",
    "    y_pred = model.predict(X_pca_testb)\n",
    "    prf = precision_recall_fscore_support(y_testb, y_pred, average = 'weighted')\n",
    "    df = df.append({'method': method_name, 'model':'SVM', 'n_components': i, 'n_neighbors': -1, 'accuracy': acc, 'train': 'unbalanced', 'test': 'unbalanced', 'precision': prf[0], 'recall': prf[1], 'f1': prf[2]}, ignore_index=True)\n",
    "    t1 = time()\n",
    "    print(\"%s: %.2g sec\" % ('Time: ', t1 - t0))\n",
    "\n",
    "    print(\"fitting RF - unbalanced\")\n",
    "    t0 = time()\n",
    "    # trained on balanced dataset\n",
    "    model2.fit(X_pcab, y_trainb)\n",
    "    acc = model2.score(X_pca_testb, y_testb)\n",
    "    y_pred = model2.predict(X_pca_testb)\n",
    "    prf = precision_recall_fscore_support(y_testb, y_pred, average = 'weighted')\n",
    "    df = df.append({'method': method_name, 'model':'RF', 'n_components': i, 'n_neighbors': -1, 'accuracy': acc, 'train': 'unbalanced', 'test': 'unbalanced', 'precision': prf[0], 'recall': prf[1], 'f1': prf[2]}, ignore_index=True)\n",
    "    t1 = time()\n",
    "    print(\"%s: %.2g sec\" % ('Time: ', t1 - t0))\n",
    "\n",
    "    print(\"fitting NB - unbalanced\")\n",
    "    t0 = time()\n",
    "    # trained on balanced dataset\n",
    "    model3.fit(X_pcab, y_trainb)\n",
    "    acc = model3.score(X_pca_testb, y_testb)\n",
    "    y_pred = model3.predict(X_pca_testb)\n",
    "    prf = precision_recall_fscore_support(y_testb, y_pred, average = 'weighted')\n",
    "    df = df.append({'method': method_name, 'model':'NB', 'n_components': i, 'n_neighbors': -1, 'accuracy': acc, 'train': 'unbalanced', 'test': 'unbalanced', 'precision': prf[0], 'recall': prf[1], 'f1': prf[2]}, ignore_index=True)\n",
    "    t1 = time()\n",
    "    print(\"%s: %.2g sec\" % ('Time: ', t1 - t0))\n",
    "    \n",
    "        # save the model to disk\n",
    "    filename = 'svm_model_'+ str(i) +'.sav'\n",
    "    pickle.dump(model, open(filename, 'wb'))\n",
    "    \n",
    "    # save the model to disk\n",
    "    filename = 'rf_model_'+ str(i) +'.sav'\n",
    "    pickle.dump(model2, open(filename, 'wb'))\n",
    "    \n",
    "    # save the model to disk\n",
    "    filename = 'nb_model_'+ str(i) +'.sav'\n",
    "    pickle.dump(model3, open(filename, 'wb'))\n",
    "\n",
    "\n",
    "df.to_csv(\"TEEN-TfIdf-unbalanced-1.csv\")"
   ]
  },
  {
   "cell_type": "code",
   "execution_count": 12,
   "id": "d4754a35",
   "metadata": {},
   "outputs": [
    {
     "name": "stdout",
     "output_type": "stream",
     "text": [
      "@@@@@@@@@@@@ max features of TfIdf:  100\n",
      "fitting SVM - unbalanced\n"
     ]
    },
    {
     "name": "stderr",
     "output_type": "stream",
     "text": [
      "C:\\Users\\Patryk\\anaconda3\\lib\\site-packages\\sklearn\\utils\\validation.py:63: DataConversionWarning: A column-vector y was passed when a 1d array was expected. Please change the shape of y to (n_samples, ), for example using ravel().\n",
      "  return f(*args, **kwargs)\n",
      "C:\\Users\\Patryk\\anaconda3\\lib\\site-packages\\sklearn\\svm\\_base.py:985: ConvergenceWarning: Liblinear failed to converge, increase the number of iterations.\n",
      "  warnings.warn(\"Liblinear failed to converge, increase \"\n",
      "C:\\Users\\Patryk\\anaconda3\\lib\\site-packages\\sklearn\\metrics\\_classification.py:1248: UndefinedMetricWarning: Precision and F-score are ill-defined and being set to 0.0 in labels with no predicted samples. Use `zero_division` parameter to control this behavior.\n",
      "  _warn_prf(average, modifier, msg_start, len(result))\n",
      "C:\\Users\\Patryk\\AppData\\Local\\Temp/ipykernel_2064/161711291.py:30: DataConversionWarning: A column-vector y was passed when a 1d array was expected. Please change the shape of y to (n_samples,), for example using ravel().\n",
      "  model2.fit(X_pcab, y_trainb)\n"
     ]
    },
    {
     "name": "stdout",
     "output_type": "stream",
     "text": [
      "Time: : 61 sec\n",
      "fitting RF - unbalanced\n",
      "Time: : 30 sec\n",
      "fitting NB - unbalanced\n"
     ]
    },
    {
     "name": "stderr",
     "output_type": "stream",
     "text": [
      "C:\\Users\\Patryk\\anaconda3\\lib\\site-packages\\sklearn\\utils\\validation.py:63: DataConversionWarning: A column-vector y was passed when a 1d array was expected. Please change the shape of y to (n_samples, ), for example using ravel().\n",
      "  return f(*args, **kwargs)\n"
     ]
    },
    {
     "name": "stdout",
     "output_type": "stream",
     "text": [
      "Time: : 0.42 sec\n",
      "@@@@@@@@@@@@ max features of TfIdf:  300\n",
      "fitting SVM - unbalanced\n"
     ]
    },
    {
     "name": "stderr",
     "output_type": "stream",
     "text": [
      "C:\\Users\\Patryk\\anaconda3\\lib\\site-packages\\sklearn\\utils\\validation.py:63: DataConversionWarning: A column-vector y was passed when a 1d array was expected. Please change the shape of y to (n_samples, ), for example using ravel().\n",
      "  return f(*args, **kwargs)\n",
      "C:\\Users\\Patryk\\anaconda3\\lib\\site-packages\\sklearn\\svm\\_base.py:985: ConvergenceWarning: Liblinear failed to converge, increase the number of iterations.\n",
      "  warnings.warn(\"Liblinear failed to converge, increase \"\n",
      "C:\\Users\\Patryk\\AppData\\Local\\Temp/ipykernel_2064/161711291.py:30: DataConversionWarning: A column-vector y was passed when a 1d array was expected. Please change the shape of y to (n_samples,), for example using ravel().\n",
      "  model2.fit(X_pcab, y_trainb)\n"
     ]
    },
    {
     "name": "stdout",
     "output_type": "stream",
     "text": [
      "Time: : 53 sec\n",
      "fitting RF - unbalanced\n",
      "Time: : 48 sec\n",
      "fitting NB - unbalanced\n"
     ]
    },
    {
     "name": "stderr",
     "output_type": "stream",
     "text": [
      "C:\\Users\\Patryk\\anaconda3\\lib\\site-packages\\sklearn\\utils\\validation.py:63: DataConversionWarning: A column-vector y was passed when a 1d array was expected. Please change the shape of y to (n_samples, ), for example using ravel().\n",
      "  return f(*args, **kwargs)\n"
     ]
    },
    {
     "name": "stdout",
     "output_type": "stream",
     "text": [
      "Time: : 0.9 sec\n",
      "@@@@@@@@@@@@ max features of TfIdf:  500\n",
      "fitting SVM - unbalanced\n"
     ]
    },
    {
     "name": "stderr",
     "output_type": "stream",
     "text": [
      "C:\\Users\\Patryk\\anaconda3\\lib\\site-packages\\sklearn\\utils\\validation.py:63: DataConversionWarning: A column-vector y was passed when a 1d array was expected. Please change the shape of y to (n_samples, ), for example using ravel().\n",
      "  return f(*args, **kwargs)\n",
      "C:\\Users\\Patryk\\anaconda3\\lib\\site-packages\\sklearn\\svm\\_base.py:985: ConvergenceWarning: Liblinear failed to converge, increase the number of iterations.\n",
      "  warnings.warn(\"Liblinear failed to converge, increase \"\n"
     ]
    },
    {
     "name": "stdout",
     "output_type": "stream",
     "text": [
      "Time: : 56 sec\n",
      "fitting RF - unbalanced\n"
     ]
    },
    {
     "name": "stderr",
     "output_type": "stream",
     "text": [
      "C:\\Users\\Patryk\\AppData\\Local\\Temp/ipykernel_2064/161711291.py:30: DataConversionWarning: A column-vector y was passed when a 1d array was expected. Please change the shape of y to (n_samples,), for example using ravel().\n",
      "  model2.fit(X_pcab, y_trainb)\n"
     ]
    },
    {
     "name": "stdout",
     "output_type": "stream",
     "text": [
      "Time: : 51 sec\n",
      "fitting NB - unbalanced\n"
     ]
    },
    {
     "name": "stderr",
     "output_type": "stream",
     "text": [
      "C:\\Users\\Patryk\\anaconda3\\lib\\site-packages\\sklearn\\utils\\validation.py:63: DataConversionWarning: A column-vector y was passed when a 1d array was expected. Please change the shape of y to (n_samples, ), for example using ravel().\n",
      "  return f(*args, **kwargs)\n"
     ]
    },
    {
     "name": "stdout",
     "output_type": "stream",
     "text": [
      "Time: : 1.3 sec\n",
      "@@@@@@@@@@@@ max features of TfIdf:  700\n",
      "fitting SVM - unbalanced\n"
     ]
    },
    {
     "name": "stderr",
     "output_type": "stream",
     "text": [
      "C:\\Users\\Patryk\\anaconda3\\lib\\site-packages\\sklearn\\utils\\validation.py:63: DataConversionWarning: A column-vector y was passed when a 1d array was expected. Please change the shape of y to (n_samples, ), for example using ravel().\n",
      "  return f(*args, **kwargs)\n",
      "C:\\Users\\Patryk\\anaconda3\\lib\\site-packages\\sklearn\\svm\\_base.py:985: ConvergenceWarning: Liblinear failed to converge, increase the number of iterations.\n",
      "  warnings.warn(\"Liblinear failed to converge, increase \"\n"
     ]
    },
    {
     "name": "stdout",
     "output_type": "stream",
     "text": [
      "Time: : 33 sec\n",
      "fitting RF - unbalanced\n"
     ]
    },
    {
     "name": "stderr",
     "output_type": "stream",
     "text": [
      "C:\\Users\\Patryk\\AppData\\Local\\Temp/ipykernel_2064/161711291.py:30: DataConversionWarning: A column-vector y was passed when a 1d array was expected. Please change the shape of y to (n_samples,), for example using ravel().\n",
      "  model2.fit(X_pcab, y_trainb)\n"
     ]
    },
    {
     "name": "stdout",
     "output_type": "stream",
     "text": [
      "Time: : 59 sec\n",
      "fitting NB - unbalanced\n"
     ]
    },
    {
     "name": "stderr",
     "output_type": "stream",
     "text": [
      "C:\\Users\\Patryk\\anaconda3\\lib\\site-packages\\sklearn\\utils\\validation.py:63: DataConversionWarning: A column-vector y was passed when a 1d array was expected. Please change the shape of y to (n_samples, ), for example using ravel().\n",
      "  return f(*args, **kwargs)\n"
     ]
    },
    {
     "name": "stdout",
     "output_type": "stream",
     "text": [
      "Time: : 1.9 sec\n",
      "@@@@@@@@@@@@ max features of TfIdf:  900\n",
      "fitting SVM - unbalanced\n"
     ]
    },
    {
     "name": "stderr",
     "output_type": "stream",
     "text": [
      "C:\\Users\\Patryk\\anaconda3\\lib\\site-packages\\sklearn\\utils\\validation.py:63: DataConversionWarning: A column-vector y was passed when a 1d array was expected. Please change the shape of y to (n_samples, ), for example using ravel().\n",
      "  return f(*args, **kwargs)\n",
      "C:\\Users\\Patryk\\anaconda3\\lib\\site-packages\\sklearn\\svm\\_base.py:985: ConvergenceWarning: Liblinear failed to converge, increase the number of iterations.\n",
      "  warnings.warn(\"Liblinear failed to converge, increase \"\n"
     ]
    },
    {
     "name": "stdout",
     "output_type": "stream",
     "text": [
      "Time: : 39 sec\n",
      "fitting RF - unbalanced\n"
     ]
    },
    {
     "name": "stderr",
     "output_type": "stream",
     "text": [
      "C:\\Users\\Patryk\\AppData\\Local\\Temp/ipykernel_2064/161711291.py:91: DataConversionWarning: A column-vector y was passed when a 1d array was expected. Please change the shape of y to (n_samples,), for example using ravel().\n",
      "  model2.fit(X_pcab, y_trainb)\n"
     ]
    },
    {
     "name": "stdout",
     "output_type": "stream",
     "text": [
      "Time: : 70 sec\n",
      "fitting NB - unbalanced\n"
     ]
    },
    {
     "name": "stderr",
     "output_type": "stream",
     "text": [
      "C:\\Users\\Patryk\\anaconda3\\lib\\site-packages\\sklearn\\utils\\validation.py:63: DataConversionWarning: A column-vector y was passed when a 1d array was expected. Please change the shape of y to (n_samples, ), for example using ravel().\n",
      "  return f(*args, **kwargs)\n"
     ]
    },
    {
     "name": "stdout",
     "output_type": "stream",
     "text": [
      "Time: : 5.9 sec\n",
      "@@@@@@@@@@@@ max features of TfIdf:  1100\n",
      "fitting SVM - unbalanced\n"
     ]
    },
    {
     "name": "stderr",
     "output_type": "stream",
     "text": [
      "C:\\Users\\Patryk\\anaconda3\\lib\\site-packages\\sklearn\\utils\\validation.py:63: DataConversionWarning: A column-vector y was passed when a 1d array was expected. Please change the shape of y to (n_samples, ), for example using ravel().\n",
      "  return f(*args, **kwargs)\n",
      "C:\\Users\\Patryk\\anaconda3\\lib\\site-packages\\sklearn\\svm\\_base.py:985: ConvergenceWarning: Liblinear failed to converge, increase the number of iterations.\n",
      "  warnings.warn(\"Liblinear failed to converge, increase \"\n"
     ]
    },
    {
     "name": "stdout",
     "output_type": "stream",
     "text": [
      "Time: : 33 sec\n",
      "fitting RF - unbalanced\n"
     ]
    },
    {
     "name": "stderr",
     "output_type": "stream",
     "text": [
      "C:\\Users\\Patryk\\AppData\\Local\\Temp/ipykernel_2064/161711291.py:91: DataConversionWarning: A column-vector y was passed when a 1d array was expected. Please change the shape of y to (n_samples,), for example using ravel().\n",
      "  model2.fit(X_pcab, y_trainb)\n"
     ]
    },
    {
     "name": "stdout",
     "output_type": "stream",
     "text": [
      "Time: : 81 sec\n",
      "fitting NB - unbalanced\n"
     ]
    },
    {
     "name": "stderr",
     "output_type": "stream",
     "text": [
      "C:\\Users\\Patryk\\anaconda3\\lib\\site-packages\\sklearn\\utils\\validation.py:63: DataConversionWarning: A column-vector y was passed when a 1d array was expected. Please change the shape of y to (n_samples, ), for example using ravel().\n",
      "  return f(*args, **kwargs)\n"
     ]
    },
    {
     "name": "stdout",
     "output_type": "stream",
     "text": [
      "Time: : 3.3 sec\n",
      "@@@@@@@@@@@@ max features of TfIdf:  1300\n",
      "fitting SVM - unbalanced\n"
     ]
    },
    {
     "name": "stderr",
     "output_type": "stream",
     "text": [
      "C:\\Users\\Patryk\\anaconda3\\lib\\site-packages\\sklearn\\utils\\validation.py:63: DataConversionWarning: A column-vector y was passed when a 1d array was expected. Please change the shape of y to (n_samples, ), for example using ravel().\n",
      "  return f(*args, **kwargs)\n",
      "C:\\Users\\Patryk\\anaconda3\\lib\\site-packages\\sklearn\\svm\\_base.py:985: ConvergenceWarning: Liblinear failed to converge, increase the number of iterations.\n",
      "  warnings.warn(\"Liblinear failed to converge, increase \"\n"
     ]
    },
    {
     "name": "stdout",
     "output_type": "stream",
     "text": [
      "Time: : 36 sec\n",
      "fitting RF - unbalanced\n"
     ]
    },
    {
     "name": "stderr",
     "output_type": "stream",
     "text": [
      "C:\\Users\\Patryk\\AppData\\Local\\Temp/ipykernel_2064/161711291.py:91: DataConversionWarning: A column-vector y was passed when a 1d array was expected. Please change the shape of y to (n_samples,), for example using ravel().\n",
      "  model2.fit(X_pcab, y_trainb)\n"
     ]
    },
    {
     "name": "stdout",
     "output_type": "stream",
     "text": [
      "Time: : 84 sec\n",
      "fitting NB - unbalanced\n"
     ]
    },
    {
     "name": "stderr",
     "output_type": "stream",
     "text": [
      "C:\\Users\\Patryk\\anaconda3\\lib\\site-packages\\sklearn\\utils\\validation.py:63: DataConversionWarning: A column-vector y was passed when a 1d array was expected. Please change the shape of y to (n_samples, ), for example using ravel().\n",
      "  return f(*args, **kwargs)\n"
     ]
    },
    {
     "name": "stdout",
     "output_type": "stream",
     "text": [
      "Time: : 3.7 sec\n"
     ]
    }
   ],
   "source": [
    "method_name = \"TfIdf-max_features\"\n",
    "\n",
    "for i in range(100,800, 200):\n",
    "    \n",
    "\n",
    "    print(\"@@@@@@@@@@@@ max features of TfIdf: \", i)\n",
    "    \n",
    "        \n",
    "    vectorizer1 = TfidfVectorizer(stop_words = 'english', max_features=i)\n",
    "    vectorizer2 = TfidfVectorizer(stop_words = 'english', max_features=i)\n",
    "\n",
    "\n",
    "    X_pcab, y_trainb = datasetToTfIdfPredictorsAndLabels(X__train, vectorizer1, vectorizer2)\n",
    "    X_pca_testb, y_testb = datasetToTfIdfPredictorsAndLabelsForTest(X__test, vectorizer1, vectorizer2)\n",
    "\n",
    "    print(\"fitting SVM - unbalanced\")\n",
    "    t0 = time()\n",
    "    # trained on balanced dataset\n",
    "    model.fit(X_pcab, y_trainb)\n",
    "    acc = model.score(X_pca_testb, y_testb)\n",
    "    y_pred = model.predict(X_pca_testb)\n",
    "    prf = precision_recall_fscore_support(y_testb, y_pred, average = 'weighted')\n",
    "    df = df.append({'method': method_name, 'model':'SVM', 'n_components': i, 'n_neighbors': -1, 'accuracy': acc, 'train': 'unbalanced', 'test': 'unbalanced', 'precision': prf[0], 'recall': prf[1], 'f1': prf[2]}, ignore_index=True)\n",
    "    t1 = time()\n",
    "    print(\"%s: %.2g sec\" % ('Time: ', t1 - t0))\n",
    "\n",
    "    print(\"fitting RF - unbalanced\")\n",
    "    t0 = time()\n",
    "    # trained on balanced dataset\n",
    "    model2.fit(X_pcab, y_trainb)\n",
    "    acc = model2.score(X_pca_testb, y_testb)\n",
    "    y_pred = model2.predict(X_pca_testb)\n",
    "    prf = precision_recall_fscore_support(y_testb, y_pred, average = 'weighted')\n",
    "    df = df.append({'method': method_name, 'model':'RF', 'n_components': i, 'n_neighbors': -1, 'accuracy': acc, 'train': 'unbalanced', 'test': 'unbalanced', 'precision': prf[0], 'recall': prf[1], 'f1': prf[2]}, ignore_index=True)\n",
    "    t1 = time()\n",
    "    print(\"%s: %.2g sec\" % ('Time: ', t1 - t0))\n",
    "\n",
    "    print(\"fitting NB - unbalanced\")\n",
    "    t0 = time()\n",
    "    # trained on balanced dataset\n",
    "    model3.fit(X_pcab, y_trainb)\n",
    "    acc = model3.score(X_pca_testb, y_testb)\n",
    "    y_pred = model3.predict(X_pca_testb)\n",
    "    prf = precision_recall_fscore_support(y_testb, y_pred, average = 'weighted')\n",
    "    df = df.append({'method': method_name, 'model':'NB', 'n_components': i, 'n_neighbors': -1, 'accuracy': acc, 'train': 'unbalanced', 'test': 'unbalanced', 'precision': prf[0], 'recall': prf[1], 'f1': prf[2]}, ignore_index=True)\n",
    "    t1 = time()\n",
    "    print(\"%s: %.2g sec\" % ('Time: ', t1 - t0))\n",
    "    \n",
    "    # save the model to disk\n",
    "    filename = 'svm_model_'+ str(i) +'.sav'\n",
    "    pickle.dump(model, open(filename, 'wb'))\n",
    "    \n",
    "    # save the model to disk\n",
    "    filename = 'rf_model_'+ str(i) +'.sav'\n",
    "    pickle.dump(model2, open(filename, 'wb'))\n",
    "    \n",
    "    # save the model to disk\n",
    "    filename = 'nb_model_'+ str(i) +'.sav'\n",
    "    pickle.dump(model3, open(filename, 'wb'))\n",
    "\n",
    "\n",
    "df.to_csv(\"TEEN-TfIdf-unbalanced-2.csv\")\n",
    "\n",
    "for i in range(900,1500, 200):\n",
    "    \n",
    "\n",
    "    print(\"@@@@@@@@@@@@ max features of TfIdf: \", i)\n",
    "    \n",
    "        \n",
    "    vectorizer1 = TfidfVectorizer(stop_words = 'english', max_features=i)\n",
    "    vectorizer2 = TfidfVectorizer(stop_words = 'english', max_features=i)\n",
    "\n",
    "\n",
    "    X_pcab, y_trainb = datasetToTfIdfPredictorsAndLabels(X__train, vectorizer1, vectorizer2)\n",
    "    X_pca_testb, y_testb = datasetToTfIdfPredictorsAndLabelsForTest(X__test, vectorizer1, vectorizer2)\n",
    "\n",
    "    print(\"fitting SVM - unbalanced\")\n",
    "    t0 = time()\n",
    "    # trained on balanced dataset\n",
    "    model.fit(X_pcab, y_trainb)\n",
    "    acc = model.score(X_pca_testb, y_testb)\n",
    "    y_pred = model.predict(X_pca_testb)\n",
    "    prf = precision_recall_fscore_support(y_testb, y_pred, average = 'weighted')\n",
    "    df = df.append({'method': method_name, 'model':'SVM', 'n_components': i, 'n_neighbors': -1, 'accuracy': acc, 'train': 'unbalanced', 'test': 'unbalanced', 'precision': prf[0], 'recall': prf[1], 'f1': prf[2]}, ignore_index=True)\n",
    "    t1 = time()\n",
    "    print(\"%s: %.2g sec\" % ('Time: ', t1 - t0))\n",
    "\n",
    "    print(\"fitting RF - unbalanced\")\n",
    "    t0 = time()\n",
    "    # trained on balanced dataset\n",
    "    model2.fit(X_pcab, y_trainb)\n",
    "    acc = model2.score(X_pca_testb, y_testb)\n",
    "    y_pred = model2.predict(X_pca_testb)\n",
    "    prf = precision_recall_fscore_support(y_testb, y_pred, average = 'weighted')\n",
    "    df = df.append({'method': method_name, 'model':'RF', 'n_components': i, 'n_neighbors': -1, 'accuracy': acc, 'train': 'unbalanced', 'test': 'unbalanced', 'precision': prf[0], 'recall': prf[1], 'f1': prf[2]}, ignore_index=True)\n",
    "    t1 = time()\n",
    "    print(\"%s: %.2g sec\" % ('Time: ', t1 - t0))\n",
    "\n",
    "    print(\"fitting NB - unbalanced\")\n",
    "    t0 = time()\n",
    "    # trained on balanced dataset\n",
    "    model3.fit(X_pcab, y_trainb)\n",
    "    acc = model3.score(X_pca_testb, y_testb)\n",
    "    y_pred = model3.predict(X_pca_testb)\n",
    "    prf = precision_recall_fscore_support(y_testb, y_pred, average = 'weighted')\n",
    "    df = df.append({'method': method_name, 'model':'NB', 'n_components': i, 'n_neighbors': -1, 'accuracy': acc, 'train': 'unbalanced', 'test': 'unbalanced', 'precision': prf[0], 'recall': prf[1], 'f1': prf[2]}, ignore_index=True)\n",
    "    t1 = time()\n",
    "    print(\"%s: %.2g sec\" % ('Time: ', t1 - t0))\n",
    "    \n",
    "    # save the model to disk\n",
    "    filename = 'svm_model_'+ str(i) +'.sav'\n",
    "    pickle.dump(model, open(filename, 'wb'))\n",
    "    \n",
    "    # save the model to disk\n",
    "    filename = 'rf_model_'+ str(i) +'.sav'\n",
    "    pickle.dump(model2, open(filename, 'wb'))\n",
    "    \n",
    "    # save the model to disk\n",
    "    filename = 'nb_model_'+ str(i) +'.sav'\n",
    "    pickle.dump(model3, open(filename, 'wb'))\n",
    "\n",
    "\n",
    "df.to_csv(\"TEEN-TfIdf-unbalanced-3.csv\")"
   ]
  },
  {
   "cell_type": "code",
   "execution_count": 13,
   "id": "fedd6987",
   "metadata": {},
   "outputs": [],
   "source": [
    "df_wide = df.pivot(\"n_components\", \"model\", \"f1\")"
   ]
  },
  {
   "cell_type": "code",
   "execution_count": 15,
   "id": "10102ecf",
   "metadata": {
    "scrolled": true
   },
   "outputs": [
    {
     "data": {
      "text/plain": [
       "Text(1020, 0.085, 'Random model')"
      ]
     },
     "execution_count": 15,
     "metadata": {},
     "output_type": "execute_result"
    },
    {
     "data": {
      "image/png": "[encoded data removed]",
      "text/plain": [
       "<Figure size 432x288 with 1 Axes>"
      ]
     },
     "metadata": {
      "needs_background": "light"
     },
     "output_type": "display_data"
    }
   ],
   "source": [
    "\n",
    "p = sns.lineplot(data=df_wide)\n",
    "p.set(ylim=(0., 0.35))\n",
    "p.set_xlabel('N of features from TfIdf (title and text)')\n",
    "p.set_ylabel('F1-Score')\n",
    "\n",
    "p.set_title('Impact of TfIdf max_features - TEEN dataset')\n",
    "\n",
    "p.axhline(0.1, ls='--')\n",
    "p.text(1020, 0.085, \"Random model\")"
   ]
  },
  {
   "cell_type": "code",
   "execution_count": 16,
   "id": "2caca366",
   "metadata": {
    "scrolled": true
   },
   "outputs": [
    {
     "data": {
      "text/html": [
       "<div>\n",
       "<style scoped>\n",
       "    .dataframe tbody tr th:only-of-type {\n",
       "        vertical-align: middle;\n",
       "    }\n",
       "\n",
       "    .dataframe tbody tr th {\n",
       "        vertical-align: top;\n",
       "    }\n",
       "\n",
       "    .dataframe thead th {\n",
       "        text-align: right;\n",
       "    }\n",
       "</style>\n",
       "<table border=\"1\" class=\"dataframe\">\n",
       "  <thead>\n",
       "    <tr style=\"text-align: right;\">\n",
       "      <th></th>\n",
       "      <th>method</th>\n",
       "      <th>model</th>\n",
       "      <th>n_components</th>\n",
       "      <th>n_neighbors</th>\n",
       "      <th>accuracy</th>\n",
       "      <th>train</th>\n",
       "      <th>test</th>\n",
       "      <th>precision</th>\n",
       "      <th>recall</th>\n",
       "      <th>f1</th>\n",
       "    </tr>\n",
       "  </thead>\n",
       "  <tbody>\n",
       "    <tr>\n",
       "      <th>25</th>\n",
       "      <td>TfIdf-max_features</td>\n",
       "      <td>RF</td>\n",
       "      <td>700</td>\n",
       "      <td>-1</td>\n",
       "      <td>0.3095</td>\n",
       "      <td>unbalanced</td>\n",
       "      <td>unbalanced</td>\n",
       "      <td>0.306245</td>\n",
       "      <td>0.3095</td>\n",
       "      <td>0.291583</td>\n",
       "    </tr>\n",
       "    <tr>\n",
       "      <th>22</th>\n",
       "      <td>TfIdf-max_features</td>\n",
       "      <td>RF</td>\n",
       "      <td>500</td>\n",
       "      <td>-1</td>\n",
       "      <td>0.3000</td>\n",
       "      <td>unbalanced</td>\n",
       "      <td>unbalanced</td>\n",
       "      <td>0.297730</td>\n",
       "      <td>0.3000</td>\n",
       "      <td>0.286252</td>\n",
       "    </tr>\n",
       "    <tr>\n",
       "      <th>34</th>\n",
       "      <td>TfIdf-max_features</td>\n",
       "      <td>RF</td>\n",
       "      <td>1300</td>\n",
       "      <td>-1</td>\n",
       "      <td>0.3015</td>\n",
       "      <td>unbalanced</td>\n",
       "      <td>unbalanced</td>\n",
       "      <td>0.303992</td>\n",
       "      <td>0.3015</td>\n",
       "      <td>0.283569</td>\n",
       "    </tr>\n",
       "    <tr>\n",
       "      <th>28</th>\n",
       "      <td>TfIdf-max_features</td>\n",
       "      <td>RF</td>\n",
       "      <td>900</td>\n",
       "      <td>-1</td>\n",
       "      <td>0.3000</td>\n",
       "      <td>unbalanced</td>\n",
       "      <td>unbalanced</td>\n",
       "      <td>0.291907</td>\n",
       "      <td>0.3000</td>\n",
       "      <td>0.278811</td>\n",
       "    </tr>\n",
       "    <tr>\n",
       "      <th>19</th>\n",
       "      <td>TfIdf-max_features</td>\n",
       "      <td>RF</td>\n",
       "      <td>300</td>\n",
       "      <td>-1</td>\n",
       "      <td>0.2905</td>\n",
       "      <td>unbalanced</td>\n",
       "      <td>unbalanced</td>\n",
       "      <td>0.287196</td>\n",
       "      <td>0.2905</td>\n",
       "      <td>0.278512</td>\n",
       "    </tr>\n",
       "    <tr>\n",
       "      <th>31</th>\n",
       "      <td>TfIdf-max_features</td>\n",
       "      <td>RF</td>\n",
       "      <td>1100</td>\n",
       "      <td>-1</td>\n",
       "      <td>0.2940</td>\n",
       "      <td>unbalanced</td>\n",
       "      <td>unbalanced</td>\n",
       "      <td>0.288101</td>\n",
       "      <td>0.2940</td>\n",
       "      <td>0.272539</td>\n",
       "    </tr>\n",
       "    <tr>\n",
       "      <th>13</th>\n",
       "      <td>TfIdf-max_features</td>\n",
       "      <td>RF</td>\n",
       "      <td>85</td>\n",
       "      <td>-1</td>\n",
       "      <td>0.2710</td>\n",
       "      <td>unbalanced</td>\n",
       "      <td>unbalanced</td>\n",
       "      <td>0.259056</td>\n",
       "      <td>0.2710</td>\n",
       "      <td>0.260597</td>\n",
       "    </tr>\n",
       "    <tr>\n",
       "      <th>7</th>\n",
       "      <td>TfIdf-max_features</td>\n",
       "      <td>RF</td>\n",
       "      <td>45</td>\n",
       "      <td>-1</td>\n",
       "      <td>0.2695</td>\n",
       "      <td>unbalanced</td>\n",
       "      <td>unbalanced</td>\n",
       "      <td>0.256002</td>\n",
       "      <td>0.2695</td>\n",
       "      <td>0.258506</td>\n",
       "    </tr>\n",
       "    <tr>\n",
       "      <th>10</th>\n",
       "      <td>TfIdf-max_features</td>\n",
       "      <td>RF</td>\n",
       "      <td>65</td>\n",
       "      <td>-1</td>\n",
       "      <td>0.2650</td>\n",
       "      <td>unbalanced</td>\n",
       "      <td>unbalanced</td>\n",
       "      <td>0.253884</td>\n",
       "      <td>0.2650</td>\n",
       "      <td>0.255671</td>\n",
       "    </tr>\n",
       "    <tr>\n",
       "      <th>16</th>\n",
       "      <td>TfIdf-max_features</td>\n",
       "      <td>RF</td>\n",
       "      <td>100</td>\n",
       "      <td>-1</td>\n",
       "      <td>0.2590</td>\n",
       "      <td>unbalanced</td>\n",
       "      <td>unbalanced</td>\n",
       "      <td>0.247450</td>\n",
       "      <td>0.2590</td>\n",
       "      <td>0.248739</td>\n",
       "    </tr>\n",
       "    <tr>\n",
       "      <th>1</th>\n",
       "      <td>TfIdf-max_features</td>\n",
       "      <td>RF</td>\n",
       "      <td>5</td>\n",
       "      <td>-1</td>\n",
       "      <td>0.2390</td>\n",
       "      <td>unbalanced</td>\n",
       "      <td>unbalanced</td>\n",
       "      <td>0.218780</td>\n",
       "      <td>0.2390</td>\n",
       "      <td>0.225463</td>\n",
       "    </tr>\n",
       "    <tr>\n",
       "      <th>30</th>\n",
       "      <td>TfIdf-max_features</td>\n",
       "      <td>SVM</td>\n",
       "      <td>1100</td>\n",
       "      <td>-1</td>\n",
       "      <td>0.2545</td>\n",
       "      <td>unbalanced</td>\n",
       "      <td>unbalanced</td>\n",
       "      <td>0.267783</td>\n",
       "      <td>0.2545</td>\n",
       "      <td>0.221686</td>\n",
       "    </tr>\n",
       "    <tr>\n",
       "      <th>4</th>\n",
       "      <td>TfIdf-max_features</td>\n",
       "      <td>RF</td>\n",
       "      <td>25</td>\n",
       "      <td>-1</td>\n",
       "      <td>0.2270</td>\n",
       "      <td>unbalanced</td>\n",
       "      <td>unbalanced</td>\n",
       "      <td>0.214137</td>\n",
       "      <td>0.2270</td>\n",
       "      <td>0.218197</td>\n",
       "    </tr>\n",
       "    <tr>\n",
       "      <th>24</th>\n",
       "      <td>TfIdf-max_features</td>\n",
       "      <td>SVM</td>\n",
       "      <td>700</td>\n",
       "      <td>-1</td>\n",
       "      <td>0.2560</td>\n",
       "      <td>unbalanced</td>\n",
       "      <td>unbalanced</td>\n",
       "      <td>0.328903</td>\n",
       "      <td>0.2560</td>\n",
       "      <td>0.188576</td>\n",
       "    </tr>\n",
       "    <tr>\n",
       "      <th>21</th>\n",
       "      <td>TfIdf-max_features</td>\n",
       "      <td>SVM</td>\n",
       "      <td>500</td>\n",
       "      <td>-1</td>\n",
       "      <td>0.2500</td>\n",
       "      <td>unbalanced</td>\n",
       "      <td>unbalanced</td>\n",
       "      <td>0.332515</td>\n",
       "      <td>0.2500</td>\n",
       "      <td>0.176362</td>\n",
       "    </tr>\n",
       "    <tr>\n",
       "      <th>9</th>\n",
       "      <td>TfIdf-max_features</td>\n",
       "      <td>SVM</td>\n",
       "      <td>65</td>\n",
       "      <td>-1</td>\n",
       "      <td>0.2485</td>\n",
       "      <td>unbalanced</td>\n",
       "      <td>unbalanced</td>\n",
       "      <td>0.235515</td>\n",
       "      <td>0.2485</td>\n",
       "      <td>0.165579</td>\n",
       "    </tr>\n",
       "    <tr>\n",
       "      <th>33</th>\n",
       "      <td>TfIdf-max_features</td>\n",
       "      <td>SVM</td>\n",
       "      <td>1300</td>\n",
       "      <td>-1</td>\n",
       "      <td>0.1735</td>\n",
       "      <td>unbalanced</td>\n",
       "      <td>unbalanced</td>\n",
       "      <td>0.332142</td>\n",
       "      <td>0.1735</td>\n",
       "      <td>0.161194</td>\n",
       "    </tr>\n",
       "    <tr>\n",
       "      <th>12</th>\n",
       "      <td>TfIdf-max_features</td>\n",
       "      <td>SVM</td>\n",
       "      <td>85</td>\n",
       "      <td>-1</td>\n",
       "      <td>0.2645</td>\n",
       "      <td>unbalanced</td>\n",
       "      <td>unbalanced</td>\n",
       "      <td>0.349211</td>\n",
       "      <td>0.2645</td>\n",
       "      <td>0.160182</td>\n",
       "    </tr>\n",
       "    <tr>\n",
       "      <th>18</th>\n",
       "      <td>TfIdf-max_features</td>\n",
       "      <td>SVM</td>\n",
       "      <td>300</td>\n",
       "      <td>-1</td>\n",
       "      <td>0.2365</td>\n",
       "      <td>unbalanced</td>\n",
       "      <td>unbalanced</td>\n",
       "      <td>0.311179</td>\n",
       "      <td>0.2365</td>\n",
       "      <td>0.156559</td>\n",
       "    </tr>\n",
       "    <tr>\n",
       "      <th>2</th>\n",
       "      <td>TfIdf-max_features</td>\n",
       "      <td>NB</td>\n",
       "      <td>5</td>\n",
       "      <td>-1</td>\n",
       "      <td>0.1975</td>\n",
       "      <td>unbalanced</td>\n",
       "      <td>unbalanced</td>\n",
       "      <td>0.238068</td>\n",
       "      <td>0.1975</td>\n",
       "      <td>0.152205</td>\n",
       "    </tr>\n",
       "    <tr>\n",
       "      <th>35</th>\n",
       "      <td>TfIdf-max_features</td>\n",
       "      <td>NB</td>\n",
       "      <td>1300</td>\n",
       "      <td>-1</td>\n",
       "      <td>0.1530</td>\n",
       "      <td>unbalanced</td>\n",
       "      <td>unbalanced</td>\n",
       "      <td>0.244763</td>\n",
       "      <td>0.1530</td>\n",
       "      <td>0.147569</td>\n",
       "    </tr>\n",
       "    <tr>\n",
       "      <th>15</th>\n",
       "      <td>TfIdf-max_features</td>\n",
       "      <td>SVM</td>\n",
       "      <td>100</td>\n",
       "      <td>-1</td>\n",
       "      <td>0.1840</td>\n",
       "      <td>unbalanced</td>\n",
       "      <td>unbalanced</td>\n",
       "      <td>0.202618</td>\n",
       "      <td>0.1840</td>\n",
       "      <td>0.146926</td>\n",
       "    </tr>\n",
       "    <tr>\n",
       "      <th>29</th>\n",
       "      <td>TfIdf-max_features</td>\n",
       "      <td>NB</td>\n",
       "      <td>900</td>\n",
       "      <td>-1</td>\n",
       "      <td>0.1475</td>\n",
       "      <td>unbalanced</td>\n",
       "      <td>unbalanced</td>\n",
       "      <td>0.245949</td>\n",
       "      <td>0.1475</td>\n",
       "      <td>0.143238</td>\n",
       "    </tr>\n",
       "    <tr>\n",
       "      <th>32</th>\n",
       "      <td>TfIdf-max_features</td>\n",
       "      <td>NB</td>\n",
       "      <td>1100</td>\n",
       "      <td>-1</td>\n",
       "      <td>0.1485</td>\n",
       "      <td>unbalanced</td>\n",
       "      <td>unbalanced</td>\n",
       "      <td>0.247567</td>\n",
       "      <td>0.1485</td>\n",
       "      <td>0.143153</td>\n",
       "    </tr>\n",
       "    <tr>\n",
       "      <th>3</th>\n",
       "      <td>TfIdf-max_features</td>\n",
       "      <td>SVM</td>\n",
       "      <td>25</td>\n",
       "      <td>-1</td>\n",
       "      <td>0.2245</td>\n",
       "      <td>unbalanced</td>\n",
       "      <td>unbalanced</td>\n",
       "      <td>0.319838</td>\n",
       "      <td>0.2245</td>\n",
       "      <td>0.142249</td>\n",
       "    </tr>\n",
       "    <tr>\n",
       "      <th>26</th>\n",
       "      <td>TfIdf-max_features</td>\n",
       "      <td>NB</td>\n",
       "      <td>700</td>\n",
       "      <td>-1</td>\n",
       "      <td>0.1420</td>\n",
       "      <td>unbalanced</td>\n",
       "      <td>unbalanced</td>\n",
       "      <td>0.246667</td>\n",
       "      <td>0.1420</td>\n",
       "      <td>0.139087</td>\n",
       "    </tr>\n",
       "    <tr>\n",
       "      <th>23</th>\n",
       "      <td>TfIdf-max_features</td>\n",
       "      <td>NB</td>\n",
       "      <td>500</td>\n",
       "      <td>-1</td>\n",
       "      <td>0.1375</td>\n",
       "      <td>unbalanced</td>\n",
       "      <td>unbalanced</td>\n",
       "      <td>0.252300</td>\n",
       "      <td>0.1375</td>\n",
       "      <td>0.134814</td>\n",
       "    </tr>\n",
       "    <tr>\n",
       "      <th>0</th>\n",
       "      <td>TfIdf-max_features</td>\n",
       "      <td>SVM</td>\n",
       "      <td>5</td>\n",
       "      <td>-1</td>\n",
       "      <td>0.2520</td>\n",
       "      <td>unbalanced</td>\n",
       "      <td>unbalanced</td>\n",
       "      <td>0.156227</td>\n",
       "      <td>0.2520</td>\n",
       "      <td>0.128651</td>\n",
       "    </tr>\n",
       "    <tr>\n",
       "      <th>20</th>\n",
       "      <td>TfIdf-max_features</td>\n",
       "      <td>NB</td>\n",
       "      <td>300</td>\n",
       "      <td>-1</td>\n",
       "      <td>0.1280</td>\n",
       "      <td>unbalanced</td>\n",
       "      <td>unbalanced</td>\n",
       "      <td>0.268363</td>\n",
       "      <td>0.1280</td>\n",
       "      <td>0.122602</td>\n",
       "    </tr>\n",
       "    <tr>\n",
       "      <th>17</th>\n",
       "      <td>TfIdf-max_features</td>\n",
       "      <td>NB</td>\n",
       "      <td>100</td>\n",
       "      <td>-1</td>\n",
       "      <td>0.1245</td>\n",
       "      <td>unbalanced</td>\n",
       "      <td>unbalanced</td>\n",
       "      <td>0.311290</td>\n",
       "      <td>0.1245</td>\n",
       "      <td>0.122104</td>\n",
       "    </tr>\n",
       "    <tr>\n",
       "      <th>14</th>\n",
       "      <td>TfIdf-max_features</td>\n",
       "      <td>NB</td>\n",
       "      <td>85</td>\n",
       "      <td>-1</td>\n",
       "      <td>0.1215</td>\n",
       "      <td>unbalanced</td>\n",
       "      <td>unbalanced</td>\n",
       "      <td>0.275826</td>\n",
       "      <td>0.1215</td>\n",
       "      <td>0.118478</td>\n",
       "    </tr>\n",
       "    <tr>\n",
       "      <th>11</th>\n",
       "      <td>TfIdf-max_features</td>\n",
       "      <td>NB</td>\n",
       "      <td>65</td>\n",
       "      <td>-1</td>\n",
       "      <td>0.1155</td>\n",
       "      <td>unbalanced</td>\n",
       "      <td>unbalanced</td>\n",
       "      <td>0.270157</td>\n",
       "      <td>0.1155</td>\n",
       "      <td>0.112762</td>\n",
       "    </tr>\n",
       "    <tr>\n",
       "      <th>6</th>\n",
       "      <td>TfIdf-max_features</td>\n",
       "      <td>SVM</td>\n",
       "      <td>45</td>\n",
       "      <td>-1</td>\n",
       "      <td>0.0975</td>\n",
       "      <td>unbalanced</td>\n",
       "      <td>unbalanced</td>\n",
       "      <td>0.438231</td>\n",
       "      <td>0.0975</td>\n",
       "      <td>0.094278</td>\n",
       "    </tr>\n",
       "    <tr>\n",
       "      <th>5</th>\n",
       "      <td>TfIdf-max_features</td>\n",
       "      <td>NB</td>\n",
       "      <td>25</td>\n",
       "      <td>-1</td>\n",
       "      <td>0.1065</td>\n",
       "      <td>unbalanced</td>\n",
       "      <td>unbalanced</td>\n",
       "      <td>0.273696</td>\n",
       "      <td>0.1065</td>\n",
       "      <td>0.093925</td>\n",
       "    </tr>\n",
       "    <tr>\n",
       "      <th>8</th>\n",
       "      <td>TfIdf-max_features</td>\n",
       "      <td>NB</td>\n",
       "      <td>45</td>\n",
       "      <td>-1</td>\n",
       "      <td>0.1035</td>\n",
       "      <td>unbalanced</td>\n",
       "      <td>unbalanced</td>\n",
       "      <td>0.233939</td>\n",
       "      <td>0.1035</td>\n",
       "      <td>0.091547</td>\n",
       "    </tr>\n",
       "    <tr>\n",
       "      <th>27</th>\n",
       "      <td>TfIdf-max_features</td>\n",
       "      <td>SVM</td>\n",
       "      <td>900</td>\n",
       "      <td>-1</td>\n",
       "      <td>0.0800</td>\n",
       "      <td>unbalanced</td>\n",
       "      <td>unbalanced</td>\n",
       "      <td>0.353895</td>\n",
       "      <td>0.0800</td>\n",
       "      <td>0.084989</td>\n",
       "    </tr>\n",
       "  </tbody>\n",
       "</table>\n",
       "</div>"
      ],
      "text/plain": [
       "                method model n_components n_neighbors  accuracy       train  \\\n",
       "25  TfIdf-max_features    RF          700          -1    0.3095  unbalanced   \n",
       "22  TfIdf-max_features    RF          500          -1    0.3000  unbalanced   \n",
       "34  TfIdf-max_features    RF         1300          -1    0.3015  unbalanced   \n",
       "28  TfIdf-max_features    RF          900          -1    0.3000  unbalanced   \n",
       "19  TfIdf-max_features    RF          300          -1    0.2905  unbalanced   \n",
       "31  TfIdf-max_features    RF         1100          -1    0.2940  unbalanced   \n",
       "13  TfIdf-max_features    RF           85          -1    0.2710  unbalanced   \n",
       "7   TfIdf-max_features    RF           45          -1    0.2695  unbalanced   \n",
       "10  TfIdf-max_features    RF           65          -1    0.2650  unbalanced   \n",
       "16  TfIdf-max_features    RF          100          -1    0.2590  unbalanced   \n",
       "1   TfIdf-max_features    RF            5          -1    0.2390  unbalanced   \n",
       "30  TfIdf-max_features   SVM         1100          -1    0.2545  unbalanced   \n",
       "4   TfIdf-max_features    RF           25          -1    0.2270  unbalanced   \n",
       "24  TfIdf-max_features   SVM          700          -1    0.2560  unbalanced   \n",
       "21  TfIdf-max_features   SVM          500          -1    0.2500  unbalanced   \n",
       "9   TfIdf-max_features   SVM           65          -1    0.2485  unbalanced   \n",
       "33  TfIdf-max_features   SVM         1300          -1    0.1735  unbalanced   \n",
       "12  TfIdf-max_features   SVM           85          -1    0.2645  unbalanced   \n",
       "18  TfIdf-max_features   SVM          300          -1    0.2365  unbalanced   \n",
       "2   TfIdf-max_features    NB            5          -1    0.1975  unbalanced   \n",
       "35  TfIdf-max_features    NB         1300          -1    0.1530  unbalanced   \n",
       "15  TfIdf-max_features   SVM          100          -1    0.1840  unbalanced   \n",
       "29  TfIdf-max_features    NB          900          -1    0.1475  unbalanced   \n",
       "32  TfIdf-max_features    NB         1100          -1    0.1485  unbalanced   \n",
       "3   TfIdf-max_features   SVM           25          -1    0.2245  unbalanced   \n",
       "26  TfIdf-max_features    NB          700          -1    0.1420  unbalanced   \n",
       "23  TfIdf-max_features    NB          500          -1    0.1375  unbalanced   \n",
       "0   TfIdf-max_features   SVM            5          -1    0.2520  unbalanced   \n",
       "20  TfIdf-max_features    NB          300          -1    0.1280  unbalanced   \n",
       "17  TfIdf-max_features    NB          100          -1    0.1245  unbalanced   \n",
       "14  TfIdf-max_features    NB           85          -1    0.1215  unbalanced   \n",
       "11  TfIdf-max_features    NB           65          -1    0.1155  unbalanced   \n",
       "6   TfIdf-max_features   SVM           45          -1    0.0975  unbalanced   \n",
       "5   TfIdf-max_features    NB           25          -1    0.1065  unbalanced   \n",
       "8   TfIdf-max_features    NB           45          -1    0.1035  unbalanced   \n",
       "27  TfIdf-max_features   SVM          900          -1    0.0800  unbalanced   \n",
       "\n",
       "          test  precision  recall        f1  \n",
       "25  unbalanced   0.306245  0.3095  0.291583  \n",
       "22  unbalanced   0.297730  0.3000  0.286252  \n",
       "34  unbalanced   0.303992  0.3015  0.283569  \n",
       "28  unbalanced   0.291907  0.3000  0.278811  \n",
       "19  unbalanced   0.287196  0.2905  0.278512  \n",
       "31  unbalanced   0.288101  0.2940  0.272539  \n",
       "13  unbalanced   0.259056  0.2710  0.260597  \n",
       "7   unbalanced   0.256002  0.2695  0.258506  \n",
       "10  unbalanced   0.253884  0.2650  0.255671  \n",
       "16  unbalanced   0.247450  0.2590  0.248739  \n",
       "1   unbalanced   0.218780  0.2390  0.225463  \n",
       "30  unbalanced   0.267783  0.2545  0.221686  \n",
       "4   unbalanced   0.214137  0.2270  0.218197  \n",
       "24  unbalanced   0.328903  0.2560  0.188576  \n",
       "21  unbalanced   0.332515  0.2500  0.176362  \n",
       "9   unbalanced   0.235515  0.2485  0.165579  \n",
       "33  unbalanced   0.332142  0.1735  0.161194  \n",
       "12  unbalanced   0.349211  0.2645  0.160182  \n",
       "18  unbalanced   0.311179  0.2365  0.156559  \n",
       "2   unbalanced   0.238068  0.1975  0.152205  \n",
       "35  unbalanced   0.244763  0.1530  0.147569  \n",
       "15  unbalanced   0.202618  0.1840  0.146926  \n",
       "29  unbalanced   0.245949  0.1475  0.143238  \n",
       "32  unbalanced   0.247567  0.1485  0.143153  \n",
       "3   unbalanced   0.319838  0.2245  0.142249  \n",
       "26  unbalanced   0.246667  0.1420  0.139087  \n",
       "23  unbalanced   0.252300  0.1375  0.134814  \n",
       "0   unbalanced   0.156227  0.2520  0.128651  \n",
       "20  unbalanced   0.268363  0.1280  0.122602  \n",
       "17  unbalanced   0.311290  0.1245  0.122104  \n",
       "14  unbalanced   0.275826  0.1215  0.118478  \n",
       "11  unbalanced   0.270157  0.1155  0.112762  \n",
       "6   unbalanced   0.438231  0.0975  0.094278  \n",
       "5   unbalanced   0.273696  0.1065  0.093925  \n",
       "8   unbalanced   0.233939  0.1035  0.091547  \n",
       "27  unbalanced   0.353895  0.0800  0.084989  "
      ]
     },
     "execution_count": 16,
     "metadata": {},
     "output_type": "execute_result"
    }
   ],
   "source": [
    "df.sort_values(\"f1\", ascending = False)"
   ]
  },
  {
   "cell_type": "markdown",
   "id": "e03b6ae0",
   "metadata": {},
   "source": [
    "# Best models"
   ]
  },
  {
   "cell_type": "code",
   "execution_count": 19,
   "id": "5a498597",
   "metadata": {},
   "outputs": [],
   "source": [
    "from sklearn.metrics import f1_score"
   ]
  },
  {
   "cell_type": "code",
   "execution_count": 20,
   "id": "9057e22f",
   "metadata": {},
   "outputs": [
    {
     "name": "stdout",
     "output_type": "stream",
     "text": [
      "[0.2173913  0.29166667 0.2206655  0.2173913  0.43147208 0.37025562\n",
      " 0.26294821 0.27272727 0.11494253 0.19263456]\n",
      "['advice' 'art' 'discussion' 'media' 'meme' 'other' 'rant' 'relationship'\n",
      " 'serious' 'social']\n"
     ]
    }
   ],
   "source": [
    "i = 700\n",
    "\n",
    "vectorizer1 = TfidfVectorizer(stop_words = 'english', max_features=i)\n",
    "vectorizer2 = TfidfVectorizer(stop_words = 'english', max_features=i)\n",
    "\n",
    "\n",
    "X_pcab, y_trainb = datasetToTfIdfPredictorsAndLabels(X__train, vectorizer1, vectorizer2)\n",
    "X_pca_testb, y_testb = datasetToTfIdfPredictorsAndLabelsForTest(X__test, vectorizer1, vectorizer2)\n",
    "\n",
    "\n",
    "loaded_model = pickle.load(open(\"rf_model_700.sav\", 'rb'))\n",
    "\n",
    "\n",
    "model_pred = loaded_model.predict(X_pca_testb)\n",
    "\n",
    "rf_proba = loaded_model.predict_proba(X_pca_testb)\n",
    "\n",
    "rf_f1_scores = f1_score(y_testb, model_pred, average = None, labels=np.unique(y_testb))\n",
    "\n",
    "print(rf_f1_scores)\n",
    "print(np.unique(y_testb))\n",
    "\n",
    "pd.DataFrame(rf_proba).to_csv(\"rf_proba.csv\")\n",
    "pd.DataFrame(rf_f1_scores).to_csv(\"rf_f1_scores.csv\")\n"
   ]
  },
  {
   "cell_type": "code",
   "execution_count": 22,
   "id": "f5cb4c40",
   "metadata": {},
   "outputs": [
    {
     "name": "stderr",
     "output_type": "stream",
     "text": [
      "C:\\Users\\Patryk\\anaconda3\\lib\\site-packages\\sklearn\\utils\\validation.py:63: DataConversionWarning: A column-vector y was passed when a 1d array was expected. Please change the shape of y to (n_samples, ), for example using ravel().\n",
      "  return f(*args, **kwargs)\n",
      "C:\\Users\\Patryk\\anaconda3\\lib\\site-packages\\sklearn\\svm\\_base.py:985: ConvergenceWarning: Liblinear failed to converge, increase the number of iterations.\n",
      "  warnings.warn(\"Liblinear failed to converge, increase \"\n",
      "C:\\Users\\Patryk\\anaconda3\\lib\\site-packages\\sklearn\\svm\\_base.py:985: ConvergenceWarning: Liblinear failed to converge, increase the number of iterations.\n",
      "  warnings.warn(\"Liblinear failed to converge, increase \"\n",
      "C:\\Users\\Patryk\\anaconda3\\lib\\site-packages\\sklearn\\svm\\_base.py:985: ConvergenceWarning: Liblinear failed to converge, increase the number of iterations.\n",
      "  warnings.warn(\"Liblinear failed to converge, increase \"\n",
      "C:\\Users\\Patryk\\anaconda3\\lib\\site-packages\\sklearn\\svm\\_base.py:985: ConvergenceWarning: Liblinear failed to converge, increase the number of iterations.\n",
      "  warnings.warn(\"Liblinear failed to converge, increase \"\n",
      "C:\\Users\\Patryk\\anaconda3\\lib\\site-packages\\sklearn\\svm\\_base.py:985: ConvergenceWarning: Liblinear failed to converge, increase the number of iterations.\n",
      "  warnings.warn(\"Liblinear failed to converge, increase \"\n"
     ]
    },
    {
     "name": "stdout",
     "output_type": "stream",
     "text": [
      "[0.         0.20512821 0.         0.02898551 0.41586538 0.36730471\n",
      " 0.07185629 0.18691589 0.         0.0083682 ]\n",
      "['advice' 'art' 'discussion' 'media' 'meme' 'other' 'rant' 'relationship'\n",
      " 'serious' 'social']\n"
     ]
    }
   ],
   "source": [
    "from sklearn.calibration import CalibratedClassifierCV\n",
    "\n",
    "i = 1100\n",
    "\n",
    "vectorizer1 = TfidfVectorizer(stop_words = 'english', max_features=i)\n",
    "vectorizer2 = TfidfVectorizer(stop_words = 'english', max_features=i)\n",
    "\n",
    "\n",
    "X_pcab, y_trainb = datasetToTfIdfPredictorsAndLabels(X__train, vectorizer1, vectorizer2)\n",
    "X_pca_testb, y_testb = datasetToTfIdfPredictorsAndLabelsForTest(X__test, vectorizer1, vectorizer2)\n",
    "\n",
    "\n",
    "loaded_model = CalibratedClassifierCV(pickle.load(open(\"svm_model_1100.sav\", 'rb')))\n",
    "\n",
    "loaded_model.fit(X_pcab, y_trainb)\n",
    "\n",
    "model_pred = loaded_model.predict(X_pca_testb)\n",
    "\n",
    "svm_proba = loaded_model.predict_proba(X_pca_testb)\n",
    "\n",
    "svm_f1_scores = f1_score(y_testb, model_pred, average = None, labels=np.unique(y_testb))\n",
    "\n",
    "print(svm_f1_scores)\n",
    "print(np.unique(y_testb))\n",
    "\n",
    "pd.DataFrame(svm_proba).to_csv(\"svm_proba.csv\")\n",
    "pd.DataFrame(svm_f1_scores).to_csv(\"svm_f1_scores.csv\")\n",
    "\n"
   ]
  },
  {
   "cell_type": "code",
   "execution_count": 23,
   "id": "d1d50ca4",
   "metadata": {},
   "outputs": [
    {
     "name": "stdout",
     "output_type": "stream",
     "text": [
      "[0.0887372  0.02666667 0.04294479 0.09034908 0.37074584 0.16474465\n",
      " 0.224      0.01801802 0.         0.0994152 ]\n",
      "['advice' 'art' 'discussion' 'media' 'meme' 'other' 'rant' 'relationship'\n",
      " 'serious' 'social']\n"
     ]
    }
   ],
   "source": [
    "i = 5\n",
    "\n",
    "vectorizer1 = TfidfVectorizer(stop_words = 'english', max_features=i)\n",
    "vectorizer2 = TfidfVectorizer(stop_words = 'english', max_features=i)\n",
    "\n",
    "\n",
    "X_pcab, y_trainb = datasetToTfIdfPredictorsAndLabels(X__train, vectorizer1, vectorizer2)\n",
    "X_pca_testb, y_testb = datasetToTfIdfPredictorsAndLabelsForTest(X__test, vectorizer1, vectorizer2)\n",
    "\n",
    "\n",
    "loaded_model = pickle.load(open(\"nb_model_5.sav\", 'rb'))\n",
    "\n",
    "\n",
    "model_pred = loaded_model.predict(X_pca_testb)\n",
    "\n",
    "nb_proba = loaded_model.predict_proba(X_pca_testb)\n",
    "\n",
    "nb_f1_scores = f1_score(y_testb, model_pred, average = None, labels=np.unique(y_testb))\n",
    "\n",
    "print(nb_f1_scores)\n",
    "print(np.unique(y_testb))\n",
    "\n",
    "pd.DataFrame(nb_proba).to_csv(\"nb_proba.csv\")\n",
    "pd.DataFrame(nb_f1_scores).to_csv(\"nb_f1_scores.csv\")\n"
   ]
  }
 ],
 "metadata": {
  "kernelspec": {
   "display_name": "Python 3 (ipykernel)",
   "language": "python",
   "name": "python3"
  },
  "language_info": {
   "codemirror_mode": {
    "name": "ipython",
    "version": 3
   },
   "file_extension": ".py",
   "mimetype": "text/x-python",
   "name": "python",
   "nbconvert_exporter": "python",
   "pygments_lexer": "ipython3",
   "version": "3.9.7"
  }
 },
 "nbformat": 4,
 "nbformat_minor": 5
}
