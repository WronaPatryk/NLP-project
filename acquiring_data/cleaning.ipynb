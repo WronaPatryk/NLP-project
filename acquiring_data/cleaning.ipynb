{
 "cells": [
  {
   "cell_type": "code",
   "execution_count": 2,
   "metadata": {},
   "outputs": [],
   "source": [
    "import pandas as pd\n",
    "import numpy as np"
   ]
  },
  {
   "cell_type": "code",
   "execution_count": 2,
   "metadata": {},
   "outputs": [
    {
     "name": "stderr",
     "output_type": "stream",
     "text": [
      "/usr/lib/python3/dist-packages/IPython/core/interactiveshell.py:3062: DtypeWarning: Columns (10) have mixed types.Specify dtype option on import or set low_memory=False.\n",
      "  has_raised = await self.run_ast_nodes(code_ast.body, cell_name,\n"
     ]
    }
   ],
   "source": [
    "teenagers = pd.read_csv(\"teenagers_all.csv\")"
   ]
  },
  {
   "cell_type": "code",
   "execution_count": 3,
   "metadata": {},
   "outputs": [
    {
     "data": {
      "text/plain": [
       "Index(['Unnamed: 0', 'Unnamed: 0.1', 'subreddit', 'link_flair_text', 'title',\n",
       "       'selftext', 'score', 'url', 'num_comments', 'created_utc', 'is_self',\n",
       "       'num_crossposts'],\n",
       "      dtype='object')"
      ]
     },
     "execution_count": 3,
     "metadata": {},
     "output_type": "execute_result"
    }
   ],
   "source": [
    "teenagers.columns"
   ]
  },
  {
   "cell_type": "code",
   "execution_count": 4,
   "metadata": {},
   "outputs": [],
   "source": [
    "teenagers[\"time\"] = pd.to_datetime(teenagers[\"created_utc\"], unit='s')"
   ]
  },
  {
   "cell_type": "code",
   "execution_count": 11,
   "metadata": {},
   "outputs": [
    {
     "data": {
      "text/plain": [
       "<matplotlib.axes._subplots.AxesSubplot at 0x7f7b5a268220>"
      ]
     },
     "execution_count": 11,
     "metadata": {},
     "output_type": "execute_result"
    },
    {
     "data": {
      "image/png": "[encoded data removed]",
      "text/plain": [
       "<Figure size 432x288 with 1 Axes>"
      ]
     },
     "metadata": {
      "needs_background": "light"
     },
     "output_type": "display_data"
    }
   ],
   "source": [
    "teenagers[\"time\"].hist()"
   ]
  },
  {
   "cell_type": "code",
   "execution_count": 3,
   "metadata": {},
   "outputs": [
    {
     "name": "stderr",
     "output_type": "stream",
     "text": [
      "/usr/lib/python3/dist-packages/IPython/core/interactiveshell.py:3062: DtypeWarning: Columns (10) have mixed types.Specify dtype option on import or set low_memory=False.\n",
      "  has_raised = await self.run_ast_nodes(code_ast.body, cell_name,\n"
     ]
    }
   ],
   "source": [
    "amitheasshole = pd.read_csv(\"AmItheAsshole_all.csv\")"
   ]
  },
  {
   "cell_type": "code",
   "execution_count": 4,
   "metadata": {},
   "outputs": [],
   "source": [
    "amitheasshole[\"time\"] = pd.to_datetime(amitheasshole[\"created_utc\"], unit='s')"
   ]
  },
  {
   "cell_type": "code",
   "execution_count": 15,
   "metadata": {},
   "outputs": [
    {
     "data": {
      "text/plain": [
       "<matplotlib.axes._subplots.AxesSubplot at 0x7f7b5a11b280>"
      ]
     },
     "execution_count": 15,
     "metadata": {},
     "output_type": "execute_result"
    },
    {
     "data": {
      "image/png": "[encoded data removed]",
      "text/plain": [
       "<Figure size 432x288 with 1 Axes>"
      ]
     },
     "metadata": {
      "needs_background": "light"
     },
     "output_type": "display_data"
    }
   ],
   "source": [
    "amitheasshole[\"time\"].hist()"
   ]
  },
  {
   "cell_type": "code",
   "execution_count": 28,
   "metadata": {},
   "outputs": [],
   "source": [
    "teenagers[\"link_flair_text\"] = teenagers[\"link_flair_text\"].str.lower()"
   ]
  },
  {
   "cell_type": "code",
   "execution_count": 5,
   "metadata": {},
   "outputs": [],
   "source": [
    "amitheasshole[\"link_flair_text\"] = amitheasshole[\"link_flair_text\"].str.lower()"
   ]
  },
  {
   "cell_type": "code",
   "execution_count": 29,
   "metadata": {},
   "outputs": [
    {
     "data": {
      "text/plain": [
       "link_flair_text\n",
       "other               1272472\n",
       "meme                1139455\n",
       "discussion           840735\n",
       "social               605854\n",
       "advice               335846\n",
       "rant                 325298\n",
       "serious              277839\n",
       "relationship         176865\n",
       "media                127993\n",
       "art                   86526\n",
       "ama                    2302\n",
       "mod                     433\n",
       "verified                 74\n",
       "verified ama              7\n",
       "happy birthday 🎉          6\n",
       "Name: link_flair_text, dtype: int64"
      ]
     },
     "execution_count": 29,
     "metadata": {},
     "output_type": "execute_result"
    }
   ],
   "source": [
    "teenagers.groupby(\"link_flair_text\")[\"link_flair_text\"].count().sort_values(ascending=False).head(15)"
   ]
  },
  {
   "cell_type": "code",
   "execution_count": 6,
   "metadata": {},
   "outputs": [
    {
     "data": {
      "text/plain": [
       "['Other',\n",
       " 'Meme',\n",
       " 'Discussion',\n",
       " 'Social',\n",
       " 'Advice',\n",
       " 'Rant',\n",
       " 'Serious',\n",
       " 'Relationship',\n",
       " 'Media',\n",
       " 'Art']"
      ]
     },
     "execution_count": 6,
     "metadata": {},
     "output_type": "execute_result"
    }
   ],
   "source": [
    "common_flairs_t = teenagers[\"link_flair_text\"].value_counts()[:10].index.tolist()\n",
    "common_flairs_t"
   ]
  },
  {
   "cell_type": "code",
   "execution_count": 43,
   "metadata": {},
   "outputs": [
    {
     "data": {
      "text/plain": [
       "array(['discussion', 'other', nan, 'media', 'social', 'serious', 'rant',\n",
       "       'advice', 'relationship', 'meme', 'mod', 'why.', 'not official',\n",
       "       'mod post', 'mod update', 'ama', 'esskeetit',\n",
       "       \"reports from /r/all don't work\", 'real shit',\n",
       "       'real political shit', 'juul room', 'is this loss?', 'ok too far',\n",
       "       'learn to crop', 'roll tide', 'mod ', 'team gibby',\n",
       "       'fucking open it', \"santa isn't real\", 'drama alert', 'bamboozle?',\n",
       "       'learn how to use word', 'real fucking shit',\n",
       "       \"friendzone isn't real\", 'fbi open up!', 'good response',\n",
       "       \"hey, it's hannah baker.\", 'title grammatically correct',\n",
       "       \"that's not introversion\", '🐹 ', 'op is a big ole fakerrrr',\n",
       "       'happy birthday!!', 'fucking awesome', '200 iq play',\n",
       "       'happy birthday 🎂', 'kahoot ', 'verified ama',\n",
       "       'frequently discussed', 'x = 16', 'instagram stories instead',\n",
       "       'happy birthday 🎉', '🎉🎉 happy birthday 🎉🎉', 'big meme',\n",
       "       '\"latino female\"', \"i'm in bois \", 'ok this is good', 'o shit',\n",
       "       'hol up', 'delet this', \"it's actually the 9th\", 'wtf op ',\n",
       "       \"it's f\", 'absolute unit', '#boycottpepsi', '#boycottsuperbowl',\n",
       "       'uncool flair ', 'this is it', 'happy birthday!! 🎉',\n",
       "       'rip honeypot ❤️', 'cute cat 🐱', 'cute doggos 🐶', 'rip wii shop ',\n",
       "       'rip frosty ⛄', 'cute af 🐀', 'happy birthday! 🎉', 'flair shamed ',\n",
       "       'serious - rip max ❤', 'serious - rip ❤️', 'op why',\n",
       "       'serious - rip timothy &lt;3', 'spoiler inside watch out ',\n",
       "       'discussion ', 'discussion - spoilers inside ', 'tgn', 'art',\n",
       "       'test', 'shitpost', 'kek', 'i hate u all',\n",
       "       'meme so hard mofuckas wanna fine me', '/r/all lets go',\n",
       "       'get your flairs', 'verified', 'godspeed', 'bruh',\n",
       "       'certified dank', 'discord', 'fucking lol', 'k', 'proper shitpost',\n",
       "       'discord mod', 'cabbage lord'], dtype=object)"
      ]
     },
     "execution_count": 43,
     "metadata": {},
     "output_type": "execute_result"
    }
   ],
   "source": [
    "teenagers[\"link_flair_text\"].unique()"
   ]
  },
  {
   "cell_type": "code",
   "execution_count": 59,
   "metadata": {},
   "outputs": [
    {
     "data": {
      "text/plain": [
       "0.04699264475082648"
      ]
     },
     "execution_count": 59,
     "metadata": {},
     "output_type": "execute_result"
    }
   ],
   "source": [
    "np.mean(pd.isnull(teenagers[\"link_flair_text\"]))"
   ]
  },
  {
   "cell_type": "code",
   "execution_count": 53,
   "metadata": {},
   "outputs": [
    {
     "data": {
      "text/plain": [
       "link_flair_text\n",
       "not the a-hole       222416\n",
       "asshole               73314\n",
       "no a-holes here       36657\n",
       "everyone sucks        21130\n",
       "not enough info        9595\n",
       "update                 3131\n",
       "meta                   1278\n",
       "tl;dr                  1173\n",
       "shitpost                473\n",
       "no a--holes here        355\n",
       "not the asshole         274\n",
       "too close to call       155\n",
       "troll                    24\n",
       "probably fake            22\n",
       "50/50                    22\n",
       "Name: link_flair_text, dtype: int64"
      ]
     },
     "execution_count": 53,
     "metadata": {},
     "output_type": "execute_result"
    }
   ],
   "source": [
    "amitheasshole.groupby(\"link_flair_text\")[\"link_flair_text\"].count().sort_values(ascending=False).head(15)"
   ]
  },
  {
   "cell_type": "code",
   "execution_count": 6,
   "metadata": {},
   "outputs": [
    {
     "data": {
      "text/plain": [
       "['not the a-hole',\n",
       " 'asshole',\n",
       " 'no a-holes here',\n",
       " 'everyone sucks',\n",
       " 'not enough info',\n",
       " 'update',\n",
       " 'meta',\n",
       " 'tl;dr']"
      ]
     },
     "execution_count": 6,
     "metadata": {},
     "output_type": "execute_result"
    }
   ],
   "source": [
    "common_flairs_a = amitheasshole[\"link_flair_text\"].value_counts()[:8].index.tolist()\n",
    "common_flairs_a"
   ]
  },
  {
   "cell_type": "code",
   "execution_count": 60,
   "metadata": {},
   "outputs": [
    {
     "data": {
      "text/plain": [
       "0.6136497669155541"
      ]
     },
     "execution_count": 60,
     "metadata": {},
     "output_type": "execute_result"
    }
   ],
   "source": [
    "np.mean(pd.isnull(amitheasshole[\"link_flair_text\"]))"
   ]
  },
  {
   "cell_type": "code",
   "execution_count": 63,
   "metadata": {},
   "outputs": [
    {
     "data": {
      "text/plain": [
       "<matplotlib.axes._subplots.AxesSubplot at 0x7f7b5a043eb0>"
      ]
     },
     "execution_count": 63,
     "metadata": {},
     "output_type": "execute_result"
    },
    {
     "data": {
      "image/png": "[encoded data removed]",
      "text/plain": [
       "<Figure size 432x288 with 1 Axes>"
      ]
     },
     "metadata": {
      "needs_background": "light"
     },
     "output_type": "display_data"
    }
   ],
   "source": [
    "amitheasshole[pd.isnull(amitheasshole[\"link_flair_text\"])][\"time\"].hist()"
   ]
  },
  {
   "cell_type": "code",
   "execution_count": 69,
   "metadata": {},
   "outputs": [
    {
     "data": {
      "text/plain": [
       "<matplotlib.axes._subplots.AxesSubplot at 0x7f7ab6b36940>"
      ]
     },
     "execution_count": 69,
     "metadata": {},
     "output_type": "execute_result"
    },
    {
     "data": {
      "image/png": "[encoded data removed]",
      "text/plain": [
       "<Figure size 432x288 with 1 Axes>"
      ]
     },
     "metadata": {
      "needs_background": "light"
     },
     "output_type": "display_data"
    }
   ],
   "source": [
    "amitheasshole[(amitheasshole[\"link_flair_text\"]).notnull()][\"time\"].hist()"
   ]
  },
  {
   "cell_type": "code",
   "execution_count": 77,
   "metadata": {},
   "outputs": [
    {
     "data": {
      "text/plain": [
       "array(['A few weekends ago my friend got too drunk and too riled up and tried to fight another guy at a party. The whole situation got way out of hand and he just stayed insanely pissed off and we could not calm him down and then he got in his car and drove off with another friend. I threatened to call the police because he was so mad. My reasoning was that if he had gone out and hurt someone by accident, we would all be kicking ourselves for letting him go and if this had happened with someone else and one of our friends had been hurt we would be pissed. So yeah. Am I the asshole? ',\n",
       "       nan,\n",
       "       \"My wife lied to me about being home when she really was at her parents house.  I was working late and on my way home i called her to let her know i was coming home.  She said she was at home and i let her know i would be home soon.  When I got home, she was not there so I called her. She claimed she was at the gas station getting gas.  I called her out on that because she never makes a specific trip to go get gas.  She insisted that she went to the gas station repeatedly until she gave up and admitted she was at her parents house.  \\n\\nAm I the Asshole for being angry with her for lying?  She claims that she lied because I am always upset that she is at her parents house.  I do get annoyed/frustrated with the frequency of her visits with her parents.  I think her going to her parents house several times a week when there are things to be done at the house is annoying.  Especially, when I am doing the brunt of the house work and I frequently work late.  \\n\\nAnd no, I know she isn't cheating on me.  \"],\n",
       "      dtype=object)"
      ]
     },
     "execution_count": 77,
     "metadata": {},
     "output_type": "execute_result"
    }
   ],
   "source": [
    "amitheasshole[pd.isnull(amitheasshole[\"link_flair_text\"])][\"selftext\"][0:3].values"
   ]
  },
  {
   "cell_type": "code",
   "execution_count": 7,
   "metadata": {},
   "outputs": [],
   "source": [
    "amitheasshole = amitheasshole[amitheasshole[\"link_flair_text\"].isin(common_flairs_a)]"
   ]
  },
  {
   "cell_type": "code",
   "execution_count": 7,
   "metadata": {},
   "outputs": [],
   "source": [
    "teenagers = teenagers[teenagers[\"link_flair_text\"].isin(common_flairs_t)]"
   ]
  },
  {
   "cell_type": "code",
   "execution_count": 91,
   "metadata": {},
   "outputs": [
    {
     "ename": "TypeError",
     "evalue": "tuple indices must be integers or slices, not str",
     "output_type": "error",
     "traceback": [
      "\u001b[0;31m---------------------------------------------------------------------------\u001b[0m",
      "\u001b[0;31mTypeError\u001b[0m                                 Traceback (most recent call last)",
      "\u001b[0;32m<ipython-input-91-fa4d300da28a>\u001b[0m in \u001b[0;36m<module>\u001b[0;34m\u001b[0m\n\u001b[0;32m----> 1\u001b[0;31m \u001b[0mteenagers\u001b[0m\u001b[0;34m[\u001b[0m\u001b[0;34m\"link_flair_text\"\u001b[0m\u001b[0;34m]\u001b[0m\u001b[0;34m.\u001b[0m\u001b[0mvalue_counts\u001b[0m\u001b[0;34m(\u001b[0m\u001b[0;34m)\u001b[0m\u001b[0;34m[\u001b[0m\u001b[0;34m:\u001b[0m\u001b[0;36m8\u001b[0m\u001b[0;34m]\u001b[0m\u001b[0;34m.\u001b[0m\u001b[0mindex\u001b[0m\u001b[0;34m.\u001b[0m\u001b[0mtolist\u001b[0m\u001b[0;34m(\u001b[0m\u001b[0;34m)\u001b[0m\u001b[0;34m\u001b[0m\u001b[0;34m\u001b[0m\u001b[0m\n\u001b[0m",
      "\u001b[0;31mTypeError\u001b[0m: tuple indices must be integers or slices, not str"
     ]
    }
   ],
   "source": [
    "teenagers[\"link_flair_text\"].value_counts()[:8].index.tolist()"
   ]
  },
  {
   "cell_type": "code",
   "execution_count": 95,
   "metadata": {},
   "outputs": [
    {
     "data": {
      "text/plain": [
       "title\n",
       "AITA                                              120\n",
       "AITA?                                              51\n",
       "AITA for yelling at my mom?                        45\n",
       "AITA for wanting to move out?                      44\n",
       "AITA for moving out?                               38\n",
       "AITA for not tipping?                              37\n",
       "AITA for making my mom cry?                        30\n",
       "AITA for ignoring my friend?                       27\n",
       "AITA for ghosting my friend?                       27\n",
       "AITA for not apologizing?                          26\n",
       "AITA for getting mad at my friend?                 26\n",
       "AITA for being mad at my friend?                   25\n",
       "AITA for not wanting to celebrate my birthday?     25\n",
       "AITA for making a joke?                            25\n",
       "AITA for yelling at my sister?                     24\n",
       "Name: title, dtype: int64"
      ]
     },
     "execution_count": 95,
     "metadata": {},
     "output_type": "execute_result"
    }
   ],
   "source": [
    "amitheasshole.groupby(\"title\")[\"title\"].count().sort_values(ascending=False).head(15)"
   ]
  },
  {
   "cell_type": "code",
   "execution_count": 9,
   "metadata": {},
   "outputs": [
    {
     "data": {
      "text/plain": [
       "title\n",
       "Help                    4230\n",
       "Nice                    3271\n",
       "I need help             2879\n",
       "An interesting title    2665\n",
       "Hi                      2193\n",
       "Anyone wanna chat?      1885\n",
       "Bruh                    1755\n",
       "Hello                   1491\n",
       "It do be like that      1389\n",
       "Anyone wanna talk?      1324\n",
       "Hey                     1302\n",
       "Yes                     1195\n",
       "Selfie thread           1173\n",
       "Oof                     1146\n",
       "help                    1115\n",
       "Name: title, dtype: int64"
      ]
     },
     "execution_count": 9,
     "metadata": {},
     "output_type": "execute_result"
    }
   ],
   "source": [
    "teenagers.groupby(\"title\")[\"title\"].count().sort_values(ascending=False).head(15)"
   ]
  },
  {
   "cell_type": "code",
   "execution_count": 10,
   "metadata": {},
   "outputs": [
    {
     "data": {
      "text/plain": [
       "selftext\n",
       "[deleted]                    1391738\n",
       "[removed]                     494751\n",
       "Change my mind                  1128\n",
       "Title                            982\n",
       "Help                             909\n",
       ":(                               850\n",
       "Who up?                          640\n",
       ":)                               585\n",
       "Nice                             584\n",
       "That is all                      571\n",
       "F                                537\n",
       "Bottom text                      492\n",
       "help                             481\n",
       "title                            480\n",
       "Your text post (optional)        428\n",
       "Name: selftext, dtype: int64"
      ]
     },
     "execution_count": 10,
     "metadata": {},
     "output_type": "execute_result"
    }
   ],
   "source": [
    "teenagers.groupby(\"selftext\")[\"selftext\"].count().sort_values(ascending=False).head(15)"
   ]
  },
  {
   "cell_type": "code",
   "execution_count": 14,
   "metadata": {},
   "outputs": [
    {
     "data": {
      "text/plain": [
       "selftext\n",
       "[removed]    507888\n",
       "[deleted]    151481\n",
       ".                59\n",
       "Deleted          19\n",
       "Name: selftext, dtype: int64"
      ]
     },
     "execution_count": 14,
     "metadata": {},
     "output_type": "execute_result"
    }
   ],
   "source": [
    "amitheasshole.groupby(\"selftext\")[\"selftext\"].count().sort_values(ascending=False).head(4)"
   ]
  },
  {
   "cell_type": "code",
   "execution_count": 15,
   "metadata": {},
   "outputs": [
    {
     "data": {
      "text/plain": [
       "selftext\n",
       "[removed]                                                                                                                                                                                                                                                                                                                                                                                                                                                                                                                                                                                                                                                                                                                                                                                                                                                                                                                                                                                                                                                                                                                                                                                                                                                                                                                                                                                                                                                                                                                                                                                                                                                                                                                                                                                                                                                                                                                                                                       507888\n",
       "[deleted]                                                                                                                                                                                                                                                                                                                                                                                                                                                                                                                                                                                                                                                                                                                                                                                                                                                                                                                                                                                                                                                                                                                                                                                                                                                                                                                                                                                                                                                                                                                                                                                                                                                                                                                                                                                                                                                                                                                                                                       151481\n",
       ".                                                                                                                                                                                                                                                                                                                                                                                                                                                                                                                                                                                                                                                                                                                                                                                                                                                                                                                                                                                                                                                                                                                                                                                                                                                                                                                                                                                                                                                                                                                                                                                                                                                                                                                                                                                                                                                                                                                                                                                   59\n",
       "Deleted                                                                                                                                                                                                                                                                                                                                                                                                                                                                                                                                                                                                                                                                                                                                                                                                                                                                                                                                                                                                                                                                                                                                                                                                                                                                                                                                                                                                                                                                                                                                                                                                                                                                                                                                                                                                                                                                                                                                                                             19\n",
       "So me and my boyfriend have a beautiful ragdoll rescue cat. He does seem to favour me more but I think that's just because his previous owner who was a male wasn't too nice to him.\\nWhen I woke up today after my night shift my boyfriend told me the cat has pooed and weed on the floor. I said well yeah if his litter tray is not clean he will not use it. I've told him this before, he knows this information.\\nAnyway I dropped him off at work and he told me he 'did that thing where you put their face in the wee so they don't do it again'. Well I absolutely lost it, I was furious that he'd do that, I actually thought he was joking I couldn't believe he was serious. Obviously I know that was ridiculous, I did study animal management in college.\\nSo I shouted at him no wonder he likes me more than you. Obviously I know he was the total asshoke for what he did. But was I wrong for the cheap shot?\\nHe has since apologised and said he'd never do it again he just thought that's what you do to prevent accidents happening again.                                                                                                                                                                                                                                                                                                                                                                                                                                                                                                                                                                                                                                                                                                                                                                                                                                                                                                             19\n",
       "He never introduced us in 26 years (my whole life) and I didn't go. AITA?                                                                                                                                                                                                                                                                                                                                                                                                                                                                                                                                                                                                                                                                                                                                                                                                                                                                                                                                                                                                                                                                                                                                                                                                                                                                                                                                                                                                                                                                                                                                                                                                                                                                                                                                                                                                                                                                                                           15\n",
       "Like many people, I have been working from home for the last couple of months.  I recently was allowed to go into my workplace to get my monitors so that I can use the dual screen setup, since it's a pain having only 1 screen to do my job.  The only place I have where I can put these monitors is on my kitchen table.  I only have a few kitchen chairs, my couch, and a big comfy chair that would not fit at my table.  These chairs make my back hurt if I sit in them for more than half an hour, and it continues hurting long after.\\n\\nMy parents, who live nearby, have a few office chairs in the computer room in their house - which is also where my brother (currently living at home and on break from community college) keeps his Xbox and TV.  Of the 3 office chairs, one of them sinks and is out of the question - I'd be more focused on adjusting it than I would be on working.  One of them is my dad's.  The other chair is not my brother's, per se, but he uses it the most.  I asked my dad if I could borrow it to use to work from home.  He said to ask my brother.  Mind you, there are plenty of other movable chairs in the house, albeit none too terribly comfortable.  My brother said no when I asked him because the other chairs are uncomfortable and he uses the chair to play video games.\\n\\nI'm pretty aggravated at him over this.  I'd understand if he needed it for school or for work, but he only said no because he wants to sit in it to play video games.  In my opinion, he is being completely selfish.  But AITA?                                                                                                                                                                                                                                                                                                                                                                                                  15\n",
       "So i had pc which i used pretty much daily, I had removed it's parts out of the case so I can clean it.\\n\\nI screwed up and damaged the case only(cut the front panel wires by accident thinking they were useless) after that i used the pc normally but it's parts were dangling a bit but usable my mom saw me more than twice using it so she saw that it was used by me.\\n\\n Anyway cut to few months back my mom was selling old stuff out I told more than three times that they don't sell my pc because i use it(it's 10 years old so they thought they can sell it) they sold it anyway and i was mad but didn't do anything about.\\n\\nMy mother 2 weeks ago gave me her phone(it's one of the new ones) in exchange for not using my study tablet(I used to play with it since i had no phones other than that tablet btw it's given to us by the government so we can take the exams at home) so i agreed to the offer and took it, we come to today when she told me she wants it back and doesn't care about what happens to the tablet so i told her no and brought up when she sold the pc and we argued for a bit about it.\\n\\n\\nSo reddit aita?                                                                                                                                                                                                                                                                                                                                                                                                                                                                                                                                                                                                                                                                                                                                                                                                                   13\n",
       "...                                                                                                                                                                                                                                                                                                                                                                                                                                                                                                                                                                                                                                                                                                                                                                                                                                                                                                                                                                                                                                                                                                                                                                                                                                                                                                                                                                                                                                                                                                                                                                                                                                                                                                                                                                                                                                                                                                                                                                                 10\n",
       "I just started a new job as a courtesy clerk at a local grocery store. I am currently finishing up my freshman year of college as well, even though now bc of COVID, classes are online. Before all of this happened, I had lived in the dorms on campus. When I moved back home after campus was evacuated, my mom got a refund for the dorms, since I would not be living there for the remainder of the school year. Since I have started this new job, my mom has asked me to give her half of my paycheck every time I get paid. I asked her what is this for, and she said it was for college. Normally, I would understand this, but my tuition is already paid for with scholarships and loans under my name. The only other expenses would be my housing, food, etc for next year. If this pandemic continues on until the fall, and my university decides to do online classes, she wants me to continue to live at home, meaning she will not have to pay for my housing obviously. I then requested that if that does happen, if I can still move back to my college town, get an apartment, and THEN I would give her half of every paycheck to go toward my apartment expenses. She will not budge on this and seems to want me to stay at home in the fall, yet still wants half of my paycheck. What bothers me about this, is her and her boyfriend are planning to get our backyard redone. They just received the estimate today, and the cost will be well over 100,000 dollars if they have everything they planned done. I just think this is ridiculous, because they can spend all this money on something as trivial as a backyard, but I am expected to give up money that I work for, and I do not even know where it is going. \\n\\n&amp;#x200B;\\n\\nI feel like I am being the hugest brat, and I'm not trying to be. I just worked my ass off to get to college, and get these scholarships and it hurts my feelings. pls don't attack me. AITA?         9\n",
       "Name: selftext, dtype: int64"
      ]
     },
     "execution_count": 15,
     "metadata": {},
     "output_type": "execute_result"
    }
   ],
   "source": [
    "amitheasshole.groupby(\"selftext\")[\"selftext\"].count().sort_values(ascending=False).head(10)"
   ]
  },
  {
   "cell_type": "code",
   "execution_count": 8,
   "metadata": {},
   "outputs": [],
   "source": [
    "amitheasshole[\"title_wc\"] = amitheasshole[\"title\"].str.split().map(len)"
   ]
  },
  {
   "cell_type": "code",
   "execution_count": null,
   "metadata": {},
   "outputs": [],
   "source": [
    "amitheasshole[\"selftext_wc\"] = amitheasshole[\"selftext\"].str.split().map(len)"
   ]
  },
  {
   "cell_type": "code",
   "execution_count": null,
   "metadata": {},
   "outputs": [],
   "source": [
    "amitheasshole"
   ]
  },
  {
   "cell_type": "code",
   "execution_count": null,
   "metadata": {},
   "outputs": [],
   "source": []
  }
 ],
 "metadata": {
  "kernelspec": {
   "display_name": "Python 3",
   "language": "python",
   "name": "python3"
  },
  "language_info": {
   "codemirror_mode": {
    "name": "ipython",
    "version": 3
   },
   "file_extension": ".py",
   "mimetype": "text/x-python",
   "name": "python",
   "nbconvert_exporter": "python",
   "pygments_lexer": "ipython3",
   "version": "3.8.10"
  }
 },
 "nbformat": 4,
 "nbformat_minor": 4
}
