{
 "cells": [
  {
   "cell_type": "markdown",
   "id": "2d727c2a",
   "metadata": {},
   "source": [
    "# Feature selection and Dimensionality reduction\n",
    "\n",
    "The goal of this investigation is to obtain the best predictions and to select the smallest possible\n",
    "subset of relevant input variables (features).\n",
    "\n",
    "The dataset is already divided into train and validation sets (both in 2 forms - unbalanced and balanced). It was done for both **teenagers** and **amItheAsshole** subreddits.\n",
    "\n",
    "On train and validation sets, there will be used the same dimensionality reduction technique at the same moment (to make the rsults fair) -- the **accuracy** metric value will be calculated on validation data set."
   ]
  },
  {
   "cell_type": "code",
   "execution_count": 3,
   "id": "c38bf1a7",
   "metadata": {},
   "outputs": [],
   "source": [
    "# importing packages\n",
    "\n",
    "from sklearn.feature_extraction.text import TfidfVectorizer\n",
    "from time import time\n",
    "\n",
    "from sklearn.metrics import classification_report\n",
    "\n",
    "from sklearn.metrics import precision_recall_fscore_support"
   ]
  },
  {
   "cell_type": "code",
   "execution_count": 4,
   "id": "0526589b",
   "metadata": {},
   "outputs": [],
   "source": [
    "import sklearn\n",
    "import pandas as pd, numpy as np\n",
    "\n",
    "import seaborn as sns\n",
    "import matplotlib.pyplot as plt"
   ]
  },
  {
   "cell_type": "code",
   "execution_count": 5,
   "id": "9b156856",
   "metadata": {},
   "outputs": [],
   "source": [
    "def replaceThisInsaneNa(x):\n",
    "    if pd.isna(x):\n",
    "        return \" \"\n",
    "    else:\n",
    "        return x\n",
    "    \n",
    "\n",
    "def datasetToTfIdfPredictorsAndLabels(df, vectorizer1, vectorizer2):\n",
    "    \n",
    "    text_bgw = pd.DataFrame(vectorizer1.fit_transform(df.text).toarray(), dtype = 'float32').reset_index(drop=True)\n",
    "    text_bgw.columns = vectorizer1.get_feature_names()\n",
    "    new_columns = []\n",
    "\n",
    "    for column in text_bgw.columns:\n",
    "        new_columns.append(\"text_\" + column)\n",
    "\n",
    "    text_bgw.columns = new_columns   \n",
    "    \n",
    "    title_bgw = pd.DataFrame(vectorizer2.fit_transform(df.title).toarray(), dtype = 'float32').reset_index(drop=True)\n",
    "    title_bgw.columns = vectorizer2.get_feature_names()\n",
    "    \n",
    "    new_columns = []\n",
    "\n",
    "    for column in title_bgw.columns:\n",
    "        new_columns.append(\"title_\" + column)\n",
    "\n",
    "    title_bgw.columns = new_columns\n",
    "    \n",
    "    X = pd.concat([df[[\"title_wc\", \"selftext_wc\", \"title_cc\", \"selftext_cc\"]].reset_index(drop=True), text_bgw, title_bgw], axis=1, join=\"inner\")\n",
    "    \n",
    "    return X, df[[\"flair\"]]\n",
    "\n",
    "def datasetToTfIdfPredictorsAndLabelsForTest(df, vectorizer1, vectorizer2):\n",
    "    \n",
    "    text_bgw = pd.DataFrame(vectorizer1.transform(df.text).toarray(), dtype = 'float32').reset_index(drop=True)\n",
    "    text_bgw.columns = vectorizer1.get_feature_names()\n",
    "    new_columns = []\n",
    "\n",
    "    for column in text_bgw.columns:\n",
    "        new_columns.append(\"text_\" + column)\n",
    "\n",
    "    text_bgw.columns = new_columns   \n",
    "    \n",
    "    title_bgw = pd.DataFrame(vectorizer2.transform(df.title).toarray(), dtype = 'float32').reset_index(drop=True)\n",
    "    title_bgw.columns = vectorizer2.get_feature_names()\n",
    "    \n",
    "    new_columns = []\n",
    "\n",
    "    for column in title_bgw.columns:\n",
    "        new_columns.append(\"title_\" + column)\n",
    "\n",
    "    title_bgw.columns = new_columns\n",
    "    \n",
    "    X = pd.concat([df[[\"title_wc\", \"selftext_wc\", \"title_cc\", \"selftext_cc\"]].reset_index(drop=True), text_bgw, title_bgw], axis=1, join=\"inner\")\n",
    "    \n",
    "    return X, df[[\"flair\"]]\n",
    "\n"
   ]
  },
  {
   "cell_type": "code",
   "execution_count": 11,
   "id": "d631a307",
   "metadata": {},
   "outputs": [],
   "source": [
    "from sklearn.svm import LinearSVC\n",
    "from sklearn.ensemble import RandomForestClassifier\n",
    "from sklearn.naive_bayes import GaussianNB\n",
    "\n",
    "model = LinearSVC()\n",
    "model2 = RandomForestClassifier()\n",
    "model3 = GaussianNB()\n"
   ]
  },
  {
   "cell_type": "code",
   "execution_count": 12,
   "id": "aabb4e85",
   "metadata": {},
   "outputs": [
    {
     "data": {
      "text/plain": [
       "'C:\\\\Users\\\\wronap\\\\Desktop\\\\NLP-stuff'"
      ]
     },
     "execution_count": 12,
     "metadata": {},
     "output_type": "execute_result"
    }
   ],
   "source": [
    "%pwd"
   ]
  },
  {
   "cell_type": "code",
   "execution_count": 6,
   "id": "e94f1654",
   "metadata": {},
   "outputs": [],
   "source": [
    "# importing train and validation TEENAGERS datasets:\n",
    "\n",
    "X_train = pd.read_csv(\"../data/aita_train.csv\", index_col=0, dtype = {'flair': str, 'title': str, 'text': str})\n",
    "# X_trainb = pd.read_csv(\"../data/aita_train_balanced.csv\", index_col=0, dtype = {'flair': str, 'title': str, 'text': str})\n",
    "X_test = pd.read_csv(\"../data/aita_test.csv\", index_col=0, dtype = {'flair': str, 'title': str, 'text': str})\n",
    "# X_testb = pd.read_csv(\"../data/aita_test_balanced.csv\", index_col=0, dtype = {'flair': str, 'title': str, 'text': str})\n",
    "# chosing columns\n",
    "\n",
    "X_train = X_train[[\"flair\", \"title\", \"text\", \"title_wc\", \"selftext_wc\", \"title_cc\", \"selftext_cc\"]]\n",
    "# X_trainb = X_trainb[[\"flair\", \"title\", \"text\", \"title_wc\", \"selftext_wc\", \"title_cc\", \"selftext_cc\"]]\n",
    "X_test = X_test[[\"flair\", \"title\", \"text\", \"title_wc\", \"selftext_wc\", \"title_cc\", \"selftext_cc\"]]\n",
    "# X_testb = X_testb[[\"flair\", \"title\", \"text\", \"title_wc\", \"selftext_wc\", \"title_cc\", \"selftext_cc\"]]\n",
    "\n",
    "X_train.text = X_train.text.apply(replaceThisInsaneNa)\n",
    "# X_trainb.text = X_trainb.text.apply(replaceThisInsaneNa)\n",
    "\n",
    "X_test.text = X_test.text.apply(replaceThisInsaneNa)\n",
    "# X_testb.text = X_testb.text.apply(replaceThisInsaneNa)\n",
    "\n",
    "X__train = X_train\n",
    "# X__trainb = X_trainb\n",
    "X__test = X_test\n",
    "# X__testb = X_testb\n",
    "\n"
   ]
  },
  {
   "cell_type": "code",
   "execution_count": 7,
   "id": "113b0be3",
   "metadata": {},
   "outputs": [
    {
     "name": "stdout",
     "output_type": "stream",
     "text": [
      "(20000, 7)\n",
      "(2000, 7)\n"
     ]
    }
   ],
   "source": [
    "\n",
    "\n",
    "print(X__train.shape)\n",
    "# print(X__trainb.shape)\n",
    "print(X__test.shape)\n",
    "# print(X__testb.shape)"
   ]
  },
  {
   "cell_type": "code",
   "execution_count": 8,
   "id": "df36e1cd",
   "metadata": {},
   "outputs": [],
   "source": [
    "df = pd.DataFrame(columns=['method', 'model', 'n_components', 'n_neighbors', 'accuracy', 'train', 'test', 'precision', 'recall', 'f1'])"
   ]
  },
  {
   "cell_type": "code",
   "execution_count": 9,
   "id": "3c3dee95",
   "metadata": {},
   "outputs": [],
   "source": [
    "import pickle"
   ]
  },
  {
   "cell_type": "markdown",
   "id": "498b50c5",
   "metadata": {},
   "source": [
    "# AITA fitting without Dimensionality reduction\n"
   ]
  },
  {
   "cell_type": "code",
   "execution_count": 12,
   "id": "e88c418b",
   "metadata": {},
   "outputs": [
    {
     "name": "stdout",
     "output_type": "stream",
     "text": [
      "@@@@@@@@@@@@ max features of TfIdf:  5\n",
      "fitting SVM - unbalanced\n"
     ]
    },
    {
     "name": "stderr",
     "output_type": "stream",
     "text": [
      "C:\\Users\\Patryk\\anaconda3\\lib\\site-packages\\sklearn\\utils\\validation.py:63: DataConversionWarning: A column-vector y was passed when a 1d array was expected. Please change the shape of y to (n_samples, ), for example using ravel().\n",
      "  return f(*args, **kwargs)\n",
      "C:\\Users\\Patryk\\anaconda3\\lib\\site-packages\\sklearn\\svm\\_base.py:985: ConvergenceWarning: Liblinear failed to converge, increase the number of iterations.\n",
      "  warnings.warn(\"Liblinear failed to converge, increase \"\n",
      "C:\\Users\\Patryk\\anaconda3\\lib\\site-packages\\sklearn\\metrics\\_classification.py:1248: UndefinedMetricWarning: Precision and F-score are ill-defined and being set to 0.0 in labels with no predicted samples. Use `zero_division` parameter to control this behavior.\n",
      "  _warn_prf(average, modifier, msg_start, len(result))\n",
      "C:\\Users\\Patryk\\AppData\\Local\\Temp/ipykernel_11088/1854938734.py:36: DataConversionWarning: A column-vector y was passed when a 1d array was expected. Please change the shape of y to (n_samples,), for example using ravel().\n",
      "  model2.fit(X_pcab, y_trainb)\n"
     ]
    },
    {
     "name": "stdout",
     "output_type": "stream",
     "text": [
      "Time: : 17 sec\n",
      "fitting RF - unbalanced\n",
      "Time: : 4.2 sec\n",
      "fitting NB - unbalanced\n",
      "Time: : 0.053 sec\n"
     ]
    },
    {
     "name": "stderr",
     "output_type": "stream",
     "text": [
      "C:\\Users\\Patryk\\anaconda3\\lib\\site-packages\\sklearn\\utils\\validation.py:63: DataConversionWarning: A column-vector y was passed when a 1d array was expected. Please change the shape of y to (n_samples, ), for example using ravel().\n",
      "  return f(*args, **kwargs)\n",
      "C:\\Users\\Patryk\\anaconda3\\lib\\site-packages\\sklearn\\metrics\\_classification.py:1248: UndefinedMetricWarning: Precision and F-score are ill-defined and being set to 0.0 in labels with no predicted samples. Use `zero_division` parameter to control this behavior.\n",
      "  _warn_prf(average, modifier, msg_start, len(result))\n"
     ]
    },
    {
     "name": "stdout",
     "output_type": "stream",
     "text": [
      "@@@@@@@@@@@@ max features of TfIdf:  25\n",
      "fitting SVM - unbalanced\n"
     ]
    },
    {
     "name": "stderr",
     "output_type": "stream",
     "text": [
      "C:\\Users\\Patryk\\anaconda3\\lib\\site-packages\\sklearn\\utils\\validation.py:63: DataConversionWarning: A column-vector y was passed when a 1d array was expected. Please change the shape of y to (n_samples, ), for example using ravel().\n",
      "  return f(*args, **kwargs)\n",
      "C:\\Users\\Patryk\\anaconda3\\lib\\site-packages\\sklearn\\svm\\_base.py:985: ConvergenceWarning: Liblinear failed to converge, increase the number of iterations.\n",
      "  warnings.warn(\"Liblinear failed to converge, increase \"\n",
      "C:\\Users\\Patryk\\anaconda3\\lib\\site-packages\\sklearn\\metrics\\_classification.py:1248: UndefinedMetricWarning: Precision and F-score are ill-defined and being set to 0.0 in labels with no predicted samples. Use `zero_division` parameter to control this behavior.\n",
      "  _warn_prf(average, modifier, msg_start, len(result))\n",
      "C:\\Users\\Patryk\\AppData\\Local\\Temp/ipykernel_11088/1854938734.py:36: DataConversionWarning: A column-vector y was passed when a 1d array was expected. Please change the shape of y to (n_samples,), for example using ravel().\n",
      "  model2.fit(X_pcab, y_trainb)\n"
     ]
    },
    {
     "name": "stdout",
     "output_type": "stream",
     "text": [
      "Time: : 30 sec\n",
      "fitting RF - unbalanced\n",
      "Time: : 11 sec\n",
      "fitting NB - unbalanced\n",
      "Time: : 0.082 sec\n"
     ]
    },
    {
     "name": "stderr",
     "output_type": "stream",
     "text": [
      "C:\\Users\\Patryk\\anaconda3\\lib\\site-packages\\sklearn\\utils\\validation.py:63: DataConversionWarning: A column-vector y was passed when a 1d array was expected. Please change the shape of y to (n_samples, ), for example using ravel().\n",
      "  return f(*args, **kwargs)\n"
     ]
    },
    {
     "name": "stdout",
     "output_type": "stream",
     "text": [
      "@@@@@@@@@@@@ max features of TfIdf:  45\n",
      "fitting SVM - unbalanced\n"
     ]
    },
    {
     "name": "stderr",
     "output_type": "stream",
     "text": [
      "C:\\Users\\Patryk\\anaconda3\\lib\\site-packages\\sklearn\\utils\\validation.py:63: DataConversionWarning: A column-vector y was passed when a 1d array was expected. Please change the shape of y to (n_samples, ), for example using ravel().\n",
      "  return f(*args, **kwargs)\n",
      "C:\\Users\\Patryk\\anaconda3\\lib\\site-packages\\sklearn\\svm\\_base.py:985: ConvergenceWarning: Liblinear failed to converge, increase the number of iterations.\n",
      "  warnings.warn(\"Liblinear failed to converge, increase \"\n",
      "C:\\Users\\Patryk\\AppData\\Local\\Temp/ipykernel_11088/1854938734.py:36: DataConversionWarning: A column-vector y was passed when a 1d array was expected. Please change the shape of y to (n_samples,), for example using ravel().\n",
      "  model2.fit(X_pcab, y_trainb)\n"
     ]
    },
    {
     "name": "stdout",
     "output_type": "stream",
     "text": [
      "Time: : 35 sec\n",
      "fitting RF - unbalanced\n",
      "Time: : 11 sec\n",
      "fitting NB - unbalanced\n",
      "Time: : 0.13 sec\n"
     ]
    },
    {
     "name": "stderr",
     "output_type": "stream",
     "text": [
      "C:\\Users\\Patryk\\anaconda3\\lib\\site-packages\\sklearn\\utils\\validation.py:63: DataConversionWarning: A column-vector y was passed when a 1d array was expected. Please change the shape of y to (n_samples, ), for example using ravel().\n",
      "  return f(*args, **kwargs)\n"
     ]
    },
    {
     "name": "stdout",
     "output_type": "stream",
     "text": [
      "@@@@@@@@@@@@ max features of TfIdf:  65\n",
      "fitting SVM - unbalanced\n"
     ]
    },
    {
     "name": "stderr",
     "output_type": "stream",
     "text": [
      "C:\\Users\\Patryk\\anaconda3\\lib\\site-packages\\sklearn\\utils\\validation.py:63: DataConversionWarning: A column-vector y was passed when a 1d array was expected. Please change the shape of y to (n_samples, ), for example using ravel().\n",
      "  return f(*args, **kwargs)\n",
      "C:\\Users\\Patryk\\anaconda3\\lib\\site-packages\\sklearn\\svm\\_base.py:985: ConvergenceWarning: Liblinear failed to converge, increase the number of iterations.\n",
      "  warnings.warn(\"Liblinear failed to converge, increase \"\n",
      "C:\\Users\\Patryk\\anaconda3\\lib\\site-packages\\sklearn\\metrics\\_classification.py:1248: UndefinedMetricWarning: Precision and F-score are ill-defined and being set to 0.0 in labels with no predicted samples. Use `zero_division` parameter to control this behavior.\n",
      "  _warn_prf(average, modifier, msg_start, len(result))\n",
      "C:\\Users\\Patryk\\AppData\\Local\\Temp/ipykernel_11088/1854938734.py:36: DataConversionWarning: A column-vector y was passed when a 1d array was expected. Please change the shape of y to (n_samples,), for example using ravel().\n",
      "  model2.fit(X_pcab, y_trainb)\n"
     ]
    },
    {
     "name": "stdout",
     "output_type": "stream",
     "text": [
      "Time: : 35 sec\n",
      "fitting RF - unbalanced\n",
      "Time: : 13 sec\n",
      "fitting NB - unbalanced\n",
      "Time: : 0.16 sec\n"
     ]
    },
    {
     "name": "stderr",
     "output_type": "stream",
     "text": [
      "C:\\Users\\Patryk\\anaconda3\\lib\\site-packages\\sklearn\\utils\\validation.py:63: DataConversionWarning: A column-vector y was passed when a 1d array was expected. Please change the shape of y to (n_samples, ), for example using ravel().\n",
      "  return f(*args, **kwargs)\n"
     ]
    },
    {
     "name": "stdout",
     "output_type": "stream",
     "text": [
      "@@@@@@@@@@@@ max features of TfIdf:  85\n",
      "fitting SVM - unbalanced\n"
     ]
    },
    {
     "name": "stderr",
     "output_type": "stream",
     "text": [
      "C:\\Users\\Patryk\\anaconda3\\lib\\site-packages\\sklearn\\utils\\validation.py:63: DataConversionWarning: A column-vector y was passed when a 1d array was expected. Please change the shape of y to (n_samples, ), for example using ravel().\n",
      "  return f(*args, **kwargs)\n",
      "C:\\Users\\Patryk\\anaconda3\\lib\\site-packages\\sklearn\\svm\\_base.py:985: ConvergenceWarning: Liblinear failed to converge, increase the number of iterations.\n",
      "  warnings.warn(\"Liblinear failed to converge, increase \"\n",
      "C:\\Users\\Patryk\\anaconda3\\lib\\site-packages\\sklearn\\metrics\\_classification.py:1248: UndefinedMetricWarning: Precision and F-score are ill-defined and being set to 0.0 in labels with no predicted samples. Use `zero_division` parameter to control this behavior.\n",
      "  _warn_prf(average, modifier, msg_start, len(result))\n",
      "C:\\Users\\Patryk\\AppData\\Local\\Temp/ipykernel_11088/1854938734.py:36: DataConversionWarning: A column-vector y was passed when a 1d array was expected. Please change the shape of y to (n_samples,), for example using ravel().\n",
      "  model2.fit(X_pcab, y_trainb)\n"
     ]
    },
    {
     "name": "stdout",
     "output_type": "stream",
     "text": [
      "Time: : 37 sec\n",
      "fitting RF - unbalanced\n",
      "Time: : 17 sec\n",
      "fitting NB - unbalanced\n"
     ]
    },
    {
     "name": "stderr",
     "output_type": "stream",
     "text": [
      "C:\\Users\\Patryk\\anaconda3\\lib\\site-packages\\sklearn\\utils\\validation.py:63: DataConversionWarning: A column-vector y was passed when a 1d array was expected. Please change the shape of y to (n_samples, ), for example using ravel().\n",
      "  return f(*args, **kwargs)\n"
     ]
    },
    {
     "name": "stdout",
     "output_type": "stream",
     "text": [
      "Time: : 0.26 sec\n"
     ]
    }
   ],
   "source": [
    "#X_trainb, y_trainb = datasetToTfIdfPredictorsAndLabels(X__train, vectorizer1, vectorizer2)\n",
    "#X_testb, y_testb = datasetToTfIdfPredictorsAndLabelsForTest(X__test, vectorizer1, vectorizer2)\n",
    "\n",
    "#vectorizer1 = TfidfVectorizer(stop_words = 'english', max_features=500)\n",
    "#vectorizer2 = TfidfVectorizer(stop_words = 'english', max_features=500)\n",
    "\n",
    "method_name = \"TfIdf-max_features\"\n",
    "\n",
    "for i in range(5,100, 20):\n",
    "    \n",
    "\n",
    "    print(\"@@@@@@@@@@@@ max features of TfIdf: \", i)\n",
    "    \n",
    "        \n",
    "    vectorizer1 = TfidfVectorizer(stop_words = 'english', max_features=i)\n",
    "    vectorizer2 = TfidfVectorizer(stop_words = 'english', max_features=i)\n",
    "\n",
    "\n",
    "    X_pcab, y_trainb = datasetToTfIdfPredictorsAndLabels(X__train, vectorizer1, vectorizer2)\n",
    "    X_pca_testb, y_testb = datasetToTfIdfPredictorsAndLabelsForTest(X__test, vectorizer1, vectorizer2)\n",
    "\n",
    "    print(\"fitting SVM - unbalanced\")\n",
    "    t0 = time()\n",
    "    # trained on balanced dataset\n",
    "    model.fit(X_pcab, y_trainb)\n",
    "    acc = model.score(X_pca_testb, y_testb)\n",
    "    y_pred = model.predict(X_pca_testb)\n",
    "    prf = precision_recall_fscore_support(y_testb, y_pred, average = 'weighted')\n",
    "    df = df.append({'method': method_name, 'model':'SVM', 'n_components': i, 'n_neighbors': -1, 'accuracy': acc, 'train': 'unbalanced', 'test': 'unbalanced', 'precision': prf[0], 'recall': prf[1], 'f1': prf[2]}, ignore_index=True)\n",
    "    t1 = time()\n",
    "    print(\"%s: %.2g sec\" % ('Time: ', t1 - t0))\n",
    "\n",
    "    print(\"fitting RF - unbalanced\")\n",
    "    t0 = time()\n",
    "    # trained on balanced dataset\n",
    "    model2.fit(X_pcab, y_trainb)\n",
    "    acc = model2.score(X_pca_testb, y_testb)\n",
    "    y_pred = model2.predict(X_pca_testb)\n",
    "    prf = precision_recall_fscore_support(y_testb, y_pred, average = 'weighted')\n",
    "    df = df.append({'method': method_name, 'model':'RF', 'n_components': i, 'n_neighbors': -1, 'accuracy': acc, 'train': 'unbalanced', 'test': 'unbalanced', 'precision': prf[0], 'recall': prf[1], 'f1': prf[2]}, ignore_index=True)\n",
    "    t1 = time()\n",
    "    print(\"%s: %.2g sec\" % ('Time: ', t1 - t0))\n",
    "\n",
    "    print(\"fitting NB - unbalanced\")\n",
    "    t0 = time()\n",
    "    # trained on balanced dataset\n",
    "    model3.fit(X_pcab, y_trainb)\n",
    "    acc = model3.score(X_pca_testb, y_testb)\n",
    "    y_pred = model3.predict(X_pca_testb)\n",
    "    prf = precision_recall_fscore_support(y_testb, y_pred, average = 'weighted')\n",
    "    df = df.append({'method': method_name, 'model':'NB', 'n_components': i, 'n_neighbors': -1, 'accuracy': acc, 'train': 'unbalanced', 'test': 'unbalanced', 'precision': prf[0], 'recall': prf[1], 'f1': prf[2]}, ignore_index=True)\n",
    "    t1 = time()\n",
    "    print(\"%s: %.2g sec\" % ('Time: ', t1 - t0))\n",
    "    \n",
    "        # save the model to disk\n",
    "    filename = 'svm_model_'+ str(i) +'.sav'\n",
    "    pickle.dump(model, open(filename, 'wb'))\n",
    "    \n",
    "    # save the model to disk\n",
    "    filename = 'rf_model_'+ str(i) +'.sav'\n",
    "    pickle.dump(model2, open(filename, 'wb'))\n",
    "    \n",
    "    # save the model to disk\n",
    "    filename = 'nb_model_'+ str(i) +'.sav'\n",
    "    pickle.dump(model3, open(filename, 'wb'))\n",
    "\n",
    "\n",
    "df.to_csv(\"AITA-TfIdf-unbalanced-1.csv\")"
   ]
  },
  {
   "cell_type": "code",
   "execution_count": 13,
   "id": "d4754a35",
   "metadata": {},
   "outputs": [
    {
     "name": "stdout",
     "output_type": "stream",
     "text": [
      "@@@@@@@@@@@@ max features of TfIdf:  100\n",
      "fitting SVM - unbalanced\n"
     ]
    },
    {
     "name": "stderr",
     "output_type": "stream",
     "text": [
      "C:\\Users\\Patryk\\anaconda3\\lib\\site-packages\\sklearn\\utils\\validation.py:63: DataConversionWarning: A column-vector y was passed when a 1d array was expected. Please change the shape of y to (n_samples, ), for example using ravel().\n",
      "  return f(*args, **kwargs)\n",
      "C:\\Users\\Patryk\\anaconda3\\lib\\site-packages\\sklearn\\svm\\_base.py:985: ConvergenceWarning: Liblinear failed to converge, increase the number of iterations.\n",
      "  warnings.warn(\"Liblinear failed to converge, increase \"\n",
      "C:\\Users\\Patryk\\AppData\\Local\\Temp/ipykernel_11088/3929577395.py:30: DataConversionWarning: A column-vector y was passed when a 1d array was expected. Please change the shape of y to (n_samples,), for example using ravel().\n",
      "  model2.fit(X_pcab, y_trainb)\n"
     ]
    },
    {
     "name": "stdout",
     "output_type": "stream",
     "text": [
      "Time: : 37 sec\n",
      "fitting RF - unbalanced\n",
      "Time: : 16 sec\n",
      "fitting NB - unbalanced\n"
     ]
    },
    {
     "name": "stderr",
     "output_type": "stream",
     "text": [
      "C:\\Users\\Patryk\\anaconda3\\lib\\site-packages\\sklearn\\utils\\validation.py:63: DataConversionWarning: A column-vector y was passed when a 1d array was expected. Please change the shape of y to (n_samples, ), for example using ravel().\n",
      "  return f(*args, **kwargs)\n"
     ]
    },
    {
     "name": "stdout",
     "output_type": "stream",
     "text": [
      "Time: : 0.24 sec\n",
      "@@@@@@@@@@@@ max features of TfIdf:  300\n",
      "fitting SVM - unbalanced\n"
     ]
    },
    {
     "name": "stderr",
     "output_type": "stream",
     "text": [
      "C:\\Users\\Patryk\\anaconda3\\lib\\site-packages\\sklearn\\utils\\validation.py:63: DataConversionWarning: A column-vector y was passed when a 1d array was expected. Please change the shape of y to (n_samples, ), for example using ravel().\n",
      "  return f(*args, **kwargs)\n",
      "C:\\Users\\Patryk\\anaconda3\\lib\\site-packages\\sklearn\\svm\\_base.py:985: ConvergenceWarning: Liblinear failed to converge, increase the number of iterations.\n",
      "  warnings.warn(\"Liblinear failed to converge, increase \"\n",
      "C:\\Users\\Patryk\\anaconda3\\lib\\site-packages\\sklearn\\metrics\\_classification.py:1248: UndefinedMetricWarning: Precision and F-score are ill-defined and being set to 0.0 in labels with no predicted samples. Use `zero_division` parameter to control this behavior.\n",
      "  _warn_prf(average, modifier, msg_start, len(result))\n",
      "C:\\Users\\Patryk\\AppData\\Local\\Temp/ipykernel_11088/3929577395.py:30: DataConversionWarning: A column-vector y was passed when a 1d array was expected. Please change the shape of y to (n_samples,), for example using ravel().\n",
      "  model2.fit(X_pcab, y_trainb)\n"
     ]
    },
    {
     "name": "stdout",
     "output_type": "stream",
     "text": [
      "Time: : 44 sec\n",
      "fitting RF - unbalanced\n",
      "Time: : 35 sec\n",
      "fitting NB - unbalanced\n"
     ]
    },
    {
     "name": "stderr",
     "output_type": "stream",
     "text": [
      "C:\\Users\\Patryk\\anaconda3\\lib\\site-packages\\sklearn\\utils\\validation.py:63: DataConversionWarning: A column-vector y was passed when a 1d array was expected. Please change the shape of y to (n_samples, ), for example using ravel().\n",
      "  return f(*args, **kwargs)\n"
     ]
    },
    {
     "name": "stdout",
     "output_type": "stream",
     "text": [
      "Time: : 0.97 sec\n",
      "@@@@@@@@@@@@ max features of TfIdf:  500\n",
      "fitting SVM - unbalanced\n"
     ]
    },
    {
     "name": "stderr",
     "output_type": "stream",
     "text": [
      "C:\\Users\\Patryk\\anaconda3\\lib\\site-packages\\sklearn\\utils\\validation.py:63: DataConversionWarning: A column-vector y was passed when a 1d array was expected. Please change the shape of y to (n_samples, ), for example using ravel().\n",
      "  return f(*args, **kwargs)\n",
      "C:\\Users\\Patryk\\anaconda3\\lib\\site-packages\\sklearn\\svm\\_base.py:985: ConvergenceWarning: Liblinear failed to converge, increase the number of iterations.\n",
      "  warnings.warn(\"Liblinear failed to converge, increase \"\n",
      "C:\\Users\\Patryk\\anaconda3\\lib\\site-packages\\sklearn\\metrics\\_classification.py:1248: UndefinedMetricWarning: Precision and F-score are ill-defined and being set to 0.0 in labels with no predicted samples. Use `zero_division` parameter to control this behavior.\n",
      "  _warn_prf(average, modifier, msg_start, len(result))\n"
     ]
    },
    {
     "name": "stdout",
     "output_type": "stream",
     "text": [
      "Time: : 62 sec\n",
      "fitting RF - unbalanced\n"
     ]
    },
    {
     "name": "stderr",
     "output_type": "stream",
     "text": [
      "C:\\Users\\Patryk\\AppData\\Local\\Temp/ipykernel_11088/3929577395.py:30: DataConversionWarning: A column-vector y was passed when a 1d array was expected. Please change the shape of y to (n_samples,), for example using ravel().\n",
      "  model2.fit(X_pcab, y_trainb)\n"
     ]
    },
    {
     "name": "stdout",
     "output_type": "stream",
     "text": [
      "Time: : 47 sec\n",
      "fitting NB - unbalanced\n"
     ]
    },
    {
     "name": "stderr",
     "output_type": "stream",
     "text": [
      "C:\\Users\\Patryk\\anaconda3\\lib\\site-packages\\sklearn\\utils\\validation.py:63: DataConversionWarning: A column-vector y was passed when a 1d array was expected. Please change the shape of y to (n_samples, ), for example using ravel().\n",
      "  return f(*args, **kwargs)\n"
     ]
    },
    {
     "name": "stdout",
     "output_type": "stream",
     "text": [
      "Time: : 1.5 sec\n",
      "@@@@@@@@@@@@ max features of TfIdf:  700\n",
      "fitting SVM - unbalanced\n"
     ]
    },
    {
     "name": "stderr",
     "output_type": "stream",
     "text": [
      "C:\\Users\\Patryk\\anaconda3\\lib\\site-packages\\sklearn\\utils\\validation.py:63: DataConversionWarning: A column-vector y was passed when a 1d array was expected. Please change the shape of y to (n_samples, ), for example using ravel().\n",
      "  return f(*args, **kwargs)\n",
      "C:\\Users\\Patryk\\anaconda3\\lib\\site-packages\\sklearn\\svm\\_base.py:985: ConvergenceWarning: Liblinear failed to converge, increase the number of iterations.\n",
      "  warnings.warn(\"Liblinear failed to converge, increase \"\n",
      "C:\\Users\\Patryk\\anaconda3\\lib\\site-packages\\sklearn\\metrics\\_classification.py:1248: UndefinedMetricWarning: Precision and F-score are ill-defined and being set to 0.0 in labels with no predicted samples. Use `zero_division` parameter to control this behavior.\n",
      "  _warn_prf(average, modifier, msg_start, len(result))\n"
     ]
    },
    {
     "name": "stdout",
     "output_type": "stream",
     "text": [
      "Time: : 56 sec\n",
      "fitting RF - unbalanced\n"
     ]
    },
    {
     "name": "stderr",
     "output_type": "stream",
     "text": [
      "C:\\Users\\Patryk\\AppData\\Local\\Temp/ipykernel_11088/3929577395.py:30: DataConversionWarning: A column-vector y was passed when a 1d array was expected. Please change the shape of y to (n_samples,), for example using ravel().\n",
      "  model2.fit(X_pcab, y_trainb)\n"
     ]
    },
    {
     "name": "stdout",
     "output_type": "stream",
     "text": [
      "Time: : 53 sec\n",
      "fitting NB - unbalanced\n"
     ]
    },
    {
     "name": "stderr",
     "output_type": "stream",
     "text": [
      "C:\\Users\\Patryk\\anaconda3\\lib\\site-packages\\sklearn\\utils\\validation.py:63: DataConversionWarning: A column-vector y was passed when a 1d array was expected. Please change the shape of y to (n_samples, ), for example using ravel().\n",
      "  return f(*args, **kwargs)\n"
     ]
    },
    {
     "name": "stdout",
     "output_type": "stream",
     "text": [
      "Time: : 1.5 sec\n",
      "@@@@@@@@@@@@ max features of TfIdf:  900\n",
      "fitting SVM - unbalanced\n"
     ]
    },
    {
     "name": "stderr",
     "output_type": "stream",
     "text": [
      "C:\\Users\\Patryk\\anaconda3\\lib\\site-packages\\sklearn\\utils\\validation.py:63: DataConversionWarning: A column-vector y was passed when a 1d array was expected. Please change the shape of y to (n_samples, ), for example using ravel().\n",
      "  return f(*args, **kwargs)\n",
      "C:\\Users\\Patryk\\anaconda3\\lib\\site-packages\\sklearn\\svm\\_base.py:985: ConvergenceWarning: Liblinear failed to converge, increase the number of iterations.\n",
      "  warnings.warn(\"Liblinear failed to converge, increase \"\n",
      "C:\\Users\\Patryk\\anaconda3\\lib\\site-packages\\sklearn\\metrics\\_classification.py:1248: UndefinedMetricWarning: Precision and F-score are ill-defined and being set to 0.0 in labels with no predicted samples. Use `zero_division` parameter to control this behavior.\n",
      "  _warn_prf(average, modifier, msg_start, len(result))\n"
     ]
    },
    {
     "name": "stdout",
     "output_type": "stream",
     "text": [
      "Time: : 57 sec\n",
      "fitting RF - unbalanced\n"
     ]
    },
    {
     "name": "stderr",
     "output_type": "stream",
     "text": [
      "C:\\Users\\Patryk\\AppData\\Local\\Temp/ipykernel_11088/3929577395.py:91: DataConversionWarning: A column-vector y was passed when a 1d array was expected. Please change the shape of y to (n_samples,), for example using ravel().\n",
      "  model2.fit(X_pcab, y_trainb)\n"
     ]
    },
    {
     "name": "stdout",
     "output_type": "stream",
     "text": [
      "Time: : 64 sec\n",
      "fitting NB - unbalanced\n"
     ]
    },
    {
     "name": "stderr",
     "output_type": "stream",
     "text": [
      "C:\\Users\\Patryk\\anaconda3\\lib\\site-packages\\sklearn\\utils\\validation.py:63: DataConversionWarning: A column-vector y was passed when a 1d array was expected. Please change the shape of y to (n_samples, ), for example using ravel().\n",
      "  return f(*args, **kwargs)\n"
     ]
    },
    {
     "name": "stdout",
     "output_type": "stream",
     "text": [
      "Time: : 2.1 sec\n",
      "@@@@@@@@@@@@ max features of TfIdf:  1100\n",
      "fitting SVM - unbalanced\n"
     ]
    },
    {
     "name": "stderr",
     "output_type": "stream",
     "text": [
      "C:\\Users\\Patryk\\anaconda3\\lib\\site-packages\\sklearn\\utils\\validation.py:63: DataConversionWarning: A column-vector y was passed when a 1d array was expected. Please change the shape of y to (n_samples, ), for example using ravel().\n",
      "  return f(*args, **kwargs)\n",
      "C:\\Users\\Patryk\\anaconda3\\lib\\site-packages\\sklearn\\svm\\_base.py:985: ConvergenceWarning: Liblinear failed to converge, increase the number of iterations.\n",
      "  warnings.warn(\"Liblinear failed to converge, increase \"\n",
      "C:\\Users\\Patryk\\anaconda3\\lib\\site-packages\\sklearn\\metrics\\_classification.py:1248: UndefinedMetricWarning: Precision and F-score are ill-defined and being set to 0.0 in labels with no predicted samples. Use `zero_division` parameter to control this behavior.\n",
      "  _warn_prf(average, modifier, msg_start, len(result))\n"
     ]
    },
    {
     "name": "stdout",
     "output_type": "stream",
     "text": [
      "Time: : 58 sec\n",
      "fitting RF - unbalanced\n"
     ]
    },
    {
     "name": "stderr",
     "output_type": "stream",
     "text": [
      "C:\\Users\\Patryk\\AppData\\Local\\Temp/ipykernel_11088/3929577395.py:91: DataConversionWarning: A column-vector y was passed when a 1d array was expected. Please change the shape of y to (n_samples,), for example using ravel().\n",
      "  model2.fit(X_pcab, y_trainb)\n"
     ]
    },
    {
     "name": "stdout",
     "output_type": "stream",
     "text": [
      "Time: : 69 sec\n",
      "fitting NB - unbalanced\n"
     ]
    },
    {
     "name": "stderr",
     "output_type": "stream",
     "text": [
      "C:\\Users\\Patryk\\anaconda3\\lib\\site-packages\\sklearn\\utils\\validation.py:63: DataConversionWarning: A column-vector y was passed when a 1d array was expected. Please change the shape of y to (n_samples, ), for example using ravel().\n",
      "  return f(*args, **kwargs)\n"
     ]
    },
    {
     "name": "stdout",
     "output_type": "stream",
     "text": [
      "Time: : 2.7 sec\n",
      "@@@@@@@@@@@@ max features of TfIdf:  1300\n",
      "fitting SVM - unbalanced\n"
     ]
    },
    {
     "name": "stderr",
     "output_type": "stream",
     "text": [
      "C:\\Users\\Patryk\\anaconda3\\lib\\site-packages\\sklearn\\utils\\validation.py:63: DataConversionWarning: A column-vector y was passed when a 1d array was expected. Please change the shape of y to (n_samples, ), for example using ravel().\n",
      "  return f(*args, **kwargs)\n",
      "C:\\Users\\Patryk\\anaconda3\\lib\\site-packages\\sklearn\\svm\\_base.py:985: ConvergenceWarning: Liblinear failed to converge, increase the number of iterations.\n",
      "  warnings.warn(\"Liblinear failed to converge, increase \"\n"
     ]
    },
    {
     "name": "stdout",
     "output_type": "stream",
     "text": [
      "Time: : 64 sec\n",
      "fitting RF - unbalanced\n"
     ]
    },
    {
     "name": "stderr",
     "output_type": "stream",
     "text": [
      "C:\\Users\\Patryk\\AppData\\Local\\Temp/ipykernel_11088/3929577395.py:91: DataConversionWarning: A column-vector y was passed when a 1d array was expected. Please change the shape of y to (n_samples,), for example using ravel().\n",
      "  model2.fit(X_pcab, y_trainb)\n"
     ]
    },
    {
     "name": "stdout",
     "output_type": "stream",
     "text": [
      "Time: : 77 sec\n",
      "fitting NB - unbalanced\n"
     ]
    },
    {
     "name": "stderr",
     "output_type": "stream",
     "text": [
      "C:\\Users\\Patryk\\anaconda3\\lib\\site-packages\\sklearn\\utils\\validation.py:63: DataConversionWarning: A column-vector y was passed when a 1d array was expected. Please change the shape of y to (n_samples, ), for example using ravel().\n",
      "  return f(*args, **kwargs)\n"
     ]
    },
    {
     "name": "stdout",
     "output_type": "stream",
     "text": [
      "Time: : 3.2 sec\n"
     ]
    }
   ],
   "source": [
    "method_name = \"TfIdf-max_features\"\n",
    "\n",
    "for i in range(100,800, 200):\n",
    "    \n",
    "\n",
    "    print(\"@@@@@@@@@@@@ max features of TfIdf: \", i)\n",
    "    \n",
    "        \n",
    "    vectorizer1 = TfidfVectorizer(stop_words = 'english', max_features=i)\n",
    "    vectorizer2 = TfidfVectorizer(stop_words = 'english', max_features=i)\n",
    "\n",
    "\n",
    "    X_pcab, y_trainb = datasetToTfIdfPredictorsAndLabels(X__train, vectorizer1, vectorizer2)\n",
    "    X_pca_testb, y_testb = datasetToTfIdfPredictorsAndLabelsForTest(X__test, vectorizer1, vectorizer2)\n",
    "\n",
    "    print(\"fitting SVM - unbalanced\")\n",
    "    t0 = time()\n",
    "    # trained on balanced dataset\n",
    "    model.fit(X_pcab, y_trainb)\n",
    "    acc = model.score(X_pca_testb, y_testb)\n",
    "    y_pred = model.predict(X_pca_testb)\n",
    "    prf = precision_recall_fscore_support(y_testb, y_pred, average = 'weighted')\n",
    "    df = df.append({'method': method_name, 'model':'SVM', 'n_components': i, 'n_neighbors': -1, 'accuracy': acc, 'train': 'unbalanced', 'test': 'unbalanced', 'precision': prf[0], 'recall': prf[1], 'f1': prf[2]}, ignore_index=True)\n",
    "    t1 = time()\n",
    "    print(\"%s: %.2g sec\" % ('Time: ', t1 - t0))\n",
    "\n",
    "    print(\"fitting RF - unbalanced\")\n",
    "    t0 = time()\n",
    "    # trained on balanced dataset\n",
    "    model2.fit(X_pcab, y_trainb)\n",
    "    acc = model2.score(X_pca_testb, y_testb)\n",
    "    y_pred = model2.predict(X_pca_testb)\n",
    "    prf = precision_recall_fscore_support(y_testb, y_pred, average = 'weighted')\n",
    "    df = df.append({'method': method_name, 'model':'RF', 'n_components': i, 'n_neighbors': -1, 'accuracy': acc, 'train': 'unbalanced', 'test': 'unbalanced', 'precision': prf[0], 'recall': prf[1], 'f1': prf[2]}, ignore_index=True)\n",
    "    t1 = time()\n",
    "    print(\"%s: %.2g sec\" % ('Time: ', t1 - t0))\n",
    "\n",
    "    print(\"fitting NB - unbalanced\")\n",
    "    t0 = time()\n",
    "    # trained on balanced dataset\n",
    "    model3.fit(X_pcab, y_trainb)\n",
    "    acc = model3.score(X_pca_testb, y_testb)\n",
    "    y_pred = model3.predict(X_pca_testb)\n",
    "    prf = precision_recall_fscore_support(y_testb, y_pred, average = 'weighted')\n",
    "    df = df.append({'method': method_name, 'model':'NB', 'n_components': i, 'n_neighbors': -1, 'accuracy': acc, 'train': 'unbalanced', 'test': 'unbalanced', 'precision': prf[0], 'recall': prf[1], 'f1': prf[2]}, ignore_index=True)\n",
    "    t1 = time()\n",
    "    print(\"%s: %.2g sec\" % ('Time: ', t1 - t0))\n",
    "    \n",
    "    # save the model to disk\n",
    "    filename = 'svm_model_'+ str(i) +'.sav'\n",
    "    pickle.dump(model, open(filename, 'wb'))\n",
    "    \n",
    "    # save the model to disk\n",
    "    filename = 'rf_model_'+ str(i) +'.sav'\n",
    "    pickle.dump(model2, open(filename, 'wb'))\n",
    "    \n",
    "    # save the model to disk\n",
    "    filename = 'nb_model_'+ str(i) +'.sav'\n",
    "    pickle.dump(model3, open(filename, 'wb'))\n",
    "\n",
    "\n",
    "df.to_csv(\"AITA-TfIdf-unbalanced-2.csv\")\n",
    "\n",
    "for i in range(900,1500, 200):\n",
    "    \n",
    "\n",
    "    print(\"@@@@@@@@@@@@ max features of TfIdf: \", i)\n",
    "    \n",
    "        \n",
    "    vectorizer1 = TfidfVectorizer(stop_words = 'english', max_features=i)\n",
    "    vectorizer2 = TfidfVectorizer(stop_words = 'english', max_features=i)\n",
    "\n",
    "\n",
    "    X_pcab, y_trainb = datasetToTfIdfPredictorsAndLabels(X__train, vectorizer1, vectorizer2)\n",
    "    X_pca_testb, y_testb = datasetToTfIdfPredictorsAndLabelsForTest(X__test, vectorizer1, vectorizer2)\n",
    "\n",
    "    print(\"fitting SVM - unbalanced\")\n",
    "    t0 = time()\n",
    "    # trained on balanced dataset\n",
    "    model.fit(X_pcab, y_trainb)\n",
    "    acc = model.score(X_pca_testb, y_testb)\n",
    "    y_pred = model.predict(X_pca_testb)\n",
    "    prf = precision_recall_fscore_support(y_testb, y_pred, average = 'weighted')\n",
    "    df = df.append({'method': method_name, 'model':'SVM', 'n_components': i, 'n_neighbors': -1, 'accuracy': acc, 'train': 'unbalanced', 'test': 'unbalanced', 'precision': prf[0], 'recall': prf[1], 'f1': prf[2]}, ignore_index=True)\n",
    "    t1 = time()\n",
    "    print(\"%s: %.2g sec\" % ('Time: ', t1 - t0))\n",
    "\n",
    "    print(\"fitting RF - unbalanced\")\n",
    "    t0 = time()\n",
    "    # trained on balanced dataset\n",
    "    model2.fit(X_pcab, y_trainb)\n",
    "    acc = model2.score(X_pca_testb, y_testb)\n",
    "    y_pred = model2.predict(X_pca_testb)\n",
    "    prf = precision_recall_fscore_support(y_testb, y_pred, average = 'weighted')\n",
    "    df = df.append({'method': method_name, 'model':'RF', 'n_components': i, 'n_neighbors': -1, 'accuracy': acc, 'train': 'unbalanced', 'test': 'unbalanced', 'precision': prf[0], 'recall': prf[1], 'f1': prf[2]}, ignore_index=True)\n",
    "    t1 = time()\n",
    "    print(\"%s: %.2g sec\" % ('Time: ', t1 - t0))\n",
    "\n",
    "    print(\"fitting NB - unbalanced\")\n",
    "    t0 = time()\n",
    "    # trained on balanced dataset\n",
    "    model3.fit(X_pcab, y_trainb)\n",
    "    acc = model3.score(X_pca_testb, y_testb)\n",
    "    y_pred = model3.predict(X_pca_testb)\n",
    "    prf = precision_recall_fscore_support(y_testb, y_pred, average = 'weighted')\n",
    "    df = df.append({'method': method_name, 'model':'NB', 'n_components': i, 'n_neighbors': -1, 'accuracy': acc, 'train': 'unbalanced', 'test': 'unbalanced', 'precision': prf[0], 'recall': prf[1], 'f1': prf[2]}, ignore_index=True)\n",
    "    t1 = time()\n",
    "    print(\"%s: %.2g sec\" % ('Time: ', t1 - t0))\n",
    "    \n",
    "    # save the model to disk\n",
    "    filename = 'svm_model_'+ str(i) +'.sav'\n",
    "    pickle.dump(model, open(filename, 'wb'))\n",
    "    \n",
    "    # save the model to disk\n",
    "    filename = 'rf_model_'+ str(i) +'.sav'\n",
    "    pickle.dump(model2, open(filename, 'wb'))\n",
    "    \n",
    "    # save the model to disk\n",
    "    filename = 'nb_model_'+ str(i) +'.sav'\n",
    "    pickle.dump(model3, open(filename, 'wb'))\n",
    "\n",
    "\n",
    "df.to_csv(\"AITA-TfIdf-unbalanced-3.csv\")"
   ]
  },
  {
   "cell_type": "code",
   "execution_count": 14,
   "id": "fedd6987",
   "metadata": {},
   "outputs": [],
   "source": [
    "df_wide = df.pivot(\"n_components\", \"model\", \"f1\")"
   ]
  },
  {
   "cell_type": "code",
   "execution_count": 17,
   "id": "10102ecf",
   "metadata": {
    "scrolled": true
   },
   "outputs": [
    {
     "data": {
      "text/plain": [
       "Text(1020, 0.085, 'Random model')"
      ]
     },
     "execution_count": 17,
     "metadata": {},
     "output_type": "execute_result"
    },
    {
     "data": {
      "image/png": "[encoded data removed]",
      "text/plain": [
       "<Figure size 432x288 with 1 Axes>"
      ]
     },
     "metadata": {
      "needs_background": "light"
     },
     "output_type": "display_data"
    }
   ],
   "source": [
    "\n",
    "p = sns.lineplot(data=df_wide)\n",
    "p.set(ylim=(0., 0.6))\n",
    "p.set_xlabel('N of features from TfIdf (title and text)')\n",
    "p.set_ylabel('F1-Score')\n",
    "\n",
    "p.set_title('Impact of TfIdf max_features - AITA dataset')\n",
    "\n",
    "p.axhline(0.1, ls='--')\n",
    "p.text(1020, 0.085, \"Random model\")"
   ]
  },
  {
   "cell_type": "code",
   "execution_count": 18,
   "id": "2caca366",
   "metadata": {
    "scrolled": true
   },
   "outputs": [
    {
     "data": {
      "text/html": [
       "<div>\n",
       "<style scoped>\n",
       "    .dataframe tbody tr th:only-of-type {\n",
       "        vertical-align: middle;\n",
       "    }\n",
       "\n",
       "    .dataframe tbody tr th {\n",
       "        vertical-align: top;\n",
       "    }\n",
       "\n",
       "    .dataframe thead th {\n",
       "        text-align: right;\n",
       "    }\n",
       "</style>\n",
       "<table border=\"1\" class=\"dataframe\">\n",
       "  <thead>\n",
       "    <tr style=\"text-align: right;\">\n",
       "      <th></th>\n",
       "      <th>method</th>\n",
       "      <th>model</th>\n",
       "      <th>n_components</th>\n",
       "      <th>n_neighbors</th>\n",
       "      <th>accuracy</th>\n",
       "      <th>train</th>\n",
       "      <th>test</th>\n",
       "      <th>precision</th>\n",
       "      <th>recall</th>\n",
       "      <th>f1</th>\n",
       "    </tr>\n",
       "  </thead>\n",
       "  <tbody>\n",
       "    <tr>\n",
       "      <th>18</th>\n",
       "      <td>TfIdf-max_features</td>\n",
       "      <td>SVM</td>\n",
       "      <td>300</td>\n",
       "      <td>-1</td>\n",
       "      <td>0.5860</td>\n",
       "      <td>unbalanced</td>\n",
       "      <td>unbalanced</td>\n",
       "      <td>0.463680</td>\n",
       "      <td>0.5860</td>\n",
       "      <td>0.508764</td>\n",
       "    </tr>\n",
       "    <tr>\n",
       "      <th>22</th>\n",
       "      <td>TfIdf-max_features</td>\n",
       "      <td>RF</td>\n",
       "      <td>500</td>\n",
       "      <td>-1</td>\n",
       "      <td>0.6225</td>\n",
       "      <td>unbalanced</td>\n",
       "      <td>unbalanced</td>\n",
       "      <td>0.562040</td>\n",
       "      <td>0.6225</td>\n",
       "      <td>0.502270</td>\n",
       "    </tr>\n",
       "    <tr>\n",
       "      <th>16</th>\n",
       "      <td>TfIdf-max_features</td>\n",
       "      <td>RF</td>\n",
       "      <td>100</td>\n",
       "      <td>-1</td>\n",
       "      <td>0.6105</td>\n",
       "      <td>unbalanced</td>\n",
       "      <td>unbalanced</td>\n",
       "      <td>0.515075</td>\n",
       "      <td>0.6105</td>\n",
       "      <td>0.500049</td>\n",
       "    </tr>\n",
       "    <tr>\n",
       "      <th>31</th>\n",
       "      <td>TfIdf-max_features</td>\n",
       "      <td>RF</td>\n",
       "      <td>1100</td>\n",
       "      <td>-1</td>\n",
       "      <td>0.6200</td>\n",
       "      <td>unbalanced</td>\n",
       "      <td>unbalanced</td>\n",
       "      <td>0.547323</td>\n",
       "      <td>0.6200</td>\n",
       "      <td>0.496923</td>\n",
       "    </tr>\n",
       "    <tr>\n",
       "      <th>19</th>\n",
       "      <td>TfIdf-max_features</td>\n",
       "      <td>RF</td>\n",
       "      <td>300</td>\n",
       "      <td>-1</td>\n",
       "      <td>0.6130</td>\n",
       "      <td>unbalanced</td>\n",
       "      <td>unbalanced</td>\n",
       "      <td>0.514542</td>\n",
       "      <td>0.6130</td>\n",
       "      <td>0.496379</td>\n",
       "    </tr>\n",
       "    <tr>\n",
       "      <th>28</th>\n",
       "      <td>TfIdf-max_features</td>\n",
       "      <td>RF</td>\n",
       "      <td>900</td>\n",
       "      <td>-1</td>\n",
       "      <td>0.6195</td>\n",
       "      <td>unbalanced</td>\n",
       "      <td>unbalanced</td>\n",
       "      <td>0.536553</td>\n",
       "      <td>0.6195</td>\n",
       "      <td>0.494733</td>\n",
       "    </tr>\n",
       "    <tr>\n",
       "      <th>34</th>\n",
       "      <td>TfIdf-max_features</td>\n",
       "      <td>RF</td>\n",
       "      <td>1300</td>\n",
       "      <td>-1</td>\n",
       "      <td>0.6180</td>\n",
       "      <td>unbalanced</td>\n",
       "      <td>unbalanced</td>\n",
       "      <td>0.533077</td>\n",
       "      <td>0.6180</td>\n",
       "      <td>0.493350</td>\n",
       "    </tr>\n",
       "    <tr>\n",
       "      <th>25</th>\n",
       "      <td>TfIdf-max_features</td>\n",
       "      <td>RF</td>\n",
       "      <td>700</td>\n",
       "      <td>-1</td>\n",
       "      <td>0.6175</td>\n",
       "      <td>unbalanced</td>\n",
       "      <td>unbalanced</td>\n",
       "      <td>0.501364</td>\n",
       "      <td>0.6175</td>\n",
       "      <td>0.491800</td>\n",
       "    </tr>\n",
       "    <tr>\n",
       "      <th>13</th>\n",
       "      <td>TfIdf-max_features</td>\n",
       "      <td>RF</td>\n",
       "      <td>85</td>\n",
       "      <td>-1</td>\n",
       "      <td>0.6025</td>\n",
       "      <td>unbalanced</td>\n",
       "      <td>unbalanced</td>\n",
       "      <td>0.482535</td>\n",
       "      <td>0.6025</td>\n",
       "      <td>0.490064</td>\n",
       "    </tr>\n",
       "    <tr>\n",
       "      <th>10</th>\n",
       "      <td>TfIdf-max_features</td>\n",
       "      <td>RF</td>\n",
       "      <td>65</td>\n",
       "      <td>-1</td>\n",
       "      <td>0.5990</td>\n",
       "      <td>unbalanced</td>\n",
       "      <td>unbalanced</td>\n",
       "      <td>0.475885</td>\n",
       "      <td>0.5990</td>\n",
       "      <td>0.487992</td>\n",
       "    </tr>\n",
       "    <tr>\n",
       "      <th>30</th>\n",
       "      <td>TfIdf-max_features</td>\n",
       "      <td>SVM</td>\n",
       "      <td>1100</td>\n",
       "      <td>-1</td>\n",
       "      <td>0.6200</td>\n",
       "      <td>unbalanced</td>\n",
       "      <td>unbalanced</td>\n",
       "      <td>0.463726</td>\n",
       "      <td>0.6200</td>\n",
       "      <td>0.481006</td>\n",
       "    </tr>\n",
       "    <tr>\n",
       "      <th>24</th>\n",
       "      <td>TfIdf-max_features</td>\n",
       "      <td>SVM</td>\n",
       "      <td>700</td>\n",
       "      <td>-1</td>\n",
       "      <td>0.6160</td>\n",
       "      <td>unbalanced</td>\n",
       "      <td>unbalanced</td>\n",
       "      <td>0.424420</td>\n",
       "      <td>0.6160</td>\n",
       "      <td>0.478776</td>\n",
       "    </tr>\n",
       "    <tr>\n",
       "      <th>4</th>\n",
       "      <td>TfIdf-max_features</td>\n",
       "      <td>RF</td>\n",
       "      <td>25</td>\n",
       "      <td>-1</td>\n",
       "      <td>0.5785</td>\n",
       "      <td>unbalanced</td>\n",
       "      <td>unbalanced</td>\n",
       "      <td>0.455876</td>\n",
       "      <td>0.5785</td>\n",
       "      <td>0.476938</td>\n",
       "    </tr>\n",
       "    <tr>\n",
       "      <th>21</th>\n",
       "      <td>TfIdf-max_features</td>\n",
       "      <td>SVM</td>\n",
       "      <td>500</td>\n",
       "      <td>-1</td>\n",
       "      <td>0.6160</td>\n",
       "      <td>unbalanced</td>\n",
       "      <td>unbalanced</td>\n",
       "      <td>0.424887</td>\n",
       "      <td>0.6160</td>\n",
       "      <td>0.476307</td>\n",
       "    </tr>\n",
       "    <tr>\n",
       "      <th>15</th>\n",
       "      <td>TfIdf-max_features</td>\n",
       "      <td>SVM</td>\n",
       "      <td>100</td>\n",
       "      <td>-1</td>\n",
       "      <td>0.5330</td>\n",
       "      <td>unbalanced</td>\n",
       "      <td>unbalanced</td>\n",
       "      <td>0.463706</td>\n",
       "      <td>0.5330</td>\n",
       "      <td>0.476289</td>\n",
       "    </tr>\n",
       "    <tr>\n",
       "      <th>7</th>\n",
       "      <td>TfIdf-max_features</td>\n",
       "      <td>RF</td>\n",
       "      <td>45</td>\n",
       "      <td>-1</td>\n",
       "      <td>0.5835</td>\n",
       "      <td>unbalanced</td>\n",
       "      <td>unbalanced</td>\n",
       "      <td>0.460285</td>\n",
       "      <td>0.5835</td>\n",
       "      <td>0.474540</td>\n",
       "    </tr>\n",
       "    <tr>\n",
       "      <th>1</th>\n",
       "      <td>TfIdf-max_features</td>\n",
       "      <td>RF</td>\n",
       "      <td>5</td>\n",
       "      <td>-1</td>\n",
       "      <td>0.5630</td>\n",
       "      <td>unbalanced</td>\n",
       "      <td>unbalanced</td>\n",
       "      <td>0.438667</td>\n",
       "      <td>0.5630</td>\n",
       "      <td>0.470424</td>\n",
       "    </tr>\n",
       "    <tr>\n",
       "      <th>9</th>\n",
       "      <td>TfIdf-max_features</td>\n",
       "      <td>SVM</td>\n",
       "      <td>65</td>\n",
       "      <td>-1</td>\n",
       "      <td>0.6100</td>\n",
       "      <td>unbalanced</td>\n",
       "      <td>unbalanced</td>\n",
       "      <td>0.376292</td>\n",
       "      <td>0.6100</td>\n",
       "      <td>0.464013</td>\n",
       "    </tr>\n",
       "    <tr>\n",
       "      <th>3</th>\n",
       "      <td>TfIdf-max_features</td>\n",
       "      <td>SVM</td>\n",
       "      <td>25</td>\n",
       "      <td>-1</td>\n",
       "      <td>0.4895</td>\n",
       "      <td>unbalanced</td>\n",
       "      <td>unbalanced</td>\n",
       "      <td>0.425551</td>\n",
       "      <td>0.4895</td>\n",
       "      <td>0.453098</td>\n",
       "    </tr>\n",
       "    <tr>\n",
       "      <th>2</th>\n",
       "      <td>TfIdf-max_features</td>\n",
       "      <td>NB</td>\n",
       "      <td>5</td>\n",
       "      <td>-1</td>\n",
       "      <td>0.4760</td>\n",
       "      <td>unbalanced</td>\n",
       "      <td>unbalanced</td>\n",
       "      <td>0.444654</td>\n",
       "      <td>0.4760</td>\n",
       "      <td>0.433854</td>\n",
       "    </tr>\n",
       "    <tr>\n",
       "      <th>5</th>\n",
       "      <td>TfIdf-max_features</td>\n",
       "      <td>NB</td>\n",
       "      <td>25</td>\n",
       "      <td>-1</td>\n",
       "      <td>0.3005</td>\n",
       "      <td>unbalanced</td>\n",
       "      <td>unbalanced</td>\n",
       "      <td>0.479883</td>\n",
       "      <td>0.3005</td>\n",
       "      <td>0.351442</td>\n",
       "    </tr>\n",
       "    <tr>\n",
       "      <th>27</th>\n",
       "      <td>TfIdf-max_features</td>\n",
       "      <td>SVM</td>\n",
       "      <td>900</td>\n",
       "      <td>-1</td>\n",
       "      <td>0.2970</td>\n",
       "      <td>unbalanced</td>\n",
       "      <td>unbalanced</td>\n",
       "      <td>0.386802</td>\n",
       "      <td>0.2970</td>\n",
       "      <td>0.326742</td>\n",
       "    </tr>\n",
       "    <tr>\n",
       "      <th>12</th>\n",
       "      <td>TfIdf-max_features</td>\n",
       "      <td>SVM</td>\n",
       "      <td>85</td>\n",
       "      <td>-1</td>\n",
       "      <td>0.3225</td>\n",
       "      <td>unbalanced</td>\n",
       "      <td>unbalanced</td>\n",
       "      <td>0.369215</td>\n",
       "      <td>0.3225</td>\n",
       "      <td>0.318736</td>\n",
       "    </tr>\n",
       "    <tr>\n",
       "      <th>8</th>\n",
       "      <td>TfIdf-max_features</td>\n",
       "      <td>NB</td>\n",
       "      <td>45</td>\n",
       "      <td>-1</td>\n",
       "      <td>0.2100</td>\n",
       "      <td>unbalanced</td>\n",
       "      <td>unbalanced</td>\n",
       "      <td>0.480058</td>\n",
       "      <td>0.2100</td>\n",
       "      <td>0.266702</td>\n",
       "    </tr>\n",
       "    <tr>\n",
       "      <th>11</th>\n",
       "      <td>TfIdf-max_features</td>\n",
       "      <td>NB</td>\n",
       "      <td>65</td>\n",
       "      <td>-1</td>\n",
       "      <td>0.2010</td>\n",
       "      <td>unbalanced</td>\n",
       "      <td>unbalanced</td>\n",
       "      <td>0.486980</td>\n",
       "      <td>0.2010</td>\n",
       "      <td>0.250937</td>\n",
       "    </tr>\n",
       "    <tr>\n",
       "      <th>14</th>\n",
       "      <td>TfIdf-max_features</td>\n",
       "      <td>NB</td>\n",
       "      <td>85</td>\n",
       "      <td>-1</td>\n",
       "      <td>0.1795</td>\n",
       "      <td>unbalanced</td>\n",
       "      <td>unbalanced</td>\n",
       "      <td>0.478731</td>\n",
       "      <td>0.1795</td>\n",
       "      <td>0.229073</td>\n",
       "    </tr>\n",
       "    <tr>\n",
       "      <th>17</th>\n",
       "      <td>TfIdf-max_features</td>\n",
       "      <td>NB</td>\n",
       "      <td>100</td>\n",
       "      <td>-1</td>\n",
       "      <td>0.1590</td>\n",
       "      <td>unbalanced</td>\n",
       "      <td>unbalanced</td>\n",
       "      <td>0.482176</td>\n",
       "      <td>0.1590</td>\n",
       "      <td>0.202001</td>\n",
       "    </tr>\n",
       "    <tr>\n",
       "      <th>33</th>\n",
       "      <td>TfIdf-max_features</td>\n",
       "      <td>SVM</td>\n",
       "      <td>1300</td>\n",
       "      <td>-1</td>\n",
       "      <td>0.2335</td>\n",
       "      <td>unbalanced</td>\n",
       "      <td>unbalanced</td>\n",
       "      <td>0.448926</td>\n",
       "      <td>0.2335</td>\n",
       "      <td>0.179823</td>\n",
       "    </tr>\n",
       "    <tr>\n",
       "      <th>20</th>\n",
       "      <td>TfIdf-max_features</td>\n",
       "      <td>NB</td>\n",
       "      <td>300</td>\n",
       "      <td>-1</td>\n",
       "      <td>0.1170</td>\n",
       "      <td>unbalanced</td>\n",
       "      <td>unbalanced</td>\n",
       "      <td>0.496329</td>\n",
       "      <td>0.1170</td>\n",
       "      <td>0.137842</td>\n",
       "    </tr>\n",
       "    <tr>\n",
       "      <th>6</th>\n",
       "      <td>TfIdf-max_features</td>\n",
       "      <td>SVM</td>\n",
       "      <td>45</td>\n",
       "      <td>-1</td>\n",
       "      <td>0.1990</td>\n",
       "      <td>unbalanced</td>\n",
       "      <td>unbalanced</td>\n",
       "      <td>0.377463</td>\n",
       "      <td>0.1990</td>\n",
       "      <td>0.133005</td>\n",
       "    </tr>\n",
       "    <tr>\n",
       "      <th>23</th>\n",
       "      <td>TfIdf-max_features</td>\n",
       "      <td>NB</td>\n",
       "      <td>500</td>\n",
       "      <td>-1</td>\n",
       "      <td>0.1020</td>\n",
       "      <td>unbalanced</td>\n",
       "      <td>unbalanced</td>\n",
       "      <td>0.487450</td>\n",
       "      <td>0.1020</td>\n",
       "      <td>0.115824</td>\n",
       "    </tr>\n",
       "    <tr>\n",
       "      <th>26</th>\n",
       "      <td>TfIdf-max_features</td>\n",
       "      <td>NB</td>\n",
       "      <td>700</td>\n",
       "      <td>-1</td>\n",
       "      <td>0.0775</td>\n",
       "      <td>unbalanced</td>\n",
       "      <td>unbalanced</td>\n",
       "      <td>0.467158</td>\n",
       "      <td>0.0775</td>\n",
       "      <td>0.081851</td>\n",
       "    </tr>\n",
       "    <tr>\n",
       "      <th>29</th>\n",
       "      <td>TfIdf-max_features</td>\n",
       "      <td>NB</td>\n",
       "      <td>900</td>\n",
       "      <td>-1</td>\n",
       "      <td>0.0615</td>\n",
       "      <td>unbalanced</td>\n",
       "      <td>unbalanced</td>\n",
       "      <td>0.515144</td>\n",
       "      <td>0.0615</td>\n",
       "      <td>0.059753</td>\n",
       "    </tr>\n",
       "    <tr>\n",
       "      <th>0</th>\n",
       "      <td>TfIdf-max_features</td>\n",
       "      <td>SVM</td>\n",
       "      <td>5</td>\n",
       "      <td>-1</td>\n",
       "      <td>0.1760</td>\n",
       "      <td>unbalanced</td>\n",
       "      <td>unbalanced</td>\n",
       "      <td>0.330347</td>\n",
       "      <td>0.1760</td>\n",
       "      <td>0.053469</td>\n",
       "    </tr>\n",
       "    <tr>\n",
       "      <th>32</th>\n",
       "      <td>TfIdf-max_features</td>\n",
       "      <td>NB</td>\n",
       "      <td>1100</td>\n",
       "      <td>-1</td>\n",
       "      <td>0.0465</td>\n",
       "      <td>unbalanced</td>\n",
       "      <td>unbalanced</td>\n",
       "      <td>0.531314</td>\n",
       "      <td>0.0465</td>\n",
       "      <td>0.037697</td>\n",
       "    </tr>\n",
       "    <tr>\n",
       "      <th>35</th>\n",
       "      <td>TfIdf-max_features</td>\n",
       "      <td>NB</td>\n",
       "      <td>1300</td>\n",
       "      <td>-1</td>\n",
       "      <td>0.0355</td>\n",
       "      <td>unbalanced</td>\n",
       "      <td>unbalanced</td>\n",
       "      <td>0.439307</td>\n",
       "      <td>0.0355</td>\n",
       "      <td>0.021674</td>\n",
       "    </tr>\n",
       "  </tbody>\n",
       "</table>\n",
       "</div>"
      ],
      "text/plain": [
       "                method model n_components n_neighbors  accuracy       train  \\\n",
       "18  TfIdf-max_features   SVM          300          -1    0.5860  unbalanced   \n",
       "22  TfIdf-max_features    RF          500          -1    0.6225  unbalanced   \n",
       "16  TfIdf-max_features    RF          100          -1    0.6105  unbalanced   \n",
       "31  TfIdf-max_features    RF         1100          -1    0.6200  unbalanced   \n",
       "19  TfIdf-max_features    RF          300          -1    0.6130  unbalanced   \n",
       "28  TfIdf-max_features    RF          900          -1    0.6195  unbalanced   \n",
       "34  TfIdf-max_features    RF         1300          -1    0.6180  unbalanced   \n",
       "25  TfIdf-max_features    RF          700          -1    0.6175  unbalanced   \n",
       "13  TfIdf-max_features    RF           85          -1    0.6025  unbalanced   \n",
       "10  TfIdf-max_features    RF           65          -1    0.5990  unbalanced   \n",
       "30  TfIdf-max_features   SVM         1100          -1    0.6200  unbalanced   \n",
       "24  TfIdf-max_features   SVM          700          -1    0.6160  unbalanced   \n",
       "4   TfIdf-max_features    RF           25          -1    0.5785  unbalanced   \n",
       "21  TfIdf-max_features   SVM          500          -1    0.6160  unbalanced   \n",
       "15  TfIdf-max_features   SVM          100          -1    0.5330  unbalanced   \n",
       "7   TfIdf-max_features    RF           45          -1    0.5835  unbalanced   \n",
       "1   TfIdf-max_features    RF            5          -1    0.5630  unbalanced   \n",
       "9   TfIdf-max_features   SVM           65          -1    0.6100  unbalanced   \n",
       "3   TfIdf-max_features   SVM           25          -1    0.4895  unbalanced   \n",
       "2   TfIdf-max_features    NB            5          -1    0.4760  unbalanced   \n",
       "5   TfIdf-max_features    NB           25          -1    0.3005  unbalanced   \n",
       "27  TfIdf-max_features   SVM          900          -1    0.2970  unbalanced   \n",
       "12  TfIdf-max_features   SVM           85          -1    0.3225  unbalanced   \n",
       "8   TfIdf-max_features    NB           45          -1    0.2100  unbalanced   \n",
       "11  TfIdf-max_features    NB           65          -1    0.2010  unbalanced   \n",
       "14  TfIdf-max_features    NB           85          -1    0.1795  unbalanced   \n",
       "17  TfIdf-max_features    NB          100          -1    0.1590  unbalanced   \n",
       "33  TfIdf-max_features   SVM         1300          -1    0.2335  unbalanced   \n",
       "20  TfIdf-max_features    NB          300          -1    0.1170  unbalanced   \n",
       "6   TfIdf-max_features   SVM           45          -1    0.1990  unbalanced   \n",
       "23  TfIdf-max_features    NB          500          -1    0.1020  unbalanced   \n",
       "26  TfIdf-max_features    NB          700          -1    0.0775  unbalanced   \n",
       "29  TfIdf-max_features    NB          900          -1    0.0615  unbalanced   \n",
       "0   TfIdf-max_features   SVM            5          -1    0.1760  unbalanced   \n",
       "32  TfIdf-max_features    NB         1100          -1    0.0465  unbalanced   \n",
       "35  TfIdf-max_features    NB         1300          -1    0.0355  unbalanced   \n",
       "\n",
       "          test  precision  recall        f1  \n",
       "18  unbalanced   0.463680  0.5860  0.508764  \n",
       "22  unbalanced   0.562040  0.6225  0.502270  \n",
       "16  unbalanced   0.515075  0.6105  0.500049  \n",
       "31  unbalanced   0.547323  0.6200  0.496923  \n",
       "19  unbalanced   0.514542  0.6130  0.496379  \n",
       "28  unbalanced   0.536553  0.6195  0.494733  \n",
       "34  unbalanced   0.533077  0.6180  0.493350  \n",
       "25  unbalanced   0.501364  0.6175  0.491800  \n",
       "13  unbalanced   0.482535  0.6025  0.490064  \n",
       "10  unbalanced   0.475885  0.5990  0.487992  \n",
       "30  unbalanced   0.463726  0.6200  0.481006  \n",
       "24  unbalanced   0.424420  0.6160  0.478776  \n",
       "4   unbalanced   0.455876  0.5785  0.476938  \n",
       "21  unbalanced   0.424887  0.6160  0.476307  \n",
       "15  unbalanced   0.463706  0.5330  0.476289  \n",
       "7   unbalanced   0.460285  0.5835  0.474540  \n",
       "1   unbalanced   0.438667  0.5630  0.470424  \n",
       "9   unbalanced   0.376292  0.6100  0.464013  \n",
       "3   unbalanced   0.425551  0.4895  0.453098  \n",
       "2   unbalanced   0.444654  0.4760  0.433854  \n",
       "5   unbalanced   0.479883  0.3005  0.351442  \n",
       "27  unbalanced   0.386802  0.2970  0.326742  \n",
       "12  unbalanced   0.369215  0.3225  0.318736  \n",
       "8   unbalanced   0.480058  0.2100  0.266702  \n",
       "11  unbalanced   0.486980  0.2010  0.250937  \n",
       "14  unbalanced   0.478731  0.1795  0.229073  \n",
       "17  unbalanced   0.482176  0.1590  0.202001  \n",
       "33  unbalanced   0.448926  0.2335  0.179823  \n",
       "20  unbalanced   0.496329  0.1170  0.137842  \n",
       "6   unbalanced   0.377463  0.1990  0.133005  \n",
       "23  unbalanced   0.487450  0.1020  0.115824  \n",
       "26  unbalanced   0.467158  0.0775  0.081851  \n",
       "29  unbalanced   0.515144  0.0615  0.059753  \n",
       "0   unbalanced   0.330347  0.1760  0.053469  \n",
       "32  unbalanced   0.531314  0.0465  0.037697  \n",
       "35  unbalanced   0.439307  0.0355  0.021674  "
      ]
     },
     "execution_count": 18,
     "metadata": {},
     "output_type": "execute_result"
    }
   ],
   "source": [
    "df.sort_values(\"f1\", ascending = False)"
   ]
  },
  {
   "cell_type": "markdown",
   "id": "e03b6ae0",
   "metadata": {},
   "source": [
    "# Best models"
   ]
  },
  {
   "cell_type": "code",
   "execution_count": 21,
   "id": "5a498597",
   "metadata": {},
   "outputs": [],
   "source": [
    "from sklearn.metrics import f1_score"
   ]
  },
  {
   "cell_type": "code",
   "execution_count": 20,
   "id": "9057e22f",
   "metadata": {},
   "outputs": [
    {
     "name": "stdout",
     "output_type": "stream",
     "text": [
      "[0.08       0.05128205 0.9047619  0.03539823 0.03225806 0.76125688\n",
      " 0.15384615 0.98113208]\n",
      "['asshole' 'everyone sucks' 'meta' 'no a-holes here' 'not enough info'\n",
      " 'not the a-hole' 'tl;dr' 'update']\n"
     ]
    }
   ],
   "source": [
    "i = 500\n",
    "\n",
    "vectorizer1 = TfidfVectorizer(stop_words = 'english', max_features=i)\n",
    "vectorizer2 = TfidfVectorizer(stop_words = 'english', max_features=i)\n",
    "\n",
    "\n",
    "X_pcab, y_trainb = datasetToTfIdfPredictorsAndLabels(X__train, vectorizer1, vectorizer2)\n",
    "X_pca_testb, y_testb = datasetToTfIdfPredictorsAndLabelsForTest(X__test, vectorizer1, vectorizer2)\n",
    "\n",
    "\n",
    "loaded_model = pickle.load(open(\"rf_model_500.sav\", 'rb'))\n",
    "\n",
    "\n",
    "model_pred = loaded_model.predict(X_pca_testb)\n",
    "\n",
    "rf_proba = loaded_model.predict_proba(X_pca_testb)\n",
    "\n",
    "rf_f1_scores = f1_score(y_testb, model_pred, average = None, labels=np.unique(y_testb))\n",
    "\n",
    "print(rf_f1_scores)\n",
    "print(np.unique(y_testb))\n",
    "\n",
    "pd.DataFrame(rf_proba).to_csv(\"rf_proba.csv\")\n",
    "pd.DataFrame(rf_f1_scores).to_csv(\"rf_f1_scores.csv\")\n"
   ]
  },
  {
   "cell_type": "code",
   "execution_count": 22,
   "id": "f5cb4c40",
   "metadata": {},
   "outputs": [
    {
     "name": "stderr",
     "output_type": "stream",
     "text": [
      "C:\\Users\\Patryk\\anaconda3\\lib\\site-packages\\sklearn\\utils\\validation.py:63: DataConversionWarning: A column-vector y was passed when a 1d array was expected. Please change the shape of y to (n_samples, ), for example using ravel().\n",
      "  return f(*args, **kwargs)\n",
      "C:\\Users\\Patryk\\anaconda3\\lib\\site-packages\\sklearn\\svm\\_base.py:985: ConvergenceWarning: Liblinear failed to converge, increase the number of iterations.\n",
      "  warnings.warn(\"Liblinear failed to converge, increase \"\n",
      "C:\\Users\\Patryk\\anaconda3\\lib\\site-packages\\sklearn\\svm\\_base.py:985: ConvergenceWarning: Liblinear failed to converge, increase the number of iterations.\n",
      "  warnings.warn(\"Liblinear failed to converge, increase \"\n",
      "C:\\Users\\Patryk\\anaconda3\\lib\\site-packages\\sklearn\\svm\\_base.py:985: ConvergenceWarning: Liblinear failed to converge, increase the number of iterations.\n",
      "  warnings.warn(\"Liblinear failed to converge, increase \"\n",
      "C:\\Users\\Patryk\\anaconda3\\lib\\site-packages\\sklearn\\svm\\_base.py:985: ConvergenceWarning: Liblinear failed to converge, increase the number of iterations.\n",
      "  warnings.warn(\"Liblinear failed to converge, increase \"\n",
      "C:\\Users\\Patryk\\anaconda3\\lib\\site-packages\\sklearn\\svm\\_base.py:985: ConvergenceWarning: Liblinear failed to converge, increase the number of iterations.\n",
      "  warnings.warn(\"Liblinear failed to converge, increase \"\n"
     ]
    },
    {
     "name": "stdout",
     "output_type": "stream",
     "text": [
      "[0.         0.         0.75675676 0.         0.         0.75798798\n",
      " 0.         0.92      ]\n",
      "['asshole' 'everyone sucks' 'meta' 'no a-holes here' 'not enough info'\n",
      " 'not the a-hole' 'tl;dr' 'update']\n"
     ]
    }
   ],
   "source": [
    "from sklearn.calibration import CalibratedClassifierCV\n",
    "\n",
    "i = 300\n",
    "\n",
    "vectorizer1 = TfidfVectorizer(stop_words = 'english', max_features=i)\n",
    "vectorizer2 = TfidfVectorizer(stop_words = 'english', max_features=i)\n",
    "\n",
    "\n",
    "X_pcab, y_trainb = datasetToTfIdfPredictorsAndLabels(X__train, vectorizer1, vectorizer2)\n",
    "X_pca_testb, y_testb = datasetToTfIdfPredictorsAndLabelsForTest(X__test, vectorizer1, vectorizer2)\n",
    "\n",
    "\n",
    "loaded_model = CalibratedClassifierCV(pickle.load(open(\"svm_model_300.sav\", 'rb')))\n",
    "\n",
    "loaded_model.fit(X_pcab, y_trainb)\n",
    "\n",
    "model_pred = loaded_model.predict(X_pca_testb)\n",
    "\n",
    "svm_proba = loaded_model.predict_proba(X_pca_testb)\n",
    "\n",
    "svm_f1_scores = f1_score(y_testb, model_pred, average = None, labels=np.unique(y_testb))\n",
    "\n",
    "print(svm_f1_scores)\n",
    "print(np.unique(y_testb))\n",
    "\n",
    "pd.DataFrame(svm_proba).to_csv(\"svm_proba.csv\")\n",
    "pd.DataFrame(svm_f1_scores).to_csv(\"svm_f1_scores.csv\")\n",
    "\n"
   ]
  },
  {
   "cell_type": "code",
   "execution_count": 23,
   "id": "d1d50ca4",
   "metadata": {},
   "outputs": [
    {
     "name": "stdout",
     "output_type": "stream",
     "text": [
      "[0.03166227 0.         0.14492754 0.12624585 0.         0.68733257\n",
      " 0.         0.08108108]\n",
      "['asshole' 'everyone sucks' 'meta' 'no a-holes here' 'not enough info'\n",
      " 'not the a-hole' 'tl;dr' 'update']\n"
     ]
    }
   ],
   "source": [
    "i = 5\n",
    "\n",
    "vectorizer1 = TfidfVectorizer(stop_words = 'english', max_features=i)\n",
    "vectorizer2 = TfidfVectorizer(stop_words = 'english', max_features=i)\n",
    "\n",
    "\n",
    "X_pcab, y_trainb = datasetToTfIdfPredictorsAndLabels(X__train, vectorizer1, vectorizer2)\n",
    "X_pca_testb, y_testb = datasetToTfIdfPredictorsAndLabelsForTest(X__test, vectorizer1, vectorizer2)\n",
    "\n",
    "\n",
    "loaded_model = pickle.load(open(\"nb_model_5.sav\", 'rb'))\n",
    "\n",
    "\n",
    "model_pred = loaded_model.predict(X_pca_testb)\n",
    "\n",
    "nb_proba = loaded_model.predict_proba(X_pca_testb)\n",
    "\n",
    "nb_f1_scores = f1_score(y_testb, model_pred, average = None, labels=np.unique(y_testb))\n",
    "\n",
    "print(nb_f1_scores)\n",
    "print(np.unique(y_testb))\n",
    "\n",
    "pd.DataFrame(nb_proba).to_csv(\"nb_proba.csv\")\n",
    "pd.DataFrame(nb_f1_scores).to_csv(\"nb_f1_scores.csv\")\n"
   ]
  }
 ],
 "metadata": {
  "kernelspec": {
   "display_name": "Python 3 (ipykernel)",
   "language": "python",
   "name": "python3"
  },
  "language_info": {
   "codemirror_mode": {
    "name": "ipython",
    "version": 3
   },
   "file_extension": ".py",
   "mimetype": "text/x-python",
   "name": "python",
   "nbconvert_exporter": "python",
   "pygments_lexer": "ipython3",
   "version": "3.9.7"
  }
 },
 "nbformat": 4,
 "nbformat_minor": 5
}
