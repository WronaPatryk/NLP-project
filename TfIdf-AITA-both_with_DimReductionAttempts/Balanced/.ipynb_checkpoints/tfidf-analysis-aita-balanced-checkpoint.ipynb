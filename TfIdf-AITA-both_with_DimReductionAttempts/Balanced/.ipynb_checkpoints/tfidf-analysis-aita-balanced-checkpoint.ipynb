{
 "cells": [
  {
   "cell_type": "markdown",
   "id": "2d727c2a",
   "metadata": {},
   "source": [
    "# Feature selection and Dimensionality reduction\n",
    "\n",
    "The goal of this investigation is to obtain the best predictions and to select the smallest possible\n",
    "subset of relevant input variables (features).\n",
    "\n",
    "The dataset is already divided into train and validation sets (both in 2 forms - unbalanced and balanced). It was done for both **teenagers** and **amItheAsshole** subreddits.\n",
    "\n",
    "On train and validation sets, there will be used the same dimensionality reduction technique at the same moment (to make the rsults fair) -- the **accuracy** metric value will be calculated on validation data set."
   ]
  },
  {
   "cell_type": "code",
   "execution_count": 1,
   "id": "c38bf1a7",
   "metadata": {},
   "outputs": [],
   "source": [
    "# importing packages\n",
    "\n",
    "from sklearn.feature_extraction.text import TfidfVectorizer\n",
    "from time import time\n",
    "\n",
    "from sklearn.metrics import classification_report\n",
    "\n",
    "from sklearn.metrics import precision_recall_fscore_support"
   ]
  },
  {
   "cell_type": "code",
   "execution_count": 2,
   "id": "0526589b",
   "metadata": {},
   "outputs": [],
   "source": [
    "import sklearn\n",
    "import pandas as pd, numpy as np\n",
    "\n",
    "import seaborn as sns\n",
    "import matplotlib.pyplot as plt"
   ]
  },
  {
   "cell_type": "code",
   "execution_count": 3,
   "id": "9b156856",
   "metadata": {},
   "outputs": [],
   "source": [
    "def replaceThisInsaneNa(x):\n",
    "    if pd.isna(x):\n",
    "        return \" \"\n",
    "    else:\n",
    "        return x\n",
    "    \n",
    "\n",
    "def datasetToTfIdfPredictorsAndLabels(df, vectorizer1, vectorizer2):\n",
    "    \n",
    "    text_bgw = pd.DataFrame(vectorizer1.fit_transform(df.text).toarray(), dtype = 'float32').reset_index(drop=True)\n",
    "    text_bgw.columns = vectorizer1.get_feature_names()\n",
    "    new_columns = []\n",
    "\n",
    "    for column in text_bgw.columns:\n",
    "        new_columns.append(\"text_\" + column)\n",
    "\n",
    "    text_bgw.columns = new_columns   \n",
    "    \n",
    "    title_bgw = pd.DataFrame(vectorizer2.fit_transform(df.title).toarray(), dtype = 'float32').reset_index(drop=True)\n",
    "    title_bgw.columns = vectorizer2.get_feature_names()\n",
    "    \n",
    "    new_columns = []\n",
    "\n",
    "    for column in title_bgw.columns:\n",
    "        new_columns.append(\"title_\" + column)\n",
    "\n",
    "    title_bgw.columns = new_columns\n",
    "    \n",
    "    X = pd.concat([df[[\"title_wc\", \"selftext_wc\", \"title_cc\", \"selftext_cc\"]].reset_index(drop=True), text_bgw, title_bgw], axis=1, join=\"inner\")\n",
    "    \n",
    "    return X, df[[\"flair\"]]\n",
    "\n",
    "def datasetToTfIdfPredictorsAndLabelsForTest(df, vectorizer1, vectorizer2):\n",
    "    \n",
    "    text_bgw = pd.DataFrame(vectorizer1.transform(df.text).toarray(), dtype = 'float32').reset_index(drop=True)\n",
    "    text_bgw.columns = vectorizer1.get_feature_names()\n",
    "    new_columns = []\n",
    "\n",
    "    for column in text_bgw.columns:\n",
    "        new_columns.append(\"text_\" + column)\n",
    "\n",
    "    text_bgw.columns = new_columns   \n",
    "    \n",
    "    title_bgw = pd.DataFrame(vectorizer2.transform(df.title).toarray(), dtype = 'float32').reset_index(drop=True)\n",
    "    title_bgw.columns = vectorizer2.get_feature_names()\n",
    "    \n",
    "    new_columns = []\n",
    "\n",
    "    for column in title_bgw.columns:\n",
    "        new_columns.append(\"title_\" + column)\n",
    "\n",
    "    title_bgw.columns = new_columns\n",
    "    \n",
    "    X = pd.concat([df[[\"title_wc\", \"selftext_wc\", \"title_cc\", \"selftext_cc\"]].reset_index(drop=True), text_bgw, title_bgw], axis=1, join=\"inner\")\n",
    "    \n",
    "    return X, df[[\"flair\"]]\n",
    "\n"
   ]
  },
  {
   "cell_type": "code",
   "execution_count": 4,
   "id": "d631a307",
   "metadata": {},
   "outputs": [],
   "source": [
    "from sklearn.svm import LinearSVC\n",
    "from sklearn.ensemble import RandomForestClassifier\n",
    "from sklearn.naive_bayes import GaussianNB\n",
    "\n",
    "model = LinearSVC()\n",
    "model2 = RandomForestClassifier()\n",
    "model3 = GaussianNB()\n"
   ]
  },
  {
   "cell_type": "code",
   "execution_count": 12,
   "id": "aabb4e85",
   "metadata": {},
   "outputs": [
    {
     "data": {
      "text/plain": [
       "'C:\\\\Users\\\\wronap\\\\Desktop\\\\NLP-stuff'"
      ]
     },
     "execution_count": 12,
     "metadata": {},
     "output_type": "execute_result"
    }
   ],
   "source": [
    "%pwd"
   ]
  },
  {
   "cell_type": "code",
   "execution_count": 6,
   "id": "e94f1654",
   "metadata": {},
   "outputs": [],
   "source": [
    "# importing train and validation TEENAGERS datasets:\n",
    "\n",
    "# X_train = pd.read_csv(\"../data/aita_train.csv\", index_col=0, dtype = {'flair': str, 'title': str, 'text': str})\n",
    "X_trainb = pd.read_csv(\"../data/aita_train_balanced.csv\", index_col=0, dtype = {'flair': str, 'title': str, 'text': str})\n",
    "# X_test = pd.read_csv(\"../data/aita_test.csv\", index_col=0, dtype = {'flair': str, 'title': str, 'text': str})\n",
    "X_testb = pd.read_csv(\"../data/aita_test_balanced.csv\", index_col=0, dtype = {'flair': str, 'title': str, 'text': str})\n",
    "# chosing columns\n",
    "\n",
    "# X_train = X_train[[\"flair\", \"title\", \"text\", \"title_wc\", \"selftext_wc\", \"title_cc\", \"selftext_cc\"]]\n",
    "X_trainb = X_trainb[[\"flair\", \"title\", \"text\", \"title_wc\", \"selftext_wc\", \"title_cc\", \"selftext_cc\"]]\n",
    "# X_test = X_test[[\"flair\", \"title\", \"text\", \"title_wc\", \"selftext_wc\", \"title_cc\", \"selftext_cc\"]]\n",
    "X_testb = X_testb[[\"flair\", \"title\", \"text\", \"title_wc\", \"selftext_wc\", \"title_cc\", \"selftext_cc\"]]\n",
    "\n",
    "# X_train.text = X_train.text.apply(replaceThisInsaneNa)\n",
    "X_trainb.text = X_trainb.text.apply(replaceThisInsaneNa)\n",
    "\n",
    "# X_test.text = X_test.text.apply(replaceThisInsaneNa)\n",
    "X_testb.text = X_testb.text.apply(replaceThisInsaneNa)\n",
    "\n",
    "# X__train = X_train\n",
    "X__trainb = X_trainb\n",
    "# X__test = X_test\n",
    "X__testb = X_testb\n",
    "\n"
   ]
  },
  {
   "cell_type": "code",
   "execution_count": 7,
   "id": "113b0be3",
   "metadata": {},
   "outputs": [
    {
     "name": "stdout",
     "output_type": "stream",
     "text": [
      "(16000, 7)\n",
      "(1600, 7)\n"
     ]
    }
   ],
   "source": [
    "\n",
    "\n",
    "# print(X__train.shape)\n",
    "print(X__trainb.shape)\n",
    "# print(X__test.shape)\n",
    "print(X__testb.shape)"
   ]
  },
  {
   "cell_type": "code",
   "execution_count": 8,
   "id": "df36e1cd",
   "metadata": {},
   "outputs": [],
   "source": [
    "df = pd.DataFrame(columns=['method', 'model', 'n_components', 'n_neighbors', 'accuracy', 'train', 'test', 'precision', 'recall', 'f1'])"
   ]
  },
  {
   "cell_type": "code",
   "execution_count": 9,
   "id": "3c3dee95",
   "metadata": {},
   "outputs": [],
   "source": [
    "import pickle"
   ]
  },
  {
   "cell_type": "markdown",
   "id": "498b50c5",
   "metadata": {},
   "source": [
    "# AITA fitting without Dimensionality reduction\n"
   ]
  },
  {
   "cell_type": "code",
   "execution_count": 11,
   "id": "e88c418b",
   "metadata": {},
   "outputs": [
    {
     "name": "stdout",
     "output_type": "stream",
     "text": [
      "@@@@@@@@@@@@ max features of TfIdf:  5\n",
      "fitting SVM - balanced\n"
     ]
    },
    {
     "name": "stderr",
     "output_type": "stream",
     "text": [
      "C:\\Users\\Patryk\\anaconda3\\lib\\site-packages\\sklearn\\utils\\validation.py:63: DataConversionWarning: A column-vector y was passed when a 1d array was expected. Please change the shape of y to (n_samples, ), for example using ravel().\n",
      "  return f(*args, **kwargs)\n",
      "C:\\Users\\Patryk\\anaconda3\\lib\\site-packages\\sklearn\\svm\\_base.py:985: ConvergenceWarning: Liblinear failed to converge, increase the number of iterations.\n",
      "  warnings.warn(\"Liblinear failed to converge, increase \"\n",
      "C:\\Users\\Patryk\\anaconda3\\lib\\site-packages\\sklearn\\metrics\\_classification.py:1248: UndefinedMetricWarning: Precision and F-score are ill-defined and being set to 0.0 in labels with no predicted samples. Use `zero_division` parameter to control this behavior.\n",
      "  _warn_prf(average, modifier, msg_start, len(result))\n",
      "C:\\Users\\Patryk\\AppData\\Local\\Temp/ipykernel_500/236027580.py:36: DataConversionWarning: A column-vector y was passed when a 1d array was expected. Please change the shape of y to (n_samples,), for example using ravel().\n",
      "  model2.fit(X_pcab, y_trainb)\n"
     ]
    },
    {
     "name": "stdout",
     "output_type": "stream",
     "text": [
      "Time: : 15 sec\n",
      "fitting RF - balanced\n",
      "Time: : 3.6 sec\n",
      "fitting NB - balanced\n",
      "Time: : 0.045 sec\n"
     ]
    },
    {
     "name": "stderr",
     "output_type": "stream",
     "text": [
      "C:\\Users\\Patryk\\anaconda3\\lib\\site-packages\\sklearn\\utils\\validation.py:63: DataConversionWarning: A column-vector y was passed when a 1d array was expected. Please change the shape of y to (n_samples, ), for example using ravel().\n",
      "  return f(*args, **kwargs)\n"
     ]
    },
    {
     "name": "stdout",
     "output_type": "stream",
     "text": [
      "@@@@@@@@@@@@ max features of TfIdf:  25\n",
      "fitting SVM - balanced\n"
     ]
    },
    {
     "name": "stderr",
     "output_type": "stream",
     "text": [
      "C:\\Users\\Patryk\\anaconda3\\lib\\site-packages\\sklearn\\utils\\validation.py:63: DataConversionWarning: A column-vector y was passed when a 1d array was expected. Please change the shape of y to (n_samples, ), for example using ravel().\n",
      "  return f(*args, **kwargs)\n",
      "C:\\Users\\Patryk\\anaconda3\\lib\\site-packages\\sklearn\\svm\\_base.py:985: ConvergenceWarning: Liblinear failed to converge, increase the number of iterations.\n",
      "  warnings.warn(\"Liblinear failed to converge, increase \"\n",
      "C:\\Users\\Patryk\\anaconda3\\lib\\site-packages\\sklearn\\metrics\\_classification.py:1248: UndefinedMetricWarning: Precision and F-score are ill-defined and being set to 0.0 in labels with no predicted samples. Use `zero_division` parameter to control this behavior.\n",
      "  _warn_prf(average, modifier, msg_start, len(result))\n",
      "C:\\Users\\Patryk\\AppData\\Local\\Temp/ipykernel_500/236027580.py:36: DataConversionWarning: A column-vector y was passed when a 1d array was expected. Please change the shape of y to (n_samples,), for example using ravel().\n",
      "  model2.fit(X_pcab, y_trainb)\n"
     ]
    },
    {
     "name": "stdout",
     "output_type": "stream",
     "text": [
      "Time: : 22 sec\n",
      "fitting RF - balanced\n",
      "Time: : 5 sec\n",
      "fitting NB - balanced\n",
      "Time: : 0.058 sec\n"
     ]
    },
    {
     "name": "stderr",
     "output_type": "stream",
     "text": [
      "C:\\Users\\Patryk\\anaconda3\\lib\\site-packages\\sklearn\\utils\\validation.py:63: DataConversionWarning: A column-vector y was passed when a 1d array was expected. Please change the shape of y to (n_samples, ), for example using ravel().\n",
      "  return f(*args, **kwargs)\n"
     ]
    },
    {
     "name": "stdout",
     "output_type": "stream",
     "text": [
      "@@@@@@@@@@@@ max features of TfIdf:  45\n",
      "fitting SVM - balanced\n"
     ]
    },
    {
     "name": "stderr",
     "output_type": "stream",
     "text": [
      "C:\\Users\\Patryk\\anaconda3\\lib\\site-packages\\sklearn\\utils\\validation.py:63: DataConversionWarning: A column-vector y was passed when a 1d array was expected. Please change the shape of y to (n_samples, ), for example using ravel().\n",
      "  return f(*args, **kwargs)\n",
      "C:\\Users\\Patryk\\anaconda3\\lib\\site-packages\\sklearn\\svm\\_base.py:985: ConvergenceWarning: Liblinear failed to converge, increase the number of iterations.\n",
      "  warnings.warn(\"Liblinear failed to converge, increase \"\n",
      "C:\\Users\\Patryk\\AppData\\Local\\Temp/ipykernel_500/236027580.py:36: DataConversionWarning: A column-vector y was passed when a 1d array was expected. Please change the shape of y to (n_samples,), for example using ravel().\n",
      "  model2.fit(X_pcab, y_trainb)\n"
     ]
    },
    {
     "name": "stdout",
     "output_type": "stream",
     "text": [
      "Time: : 22 sec\n",
      "fitting RF - balanced\n",
      "Time: : 6 sec\n",
      "fitting NB - balanced\n",
      "Time: : 0.11 sec\n"
     ]
    },
    {
     "name": "stderr",
     "output_type": "stream",
     "text": [
      "C:\\Users\\Patryk\\anaconda3\\lib\\site-packages\\sklearn\\utils\\validation.py:63: DataConversionWarning: A column-vector y was passed when a 1d array was expected. Please change the shape of y to (n_samples, ), for example using ravel().\n",
      "  return f(*args, **kwargs)\n"
     ]
    },
    {
     "name": "stdout",
     "output_type": "stream",
     "text": [
      "@@@@@@@@@@@@ max features of TfIdf:  65\n",
      "fitting SVM - balanced\n"
     ]
    },
    {
     "name": "stderr",
     "output_type": "stream",
     "text": [
      "C:\\Users\\Patryk\\anaconda3\\lib\\site-packages\\sklearn\\utils\\validation.py:63: DataConversionWarning: A column-vector y was passed when a 1d array was expected. Please change the shape of y to (n_samples, ), for example using ravel().\n",
      "  return f(*args, **kwargs)\n",
      "C:\\Users\\Patryk\\anaconda3\\lib\\site-packages\\sklearn\\svm\\_base.py:985: ConvergenceWarning: Liblinear failed to converge, increase the number of iterations.\n",
      "  warnings.warn(\"Liblinear failed to converge, increase \"\n",
      "C:\\Users\\Patryk\\anaconda3\\lib\\site-packages\\sklearn\\metrics\\_classification.py:1248: UndefinedMetricWarning: Precision and F-score are ill-defined and being set to 0.0 in labels with no predicted samples. Use `zero_division` parameter to control this behavior.\n",
      "  _warn_prf(average, modifier, msg_start, len(result))\n",
      "C:\\Users\\Patryk\\AppData\\Local\\Temp/ipykernel_500/236027580.py:36: DataConversionWarning: A column-vector y was passed when a 1d array was expected. Please change the shape of y to (n_samples,), for example using ravel().\n",
      "  model2.fit(X_pcab, y_trainb)\n"
     ]
    },
    {
     "name": "stdout",
     "output_type": "stream",
     "text": [
      "Time: : 27 sec\n",
      "fitting RF - balanced\n",
      "Time: : 7.5 sec\n",
      "fitting NB - balanced\n",
      "Time: : 0.13 sec\n"
     ]
    },
    {
     "name": "stderr",
     "output_type": "stream",
     "text": [
      "C:\\Users\\Patryk\\anaconda3\\lib\\site-packages\\sklearn\\utils\\validation.py:63: DataConversionWarning: A column-vector y was passed when a 1d array was expected. Please change the shape of y to (n_samples, ), for example using ravel().\n",
      "  return f(*args, **kwargs)\n"
     ]
    },
    {
     "name": "stdout",
     "output_type": "stream",
     "text": [
      "@@@@@@@@@@@@ max features of TfIdf:  85\n",
      "fitting SVM - balanced\n"
     ]
    },
    {
     "name": "stderr",
     "output_type": "stream",
     "text": [
      "C:\\Users\\Patryk\\anaconda3\\lib\\site-packages\\sklearn\\utils\\validation.py:63: DataConversionWarning: A column-vector y was passed when a 1d array was expected. Please change the shape of y to (n_samples, ), for example using ravel().\n",
      "  return f(*args, **kwargs)\n",
      "C:\\Users\\Patryk\\anaconda3\\lib\\site-packages\\sklearn\\svm\\_base.py:985: ConvergenceWarning: Liblinear failed to converge, increase the number of iterations.\n",
      "  warnings.warn(\"Liblinear failed to converge, increase \"\n",
      "C:\\Users\\Patryk\\anaconda3\\lib\\site-packages\\sklearn\\metrics\\_classification.py:1248: UndefinedMetricWarning: Precision and F-score are ill-defined and being set to 0.0 in labels with no predicted samples. Use `zero_division` parameter to control this behavior.\n",
      "  _warn_prf(average, modifier, msg_start, len(result))\n",
      "C:\\Users\\Patryk\\AppData\\Local\\Temp/ipykernel_500/236027580.py:36: DataConversionWarning: A column-vector y was passed when a 1d array was expected. Please change the shape of y to (n_samples,), for example using ravel().\n",
      "  model2.fit(X_pcab, y_trainb)\n"
     ]
    },
    {
     "name": "stdout",
     "output_type": "stream",
     "text": [
      "Time: : 24 sec\n",
      "fitting RF - balanced\n",
      "Time: : 9 sec\n",
      "fitting NB - balanced\n",
      "Time: : 0.19 sec\n"
     ]
    },
    {
     "name": "stderr",
     "output_type": "stream",
     "text": [
      "C:\\Users\\Patryk\\anaconda3\\lib\\site-packages\\sklearn\\utils\\validation.py:63: DataConversionWarning: A column-vector y was passed when a 1d array was expected. Please change the shape of y to (n_samples, ), for example using ravel().\n",
      "  return f(*args, **kwargs)\n"
     ]
    }
   ],
   "source": [
    "#X_trainb, y_trainb = datasetToTfIdfPredictorsAndLabels(X__train, vectorizer1, vectorizer2)\n",
    "#X_testb, y_testb = datasetToTfIdfPredictorsAndLabelsForTest(X__test, vectorizer1, vectorizer2)\n",
    "\n",
    "#vectorizer1 = TfidfVectorizer(stop_words = 'english', max_features=500)\n",
    "#vectorizer2 = TfidfVectorizer(stop_words = 'english', max_features=500)\n",
    "\n",
    "method_name = \"TfIdf-max_features\"\n",
    "\n",
    "for i in range(5,100, 20):\n",
    "    \n",
    "\n",
    "    print(\"@@@@@@@@@@@@ max features of TfIdf: \", i)\n",
    "    \n",
    "        \n",
    "    vectorizer1 = TfidfVectorizer(stop_words = 'english', max_features=i)\n",
    "    vectorizer2 = TfidfVectorizer(stop_words = 'english', max_features=i)\n",
    "\n",
    "\n",
    "    X_pcab, y_trainb = datasetToTfIdfPredictorsAndLabels(X__trainb, vectorizer1, vectorizer2)\n",
    "    X_pca_testb, y_testb = datasetToTfIdfPredictorsAndLabelsForTest(X__testb, vectorizer1, vectorizer2)\n",
    "\n",
    "    print(\"fitting SVM - balanced\")\n",
    "    t0 = time()\n",
    "    # trained on balanced dataset\n",
    "    model.fit(X_pcab, y_trainb)\n",
    "    acc = model.score(X_pca_testb, y_testb)\n",
    "    y_pred = model.predict(X_pca_testb)\n",
    "    prf = precision_recall_fscore_support(y_testb, y_pred, average = 'weighted')\n",
    "    df = df.append({'method': method_name, 'model':'SVM', 'n_components': i, 'n_neighbors': -1, 'accuracy': acc, 'train': 'unbalanced', 'test': 'unbalanced', 'precision': prf[0], 'recall': prf[1], 'f1': prf[2]}, ignore_index=True)\n",
    "    t1 = time()\n",
    "    print(\"%s: %.2g sec\" % ('Time: ', t1 - t0))\n",
    "\n",
    "    print(\"fitting RF - balanced\")\n",
    "    t0 = time()\n",
    "    # trained on balanced dataset\n",
    "    model2.fit(X_pcab, y_trainb)\n",
    "    acc = model2.score(X_pca_testb, y_testb)\n",
    "    y_pred = model2.predict(X_pca_testb)\n",
    "    prf = precision_recall_fscore_support(y_testb, y_pred, average = 'weighted')\n",
    "    df = df.append({'method': method_name, 'model':'RF', 'n_components': i, 'n_neighbors': -1, 'accuracy': acc, 'train': 'unbalanced', 'test': 'unbalanced', 'precision': prf[0], 'recall': prf[1], 'f1': prf[2]}, ignore_index=True)\n",
    "    t1 = time()\n",
    "    print(\"%s: %.2g sec\" % ('Time: ', t1 - t0))\n",
    "\n",
    "    print(\"fitting NB - balanced\")\n",
    "    t0 = time()\n",
    "    # trained on balanced dataset\n",
    "    model3.fit(X_pcab, y_trainb)\n",
    "    acc = model3.score(X_pca_testb, y_testb)\n",
    "    y_pred = model3.predict(X_pca_testb)\n",
    "    prf = precision_recall_fscore_support(y_testb, y_pred, average = 'weighted')\n",
    "    df = df.append({'method': method_name, 'model':'NB', 'n_components': i, 'n_neighbors': -1, 'accuracy': acc, 'train': 'unbalanced', 'test': 'unbalanced', 'precision': prf[0], 'recall': prf[1], 'f1': prf[2]}, ignore_index=True)\n",
    "    t1 = time()\n",
    "    print(\"%s: %.2g sec\" % ('Time: ', t1 - t0))\n",
    "    \n",
    "        # save the model to disk\n",
    "    filename = 'svm_model_'+ str(i) +'.sav'\n",
    "    pickle.dump(model, open(filename, 'wb'))\n",
    "    \n",
    "    # save the model to disk\n",
    "    filename = 'rf_model_'+ str(i) +'.sav'\n",
    "    pickle.dump(model2, open(filename, 'wb'))\n",
    "    \n",
    "    # save the model to disk\n",
    "    filename = 'nb_model_'+ str(i) +'.sav'\n",
    "    pickle.dump(model3, open(filename, 'wb'))\n",
    "\n",
    "\n",
    "df.to_csv(\"AITA-TfIdf-balanced-1.csv\")"
   ]
  },
  {
   "cell_type": "code",
   "execution_count": 12,
   "id": "d4754a35",
   "metadata": {},
   "outputs": [
    {
     "name": "stdout",
     "output_type": "stream",
     "text": [
      "@@@@@@@@@@@@ max features of TfIdf:  100\n",
      "fitting SVM - balanced\n"
     ]
    },
    {
     "name": "stderr",
     "output_type": "stream",
     "text": [
      "C:\\Users\\Patryk\\anaconda3\\lib\\site-packages\\sklearn\\utils\\validation.py:63: DataConversionWarning: A column-vector y was passed when a 1d array was expected. Please change the shape of y to (n_samples, ), for example using ravel().\n",
      "  return f(*args, **kwargs)\n",
      "C:\\Users\\Patryk\\anaconda3\\lib\\site-packages\\sklearn\\svm\\_base.py:985: ConvergenceWarning: Liblinear failed to converge, increase the number of iterations.\n",
      "  warnings.warn(\"Liblinear failed to converge, increase \"\n",
      "C:\\Users\\Patryk\\AppData\\Local\\Temp/ipykernel_500/2649451150.py:30: DataConversionWarning: A column-vector y was passed when a 1d array was expected. Please change the shape of y to (n_samples,), for example using ravel().\n",
      "  model2.fit(X_pcab, y_trainb)\n"
     ]
    },
    {
     "name": "stdout",
     "output_type": "stream",
     "text": [
      "Time: : 24 sec\n",
      "fitting RF - balanced\n",
      "Time: : 8.5 sec\n",
      "fitting NB - balanced\n",
      "Time: : 0.18 sec\n"
     ]
    },
    {
     "name": "stderr",
     "output_type": "stream",
     "text": [
      "C:\\Users\\Patryk\\anaconda3\\lib\\site-packages\\sklearn\\utils\\validation.py:63: DataConversionWarning: A column-vector y was passed when a 1d array was expected. Please change the shape of y to (n_samples, ), for example using ravel().\n",
      "  return f(*args, **kwargs)\n"
     ]
    },
    {
     "name": "stdout",
     "output_type": "stream",
     "text": [
      "@@@@@@@@@@@@ max features of TfIdf:  300\n",
      "fitting SVM - balanced\n"
     ]
    },
    {
     "name": "stderr",
     "output_type": "stream",
     "text": [
      "C:\\Users\\Patryk\\anaconda3\\lib\\site-packages\\sklearn\\utils\\validation.py:63: DataConversionWarning: A column-vector y was passed when a 1d array was expected. Please change the shape of y to (n_samples, ), for example using ravel().\n",
      "  return f(*args, **kwargs)\n",
      "C:\\Users\\Patryk\\anaconda3\\lib\\site-packages\\sklearn\\svm\\_base.py:985: ConvergenceWarning: Liblinear failed to converge, increase the number of iterations.\n",
      "  warnings.warn(\"Liblinear failed to converge, increase \"\n",
      "C:\\Users\\Patryk\\anaconda3\\lib\\site-packages\\sklearn\\metrics\\_classification.py:1248: UndefinedMetricWarning: Precision and F-score are ill-defined and being set to 0.0 in labels with no predicted samples. Use `zero_division` parameter to control this behavior.\n",
      "  _warn_prf(average, modifier, msg_start, len(result))\n",
      "C:\\Users\\Patryk\\AppData\\Local\\Temp/ipykernel_500/2649451150.py:30: DataConversionWarning: A column-vector y was passed when a 1d array was expected. Please change the shape of y to (n_samples,), for example using ravel().\n",
      "  model2.fit(X_pcab, y_trainb)\n"
     ]
    },
    {
     "name": "stdout",
     "output_type": "stream",
     "text": [
      "Time: : 32 sec\n",
      "fitting RF - balanced\n",
      "Time: : 14 sec\n",
      "fitting NB - balanced\n"
     ]
    },
    {
     "name": "stderr",
     "output_type": "stream",
     "text": [
      "C:\\Users\\Patryk\\anaconda3\\lib\\site-packages\\sklearn\\utils\\validation.py:63: DataConversionWarning: A column-vector y was passed when a 1d array was expected. Please change the shape of y to (n_samples, ), for example using ravel().\n",
      "  return f(*args, **kwargs)\n"
     ]
    },
    {
     "name": "stdout",
     "output_type": "stream",
     "text": [
      "Time: : 0.49 sec\n",
      "@@@@@@@@@@@@ max features of TfIdf:  500\n",
      "fitting SVM - balanced\n"
     ]
    },
    {
     "name": "stderr",
     "output_type": "stream",
     "text": [
      "C:\\Users\\Patryk\\anaconda3\\lib\\site-packages\\sklearn\\utils\\validation.py:63: DataConversionWarning: A column-vector y was passed when a 1d array was expected. Please change the shape of y to (n_samples, ), for example using ravel().\n",
      "  return f(*args, **kwargs)\n",
      "C:\\Users\\Patryk\\anaconda3\\lib\\site-packages\\sklearn\\svm\\_base.py:985: ConvergenceWarning: Liblinear failed to converge, increase the number of iterations.\n",
      "  warnings.warn(\"Liblinear failed to converge, increase \"\n",
      "C:\\Users\\Patryk\\AppData\\Local\\Temp/ipykernel_500/2649451150.py:30: DataConversionWarning: A column-vector y was passed when a 1d array was expected. Please change the shape of y to (n_samples,), for example using ravel().\n",
      "  model2.fit(X_pcab, y_trainb)\n"
     ]
    },
    {
     "name": "stdout",
     "output_type": "stream",
     "text": [
      "Time: : 35 sec\n",
      "fitting RF - balanced\n",
      "Time: : 18 sec\n",
      "fitting NB - balanced\n"
     ]
    },
    {
     "name": "stderr",
     "output_type": "stream",
     "text": [
      "C:\\Users\\Patryk\\anaconda3\\lib\\site-packages\\sklearn\\utils\\validation.py:63: DataConversionWarning: A column-vector y was passed when a 1d array was expected. Please change the shape of y to (n_samples, ), for example using ravel().\n",
      "  return f(*args, **kwargs)\n"
     ]
    },
    {
     "name": "stdout",
     "output_type": "stream",
     "text": [
      "Time: : 0.81 sec\n",
      "@@@@@@@@@@@@ max features of TfIdf:  700\n",
      "fitting SVM - balanced\n"
     ]
    },
    {
     "name": "stderr",
     "output_type": "stream",
     "text": [
      "C:\\Users\\Patryk\\anaconda3\\lib\\site-packages\\sklearn\\utils\\validation.py:63: DataConversionWarning: A column-vector y was passed when a 1d array was expected. Please change the shape of y to (n_samples, ), for example using ravel().\n",
      "  return f(*args, **kwargs)\n",
      "C:\\Users\\Patryk\\anaconda3\\lib\\site-packages\\sklearn\\svm\\_base.py:985: ConvergenceWarning: Liblinear failed to converge, increase the number of iterations.\n",
      "  warnings.warn(\"Liblinear failed to converge, increase \"\n",
      "C:\\Users\\Patryk\\AppData\\Local\\Temp/ipykernel_500/2649451150.py:30: DataConversionWarning: A column-vector y was passed when a 1d array was expected. Please change the shape of y to (n_samples,), for example using ravel().\n",
      "  model2.fit(X_pcab, y_trainb)\n"
     ]
    },
    {
     "name": "stdout",
     "output_type": "stream",
     "text": [
      "Time: : 37 sec\n",
      "fitting RF - balanced\n",
      "Time: : 22 sec\n",
      "fitting NB - balanced\n"
     ]
    },
    {
     "name": "stderr",
     "output_type": "stream",
     "text": [
      "C:\\Users\\Patryk\\anaconda3\\lib\\site-packages\\sklearn\\utils\\validation.py:63: DataConversionWarning: A column-vector y was passed when a 1d array was expected. Please change the shape of y to (n_samples, ), for example using ravel().\n",
      "  return f(*args, **kwargs)\n"
     ]
    },
    {
     "name": "stdout",
     "output_type": "stream",
     "text": [
      "Time: : 1.1 sec\n",
      "@@@@@@@@@@@@ max features of TfIdf:  900\n",
      "fitting SVM - balanced\n"
     ]
    },
    {
     "name": "stderr",
     "output_type": "stream",
     "text": [
      "C:\\Users\\Patryk\\anaconda3\\lib\\site-packages\\sklearn\\utils\\validation.py:63: DataConversionWarning: A column-vector y was passed when a 1d array was expected. Please change the shape of y to (n_samples, ), for example using ravel().\n",
      "  return f(*args, **kwargs)\n",
      "C:\\Users\\Patryk\\anaconda3\\lib\\site-packages\\sklearn\\svm\\_base.py:985: ConvergenceWarning: Liblinear failed to converge, increase the number of iterations.\n",
      "  warnings.warn(\"Liblinear failed to converge, increase \"\n"
     ]
    },
    {
     "name": "stdout",
     "output_type": "stream",
     "text": [
      "Time: : 39 sec\n",
      "fitting RF - balanced\n"
     ]
    },
    {
     "name": "stderr",
     "output_type": "stream",
     "text": [
      "C:\\Users\\Patryk\\AppData\\Local\\Temp/ipykernel_500/2649451150.py:91: DataConversionWarning: A column-vector y was passed when a 1d array was expected. Please change the shape of y to (n_samples,), for example using ravel().\n",
      "  model2.fit(X_pcab, y_trainb)\n"
     ]
    },
    {
     "name": "stdout",
     "output_type": "stream",
     "text": [
      "Time: : 29 sec\n",
      "fitting NB - balanced\n"
     ]
    },
    {
     "name": "stderr",
     "output_type": "stream",
     "text": [
      "C:\\Users\\Patryk\\anaconda3\\lib\\site-packages\\sklearn\\utils\\validation.py:63: DataConversionWarning: A column-vector y was passed when a 1d array was expected. Please change the shape of y to (n_samples, ), for example using ravel().\n",
      "  return f(*args, **kwargs)\n"
     ]
    },
    {
     "name": "stdout",
     "output_type": "stream",
     "text": [
      "Time: : 2 sec\n",
      "@@@@@@@@@@@@ max features of TfIdf:  1100\n",
      "fitting SVM - balanced\n"
     ]
    },
    {
     "name": "stderr",
     "output_type": "stream",
     "text": [
      "C:\\Users\\Patryk\\anaconda3\\lib\\site-packages\\sklearn\\utils\\validation.py:63: DataConversionWarning: A column-vector y was passed when a 1d array was expected. Please change the shape of y to (n_samples, ), for example using ravel().\n",
      "  return f(*args, **kwargs)\n",
      "C:\\Users\\Patryk\\anaconda3\\lib\\site-packages\\sklearn\\svm\\_base.py:985: ConvergenceWarning: Liblinear failed to converge, increase the number of iterations.\n",
      "  warnings.warn(\"Liblinear failed to converge, increase \"\n"
     ]
    },
    {
     "name": "stdout",
     "output_type": "stream",
     "text": [
      "Time: : 42 sec\n",
      "fitting RF - balanced\n"
     ]
    },
    {
     "name": "stderr",
     "output_type": "stream",
     "text": [
      "C:\\Users\\Patryk\\AppData\\Local\\Temp/ipykernel_500/2649451150.py:91: DataConversionWarning: A column-vector y was passed when a 1d array was expected. Please change the shape of y to (n_samples,), for example using ravel().\n",
      "  model2.fit(X_pcab, y_trainb)\n"
     ]
    },
    {
     "name": "stdout",
     "output_type": "stream",
     "text": [
      "Time: : 29 sec\n",
      "fitting NB - balanced\n"
     ]
    },
    {
     "name": "stderr",
     "output_type": "stream",
     "text": [
      "C:\\Users\\Patryk\\anaconda3\\lib\\site-packages\\sklearn\\utils\\validation.py:63: DataConversionWarning: A column-vector y was passed when a 1d array was expected. Please change the shape of y to (n_samples, ), for example using ravel().\n",
      "  return f(*args, **kwargs)\n"
     ]
    },
    {
     "name": "stdout",
     "output_type": "stream",
     "text": [
      "Time: : 2.1 sec\n",
      "@@@@@@@@@@@@ max features of TfIdf:  1300\n",
      "fitting SVM - balanced\n"
     ]
    },
    {
     "name": "stderr",
     "output_type": "stream",
     "text": [
      "C:\\Users\\Patryk\\anaconda3\\lib\\site-packages\\sklearn\\utils\\validation.py:63: DataConversionWarning: A column-vector y was passed when a 1d array was expected. Please change the shape of y to (n_samples, ), for example using ravel().\n",
      "  return f(*args, **kwargs)\n",
      "C:\\Users\\Patryk\\anaconda3\\lib\\site-packages\\sklearn\\svm\\_base.py:985: ConvergenceWarning: Liblinear failed to converge, increase the number of iterations.\n",
      "  warnings.warn(\"Liblinear failed to converge, increase \"\n",
      "C:\\Users\\Patryk\\anaconda3\\lib\\site-packages\\sklearn\\metrics\\_classification.py:1248: UndefinedMetricWarning: Precision and F-score are ill-defined and being set to 0.0 in labels with no predicted samples. Use `zero_division` parameter to control this behavior.\n",
      "  _warn_prf(average, modifier, msg_start, len(result))\n"
     ]
    },
    {
     "name": "stdout",
     "output_type": "stream",
     "text": [
      "Time: : 43 sec\n",
      "fitting RF - balanced\n"
     ]
    },
    {
     "name": "stderr",
     "output_type": "stream",
     "text": [
      "C:\\Users\\Patryk\\AppData\\Local\\Temp/ipykernel_500/2649451150.py:91: DataConversionWarning: A column-vector y was passed when a 1d array was expected. Please change the shape of y to (n_samples,), for example using ravel().\n",
      "  model2.fit(X_pcab, y_trainb)\n"
     ]
    },
    {
     "name": "stdout",
     "output_type": "stream",
     "text": [
      "Time: : 37 sec\n",
      "fitting NB - balanced\n"
     ]
    },
    {
     "name": "stderr",
     "output_type": "stream",
     "text": [
      "C:\\Users\\Patryk\\anaconda3\\lib\\site-packages\\sklearn\\utils\\validation.py:63: DataConversionWarning: A column-vector y was passed when a 1d array was expected. Please change the shape of y to (n_samples, ), for example using ravel().\n",
      "  return f(*args, **kwargs)\n"
     ]
    },
    {
     "name": "stdout",
     "output_type": "stream",
     "text": [
      "Time: : 3.1 sec\n"
     ]
    }
   ],
   "source": [
    "method_name = \"TfIdf-max_features\"\n",
    "\n",
    "for i in range(100,800, 200):\n",
    "    \n",
    "\n",
    "    print(\"@@@@@@@@@@@@ max features of TfIdf: \", i)\n",
    "    \n",
    "        \n",
    "    vectorizer1 = TfidfVectorizer(stop_words = 'english', max_features=i)\n",
    "    vectorizer2 = TfidfVectorizer(stop_words = 'english', max_features=i)\n",
    "\n",
    "\n",
    "    X_pcab, y_trainb = datasetToTfIdfPredictorsAndLabels(X__trainb, vectorizer1, vectorizer2)\n",
    "    X_pca_testb, y_testb = datasetToTfIdfPredictorsAndLabelsForTest(X__testb, vectorizer1, vectorizer2)\n",
    "\n",
    "    print(\"fitting SVM - balanced\")\n",
    "    t0 = time()\n",
    "    # trained on balanced dataset\n",
    "    model.fit(X_pcab, y_trainb)\n",
    "    acc = model.score(X_pca_testb, y_testb)\n",
    "    y_pred = model.predict(X_pca_testb)\n",
    "    prf = precision_recall_fscore_support(y_testb, y_pred, average = 'weighted')\n",
    "    df = df.append({'method': method_name, 'model':'SVM', 'n_components': i, 'n_neighbors': -1, 'accuracy': acc, 'train': 'unbalanced', 'test': 'unbalanced', 'precision': prf[0], 'recall': prf[1], 'f1': prf[2]}, ignore_index=True)\n",
    "    t1 = time()\n",
    "    print(\"%s: %.2g sec\" % ('Time: ', t1 - t0))\n",
    "\n",
    "    print(\"fitting RF - balanced\")\n",
    "    t0 = time()\n",
    "    # trained on balanced dataset\n",
    "    model2.fit(X_pcab, y_trainb)\n",
    "    acc = model2.score(X_pca_testb, y_testb)\n",
    "    y_pred = model2.predict(X_pca_testb)\n",
    "    prf = precision_recall_fscore_support(y_testb, y_pred, average = 'weighted')\n",
    "    df = df.append({'method': method_name, 'model':'RF', 'n_components': i, 'n_neighbors': -1, 'accuracy': acc, 'train': 'unbalanced', 'test': 'unbalanced', 'precision': prf[0], 'recall': prf[1], 'f1': prf[2]}, ignore_index=True)\n",
    "    t1 = time()\n",
    "    print(\"%s: %.2g sec\" % ('Time: ', t1 - t0))\n",
    "\n",
    "    print(\"fitting NB - balanced\")\n",
    "    t0 = time()\n",
    "    # trained on balanced dataset\n",
    "    model3.fit(X_pcab, y_trainb)\n",
    "    acc = model3.score(X_pca_testb, y_testb)\n",
    "    y_pred = model3.predict(X_pca_testb)\n",
    "    prf = precision_recall_fscore_support(y_testb, y_pred, average = 'weighted')\n",
    "    df = df.append({'method': method_name, 'model':'NB', 'n_components': i, 'n_neighbors': -1, 'accuracy': acc, 'train': 'unbalanced', 'test': 'unbalanced', 'precision': prf[0], 'recall': prf[1], 'f1': prf[2]}, ignore_index=True)\n",
    "    t1 = time()\n",
    "    print(\"%s: %.2g sec\" % ('Time: ', t1 - t0))\n",
    "    \n",
    "    # save the model to disk\n",
    "    filename = 'svm_model_'+ str(i) +'.sav'\n",
    "    pickle.dump(model, open(filename, 'wb'))\n",
    "    \n",
    "    # save the model to disk\n",
    "    filename = 'rf_model_'+ str(i) +'.sav'\n",
    "    pickle.dump(model2, open(filename, 'wb'))\n",
    "    \n",
    "    # save the model to disk\n",
    "    filename = 'nb_model_'+ str(i) +'.sav'\n",
    "    pickle.dump(model3, open(filename, 'wb'))\n",
    "\n",
    "\n",
    "df.to_csv(\"AITA-TfIdf-balanced-2.csv\")\n",
    "\n",
    "for i in range(900,1500, 200):\n",
    "    \n",
    "\n",
    "    print(\"@@@@@@@@@@@@ max features of TfIdf: \", i)\n",
    "    \n",
    "        \n",
    "    vectorizer1 = TfidfVectorizer(stop_words = 'english', max_features=i)\n",
    "    vectorizer2 = TfidfVectorizer(stop_words = 'english', max_features=i)\n",
    "\n",
    "\n",
    "    X_pcab, y_trainb = datasetToTfIdfPredictorsAndLabels(X__trainb, vectorizer1, vectorizer2)\n",
    "    X_pca_testb, y_testb = datasetToTfIdfPredictorsAndLabelsForTest(X__testb, vectorizer1, vectorizer2)\n",
    "\n",
    "    print(\"fitting SVM - balanced\")\n",
    "    t0 = time()\n",
    "    # trained on balanced dataset\n",
    "    model.fit(X_pcab, y_trainb)\n",
    "    acc = model.score(X_pca_testb, y_testb)\n",
    "    y_pred = model.predict(X_pca_testb)\n",
    "    prf = precision_recall_fscore_support(y_testb, y_pred, average = 'weighted')\n",
    "    df = df.append({'method': method_name, 'model':'SVM', 'n_components': i, 'n_neighbors': -1, 'accuracy': acc, 'train': 'unbalanced', 'test': 'unbalanced', 'precision': prf[0], 'recall': prf[1], 'f1': prf[2]}, ignore_index=True)\n",
    "    t1 = time()\n",
    "    print(\"%s: %.2g sec\" % ('Time: ', t1 - t0))\n",
    "\n",
    "    print(\"fitting RF - balanced\")\n",
    "    t0 = time()\n",
    "    # trained on balanced dataset\n",
    "    model2.fit(X_pcab, y_trainb)\n",
    "    acc = model2.score(X_pca_testb, y_testb)\n",
    "    y_pred = model2.predict(X_pca_testb)\n",
    "    prf = precision_recall_fscore_support(y_testb, y_pred, average = 'weighted')\n",
    "    df = df.append({'method': method_name, 'model':'RF', 'n_components': i, 'n_neighbors': -1, 'accuracy': acc, 'train': 'unbalanced', 'test': 'unbalanced', 'precision': prf[0], 'recall': prf[1], 'f1': prf[2]}, ignore_index=True)\n",
    "    t1 = time()\n",
    "    print(\"%s: %.2g sec\" % ('Time: ', t1 - t0))\n",
    "\n",
    "    print(\"fitting NB - balanced\")\n",
    "    t0 = time()\n",
    "    # trained on balanced dataset\n",
    "    model3.fit(X_pcab, y_trainb)\n",
    "    acc = model3.score(X_pca_testb, y_testb)\n",
    "    y_pred = model3.predict(X_pca_testb)\n",
    "    prf = precision_recall_fscore_support(y_testb, y_pred, average = 'weighted')\n",
    "    df = df.append({'method': method_name, 'model':'NB', 'n_components': i, 'n_neighbors': -1, 'accuracy': acc, 'train': 'unbalanced', 'test': 'unbalanced', 'precision': prf[0], 'recall': prf[1], 'f1': prf[2]}, ignore_index=True)\n",
    "    t1 = time()\n",
    "    print(\"%s: %.2g sec\" % ('Time: ', t1 - t0))\n",
    "    \n",
    "    # save the model to disk\n",
    "    filename = 'svm_model_'+ str(i) +'.sav'\n",
    "    pickle.dump(model, open(filename, 'wb'))\n",
    "    \n",
    "    # save the model to disk\n",
    "    filename = 'rf_model_'+ str(i) +'.sav'\n",
    "    pickle.dump(model2, open(filename, 'wb'))\n",
    "    \n",
    "    # save the model to disk\n",
    "    filename = 'nb_model_'+ str(i) +'.sav'\n",
    "    pickle.dump(model3, open(filename, 'wb'))\n",
    "\n",
    "\n",
    "df.to_csv(\"AITA-TfIdf-balanced-3.csv\")"
   ]
  },
  {
   "cell_type": "code",
   "execution_count": 13,
   "id": "fedd6987",
   "metadata": {},
   "outputs": [],
   "source": [
    "df_wide = df.pivot(\"n_components\", \"model\", \"f1\")"
   ]
  },
  {
   "cell_type": "code",
   "execution_count": 15,
   "id": "10102ecf",
   "metadata": {
    "scrolled": true
   },
   "outputs": [
    {
     "data": {
      "text/plain": [
       "Text(1020, 0.085, 'Random model')"
      ]
     },
     "execution_count": 15,
     "metadata": {},
     "output_type": "execute_result"
    },
    {
     "data": {
      "image/png": "[encoded data removed]",
      "text/plain": [
       "<Figure size 432x288 with 1 Axes>"
      ]
     },
     "metadata": {
      "needs_background": "light"
     },
     "output_type": "display_data"
    }
   ],
   "source": [
    "\n",
    "p = sns.lineplot(data=df_wide)\n",
    "p.set(ylim=(0., 0.5))\n",
    "p.set_xlabel('N of features from TfIdf (title and text)')\n",
    "p.set_ylabel('F1-Score')\n",
    "\n",
    "p.set_title('Impact of TfIdf max_features - AITA dataset')\n",
    "\n",
    "p.axhline(0.1, ls='--')\n",
    "p.text(1020, 0.085, \"Random model\")"
   ]
  },
  {
   "cell_type": "code",
   "execution_count": 16,
   "id": "2caca366",
   "metadata": {
    "scrolled": true
   },
   "outputs": [
    {
     "data": {
      "text/html": [
       "<div>\n",
       "<style scoped>\n",
       "    .dataframe tbody tr th:only-of-type {\n",
       "        vertical-align: middle;\n",
       "    }\n",
       "\n",
       "    .dataframe tbody tr th {\n",
       "        vertical-align: top;\n",
       "    }\n",
       "\n",
       "    .dataframe thead th {\n",
       "        text-align: right;\n",
       "    }\n",
       "</style>\n",
       "<table border=\"1\" class=\"dataframe\">\n",
       "  <thead>\n",
       "    <tr style=\"text-align: right;\">\n",
       "      <th></th>\n",
       "      <th>method</th>\n",
       "      <th>model</th>\n",
       "      <th>n_components</th>\n",
       "      <th>n_neighbors</th>\n",
       "      <th>accuracy</th>\n",
       "      <th>train</th>\n",
       "      <th>test</th>\n",
       "      <th>precision</th>\n",
       "      <th>recall</th>\n",
       "      <th>f1</th>\n",
       "    </tr>\n",
       "  </thead>\n",
       "  <tbody>\n",
       "    <tr>\n",
       "      <th>28</th>\n",
       "      <td>TfIdf-max_features</td>\n",
       "      <td>RF</td>\n",
       "      <td>900</td>\n",
       "      <td>-1</td>\n",
       "      <td>0.441250</td>\n",
       "      <td>unbalanced</td>\n",
       "      <td>unbalanced</td>\n",
       "      <td>0.456339</td>\n",
       "      <td>0.441250</td>\n",
       "      <td>0.426899</td>\n",
       "    </tr>\n",
       "    <tr>\n",
       "      <th>7</th>\n",
       "      <td>TfIdf-max_features</td>\n",
       "      <td>RF</td>\n",
       "      <td>45</td>\n",
       "      <td>-1</td>\n",
       "      <td>0.417500</td>\n",
       "      <td>unbalanced</td>\n",
       "      <td>unbalanced</td>\n",
       "      <td>0.425942</td>\n",
       "      <td>0.417500</td>\n",
       "      <td>0.410048</td>\n",
       "    </tr>\n",
       "    <tr>\n",
       "      <th>16</th>\n",
       "      <td>TfIdf-max_features</td>\n",
       "      <td>RF</td>\n",
       "      <td>100</td>\n",
       "      <td>-1</td>\n",
       "      <td>0.415625</td>\n",
       "      <td>unbalanced</td>\n",
       "      <td>unbalanced</td>\n",
       "      <td>0.425435</td>\n",
       "      <td>0.415625</td>\n",
       "      <td>0.406570</td>\n",
       "    </tr>\n",
       "    <tr>\n",
       "      <th>22</th>\n",
       "      <td>TfIdf-max_features</td>\n",
       "      <td>RF</td>\n",
       "      <td>500</td>\n",
       "      <td>-1</td>\n",
       "      <td>0.416875</td>\n",
       "      <td>unbalanced</td>\n",
       "      <td>unbalanced</td>\n",
       "      <td>0.430056</td>\n",
       "      <td>0.416875</td>\n",
       "      <td>0.405233</td>\n",
       "    </tr>\n",
       "    <tr>\n",
       "      <th>10</th>\n",
       "      <td>TfIdf-max_features</td>\n",
       "      <td>RF</td>\n",
       "      <td>65</td>\n",
       "      <td>-1</td>\n",
       "      <td>0.413750</td>\n",
       "      <td>unbalanced</td>\n",
       "      <td>unbalanced</td>\n",
       "      <td>0.418771</td>\n",
       "      <td>0.413750</td>\n",
       "      <td>0.403912</td>\n",
       "    </tr>\n",
       "    <tr>\n",
       "      <th>19</th>\n",
       "      <td>TfIdf-max_features</td>\n",
       "      <td>RF</td>\n",
       "      <td>300</td>\n",
       "      <td>-1</td>\n",
       "      <td>0.408750</td>\n",
       "      <td>unbalanced</td>\n",
       "      <td>unbalanced</td>\n",
       "      <td>0.399497</td>\n",
       "      <td>0.408750</td>\n",
       "      <td>0.394684</td>\n",
       "    </tr>\n",
       "    <tr>\n",
       "      <th>25</th>\n",
       "      <td>TfIdf-max_features</td>\n",
       "      <td>RF</td>\n",
       "      <td>700</td>\n",
       "      <td>-1</td>\n",
       "      <td>0.408750</td>\n",
       "      <td>unbalanced</td>\n",
       "      <td>unbalanced</td>\n",
       "      <td>0.404200</td>\n",
       "      <td>0.408750</td>\n",
       "      <td>0.393177</td>\n",
       "    </tr>\n",
       "    <tr>\n",
       "      <th>34</th>\n",
       "      <td>TfIdf-max_features</td>\n",
       "      <td>RF</td>\n",
       "      <td>1300</td>\n",
       "      <td>-1</td>\n",
       "      <td>0.408750</td>\n",
       "      <td>unbalanced</td>\n",
       "      <td>unbalanced</td>\n",
       "      <td>0.401464</td>\n",
       "      <td>0.408750</td>\n",
       "      <td>0.393062</td>\n",
       "    </tr>\n",
       "    <tr>\n",
       "      <th>13</th>\n",
       "      <td>TfIdf-max_features</td>\n",
       "      <td>RF</td>\n",
       "      <td>85</td>\n",
       "      <td>-1</td>\n",
       "      <td>0.402500</td>\n",
       "      <td>unbalanced</td>\n",
       "      <td>unbalanced</td>\n",
       "      <td>0.392933</td>\n",
       "      <td>0.402500</td>\n",
       "      <td>0.390260</td>\n",
       "    </tr>\n",
       "    <tr>\n",
       "      <th>31</th>\n",
       "      <td>TfIdf-max_features</td>\n",
       "      <td>RF</td>\n",
       "      <td>1100</td>\n",
       "      <td>-1</td>\n",
       "      <td>0.403125</td>\n",
       "      <td>unbalanced</td>\n",
       "      <td>unbalanced</td>\n",
       "      <td>0.411985</td>\n",
       "      <td>0.403125</td>\n",
       "      <td>0.390218</td>\n",
       "    </tr>\n",
       "    <tr>\n",
       "      <th>4</th>\n",
       "      <td>TfIdf-max_features</td>\n",
       "      <td>RF</td>\n",
       "      <td>25</td>\n",
       "      <td>-1</td>\n",
       "      <td>0.363750</td>\n",
       "      <td>unbalanced</td>\n",
       "      <td>unbalanced</td>\n",
       "      <td>0.366970</td>\n",
       "      <td>0.363750</td>\n",
       "      <td>0.358935</td>\n",
       "    </tr>\n",
       "    <tr>\n",
       "      <th>1</th>\n",
       "      <td>TfIdf-max_features</td>\n",
       "      <td>RF</td>\n",
       "      <td>5</td>\n",
       "      <td>-1</td>\n",
       "      <td>0.347500</td>\n",
       "      <td>unbalanced</td>\n",
       "      <td>unbalanced</td>\n",
       "      <td>0.344249</td>\n",
       "      <td>0.347500</td>\n",
       "      <td>0.343690</td>\n",
       "    </tr>\n",
       "    <tr>\n",
       "      <th>21</th>\n",
       "      <td>TfIdf-max_features</td>\n",
       "      <td>SVM</td>\n",
       "      <td>500</td>\n",
       "      <td>-1</td>\n",
       "      <td>0.390625</td>\n",
       "      <td>unbalanced</td>\n",
       "      <td>unbalanced</td>\n",
       "      <td>0.371089</td>\n",
       "      <td>0.390625</td>\n",
       "      <td>0.343068</td>\n",
       "    </tr>\n",
       "    <tr>\n",
       "      <th>24</th>\n",
       "      <td>TfIdf-max_features</td>\n",
       "      <td>SVM</td>\n",
       "      <td>700</td>\n",
       "      <td>-1</td>\n",
       "      <td>0.373125</td>\n",
       "      <td>unbalanced</td>\n",
       "      <td>unbalanced</td>\n",
       "      <td>0.372584</td>\n",
       "      <td>0.373125</td>\n",
       "      <td>0.342111</td>\n",
       "    </tr>\n",
       "    <tr>\n",
       "      <th>14</th>\n",
       "      <td>TfIdf-max_features</td>\n",
       "      <td>NB</td>\n",
       "      <td>85</td>\n",
       "      <td>-1</td>\n",
       "      <td>0.370000</td>\n",
       "      <td>unbalanced</td>\n",
       "      <td>unbalanced</td>\n",
       "      <td>0.342089</td>\n",
       "      <td>0.370000</td>\n",
       "      <td>0.336080</td>\n",
       "    </tr>\n",
       "    <tr>\n",
       "      <th>5</th>\n",
       "      <td>TfIdf-max_features</td>\n",
       "      <td>NB</td>\n",
       "      <td>25</td>\n",
       "      <td>-1</td>\n",
       "      <td>0.369375</td>\n",
       "      <td>unbalanced</td>\n",
       "      <td>unbalanced</td>\n",
       "      <td>0.324431</td>\n",
       "      <td>0.369375</td>\n",
       "      <td>0.327432</td>\n",
       "    </tr>\n",
       "    <tr>\n",
       "      <th>27</th>\n",
       "      <td>TfIdf-max_features</td>\n",
       "      <td>SVM</td>\n",
       "      <td>900</td>\n",
       "      <td>-1</td>\n",
       "      <td>0.384375</td>\n",
       "      <td>unbalanced</td>\n",
       "      <td>unbalanced</td>\n",
       "      <td>0.350948</td>\n",
       "      <td>0.384375</td>\n",
       "      <td>0.324312</td>\n",
       "    </tr>\n",
       "    <tr>\n",
       "      <th>17</th>\n",
       "      <td>TfIdf-max_features</td>\n",
       "      <td>NB</td>\n",
       "      <td>100</td>\n",
       "      <td>-1</td>\n",
       "      <td>0.360000</td>\n",
       "      <td>unbalanced</td>\n",
       "      <td>unbalanced</td>\n",
       "      <td>0.328328</td>\n",
       "      <td>0.360000</td>\n",
       "      <td>0.324003</td>\n",
       "    </tr>\n",
       "    <tr>\n",
       "      <th>11</th>\n",
       "      <td>TfIdf-max_features</td>\n",
       "      <td>NB</td>\n",
       "      <td>65</td>\n",
       "      <td>-1</td>\n",
       "      <td>0.366875</td>\n",
       "      <td>unbalanced</td>\n",
       "      <td>unbalanced</td>\n",
       "      <td>0.323108</td>\n",
       "      <td>0.366875</td>\n",
       "      <td>0.321195</td>\n",
       "    </tr>\n",
       "    <tr>\n",
       "      <th>6</th>\n",
       "      <td>TfIdf-max_features</td>\n",
       "      <td>SVM</td>\n",
       "      <td>45</td>\n",
       "      <td>-1</td>\n",
       "      <td>0.358125</td>\n",
       "      <td>unbalanced</td>\n",
       "      <td>unbalanced</td>\n",
       "      <td>0.398783</td>\n",
       "      <td>0.358125</td>\n",
       "      <td>0.319981</td>\n",
       "    </tr>\n",
       "    <tr>\n",
       "      <th>20</th>\n",
       "      <td>TfIdf-max_features</td>\n",
       "      <td>NB</td>\n",
       "      <td>300</td>\n",
       "      <td>-1</td>\n",
       "      <td>0.364375</td>\n",
       "      <td>unbalanced</td>\n",
       "      <td>unbalanced</td>\n",
       "      <td>0.319120</td>\n",
       "      <td>0.364375</td>\n",
       "      <td>0.319523</td>\n",
       "    </tr>\n",
       "    <tr>\n",
       "      <th>30</th>\n",
       "      <td>TfIdf-max_features</td>\n",
       "      <td>SVM</td>\n",
       "      <td>1100</td>\n",
       "      <td>-1</td>\n",
       "      <td>0.361250</td>\n",
       "      <td>unbalanced</td>\n",
       "      <td>unbalanced</td>\n",
       "      <td>0.366399</td>\n",
       "      <td>0.361250</td>\n",
       "      <td>0.314552</td>\n",
       "    </tr>\n",
       "    <tr>\n",
       "      <th>8</th>\n",
       "      <td>TfIdf-max_features</td>\n",
       "      <td>NB</td>\n",
       "      <td>45</td>\n",
       "      <td>-1</td>\n",
       "      <td>0.360000</td>\n",
       "      <td>unbalanced</td>\n",
       "      <td>unbalanced</td>\n",
       "      <td>0.313203</td>\n",
       "      <td>0.360000</td>\n",
       "      <td>0.314442</td>\n",
       "    </tr>\n",
       "    <tr>\n",
       "      <th>23</th>\n",
       "      <td>TfIdf-max_features</td>\n",
       "      <td>NB</td>\n",
       "      <td>500</td>\n",
       "      <td>-1</td>\n",
       "      <td>0.358750</td>\n",
       "      <td>unbalanced</td>\n",
       "      <td>unbalanced</td>\n",
       "      <td>0.310856</td>\n",
       "      <td>0.358750</td>\n",
       "      <td>0.304752</td>\n",
       "    </tr>\n",
       "    <tr>\n",
       "      <th>15</th>\n",
       "      <td>TfIdf-max_features</td>\n",
       "      <td>SVM</td>\n",
       "      <td>100</td>\n",
       "      <td>-1</td>\n",
       "      <td>0.346250</td>\n",
       "      <td>unbalanced</td>\n",
       "      <td>unbalanced</td>\n",
       "      <td>0.454032</td>\n",
       "      <td>0.346250</td>\n",
       "      <td>0.292390</td>\n",
       "    </tr>\n",
       "    <tr>\n",
       "      <th>2</th>\n",
       "      <td>TfIdf-max_features</td>\n",
       "      <td>NB</td>\n",
       "      <td>5</td>\n",
       "      <td>-1</td>\n",
       "      <td>0.359375</td>\n",
       "      <td>unbalanced</td>\n",
       "      <td>unbalanced</td>\n",
       "      <td>0.332493</td>\n",
       "      <td>0.359375</td>\n",
       "      <td>0.286640</td>\n",
       "    </tr>\n",
       "    <tr>\n",
       "      <th>26</th>\n",
       "      <td>TfIdf-max_features</td>\n",
       "      <td>NB</td>\n",
       "      <td>700</td>\n",
       "      <td>-1</td>\n",
       "      <td>0.336875</td>\n",
       "      <td>unbalanced</td>\n",
       "      <td>unbalanced</td>\n",
       "      <td>0.264756</td>\n",
       "      <td>0.336875</td>\n",
       "      <td>0.263134</td>\n",
       "    </tr>\n",
       "    <tr>\n",
       "      <th>0</th>\n",
       "      <td>TfIdf-max_features</td>\n",
       "      <td>SVM</td>\n",
       "      <td>5</td>\n",
       "      <td>-1</td>\n",
       "      <td>0.301250</td>\n",
       "      <td>unbalanced</td>\n",
       "      <td>unbalanced</td>\n",
       "      <td>0.257585</td>\n",
       "      <td>0.301250</td>\n",
       "      <td>0.249338</td>\n",
       "    </tr>\n",
       "    <tr>\n",
       "      <th>18</th>\n",
       "      <td>TfIdf-max_features</td>\n",
       "      <td>SVM</td>\n",
       "      <td>300</td>\n",
       "      <td>-1</td>\n",
       "      <td>0.269375</td>\n",
       "      <td>unbalanced</td>\n",
       "      <td>unbalanced</td>\n",
       "      <td>0.351621</td>\n",
       "      <td>0.269375</td>\n",
       "      <td>0.245135</td>\n",
       "    </tr>\n",
       "    <tr>\n",
       "      <th>3</th>\n",
       "      <td>TfIdf-max_features</td>\n",
       "      <td>SVM</td>\n",
       "      <td>25</td>\n",
       "      <td>-1</td>\n",
       "      <td>0.279375</td>\n",
       "      <td>unbalanced</td>\n",
       "      <td>unbalanced</td>\n",
       "      <td>0.293566</td>\n",
       "      <td>0.279375</td>\n",
       "      <td>0.242295</td>\n",
       "    </tr>\n",
       "    <tr>\n",
       "      <th>29</th>\n",
       "      <td>TfIdf-max_features</td>\n",
       "      <td>NB</td>\n",
       "      <td>900</td>\n",
       "      <td>-1</td>\n",
       "      <td>0.321250</td>\n",
       "      <td>unbalanced</td>\n",
       "      <td>unbalanced</td>\n",
       "      <td>0.273570</td>\n",
       "      <td>0.321250</td>\n",
       "      <td>0.242189</td>\n",
       "    </tr>\n",
       "    <tr>\n",
       "      <th>9</th>\n",
       "      <td>TfIdf-max_features</td>\n",
       "      <td>SVM</td>\n",
       "      <td>65</td>\n",
       "      <td>-1</td>\n",
       "      <td>0.275000</td>\n",
       "      <td>unbalanced</td>\n",
       "      <td>unbalanced</td>\n",
       "      <td>0.289121</td>\n",
       "      <td>0.275000</td>\n",
       "      <td>0.216889</td>\n",
       "    </tr>\n",
       "    <tr>\n",
       "      <th>32</th>\n",
       "      <td>TfIdf-max_features</td>\n",
       "      <td>NB</td>\n",
       "      <td>1100</td>\n",
       "      <td>-1</td>\n",
       "      <td>0.302500</td>\n",
       "      <td>unbalanced</td>\n",
       "      <td>unbalanced</td>\n",
       "      <td>0.262711</td>\n",
       "      <td>0.302500</td>\n",
       "      <td>0.213855</td>\n",
       "    </tr>\n",
       "    <tr>\n",
       "      <th>12</th>\n",
       "      <td>TfIdf-max_features</td>\n",
       "      <td>SVM</td>\n",
       "      <td>85</td>\n",
       "      <td>-1</td>\n",
       "      <td>0.259375</td>\n",
       "      <td>unbalanced</td>\n",
       "      <td>unbalanced</td>\n",
       "      <td>0.259699</td>\n",
       "      <td>0.259375</td>\n",
       "      <td>0.204100</td>\n",
       "    </tr>\n",
       "    <tr>\n",
       "      <th>33</th>\n",
       "      <td>TfIdf-max_features</td>\n",
       "      <td>SVM</td>\n",
       "      <td>1300</td>\n",
       "      <td>-1</td>\n",
       "      <td>0.248125</td>\n",
       "      <td>unbalanced</td>\n",
       "      <td>unbalanced</td>\n",
       "      <td>0.324312</td>\n",
       "      <td>0.248125</td>\n",
       "      <td>0.200144</td>\n",
       "    </tr>\n",
       "    <tr>\n",
       "      <th>35</th>\n",
       "      <td>TfIdf-max_features</td>\n",
       "      <td>NB</td>\n",
       "      <td>1300</td>\n",
       "      <td>-1</td>\n",
       "      <td>0.290000</td>\n",
       "      <td>unbalanced</td>\n",
       "      <td>unbalanced</td>\n",
       "      <td>0.261869</td>\n",
       "      <td>0.290000</td>\n",
       "      <td>0.194424</td>\n",
       "    </tr>\n",
       "  </tbody>\n",
       "</table>\n",
       "</div>"
      ],
      "text/plain": [
       "                method model n_components n_neighbors  accuracy       train  \\\n",
       "28  TfIdf-max_features    RF          900          -1  0.441250  unbalanced   \n",
       "7   TfIdf-max_features    RF           45          -1  0.417500  unbalanced   \n",
       "16  TfIdf-max_features    RF          100          -1  0.415625  unbalanced   \n",
       "22  TfIdf-max_features    RF          500          -1  0.416875  unbalanced   \n",
       "10  TfIdf-max_features    RF           65          -1  0.413750  unbalanced   \n",
       "19  TfIdf-max_features    RF          300          -1  0.408750  unbalanced   \n",
       "25  TfIdf-max_features    RF          700          -1  0.408750  unbalanced   \n",
       "34  TfIdf-max_features    RF         1300          -1  0.408750  unbalanced   \n",
       "13  TfIdf-max_features    RF           85          -1  0.402500  unbalanced   \n",
       "31  TfIdf-max_features    RF         1100          -1  0.403125  unbalanced   \n",
       "4   TfIdf-max_features    RF           25          -1  0.363750  unbalanced   \n",
       "1   TfIdf-max_features    RF            5          -1  0.347500  unbalanced   \n",
       "21  TfIdf-max_features   SVM          500          -1  0.390625  unbalanced   \n",
       "24  TfIdf-max_features   SVM          700          -1  0.373125  unbalanced   \n",
       "14  TfIdf-max_features    NB           85          -1  0.370000  unbalanced   \n",
       "5   TfIdf-max_features    NB           25          -1  0.369375  unbalanced   \n",
       "27  TfIdf-max_features   SVM          900          -1  0.384375  unbalanced   \n",
       "17  TfIdf-max_features    NB          100          -1  0.360000  unbalanced   \n",
       "11  TfIdf-max_features    NB           65          -1  0.366875  unbalanced   \n",
       "6   TfIdf-max_features   SVM           45          -1  0.358125  unbalanced   \n",
       "20  TfIdf-max_features    NB          300          -1  0.364375  unbalanced   \n",
       "30  TfIdf-max_features   SVM         1100          -1  0.361250  unbalanced   \n",
       "8   TfIdf-max_features    NB           45          -1  0.360000  unbalanced   \n",
       "23  TfIdf-max_features    NB          500          -1  0.358750  unbalanced   \n",
       "15  TfIdf-max_features   SVM          100          -1  0.346250  unbalanced   \n",
       "2   TfIdf-max_features    NB            5          -1  0.359375  unbalanced   \n",
       "26  TfIdf-max_features    NB          700          -1  0.336875  unbalanced   \n",
       "0   TfIdf-max_features   SVM            5          -1  0.301250  unbalanced   \n",
       "18  TfIdf-max_features   SVM          300          -1  0.269375  unbalanced   \n",
       "3   TfIdf-max_features   SVM           25          -1  0.279375  unbalanced   \n",
       "29  TfIdf-max_features    NB          900          -1  0.321250  unbalanced   \n",
       "9   TfIdf-max_features   SVM           65          -1  0.275000  unbalanced   \n",
       "32  TfIdf-max_features    NB         1100          -1  0.302500  unbalanced   \n",
       "12  TfIdf-max_features   SVM           85          -1  0.259375  unbalanced   \n",
       "33  TfIdf-max_features   SVM         1300          -1  0.248125  unbalanced   \n",
       "35  TfIdf-max_features    NB         1300          -1  0.290000  unbalanced   \n",
       "\n",
       "          test  precision    recall        f1  \n",
       "28  unbalanced   0.456339  0.441250  0.426899  \n",
       "7   unbalanced   0.425942  0.417500  0.410048  \n",
       "16  unbalanced   0.425435  0.415625  0.406570  \n",
       "22  unbalanced   0.430056  0.416875  0.405233  \n",
       "10  unbalanced   0.418771  0.413750  0.403912  \n",
       "19  unbalanced   0.399497  0.408750  0.394684  \n",
       "25  unbalanced   0.404200  0.408750  0.393177  \n",
       "34  unbalanced   0.401464  0.408750  0.393062  \n",
       "13  unbalanced   0.392933  0.402500  0.390260  \n",
       "31  unbalanced   0.411985  0.403125  0.390218  \n",
       "4   unbalanced   0.366970  0.363750  0.358935  \n",
       "1   unbalanced   0.344249  0.347500  0.343690  \n",
       "21  unbalanced   0.371089  0.390625  0.343068  \n",
       "24  unbalanced   0.372584  0.373125  0.342111  \n",
       "14  unbalanced   0.342089  0.370000  0.336080  \n",
       "5   unbalanced   0.324431  0.369375  0.327432  \n",
       "27  unbalanced   0.350948  0.384375  0.324312  \n",
       "17  unbalanced   0.328328  0.360000  0.324003  \n",
       "11  unbalanced   0.323108  0.366875  0.321195  \n",
       "6   unbalanced   0.398783  0.358125  0.319981  \n",
       "20  unbalanced   0.319120  0.364375  0.319523  \n",
       "30  unbalanced   0.366399  0.361250  0.314552  \n",
       "8   unbalanced   0.313203  0.360000  0.314442  \n",
       "23  unbalanced   0.310856  0.358750  0.304752  \n",
       "15  unbalanced   0.454032  0.346250  0.292390  \n",
       "2   unbalanced   0.332493  0.359375  0.286640  \n",
       "26  unbalanced   0.264756  0.336875  0.263134  \n",
       "0   unbalanced   0.257585  0.301250  0.249338  \n",
       "18  unbalanced   0.351621  0.269375  0.245135  \n",
       "3   unbalanced   0.293566  0.279375  0.242295  \n",
       "29  unbalanced   0.273570  0.321250  0.242189  \n",
       "9   unbalanced   0.289121  0.275000  0.216889  \n",
       "32  unbalanced   0.262711  0.302500  0.213855  \n",
       "12  unbalanced   0.259699  0.259375  0.204100  \n",
       "33  unbalanced   0.324312  0.248125  0.200144  \n",
       "35  unbalanced   0.261869  0.290000  0.194424  "
      ]
     },
     "execution_count": 16,
     "metadata": {},
     "output_type": "execute_result"
    }
   ],
   "source": [
    "df.sort_values(\"f1\", ascending = False)"
   ]
  },
  {
   "cell_type": "markdown",
   "id": "e03b6ae0",
   "metadata": {},
   "source": [
    "# Best models"
   ]
  },
  {
   "cell_type": "code",
   "execution_count": 17,
   "id": "5a498597",
   "metadata": {},
   "outputs": [],
   "source": [
    "from sklearn.metrics import f1_score"
   ]
  },
  {
   "cell_type": "code",
   "execution_count": 19,
   "id": "9057e22f",
   "metadata": {},
   "outputs": [
    {
     "name": "stdout",
     "output_type": "stream",
     "text": [
      "[0.25737265 0.3127572  0.94711538 0.29268293 0.23222749 0.26699029\n",
      " 0.13043478 0.97560976]\n",
      "['asshole' 'everyone sucks' 'meta' 'no a-holes here' 'not enough info'\n",
      " 'not the a-hole' 'tl;dr' 'update']\n"
     ]
    }
   ],
   "source": [
    "i = 900\n",
    "\n",
    "vectorizer1 = TfidfVectorizer(stop_words = 'english', max_features=i)\n",
    "vectorizer2 = TfidfVectorizer(stop_words = 'english', max_features=i)\n",
    "\n",
    "\n",
    "X_pcab, y_trainb = datasetToTfIdfPredictorsAndLabels(X__trainb, vectorizer1, vectorizer2)\n",
    "X_pca_testb, y_testb = datasetToTfIdfPredictorsAndLabelsForTest(X__testb, vectorizer1, vectorizer2)\n",
    "\n",
    "\n",
    "loaded_model = pickle.load(open(\"rf_model_900.sav\", 'rb'))\n",
    "\n",
    "\n",
    "model_pred = loaded_model.predict(X_pca_testb)\n",
    "\n",
    "rf_proba = loaded_model.predict_proba(X_pca_testb)\n",
    "\n",
    "rf_f1_scores = f1_score(y_testb, model_pred, average = None, labels=np.unique(y_testb))\n",
    "\n",
    "print(rf_f1_scores)\n",
    "print(np.unique(y_testb))\n",
    "\n",
    "pd.DataFrame(rf_proba).to_csv(\"rf_proba.csv\")\n",
    "pd.DataFrame(rf_f1_scores).to_csv(\"rf_f1_scores.csv\")\n"
   ]
  },
  {
   "cell_type": "code",
   "execution_count": 20,
   "id": "f5cb4c40",
   "metadata": {},
   "outputs": [
    {
     "name": "stderr",
     "output_type": "stream",
     "text": [
      "C:\\Users\\Patryk\\anaconda3\\lib\\site-packages\\sklearn\\utils\\validation.py:63: DataConversionWarning: A column-vector y was passed when a 1d array was expected. Please change the shape of y to (n_samples, ), for example using ravel().\n",
      "  return f(*args, **kwargs)\n",
      "C:\\Users\\Patryk\\anaconda3\\lib\\site-packages\\sklearn\\svm\\_base.py:985: ConvergenceWarning: Liblinear failed to converge, increase the number of iterations.\n",
      "  warnings.warn(\"Liblinear failed to converge, increase \"\n",
      "C:\\Users\\Patryk\\anaconda3\\lib\\site-packages\\sklearn\\svm\\_base.py:985: ConvergenceWarning: Liblinear failed to converge, increase the number of iterations.\n",
      "  warnings.warn(\"Liblinear failed to converge, increase \"\n",
      "C:\\Users\\Patryk\\anaconda3\\lib\\site-packages\\sklearn\\svm\\_base.py:985: ConvergenceWarning: Liblinear failed to converge, increase the number of iterations.\n",
      "  warnings.warn(\"Liblinear failed to converge, increase \"\n",
      "C:\\Users\\Patryk\\anaconda3\\lib\\site-packages\\sklearn\\svm\\_base.py:985: ConvergenceWarning: Liblinear failed to converge, increase the number of iterations.\n",
      "  warnings.warn(\"Liblinear failed to converge, increase \"\n",
      "C:\\Users\\Patryk\\anaconda3\\lib\\site-packages\\sklearn\\svm\\_base.py:985: ConvergenceWarning: Liblinear failed to converge, increase the number of iterations.\n",
      "  warnings.warn(\"Liblinear failed to converge, increase \"\n"
     ]
    },
    {
     "name": "stdout",
     "output_type": "stream",
     "text": [
      "[0.18617021 0.21052632 0.91375291 0.22929936 0.13924051 0.23668639\n",
      " 0.11552347 0.98029557]\n",
      "['asshole' 'everyone sucks' 'meta' 'no a-holes here' 'not enough info'\n",
      " 'not the a-hole' 'tl;dr' 'update']\n"
     ]
    }
   ],
   "source": [
    "from sklearn.calibration import CalibratedClassifierCV\n",
    "\n",
    "i = 500\n",
    "\n",
    "vectorizer1 = TfidfVectorizer(stop_words = 'english', max_features=i)\n",
    "vectorizer2 = TfidfVectorizer(stop_words = 'english', max_features=i)\n",
    "\n",
    "\n",
    "X_pcab, y_trainb = datasetToTfIdfPredictorsAndLabels(X__trainb, vectorizer1, vectorizer2)\n",
    "X_pca_testb, y_testb = datasetToTfIdfPredictorsAndLabelsForTest(X__testb, vectorizer1, vectorizer2)\n",
    "\n",
    "\n",
    "loaded_model = CalibratedClassifierCV(pickle.load(open(\"svm_model_500.sav\", 'rb')))\n",
    "\n",
    "loaded_model.fit(X_pcab, y_trainb)\n",
    "\n",
    "model_pred = loaded_model.predict(X_pca_testb)\n",
    "\n",
    "svm_proba = loaded_model.predict_proba(X_pca_testb)\n",
    "\n",
    "svm_f1_scores = f1_score(y_testb, model_pred, average = None, labels=np.unique(y_testb))\n",
    "\n",
    "print(svm_f1_scores)\n",
    "print(np.unique(y_testb))\n",
    "\n",
    "pd.DataFrame(svm_proba).to_csv(\"svm_proba.csv\")\n",
    "pd.DataFrame(svm_f1_scores).to_csv(\"svm_f1_scores.csv\")\n",
    "\n"
   ]
  },
  {
   "cell_type": "code",
   "execution_count": 23,
   "id": "d1d50ca4",
   "metadata": {},
   "outputs": [
    {
     "name": "stdout",
     "output_type": "stream",
     "text": [
      "[0.11450382 0.23888889 0.93627451 0.23209877 0.1048951  0.19941349\n",
      " 0.29802513 0.56454389]\n",
      "['asshole' 'everyone sucks' 'meta' 'no a-holes here' 'not enough info'\n",
      " 'not the a-hole' 'tl;dr' 'update']\n"
     ]
    }
   ],
   "source": [
    "i = 85\n",
    "\n",
    "vectorizer1 = TfidfVectorizer(stop_words = 'english', max_features=i)\n",
    "vectorizer2 = TfidfVectorizer(stop_words = 'english', max_features=i)\n",
    "\n",
    "\n",
    "X_pcab, y_trainb = datasetToTfIdfPredictorsAndLabels(X__trainb, vectorizer1, vectorizer2)\n",
    "X_pca_testb, y_testb = datasetToTfIdfPredictorsAndLabelsForTest(X__testb, vectorizer1, vectorizer2)\n",
    "\n",
    "\n",
    "loaded_model = pickle.load(open(\"nb_model_85.sav\", 'rb'))\n",
    "\n",
    "\n",
    "model_pred = loaded_model.predict(X_pca_testb)\n",
    "\n",
    "nb_proba = loaded_model.predict_proba(X_pca_testb)\n",
    "\n",
    "nb_f1_scores = f1_score(y_testb, model_pred, average = None, labels=np.unique(y_testb))\n",
    "\n",
    "print(nb_f1_scores)\n",
    "print(np.unique(y_testb))\n",
    "\n",
    "pd.DataFrame(nb_proba).to_csv(\"nb_proba.csv\")\n",
    "pd.DataFrame(nb_f1_scores).to_csv(\"nb_f1_scores.csv\")\n"
   ]
  }
 ],
 "metadata": {
  "kernelspec": {
   "display_name": "Python 3 (ipykernel)",
   "language": "python",
   "name": "python3"
  },
  "language_info": {
   "codemirror_mode": {
    "name": "ipython",
    "version": 3
   },
   "file_extension": ".py",
   "mimetype": "text/x-python",
   "name": "python",
   "nbconvert_exporter": "python",
   "pygments_lexer": "ipython3",
   "version": "3.9.7"
  }
 },
 "nbformat": 4,
 "nbformat_minor": 5
}
