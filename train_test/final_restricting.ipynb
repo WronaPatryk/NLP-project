{
 "cells": [
  {
   "cell_type": "code",
   "execution_count": 6,
   "metadata": {},
   "outputs": [],
   "source": [
    "import numpy as np\n",
    "import pandas as pd\n",
    "import random"
   ]
  },
  {
   "cell_type": "code",
   "execution_count": 17,
   "metadata": {},
   "outputs": [],
   "source": [
    "teen_test = pd.read_csv(\"../data/teen_test.csv\")\n",
    "teen_train = pd.read_csv(\"../data/teen_train.csv\")\n",
    "aita_test = pd.read_csv(\"../data/aita_test.csv\")\n",
    "aita_train = pd.read_csv(\"../data/aita_train.csv\")\n",
    "#teen_balanced_test = pd.read_csv(\"../data/teen_test_balanced.csv\")\n",
    "#teen_balanced_train = pd.read_csv(\"../data/teen_train_balanced.csv\")\n",
    "#aita_balanced_test = pd.read_csv(\"../data/aita_test_balanced.csv\")\n",
    "#aita_balanced_train = pd.read_csv(\"../data/aita_train_balanced.csv\")"
   ]
  },
  {
   "cell_type": "code",
   "execution_count": 7,
   "metadata": {},
   "outputs": [],
   "source": [
    "seed_val = 213\n",
    "random.seed(seed_val)\n",
    "np.random.seed(seed_val)"
   ]
  },
  {
   "cell_type": "code",
   "execution_count": 10,
   "metadata": {},
   "outputs": [
    {
     "data": {
      "text/plain": [
       "(1600, 13)"
      ]
     },
     "execution_count": 10,
     "metadata": {},
     "output_type": "execute_result"
    }
   ],
   "source": [
    "aita_balanced_test.shape"
   ]
  },
  {
   "cell_type": "code",
   "execution_count": 13,
   "metadata": {},
   "outputs": [
    {
     "data": {
      "text/plain": [
       "(100000, 13)"
      ]
     },
     "execution_count": 13,
     "metadata": {},
     "output_type": "execute_result"
    }
   ],
   "source": [
    "teen_balanced_test.shape"
   ]
  },
  {
   "cell_type": "code",
   "execution_count": 15,
   "metadata": {},
   "outputs": [
    {
     "data": {
      "text/plain": [
       "(16000, 13)"
      ]
     },
     "execution_count": 15,
     "metadata": {},
     "output_type": "execute_result"
    }
   ],
   "source": [
    "aita_balanced_train.shape"
   ]
  },
  {
   "cell_type": "code",
   "execution_count": 16,
   "metadata": {},
   "outputs": [
    {
     "data": {
      "text/plain": [
       "(1000000, 13)"
      ]
     },
     "execution_count": 16,
     "metadata": {},
     "output_type": "execute_result"
    }
   ],
   "source": [
    "teen_balanced_train.shape"
   ]
  },
  {
   "cell_type": "code",
   "execution_count": 19,
   "metadata": {},
   "outputs": [],
   "source": [
    "teen_test_restricted = teen_test.sample(n=2000)\n",
    "teen_train_restricted = teen_train.sample(n=20000)\n",
    "aita_test_restricted = aita_test.sample(n=2000)\n",
    "aita_train_restricted = aita_train.sample(n=20000)"
   ]
  },
  {
   "cell_type": "markdown",
   "metadata": {},
   "source": [
    "# checking selection flair counts"
   ]
  },
  {
   "cell_type": "code",
   "execution_count": 21,
   "metadata": {},
   "outputs": [
    {
     "data": {
      "text/plain": [
       "flair\n",
       "advice          139\n",
       "art              60\n",
       "discussion      308\n",
       "media            68\n",
       "meme            370\n",
       "other           466\n",
       "rant            145\n",
       "relationship     84\n",
       "serious         127\n",
       "social          233\n",
       "Name: flair, dtype: int64"
      ]
     },
     "execution_count": 21,
     "metadata": {},
     "output_type": "execute_result"
    }
   ],
   "source": [
    "teen_test_restricted.groupby([\"flair\"]).flair.count()"
   ]
  },
  {
   "cell_type": "code",
   "execution_count": 22,
   "metadata": {},
   "outputs": [
    {
     "data": {
      "text/plain": [
       "flair\n",
       "advice          1409\n",
       "art              721\n",
       "discussion      2963\n",
       "media            774\n",
       "meme            3643\n",
       "other           4520\n",
       "rant            1416\n",
       "relationship     959\n",
       "serious         1289\n",
       "social          2306\n",
       "Name: flair, dtype: int64"
      ]
     },
     "execution_count": 22,
     "metadata": {},
     "output_type": "execute_result"
    }
   ],
   "source": [
    "teen_train_restricted.groupby([\"flair\"]).flair.count()"
   ]
  },
  {
   "cell_type": "code",
   "execution_count": 23,
   "metadata": {},
   "outputs": [
    {
     "data": {
      "text/plain": [
       "flair\n",
       "asshole             351\n",
       "everyone sucks      110\n",
       "meta                 23\n",
       "no a-holes here     219\n",
       "not enough info      60\n",
       "not the a-hole     1198\n",
       "tl;dr                12\n",
       "update               27\n",
       "Name: flair, dtype: int64"
      ]
     },
     "execution_count": 23,
     "metadata": {},
     "output_type": "execute_result"
    }
   ],
   "source": [
    "aita_test_restricted.groupby([\"flair\"]).flair.count()"
   ]
  },
  {
   "cell_type": "code",
   "execution_count": 24,
   "metadata": {},
   "outputs": [
    {
     "data": {
      "text/plain": [
       "flair\n",
       "asshole             3953\n",
       "everyone sucks      1188\n",
       "meta                 198\n",
       "no a-holes here     2015\n",
       "not enough info      619\n",
       "not the a-hole     11557\n",
       "tl;dr                171\n",
       "update               299\n",
       "Name: flair, dtype: int64"
      ]
     },
     "execution_count": 24,
     "metadata": {},
     "output_type": "execute_result"
    }
   ],
   "source": [
    "aita_train_restricted.groupby([\"flair\"]).flair.count()"
   ]
  },
  {
   "cell_type": "markdown",
   "metadata": {},
   "source": [
    "# saving"
   ]
  },
  {
   "cell_type": "code",
   "execution_count": 25,
   "metadata": {},
   "outputs": [],
   "source": [
    "teen_test_restricted.to_csv(\"../data/restricted/teen_test.csv\")\n",
    "teen_train_restricted.to_csv(\"../data/restricted/teen_train.csv\")\n",
    "aita_test_restricted.to_csv(\"../data/restricted/aita_test.csv\")\n",
    "aita_train_restricted.to_csv(\"../data/restricted/aita_train.csv\")"
   ]
  }
 ],
 "metadata": {
  "kernelspec": {
   "display_name": "Python 3",
   "language": "python",
   "name": "python3"
  },
  "language_info": {
   "codemirror_mode": {
    "name": "ipython",
    "version": 3
   },
   "file_extension": ".py",
   "mimetype": "text/x-python",
   "name": "python",
   "nbconvert_exporter": "python",
   "pygments_lexer": "ipython3",
   "version": "3.8.10"
  }
 },
 "nbformat": 4,
 "nbformat_minor": 4
}
