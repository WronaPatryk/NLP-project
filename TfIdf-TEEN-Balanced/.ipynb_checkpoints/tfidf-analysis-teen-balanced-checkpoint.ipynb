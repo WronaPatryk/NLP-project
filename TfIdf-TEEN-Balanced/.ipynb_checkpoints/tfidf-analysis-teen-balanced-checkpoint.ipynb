{
 "cells": [
  {
   "cell_type": "markdown",
   "id": "e8578048",
   "metadata": {},
   "source": [
    "# Feature selection and Dimensionality reduction\n",
    "\n",
    "The goal of this investigation is to obtain the best predictions and to select the smallest possible\n",
    "subset of relevant input variables (features).\n",
    "\n",
    "The dataset is already divided into train and validation sets (both in 2 forms - unbalanced and balanced). It was done for both **teenagers** and **amItheAsshole** subreddits.\n",
    "\n",
    "On train and validation sets, there will be used the same dimensionality reduction technique at the same moment (to make the rsults fair) -- the **accuracy** metric value will be calculated on validation data set."
   ]
  },
  {
   "cell_type": "code",
   "execution_count": 1,
   "id": "a4638dc2",
   "metadata": {},
   "outputs": [],
   "source": [
    "# importing packages\n",
    "\n",
    "from sklearn.feature_extraction.text import TfidfVectorizer\n",
    "from time import time\n",
    "\n",
    "from sklearn.metrics import classification_report\n",
    "\n",
    "from sklearn.metrics import precision_recall_fscore_support"
   ]
  },
  {
   "cell_type": "code",
   "execution_count": 2,
   "id": "d0e80b25",
   "metadata": {},
   "outputs": [],
   "source": [
    "import sklearn\n",
    "import pandas as pd, numpy as np\n",
    "\n",
    "import seaborn as sns\n",
    "import matplotlib.pyplot as plt"
   ]
  },
  {
   "cell_type": "code",
   "execution_count": 3,
   "id": "aa5a8c4c",
   "metadata": {},
   "outputs": [],
   "source": [
    "def replaceThisInsaneNa(x):\n",
    "    if pd.isna(x):\n",
    "        return \" \"\n",
    "    else:\n",
    "        return x\n",
    "    \n",
    "\n",
    "def datasetToTfIdfPredictorsAndLabels(df, vectorizer1, vectorizer2):\n",
    "    \n",
    "    text_bgw = pd.DataFrame(vectorizer1.fit_transform(df.text).toarray(), dtype = 'float32').reset_index(drop=True)\n",
    "    text_bgw.columns = vectorizer1.get_feature_names()\n",
    "    new_columns = []\n",
    "\n",
    "    for column in text_bgw.columns:\n",
    "        new_columns.append(\"text_\" + column)\n",
    "\n",
    "    text_bgw.columns = new_columns   \n",
    "    \n",
    "    title_bgw = pd.DataFrame(vectorizer2.fit_transform(df.title).toarray(), dtype = 'float32').reset_index(drop=True)\n",
    "    title_bgw.columns = vectorizer2.get_feature_names()\n",
    "    \n",
    "    new_columns = []\n",
    "\n",
    "    for column in title_bgw.columns:\n",
    "        new_columns.append(\"title_\" + column)\n",
    "\n",
    "    title_bgw.columns = new_columns\n",
    "    \n",
    "    X = pd.concat([df[[\"title_wc\", \"selftext_wc\", \"title_cc\", \"selftext_cc\"]].reset_index(drop=True), text_bgw, title_bgw], axis=1, join=\"inner\")\n",
    "    \n",
    "    return X, df[[\"flair\"]]\n",
    "\n",
    "def datasetToTfIdfPredictorsAndLabelsForTest(df, vectorizer1, vectorizer2):\n",
    "    \n",
    "    text_bgw = pd.DataFrame(vectorizer1.transform(df.text).toarray(), dtype = 'float32').reset_index(drop=True)\n",
    "    text_bgw.columns = vectorizer1.get_feature_names()\n",
    "    new_columns = []\n",
    "\n",
    "    for column in text_bgw.columns:\n",
    "        new_columns.append(\"text_\" + column)\n",
    "\n",
    "    text_bgw.columns = new_columns   \n",
    "    \n",
    "    title_bgw = pd.DataFrame(vectorizer2.transform(df.title).toarray(), dtype = 'float32').reset_index(drop=True)\n",
    "    title_bgw.columns = vectorizer2.get_feature_names()\n",
    "    \n",
    "    new_columns = []\n",
    "\n",
    "    for column in title_bgw.columns:\n",
    "        new_columns.append(\"title_\" + column)\n",
    "\n",
    "    title_bgw.columns = new_columns\n",
    "    \n",
    "    X = pd.concat([df[[\"title_wc\", \"selftext_wc\", \"title_cc\", \"selftext_cc\"]].reset_index(drop=True), text_bgw, title_bgw], axis=1, join=\"inner\")\n",
    "    \n",
    "    return X, df[[\"flair\"]]\n",
    "\n"
   ]
  },
  {
   "cell_type": "code",
   "execution_count": 4,
   "id": "256369da",
   "metadata": {},
   "outputs": [],
   "source": [
    "from sklearn.svm import LinearSVC\n",
    "from sklearn.ensemble import RandomForestClassifier\n",
    "from sklearn.naive_bayes import GaussianNB\n",
    "\n",
    "model = LinearSVC()\n",
    "model2 = RandomForestClassifier()\n",
    "model3 = GaussianNB()\n"
   ]
  },
  {
   "cell_type": "code",
   "execution_count": 5,
   "id": "67e949b7",
   "metadata": {},
   "outputs": [
    {
     "data": {
      "text/plain": [
       "'C:\\\\Users\\\\Patryk\\\\Desktop\\\\pulpitek_24_04_2022\\\\NLP-project\\\\TfIdf-TEEN-Balanced'"
      ]
     },
     "execution_count": 5,
     "metadata": {},
     "output_type": "execute_result"
    }
   ],
   "source": [
    "%pwd"
   ]
  },
  {
   "cell_type": "code",
   "execution_count": 12,
   "id": "3b6ad704",
   "metadata": {},
   "outputs": [],
   "source": [
    "# importing train and validation TEENAGERS datasets:\n",
    "\n",
    "#X_train = pd.read_csv(\"../data/teen_train.csv\", index_col=0, dtype = {'flair': str, 'title': str, 'text': str})\n",
    "X_trainb = pd.read_csv(\"../data/teen_train_balanced.csv\", index_col=0, dtype = {'flair': str, 'title': str, 'text': str})\n",
    "#X_test = pd.read_csv(\"../data/teen_test.csv\", index_col=0, dtype = {'flair': str, 'title': str, 'text': str})\n",
    "X_testb = pd.read_csv(\"../data/teen_test_balanced.csv\", index_col=0, dtype = {'flair': str, 'title': str, 'text': str})\n",
    "# chosing columns\n",
    "\n",
    "#X_train = X_train[[\"flair\", \"title\", \"text\", \"title_wc\", \"selftext_wc\", \"title_cc\", \"selftext_cc\"]]\n",
    "X_trainb = X_trainb[[\"flair\", \"title\", \"text\", \"title_wc\", \"selftext_wc\", \"title_cc\", \"selftext_cc\"]]\n",
    "#X_test = X_test[[\"flair\", \"title\", \"text\", \"title_wc\", \"selftext_wc\", \"title_cc\", \"selftext_cc\"]]\n",
    "X_testb = X_testb[[\"flair\", \"title\", \"text\", \"title_wc\", \"selftext_wc\", \"title_cc\", \"selftext_cc\"]]\n",
    "\n",
    "# X_train.text = X_train.text.apply(replaceThisInsaneNa)\n",
    "X_trainb.text = X_trainb.text.apply(replaceThisInsaneNa)\n",
    "\n",
    "# X_test.text = X_test.text.apply(replaceThisInsaneNa)\n",
    "X_testb.text = X_testb.text.apply(replaceThisInsaneNa)\n",
    "\n",
    "# X__train = X_train\n",
    "X__trainb = X_trainb\n",
    "# X__test = X_test\n",
    "X__testb = X_testb\n",
    "\n"
   ]
  },
  {
   "cell_type": "code",
   "execution_count": 13,
   "id": "5fe53779",
   "metadata": {},
   "outputs": [
    {
     "name": "stdout",
     "output_type": "stream",
     "text": [
      "(20000, 7)\n",
      "(2000, 7)\n"
     ]
    }
   ],
   "source": [
    "\n",
    "\n",
    "# print(X__train.shape)\n",
    "print(X__trainb.shape)\n",
    "# print(X__test.shape)\n",
    "print(X__testb.shape)"
   ]
  },
  {
   "cell_type": "code",
   "execution_count": 19,
   "id": "e0b5db43",
   "metadata": {},
   "outputs": [],
   "source": [
    "df = pd.DataFrame(columns=['method', 'model', 'n_components', 'n_neighbors', 'accuracy', 'train', 'test', 'precision', 'recall', 'f1'])"
   ]
  },
  {
   "cell_type": "code",
   "execution_count": 18,
   "id": "cd17c644",
   "metadata": {},
   "outputs": [],
   "source": [
    "import pickle"
   ]
  },
  {
   "cell_type": "markdown",
   "id": "3e5653d3",
   "metadata": {},
   "source": [
    "# TEEN fitting without Dimensionality reduction\n"
   ]
  },
  {
   "cell_type": "code",
   "execution_count": 20,
   "id": "0f336442",
   "metadata": {},
   "outputs": [
    {
     "name": "stdout",
     "output_type": "stream",
     "text": [
      "@@@@@@@@@@@@ max features of TfIdf:  5\n",
      "fitting SVM - balanced\n"
     ]
    },
    {
     "name": "stderr",
     "output_type": "stream",
     "text": [
      "C:\\Users\\Patryk\\anaconda3\\lib\\site-packages\\sklearn\\utils\\validation.py:63: DataConversionWarning: A column-vector y was passed when a 1d array was expected. Please change the shape of y to (n_samples, ), for example using ravel().\n",
      "  return f(*args, **kwargs)\n",
      "C:\\Users\\Patryk\\anaconda3\\lib\\site-packages\\sklearn\\svm\\_base.py:985: ConvergenceWarning: Liblinear failed to converge, increase the number of iterations.\n",
      "  warnings.warn(\"Liblinear failed to converge, increase \"\n",
      "C:\\Users\\Patryk\\anaconda3\\lib\\site-packages\\sklearn\\metrics\\_classification.py:1248: UndefinedMetricWarning: Precision and F-score are ill-defined and being set to 0.0 in labels with no predicted samples. Use `zero_division` parameter to control this behavior.\n",
      "  _warn_prf(average, modifier, msg_start, len(result))\n",
      "C:\\Users\\Patryk\\AppData\\Local\\Temp/ipykernel_17064/3090271900.py:36: DataConversionWarning: A column-vector y was passed when a 1d array was expected. Please change the shape of y to (n_samples,), for example using ravel().\n",
      "  model2.fit(X_pcab, y_trainb)\n"
     ]
    },
    {
     "name": "stdout",
     "output_type": "stream",
     "text": [
      "Time: : 28 sec\n",
      "fitting RF - balanced\n",
      "Time: : 3.2 sec\n",
      "fitting NB - balanced\n",
      "Time: : 0.065 sec\n"
     ]
    },
    {
     "name": "stderr",
     "output_type": "stream",
     "text": [
      "C:\\Users\\Patryk\\anaconda3\\lib\\site-packages\\sklearn\\utils\\validation.py:63: DataConversionWarning: A column-vector y was passed when a 1d array was expected. Please change the shape of y to (n_samples, ), for example using ravel().\n",
      "  return f(*args, **kwargs)\n"
     ]
    },
    {
     "name": "stdout",
     "output_type": "stream",
     "text": [
      "@@@@@@@@@@@@ max features of TfIdf:  25\n",
      "fitting SVM - balanced\n"
     ]
    },
    {
     "name": "stderr",
     "output_type": "stream",
     "text": [
      "C:\\Users\\Patryk\\anaconda3\\lib\\site-packages\\sklearn\\utils\\validation.py:63: DataConversionWarning: A column-vector y was passed when a 1d array was expected. Please change the shape of y to (n_samples, ), for example using ravel().\n",
      "  return f(*args, **kwargs)\n",
      "C:\\Users\\Patryk\\anaconda3\\lib\\site-packages\\sklearn\\svm\\_base.py:985: ConvergenceWarning: Liblinear failed to converge, increase the number of iterations.\n",
      "  warnings.warn(\"Liblinear failed to converge, increase \"\n",
      "C:\\Users\\Patryk\\anaconda3\\lib\\site-packages\\sklearn\\metrics\\_classification.py:1248: UndefinedMetricWarning: Precision and F-score are ill-defined and being set to 0.0 in labels with no predicted samples. Use `zero_division` parameter to control this behavior.\n",
      "  _warn_prf(average, modifier, msg_start, len(result))\n",
      "C:\\Users\\Patryk\\AppData\\Local\\Temp/ipykernel_17064/3090271900.py:36: DataConversionWarning: A column-vector y was passed when a 1d array was expected. Please change the shape of y to (n_samples,), for example using ravel().\n",
      "  model2.fit(X_pcab, y_trainb)\n"
     ]
    },
    {
     "name": "stdout",
     "output_type": "stream",
     "text": [
      "Time: : 23 sec\n",
      "fitting RF - balanced\n",
      "Time: : 5.1 sec\n",
      "fitting NB - balanced\n",
      "Time: : 0.082 sec\n"
     ]
    },
    {
     "name": "stderr",
     "output_type": "stream",
     "text": [
      "C:\\Users\\Patryk\\anaconda3\\lib\\site-packages\\sklearn\\utils\\validation.py:63: DataConversionWarning: A column-vector y was passed when a 1d array was expected. Please change the shape of y to (n_samples, ), for example using ravel().\n",
      "  return f(*args, **kwargs)\n"
     ]
    },
    {
     "name": "stdout",
     "output_type": "stream",
     "text": [
      "@@@@@@@@@@@@ max features of TfIdf:  45\n",
      "fitting SVM - balanced\n"
     ]
    },
    {
     "name": "stderr",
     "output_type": "stream",
     "text": [
      "C:\\Users\\Patryk\\anaconda3\\lib\\site-packages\\sklearn\\utils\\validation.py:63: DataConversionWarning: A column-vector y was passed when a 1d array was expected. Please change the shape of y to (n_samples, ), for example using ravel().\n",
      "  return f(*args, **kwargs)\n",
      "C:\\Users\\Patryk\\anaconda3\\lib\\site-packages\\sklearn\\svm\\_base.py:985: ConvergenceWarning: Liblinear failed to converge, increase the number of iterations.\n",
      "  warnings.warn(\"Liblinear failed to converge, increase \"\n",
      "C:\\Users\\Patryk\\anaconda3\\lib\\site-packages\\sklearn\\metrics\\_classification.py:1248: UndefinedMetricWarning: Precision and F-score are ill-defined and being set to 0.0 in labels with no predicted samples. Use `zero_division` parameter to control this behavior.\n",
      "  _warn_prf(average, modifier, msg_start, len(result))\n",
      "C:\\Users\\Patryk\\AppData\\Local\\Temp/ipykernel_17064/3090271900.py:36: DataConversionWarning: A column-vector y was passed when a 1d array was expected. Please change the shape of y to (n_samples,), for example using ravel().\n",
      "  model2.fit(X_pcab, y_trainb)\n"
     ]
    },
    {
     "name": "stdout",
     "output_type": "stream",
     "text": [
      "Time: : 24 sec\n",
      "fitting RF - balanced\n",
      "Time: : 7.4 sec\n",
      "fitting NB - balanced\n",
      "Time: : 0.13 sec\n"
     ]
    },
    {
     "name": "stderr",
     "output_type": "stream",
     "text": [
      "C:\\Users\\Patryk\\anaconda3\\lib\\site-packages\\sklearn\\utils\\validation.py:63: DataConversionWarning: A column-vector y was passed when a 1d array was expected. Please change the shape of y to (n_samples, ), for example using ravel().\n",
      "  return f(*args, **kwargs)\n"
     ]
    },
    {
     "name": "stdout",
     "output_type": "stream",
     "text": [
      "@@@@@@@@@@@@ max features of TfIdf:  65\n",
      "fitting SVM - balanced\n"
     ]
    },
    {
     "name": "stderr",
     "output_type": "stream",
     "text": [
      "C:\\Users\\Patryk\\anaconda3\\lib\\site-packages\\sklearn\\utils\\validation.py:63: DataConversionWarning: A column-vector y was passed when a 1d array was expected. Please change the shape of y to (n_samples, ), for example using ravel().\n",
      "  return f(*args, **kwargs)\n",
      "C:\\Users\\Patryk\\anaconda3\\lib\\site-packages\\sklearn\\svm\\_base.py:985: ConvergenceWarning: Liblinear failed to converge, increase the number of iterations.\n",
      "  warnings.warn(\"Liblinear failed to converge, increase \"\n",
      "C:\\Users\\Patryk\\AppData\\Local\\Temp/ipykernel_17064/3090271900.py:36: DataConversionWarning: A column-vector y was passed when a 1d array was expected. Please change the shape of y to (n_samples,), for example using ravel().\n",
      "  model2.fit(X_pcab, y_trainb)\n"
     ]
    },
    {
     "name": "stdout",
     "output_type": "stream",
     "text": [
      "Time: : 28 sec\n",
      "fitting RF - balanced\n",
      "Time: : 10 sec\n",
      "fitting NB - balanced\n",
      "Time: : 0.18 sec\n"
     ]
    },
    {
     "name": "stderr",
     "output_type": "stream",
     "text": [
      "C:\\Users\\Patryk\\anaconda3\\lib\\site-packages\\sklearn\\utils\\validation.py:63: DataConversionWarning: A column-vector y was passed when a 1d array was expected. Please change the shape of y to (n_samples, ), for example using ravel().\n",
      "  return f(*args, **kwargs)\n"
     ]
    },
    {
     "name": "stdout",
     "output_type": "stream",
     "text": [
      "@@@@@@@@@@@@ max features of TfIdf:  85\n",
      "fitting SVM - balanced\n"
     ]
    },
    {
     "name": "stderr",
     "output_type": "stream",
     "text": [
      "C:\\Users\\Patryk\\anaconda3\\lib\\site-packages\\sklearn\\utils\\validation.py:63: DataConversionWarning: A column-vector y was passed when a 1d array was expected. Please change the shape of y to (n_samples, ), for example using ravel().\n",
      "  return f(*args, **kwargs)\n",
      "C:\\Users\\Patryk\\anaconda3\\lib\\site-packages\\sklearn\\svm\\_base.py:985: ConvergenceWarning: Liblinear failed to converge, increase the number of iterations.\n",
      "  warnings.warn(\"Liblinear failed to converge, increase \"\n",
      "C:\\Users\\Patryk\\AppData\\Local\\Temp/ipykernel_17064/3090271900.py:36: DataConversionWarning: A column-vector y was passed when a 1d array was expected. Please change the shape of y to (n_samples,), for example using ravel().\n",
      "  model2.fit(X_pcab, y_trainb)\n"
     ]
    },
    {
     "name": "stdout",
     "output_type": "stream",
     "text": [
      "Time: : 29 sec\n",
      "fitting RF - balanced\n",
      "Time: : 13 sec\n",
      "fitting NB - balanced\n"
     ]
    },
    {
     "name": "stderr",
     "output_type": "stream",
     "text": [
      "C:\\Users\\Patryk\\anaconda3\\lib\\site-packages\\sklearn\\utils\\validation.py:63: DataConversionWarning: A column-vector y was passed when a 1d array was expected. Please change the shape of y to (n_samples, ), for example using ravel().\n",
      "  return f(*args, **kwargs)\n"
     ]
    },
    {
     "name": "stdout",
     "output_type": "stream",
     "text": [
      "Time: : 0.26 sec\n"
     ]
    }
   ],
   "source": [
    "#X_trainb, y_trainb = datasetToTfIdfPredictorsAndLabels(X__train, vectorizer1, vectorizer2)\n",
    "#X_testb, y_testb = datasetToTfIdfPredictorsAndLabelsForTest(X__test, vectorizer1, vectorizer2)\n",
    "\n",
    "#vectorizer1 = TfidfVectorizer(stop_words = 'english', max_features=500)\n",
    "#vectorizer2 = TfidfVectorizer(stop_words = 'english', max_features=500)\n",
    "\n",
    "method_name = \"TfIdf-max_features\"\n",
    "\n",
    "for i in range(5,100, 20):\n",
    "    \n",
    "\n",
    "    print(\"@@@@@@@@@@@@ max features of TfIdf: \", i)\n",
    "    \n",
    "        \n",
    "    vectorizer1 = TfidfVectorizer(stop_words = 'english', max_features=i)\n",
    "    vectorizer2 = TfidfVectorizer(stop_words = 'english', max_features=i)\n",
    "\n",
    "\n",
    "    X_pcab, y_trainb = datasetToTfIdfPredictorsAndLabels(X__trainb, vectorizer1, vectorizer2)\n",
    "    X_pca_testb, y_testb = datasetToTfIdfPredictorsAndLabelsForTest(X__testb, vectorizer1, vectorizer2)\n",
    "\n",
    "    print(\"fitting SVM - balanced\")\n",
    "    t0 = time()\n",
    "    # trained on balanced dataset\n",
    "    model.fit(X_pcab, y_trainb)\n",
    "    acc = model.score(X_pca_testb, y_testb)\n",
    "    y_pred = model.predict(X_pca_testb)\n",
    "    prf = precision_recall_fscore_support(y_testb, y_pred, average = 'weighted')\n",
    "    df = df.append({'method': method_name, 'model':'SVM', 'n_components': i, 'n_neighbors': -1, 'accuracy': acc, 'train': 'balanced', 'test': 'balanced', 'precision': prf[0], 'recall': prf[1], 'f1': prf[2]}, ignore_index=True)\n",
    "    t1 = time()\n",
    "    print(\"%s: %.2g sec\" % ('Time: ', t1 - t0))\n",
    "\n",
    "    print(\"fitting RF - balanced\")\n",
    "    t0 = time()\n",
    "    # trained on balanced dataset\n",
    "    model2.fit(X_pcab, y_trainb)\n",
    "    acc = model2.score(X_pca_testb, y_testb)\n",
    "    y_pred = model2.predict(X_pca_testb)\n",
    "    prf = precision_recall_fscore_support(y_testb, y_pred, average = 'weighted')\n",
    "    df = df.append({'method': method_name, 'model':'RF', 'n_components': i, 'n_neighbors': -1, 'accuracy': acc, 'train': 'balanced', 'test': 'balanced', 'precision': prf[0], 'recall': prf[1], 'f1': prf[2]}, ignore_index=True)\n",
    "    t1 = time()\n",
    "    print(\"%s: %.2g sec\" % ('Time: ', t1 - t0))\n",
    "\n",
    "    print(\"fitting NB - balanced\")\n",
    "    t0 = time()\n",
    "    # trained on balanced dataset\n",
    "    model3.fit(X_pcab, y_trainb)\n",
    "    acc = model3.score(X_pca_testb, y_testb)\n",
    "    y_pred = model3.predict(X_pca_testb)\n",
    "    prf = precision_recall_fscore_support(y_testb, y_pred, average = 'weighted')\n",
    "    df = df.append({'method': method_name, 'model':'NB', 'n_components': i, 'n_neighbors': -1, 'accuracy': acc, 'train': 'balanced', 'test': 'balanced', 'precision': prf[0], 'recall': prf[1], 'f1': prf[2]}, ignore_index=True)\n",
    "    t1 = time()\n",
    "    print(\"%s: %.2g sec\" % ('Time: ', t1 - t0))\n",
    "    \n",
    "    # save the model to disk\n",
    "    filename = 'svm_model_'+ str(i) +'.sav'\n",
    "    pickle.dump(model, open(filename, 'wb'))\n",
    "    \n",
    "    # save the model to disk\n",
    "    filename = 'rf_model_'+ str(i) +'.sav'\n",
    "    pickle.dump(model2, open(filename, 'wb'))\n",
    "    \n",
    "    # save the model to disk\n",
    "    filename = 'nb_model_'+ str(i) +'.sav'\n",
    "    pickle.dump(model3, open(filename, 'wb'))\n",
    "\n",
    "\n",
    "df.to_csv(\"TEEN-TfIdf-balanced-1.csv\")"
   ]
  },
  {
   "cell_type": "code",
   "execution_count": 21,
   "id": "9c535ce9",
   "metadata": {},
   "outputs": [
    {
     "name": "stdout",
     "output_type": "stream",
     "text": [
      "@@@@@@@@@@@@ max features of TfIdf:  100\n",
      "fitting SVM - balanced\n"
     ]
    },
    {
     "name": "stderr",
     "output_type": "stream",
     "text": [
      "C:\\Users\\Patryk\\anaconda3\\lib\\site-packages\\sklearn\\utils\\validation.py:63: DataConversionWarning: A column-vector y was passed when a 1d array was expected. Please change the shape of y to (n_samples, ), for example using ravel().\n",
      "  return f(*args, **kwargs)\n",
      "C:\\Users\\Patryk\\anaconda3\\lib\\site-packages\\sklearn\\svm\\_base.py:985: ConvergenceWarning: Liblinear failed to converge, increase the number of iterations.\n",
      "  warnings.warn(\"Liblinear failed to converge, increase \"\n",
      "C:\\Users\\Patryk\\AppData\\Local\\Temp/ipykernel_17064/3973231441.py:31: DataConversionWarning: A column-vector y was passed when a 1d array was expected. Please change the shape of y to (n_samples,), for example using ravel().\n",
      "  model2.fit(X_pcab, y_trainb)\n"
     ]
    },
    {
     "name": "stdout",
     "output_type": "stream",
     "text": [
      "Time: : 52 sec\n",
      "fitting RF - balanced\n",
      "Time: : 17 sec\n",
      "fitting NB - balanced\n"
     ]
    },
    {
     "name": "stderr",
     "output_type": "stream",
     "text": [
      "C:\\Users\\Patryk\\anaconda3\\lib\\site-packages\\sklearn\\utils\\validation.py:63: DataConversionWarning: A column-vector y was passed when a 1d array was expected. Please change the shape of y to (n_samples, ), for example using ravel().\n",
      "  return f(*args, **kwargs)\n"
     ]
    },
    {
     "name": "stdout",
     "output_type": "stream",
     "text": [
      "Time: : 0.27 sec\n",
      "@@@@@@@@@@@@ max features of TfIdf:  300\n",
      "fitting SVM - balanced\n"
     ]
    },
    {
     "name": "stderr",
     "output_type": "stream",
     "text": [
      "C:\\Users\\Patryk\\anaconda3\\lib\\site-packages\\sklearn\\utils\\validation.py:63: DataConversionWarning: A column-vector y was passed when a 1d array was expected. Please change the shape of y to (n_samples, ), for example using ravel().\n",
      "  return f(*args, **kwargs)\n",
      "C:\\Users\\Patryk\\anaconda3\\lib\\site-packages\\sklearn\\svm\\_base.py:985: ConvergenceWarning: Liblinear failed to converge, increase the number of iterations.\n",
      "  warnings.warn(\"Liblinear failed to converge, increase \"\n",
      "C:\\Users\\Patryk\\anaconda3\\lib\\site-packages\\sklearn\\metrics\\_classification.py:1248: UndefinedMetricWarning: Precision and F-score are ill-defined and being set to 0.0 in labels with no predicted samples. Use `zero_division` parameter to control this behavior.\n",
      "  _warn_prf(average, modifier, msg_start, len(result))\n",
      "C:\\Users\\Patryk\\AppData\\Local\\Temp/ipykernel_17064/3973231441.py:31: DataConversionWarning: A column-vector y was passed when a 1d array was expected. Please change the shape of y to (n_samples,), for example using ravel().\n",
      "  model2.fit(X_pcab, y_trainb)\n"
     ]
    },
    {
     "name": "stdout",
     "output_type": "stream",
     "text": [
      "Time: : 50 sec\n",
      "fitting RF - balanced\n",
      "Time: : 28 sec\n",
      "fitting NB - balanced\n"
     ]
    },
    {
     "name": "stderr",
     "output_type": "stream",
     "text": [
      "C:\\Users\\Patryk\\anaconda3\\lib\\site-packages\\sklearn\\utils\\validation.py:63: DataConversionWarning: A column-vector y was passed when a 1d array was expected. Please change the shape of y to (n_samples, ), for example using ravel().\n",
      "  return f(*args, **kwargs)\n"
     ]
    },
    {
     "name": "stdout",
     "output_type": "stream",
     "text": [
      "Time: : 0.66 sec\n",
      "@@@@@@@@@@@@ max features of TfIdf:  500\n",
      "fitting SVM - balanced\n"
     ]
    },
    {
     "name": "stderr",
     "output_type": "stream",
     "text": [
      "C:\\Users\\Patryk\\anaconda3\\lib\\site-packages\\sklearn\\utils\\validation.py:63: DataConversionWarning: A column-vector y was passed when a 1d array was expected. Please change the shape of y to (n_samples, ), for example using ravel().\n",
      "  return f(*args, **kwargs)\n",
      "C:\\Users\\Patryk\\anaconda3\\lib\\site-packages\\sklearn\\svm\\_base.py:985: ConvergenceWarning: Liblinear failed to converge, increase the number of iterations.\n",
      "  warnings.warn(\"Liblinear failed to converge, increase \"\n"
     ]
    },
    {
     "name": "stdout",
     "output_type": "stream",
     "text": [
      "Time: : 31 sec\n",
      "fitting RF - balanced\n"
     ]
    },
    {
     "name": "stderr",
     "output_type": "stream",
     "text": [
      "C:\\Users\\Patryk\\AppData\\Local\\Temp/ipykernel_17064/3973231441.py:31: DataConversionWarning: A column-vector y was passed when a 1d array was expected. Please change the shape of y to (n_samples,), for example using ravel().\n",
      "  model2.fit(X_pcab, y_trainb)\n"
     ]
    },
    {
     "name": "stdout",
     "output_type": "stream",
     "text": [
      "Time: : 43 sec\n",
      "fitting NB - balanced\n"
     ]
    },
    {
     "name": "stderr",
     "output_type": "stream",
     "text": [
      "C:\\Users\\Patryk\\anaconda3\\lib\\site-packages\\sklearn\\utils\\validation.py:63: DataConversionWarning: A column-vector y was passed when a 1d array was expected. Please change the shape of y to (n_samples, ), for example using ravel().\n",
      "  return f(*args, **kwargs)\n"
     ]
    },
    {
     "name": "stdout",
     "output_type": "stream",
     "text": [
      "Time: : 1.2 sec\n",
      "@@@@@@@@@@@@ max features of TfIdf:  700\n",
      "fitting SVM - balanced\n"
     ]
    },
    {
     "name": "stderr",
     "output_type": "stream",
     "text": [
      "C:\\Users\\Patryk\\anaconda3\\lib\\site-packages\\sklearn\\utils\\validation.py:63: DataConversionWarning: A column-vector y was passed when a 1d array was expected. Please change the shape of y to (n_samples, ), for example using ravel().\n",
      "  return f(*args, **kwargs)\n",
      "C:\\Users\\Patryk\\anaconda3\\lib\\site-packages\\sklearn\\svm\\_base.py:985: ConvergenceWarning: Liblinear failed to converge, increase the number of iterations.\n",
      "  warnings.warn(\"Liblinear failed to converge, increase \"\n"
     ]
    },
    {
     "name": "stdout",
     "output_type": "stream",
     "text": [
      "Time: : 36 sec\n",
      "fitting RF - balanced\n"
     ]
    },
    {
     "name": "stderr",
     "output_type": "stream",
     "text": [
      "C:\\Users\\Patryk\\AppData\\Local\\Temp/ipykernel_17064/3973231441.py:31: DataConversionWarning: A column-vector y was passed when a 1d array was expected. Please change the shape of y to (n_samples,), for example using ravel().\n",
      "  model2.fit(X_pcab, y_trainb)\n"
     ]
    },
    {
     "name": "stdout",
     "output_type": "stream",
     "text": [
      "Time: : 54 sec\n",
      "fitting NB - balanced\n"
     ]
    },
    {
     "name": "stderr",
     "output_type": "stream",
     "text": [
      "C:\\Users\\Patryk\\anaconda3\\lib\\site-packages\\sklearn\\utils\\validation.py:63: DataConversionWarning: A column-vector y was passed when a 1d array was expected. Please change the shape of y to (n_samples, ), for example using ravel().\n",
      "  return f(*args, **kwargs)\n"
     ]
    },
    {
     "name": "stdout",
     "output_type": "stream",
     "text": [
      "Time: : 1.5 sec\n",
      "@@@@@@@@@@@@ max features of TfIdf:  900\n",
      "fitting SVM - balanced\n"
     ]
    },
    {
     "name": "stderr",
     "output_type": "stream",
     "text": [
      "C:\\Users\\Patryk\\anaconda3\\lib\\site-packages\\sklearn\\utils\\validation.py:63: DataConversionWarning: A column-vector y was passed when a 1d array was expected. Please change the shape of y to (n_samples, ), for example using ravel().\n",
      "  return f(*args, **kwargs)\n",
      "C:\\Users\\Patryk\\anaconda3\\lib\\site-packages\\sklearn\\svm\\_base.py:985: ConvergenceWarning: Liblinear failed to converge, increase the number of iterations.\n",
      "  warnings.warn(\"Liblinear failed to converge, increase \"\n"
     ]
    },
    {
     "name": "stdout",
     "output_type": "stream",
     "text": [
      "Time: : 55 sec\n",
      "fitting RF - balanced\n"
     ]
    },
    {
     "name": "stderr",
     "output_type": "stream",
     "text": [
      "C:\\Users\\Patryk\\AppData\\Local\\Temp/ipykernel_17064/3973231441.py:91: DataConversionWarning: A column-vector y was passed when a 1d array was expected. Please change the shape of y to (n_samples,), for example using ravel().\n",
      "  model2.fit(X_pcab, y_trainb)\n"
     ]
    },
    {
     "name": "stdout",
     "output_type": "stream",
     "text": [
      "Time: : 1e+02 sec\n",
      "fitting NB - balanced\n"
     ]
    },
    {
     "name": "stderr",
     "output_type": "stream",
     "text": [
      "C:\\Users\\Patryk\\anaconda3\\lib\\site-packages\\sklearn\\utils\\validation.py:63: DataConversionWarning: A column-vector y was passed when a 1d array was expected. Please change the shape of y to (n_samples, ), for example using ravel().\n",
      "  return f(*args, **kwargs)\n"
     ]
    },
    {
     "name": "stdout",
     "output_type": "stream",
     "text": [
      "Time: : 3 sec\n",
      "@@@@@@@@@@@@ max features of TfIdf:  1100\n",
      "fitting SVM - balanced\n"
     ]
    },
    {
     "name": "stderr",
     "output_type": "stream",
     "text": [
      "C:\\Users\\Patryk\\anaconda3\\lib\\site-packages\\sklearn\\utils\\validation.py:63: DataConversionWarning: A column-vector y was passed when a 1d array was expected. Please change the shape of y to (n_samples, ), for example using ravel().\n",
      "  return f(*args, **kwargs)\n",
      "C:\\Users\\Patryk\\anaconda3\\lib\\site-packages\\sklearn\\svm\\_base.py:985: ConvergenceWarning: Liblinear failed to converge, increase the number of iterations.\n",
      "  warnings.warn(\"Liblinear failed to converge, increase \"\n"
     ]
    },
    {
     "name": "stdout",
     "output_type": "stream",
     "text": [
      "Time: : 65 sec\n",
      "fitting RF - balanced\n"
     ]
    },
    {
     "name": "stderr",
     "output_type": "stream",
     "text": [
      "C:\\Users\\Patryk\\AppData\\Local\\Temp/ipykernel_17064/3973231441.py:91: DataConversionWarning: A column-vector y was passed when a 1d array was expected. Please change the shape of y to (n_samples,), for example using ravel().\n",
      "  model2.fit(X_pcab, y_trainb)\n"
     ]
    },
    {
     "name": "stdout",
     "output_type": "stream",
     "text": [
      "Time: : 1.1e+02 sec\n",
      "fitting NB - balanced\n"
     ]
    },
    {
     "name": "stderr",
     "output_type": "stream",
     "text": [
      "C:\\Users\\Patryk\\anaconda3\\lib\\site-packages\\sklearn\\utils\\validation.py:63: DataConversionWarning: A column-vector y was passed when a 1d array was expected. Please change the shape of y to (n_samples, ), for example using ravel().\n",
      "  return f(*args, **kwargs)\n"
     ]
    },
    {
     "name": "stdout",
     "output_type": "stream",
     "text": [
      "Time: : 6.2 sec\n",
      "@@@@@@@@@@@@ max features of TfIdf:  1300\n",
      "fitting SVM - balanced\n"
     ]
    },
    {
     "name": "stderr",
     "output_type": "stream",
     "text": [
      "C:\\Users\\Patryk\\anaconda3\\lib\\site-packages\\sklearn\\utils\\validation.py:63: DataConversionWarning: A column-vector y was passed when a 1d array was expected. Please change the shape of y to (n_samples, ), for example using ravel().\n",
      "  return f(*args, **kwargs)\n",
      "C:\\Users\\Patryk\\anaconda3\\lib\\site-packages\\sklearn\\svm\\_base.py:985: ConvergenceWarning: Liblinear failed to converge, increase the number of iterations.\n",
      "  warnings.warn(\"Liblinear failed to converge, increase \"\n"
     ]
    },
    {
     "name": "stdout",
     "output_type": "stream",
     "text": [
      "Time: : 75 sec\n",
      "fitting RF - balanced\n"
     ]
    },
    {
     "name": "stderr",
     "output_type": "stream",
     "text": [
      "C:\\Users\\Patryk\\AppData\\Local\\Temp/ipykernel_17064/3973231441.py:91: DataConversionWarning: A column-vector y was passed when a 1d array was expected. Please change the shape of y to (n_samples,), for example using ravel().\n",
      "  model2.fit(X_pcab, y_trainb)\n"
     ]
    },
    {
     "name": "stdout",
     "output_type": "stream",
     "text": [
      "Time: : 1.2e+02 sec\n",
      "fitting NB - balanced\n"
     ]
    },
    {
     "name": "stderr",
     "output_type": "stream",
     "text": [
      "C:\\Users\\Patryk\\anaconda3\\lib\\site-packages\\sklearn\\utils\\validation.py:63: DataConversionWarning: A column-vector y was passed when a 1d array was expected. Please change the shape of y to (n_samples, ), for example using ravel().\n",
      "  return f(*args, **kwargs)\n"
     ]
    },
    {
     "name": "stdout",
     "output_type": "stream",
     "text": [
      "Time: : 5.4 sec\n"
     ]
    }
   ],
   "source": [
    "method_name = \"TfIdf-max_features\"\n",
    "\n",
    "for i in range(100,800, 200):\n",
    "    \n",
    "    print(\"@@@@@@@@@@@@ max features of TfIdf: \", i)\n",
    "    \n",
    "        \n",
    "    vectorizer1 = TfidfVectorizer(stop_words = 'english', max_features=i)\n",
    "    vectorizer2 = TfidfVectorizer(stop_words = 'english', max_features=i)\n",
    "\n",
    "\n",
    "    X_pcab, y_trainb = datasetToTfIdfPredictorsAndLabels(X__trainb, vectorizer1, vectorizer2)\n",
    "    X_pca_testb, y_testb = datasetToTfIdfPredictorsAndLabelsForTest(X__testb, vectorizer1, vectorizer2)\n",
    "\n",
    "    print(\"fitting SVM - balanced\")\n",
    "    t0 = time()\n",
    "    # trained on balanced dataset\n",
    "    model.fit(X_pcab, y_trainb)\n",
    "    acc = model.score(X_pca_testb, y_testb)\n",
    "    y_pred = model.predict(X_pca_testb)\n",
    "    prf = precision_recall_fscore_support(y_testb, y_pred, average = 'weighted')\n",
    "    df = df.append({'method': method_name, 'model':'SVM', 'n_components': i, 'n_neighbors': -1, 'accuracy': acc, 'train': 'balanced', 'test': 'balanced', 'precision': prf[0], 'recall': prf[1], 'f1': prf[2]}, ignore_index=True)\n",
    "    t1 = time()\n",
    "    print(\"%s: %.2g sec\" % ('Time: ', t1 - t0))\n",
    "    \n",
    "\n",
    "\n",
    "    print(\"fitting RF - balanced\")\n",
    "    t0 = time()\n",
    "    # trained on balanced dataset\n",
    "    model2.fit(X_pcab, y_trainb)\n",
    "    acc = model2.score(X_pca_testb, y_testb)\n",
    "    y_pred = model2.predict(X_pca_testb)\n",
    "    prf = precision_recall_fscore_support(y_testb, y_pred, average = 'weighted')\n",
    "    df = df.append({'method': method_name, 'model':'RF', 'n_components': i, 'n_neighbors': -1, 'accuracy': acc, 'train': 'balanced', 'test': 'balanced', 'precision': prf[0], 'recall': prf[1], 'f1': prf[2]}, ignore_index=True)\n",
    "    t1 = time()\n",
    "    print(\"%s: %.2g sec\" % ('Time: ', t1 - t0))\n",
    "\n",
    "    print(\"fitting NB - balanced\")\n",
    "    t0 = time()\n",
    "    # trained on balanced dataset\n",
    "    model3.fit(X_pcab, y_trainb)\n",
    "    acc = model3.score(X_pca_testb, y_testb)\n",
    "    y_pred = model3.predict(X_pca_testb)\n",
    "    prf = precision_recall_fscore_support(y_testb, y_pred, average = 'weighted')\n",
    "    df = df.append({'method': method_name, 'model':'NB', 'n_components': i, 'n_neighbors': -1, 'accuracy': acc, 'train': 'balanced', 'test': 'balanced', 'precision': prf[0], 'recall': prf[1], 'f1': prf[2]}, ignore_index=True)\n",
    "    t1 = time()\n",
    "    print(\"%s: %.2g sec\" % ('Time: ', t1 - t0))\n",
    "    \n",
    "    # save the model to disk\n",
    "    filename = 'svm_model_'+ str(i) +'.sav'\n",
    "    pickle.dump(model, open(filename, 'wb'))\n",
    "    \n",
    "    # save the model to disk\n",
    "    filename = 'rf_model_'+ str(i) +'.sav'\n",
    "    pickle.dump(model2, open(filename, 'wb'))\n",
    "    \n",
    "    # save the model to disk\n",
    "    filename = 'nb_model_'+ str(i) +'.sav'\n",
    "    pickle.dump(model3, open(filename, 'wb'))\n",
    "\n",
    "\n",
    "df.to_csv(\"TEEN-TfIdf-balanced-2.csv\")\n",
    "\n",
    "for i in range(900,1500, 200):\n",
    "    \n",
    "    print(\"@@@@@@@@@@@@ max features of TfIdf: \", i)\n",
    "    \n",
    "        \n",
    "    vectorizer1 = TfidfVectorizer(stop_words = 'english', max_features=i)\n",
    "    vectorizer2 = TfidfVectorizer(stop_words = 'english', max_features=i)\n",
    "\n",
    "\n",
    "    X_pcab, y_trainb = datasetToTfIdfPredictorsAndLabels(X__trainb, vectorizer1, vectorizer2)\n",
    "    X_pca_testb, y_testb = datasetToTfIdfPredictorsAndLabelsForTest(X__testb, vectorizer1, vectorizer2)\n",
    "\n",
    "    print(\"fitting SVM - balanced\")\n",
    "    t0 = time()\n",
    "    # trained on balanced dataset\n",
    "    model.fit(X_pcab, y_trainb)\n",
    "    acc = model.score(X_pca_testb, y_testb)\n",
    "    y_pred = model.predict(X_pca_testb)\n",
    "    prf = precision_recall_fscore_support(y_testb, y_pred, average = 'weighted')\n",
    "    df = df.append({'method': method_name, 'model':'SVM', 'n_components': i, 'n_neighbors': -1, 'accuracy': acc, 'train': 'balanced', 'test': 'balanced', 'precision': prf[0], 'recall': prf[1], 'f1': prf[2]}, ignore_index=True)\n",
    "    t1 = time()\n",
    "    print(\"%s: %.2g sec\" % ('Time: ', t1 - t0))\n",
    "\n",
    "    print(\"fitting RF - balanced\")\n",
    "    t0 = time()\n",
    "    # trained on balanced dataset\n",
    "    model2.fit(X_pcab, y_trainb)\n",
    "    acc = model2.score(X_pca_testb, y_testb)\n",
    "    y_pred = model2.predict(X_pca_testb)\n",
    "    prf = precision_recall_fscore_support(y_testb, y_pred, average = 'weighted')\n",
    "    df = df.append({'method': method_name, 'model':'RF', 'n_components': i, 'n_neighbors': -1, 'accuracy': acc, 'train': 'balanced', 'test': 'balanced', 'precision': prf[0], 'recall': prf[1], 'f1': prf[2]}, ignore_index=True)\n",
    "    t1 = time()\n",
    "    print(\"%s: %.2g sec\" % ('Time: ', t1 - t0))\n",
    "\n",
    "    print(\"fitting NB - balanced\")\n",
    "    t0 = time()\n",
    "    # trained on balanced dataset\n",
    "    model3.fit(X_pcab, y_trainb)\n",
    "    acc = model3.score(X_pca_testb, y_testb)\n",
    "    y_pred = model3.predict(X_pca_testb)\n",
    "    prf = precision_recall_fscore_support(y_testb, y_pred, average = 'weighted')\n",
    "    df = df.append({'method': method_name, 'model':'NB', 'n_components': i, 'n_neighbors': -1, 'accuracy': acc, 'train': 'balanced', 'test': 'balanced', 'precision': prf[0], 'recall': prf[1], 'f1': prf[2]}, ignore_index=True)\n",
    "    t1 = time()\n",
    "    print(\"%s: %.2g sec\" % ('Time: ', t1 - t0))\n",
    "    \n",
    "    # save the model to disk\n",
    "    filename = 'svm_model_'+ str(i) +'.sav'\n",
    "    pickle.dump(model, open(filename, 'wb'))\n",
    "    \n",
    "    # save the model to disk\n",
    "    filename = 'rf_model_'+ str(i) +'.sav'\n",
    "    pickle.dump(model2, open(filename, 'wb'))\n",
    "    \n",
    "    # save the model to disk\n",
    "    filename = 'nb_model_'+ str(i) +'.sav'\n",
    "    pickle.dump(model3, open(filename, 'wb'))\n",
    "\n",
    "\n",
    "df.to_csv(\"TEEN-TfIdf-balanced-3.csv\")\n",
    "\n",
    "\n"
   ]
  },
  {
   "cell_type": "code",
   "execution_count": 23,
   "id": "5cf5615e",
   "metadata": {},
   "outputs": [],
   "source": [
    "df_wide = df.pivot(\"n_components\", \"model\", \"f1\")"
   ]
  },
  {
   "cell_type": "code",
   "execution_count": 25,
   "id": "07a78fae",
   "metadata": {
    "scrolled": true
   },
   "outputs": [
    {
     "data": {
      "text/plain": [
       "Text(1020, 0.085, 'Random model')"
      ]
     },
     "execution_count": 25,
     "metadata": {},
     "output_type": "execute_result"
    },
    {
     "data": {
      "image/png": "[encoded data removed]",
      "text/plain": [
       "<Figure size 432x288 with 1 Axes>"
      ]
     },
     "metadata": {
      "needs_background": "light"
     },
     "output_type": "display_data"
    }
   ],
   "source": [
    "\n",
    "p = sns.lineplot(data=df_wide)\n",
    "p.set(ylim=(0, 0.35))\n",
    "p.set_xlabel('N of features from TfIdf (title and text)')\n",
    "p.set_ylabel('F1-Score')\n",
    "\n",
    "p.set_title('Impact of TfIdf max_features - TEEN dataset')\n",
    "\n",
    "p.axhline(0.1, ls='--')\n",
    "p.text(1020, 0.085, \"Random model\")"
   ]
  },
  {
   "cell_type": "code",
   "execution_count": 26,
   "id": "e7e657f0",
   "metadata": {
    "scrolled": true
   },
   "outputs": [
    {
     "data": {
      "text/html": [
       "<div>\n",
       "<style scoped>\n",
       "    .dataframe tbody tr th:only-of-type {\n",
       "        vertical-align: middle;\n",
       "    }\n",
       "\n",
       "    .dataframe tbody tr th {\n",
       "        vertical-align: top;\n",
       "    }\n",
       "\n",
       "    .dataframe thead th {\n",
       "        text-align: right;\n",
       "    }\n",
       "</style>\n",
       "<table border=\"1\" class=\"dataframe\">\n",
       "  <thead>\n",
       "    <tr style=\"text-align: right;\">\n",
       "      <th></th>\n",
       "      <th>method</th>\n",
       "      <th>model</th>\n",
       "      <th>n_components</th>\n",
       "      <th>n_neighbors</th>\n",
       "      <th>accuracy</th>\n",
       "      <th>train</th>\n",
       "      <th>test</th>\n",
       "      <th>precision</th>\n",
       "      <th>recall</th>\n",
       "      <th>f1</th>\n",
       "    </tr>\n",
       "  </thead>\n",
       "  <tbody>\n",
       "    <tr>\n",
       "      <th>34</th>\n",
       "      <td>TfIdf-max_features</td>\n",
       "      <td>RF</td>\n",
       "      <td>1300</td>\n",
       "      <td>-1</td>\n",
       "      <td>0.3170</td>\n",
       "      <td>balanced</td>\n",
       "      <td>balanced</td>\n",
       "      <td>0.311592</td>\n",
       "      <td>0.3170</td>\n",
       "      <td>0.312309</td>\n",
       "    </tr>\n",
       "    <tr>\n",
       "      <th>31</th>\n",
       "      <td>TfIdf-max_features</td>\n",
       "      <td>RF</td>\n",
       "      <td>1100</td>\n",
       "      <td>-1</td>\n",
       "      <td>0.3125</td>\n",
       "      <td>balanced</td>\n",
       "      <td>balanced</td>\n",
       "      <td>0.308839</td>\n",
       "      <td>0.3125</td>\n",
       "      <td>0.308489</td>\n",
       "    </tr>\n",
       "    <tr>\n",
       "      <th>22</th>\n",
       "      <td>TfIdf-max_features</td>\n",
       "      <td>RF</td>\n",
       "      <td>500</td>\n",
       "      <td>-1</td>\n",
       "      <td>0.3040</td>\n",
       "      <td>balanced</td>\n",
       "      <td>balanced</td>\n",
       "      <td>0.299415</td>\n",
       "      <td>0.3040</td>\n",
       "      <td>0.299643</td>\n",
       "    </tr>\n",
       "    <tr>\n",
       "      <th>28</th>\n",
       "      <td>TfIdf-max_features</td>\n",
       "      <td>RF</td>\n",
       "      <td>900</td>\n",
       "      <td>-1</td>\n",
       "      <td>0.3035</td>\n",
       "      <td>balanced</td>\n",
       "      <td>balanced</td>\n",
       "      <td>0.299334</td>\n",
       "      <td>0.3035</td>\n",
       "      <td>0.298443</td>\n",
       "    </tr>\n",
       "    <tr>\n",
       "      <th>25</th>\n",
       "      <td>TfIdf-max_features</td>\n",
       "      <td>RF</td>\n",
       "      <td>700</td>\n",
       "      <td>-1</td>\n",
       "      <td>0.3035</td>\n",
       "      <td>balanced</td>\n",
       "      <td>balanced</td>\n",
       "      <td>0.296707</td>\n",
       "      <td>0.3035</td>\n",
       "      <td>0.298183</td>\n",
       "    </tr>\n",
       "    <tr>\n",
       "      <th>19</th>\n",
       "      <td>TfIdf-max_features</td>\n",
       "      <td>RF</td>\n",
       "      <td>300</td>\n",
       "      <td>-1</td>\n",
       "      <td>0.2960</td>\n",
       "      <td>balanced</td>\n",
       "      <td>balanced</td>\n",
       "      <td>0.290878</td>\n",
       "      <td>0.2960</td>\n",
       "      <td>0.292527</td>\n",
       "    </tr>\n",
       "    <tr>\n",
       "      <th>15</th>\n",
       "      <td>TfIdf-max_features</td>\n",
       "      <td>SVM</td>\n",
       "      <td>100</td>\n",
       "      <td>-1</td>\n",
       "      <td>0.2610</td>\n",
       "      <td>balanced</td>\n",
       "      <td>balanced</td>\n",
       "      <td>0.319714</td>\n",
       "      <td>0.2610</td>\n",
       "      <td>0.263252</td>\n",
       "    </tr>\n",
       "    <tr>\n",
       "      <th>21</th>\n",
       "      <td>TfIdf-max_features</td>\n",
       "      <td>SVM</td>\n",
       "      <td>500</td>\n",
       "      <td>-1</td>\n",
       "      <td>0.2895</td>\n",
       "      <td>balanced</td>\n",
       "      <td>balanced</td>\n",
       "      <td>0.300387</td>\n",
       "      <td>0.2895</td>\n",
       "      <td>0.262259</td>\n",
       "    </tr>\n",
       "    <tr>\n",
       "      <th>16</th>\n",
       "      <td>TfIdf-max_features</td>\n",
       "      <td>RF</td>\n",
       "      <td>100</td>\n",
       "      <td>-1</td>\n",
       "      <td>0.2625</td>\n",
       "      <td>balanced</td>\n",
       "      <td>balanced</td>\n",
       "      <td>0.256477</td>\n",
       "      <td>0.2625</td>\n",
       "      <td>0.258449</td>\n",
       "    </tr>\n",
       "    <tr>\n",
       "      <th>13</th>\n",
       "      <td>TfIdf-max_features</td>\n",
       "      <td>RF</td>\n",
       "      <td>85</td>\n",
       "      <td>-1</td>\n",
       "      <td>0.2610</td>\n",
       "      <td>balanced</td>\n",
       "      <td>balanced</td>\n",
       "      <td>0.256967</td>\n",
       "      <td>0.2610</td>\n",
       "      <td>0.258207</td>\n",
       "    </tr>\n",
       "    <tr>\n",
       "      <th>10</th>\n",
       "      <td>TfIdf-max_features</td>\n",
       "      <td>RF</td>\n",
       "      <td>65</td>\n",
       "      <td>-1</td>\n",
       "      <td>0.2515</td>\n",
       "      <td>balanced</td>\n",
       "      <td>balanced</td>\n",
       "      <td>0.246357</td>\n",
       "      <td>0.2515</td>\n",
       "      <td>0.248288</td>\n",
       "    </tr>\n",
       "    <tr>\n",
       "      <th>23</th>\n",
       "      <td>TfIdf-max_features</td>\n",
       "      <td>NB</td>\n",
       "      <td>500</td>\n",
       "      <td>-1</td>\n",
       "      <td>0.2595</td>\n",
       "      <td>balanced</td>\n",
       "      <td>balanced</td>\n",
       "      <td>0.285489</td>\n",
       "      <td>0.2595</td>\n",
       "      <td>0.246016</td>\n",
       "    </tr>\n",
       "    <tr>\n",
       "      <th>26</th>\n",
       "      <td>TfIdf-max_features</td>\n",
       "      <td>NB</td>\n",
       "      <td>700</td>\n",
       "      <td>-1</td>\n",
       "      <td>0.2610</td>\n",
       "      <td>balanced</td>\n",
       "      <td>balanced</td>\n",
       "      <td>0.278285</td>\n",
       "      <td>0.2610</td>\n",
       "      <td>0.245518</td>\n",
       "    </tr>\n",
       "    <tr>\n",
       "      <th>29</th>\n",
       "      <td>TfIdf-max_features</td>\n",
       "      <td>NB</td>\n",
       "      <td>900</td>\n",
       "      <td>-1</td>\n",
       "      <td>0.2625</td>\n",
       "      <td>balanced</td>\n",
       "      <td>balanced</td>\n",
       "      <td>0.271170</td>\n",
       "      <td>0.2625</td>\n",
       "      <td>0.244408</td>\n",
       "    </tr>\n",
       "    <tr>\n",
       "      <th>24</th>\n",
       "      <td>TfIdf-max_features</td>\n",
       "      <td>SVM</td>\n",
       "      <td>700</td>\n",
       "      <td>-1</td>\n",
       "      <td>0.2650</td>\n",
       "      <td>balanced</td>\n",
       "      <td>balanced</td>\n",
       "      <td>0.320603</td>\n",
       "      <td>0.2650</td>\n",
       "      <td>0.243946</td>\n",
       "    </tr>\n",
       "    <tr>\n",
       "      <th>32</th>\n",
       "      <td>TfIdf-max_features</td>\n",
       "      <td>NB</td>\n",
       "      <td>1100</td>\n",
       "      <td>-1</td>\n",
       "      <td>0.2515</td>\n",
       "      <td>balanced</td>\n",
       "      <td>balanced</td>\n",
       "      <td>0.256199</td>\n",
       "      <td>0.2515</td>\n",
       "      <td>0.233182</td>\n",
       "    </tr>\n",
       "    <tr>\n",
       "      <th>35</th>\n",
       "      <td>TfIdf-max_features</td>\n",
       "      <td>NB</td>\n",
       "      <td>1300</td>\n",
       "      <td>-1</td>\n",
       "      <td>0.2530</td>\n",
       "      <td>balanced</td>\n",
       "      <td>balanced</td>\n",
       "      <td>0.254682</td>\n",
       "      <td>0.2530</td>\n",
       "      <td>0.232999</td>\n",
       "    </tr>\n",
       "    <tr>\n",
       "      <th>20</th>\n",
       "      <td>TfIdf-max_features</td>\n",
       "      <td>NB</td>\n",
       "      <td>300</td>\n",
       "      <td>-1</td>\n",
       "      <td>0.2470</td>\n",
       "      <td>balanced</td>\n",
       "      <td>balanced</td>\n",
       "      <td>0.272202</td>\n",
       "      <td>0.2470</td>\n",
       "      <td>0.231702</td>\n",
       "    </tr>\n",
       "    <tr>\n",
       "      <th>7</th>\n",
       "      <td>TfIdf-max_features</td>\n",
       "      <td>RF</td>\n",
       "      <td>45</td>\n",
       "      <td>-1</td>\n",
       "      <td>0.2260</td>\n",
       "      <td>balanced</td>\n",
       "      <td>balanced</td>\n",
       "      <td>0.221295</td>\n",
       "      <td>0.2260</td>\n",
       "      <td>0.222803</td>\n",
       "    </tr>\n",
       "    <tr>\n",
       "      <th>17</th>\n",
       "      <td>TfIdf-max_features</td>\n",
       "      <td>NB</td>\n",
       "      <td>100</td>\n",
       "      <td>-1</td>\n",
       "      <td>0.2370</td>\n",
       "      <td>balanced</td>\n",
       "      <td>balanced</td>\n",
       "      <td>0.264156</td>\n",
       "      <td>0.2370</td>\n",
       "      <td>0.216578</td>\n",
       "    </tr>\n",
       "    <tr>\n",
       "      <th>9</th>\n",
       "      <td>TfIdf-max_features</td>\n",
       "      <td>SVM</td>\n",
       "      <td>65</td>\n",
       "      <td>-1</td>\n",
       "      <td>0.2400</td>\n",
       "      <td>balanced</td>\n",
       "      <td>balanced</td>\n",
       "      <td>0.301643</td>\n",
       "      <td>0.2400</td>\n",
       "      <td>0.216274</td>\n",
       "    </tr>\n",
       "    <tr>\n",
       "      <th>14</th>\n",
       "      <td>TfIdf-max_features</td>\n",
       "      <td>NB</td>\n",
       "      <td>85</td>\n",
       "      <td>-1</td>\n",
       "      <td>0.2350</td>\n",
       "      <td>balanced</td>\n",
       "      <td>balanced</td>\n",
       "      <td>0.263095</td>\n",
       "      <td>0.2350</td>\n",
       "      <td>0.214564</td>\n",
       "    </tr>\n",
       "    <tr>\n",
       "      <th>27</th>\n",
       "      <td>TfIdf-max_features</td>\n",
       "      <td>SVM</td>\n",
       "      <td>900</td>\n",
       "      <td>-1</td>\n",
       "      <td>0.2305</td>\n",
       "      <td>balanced</td>\n",
       "      <td>balanced</td>\n",
       "      <td>0.278057</td>\n",
       "      <td>0.2305</td>\n",
       "      <td>0.210836</td>\n",
       "    </tr>\n",
       "    <tr>\n",
       "      <th>11</th>\n",
       "      <td>TfIdf-max_features</td>\n",
       "      <td>NB</td>\n",
       "      <td>65</td>\n",
       "      <td>-1</td>\n",
       "      <td>0.2295</td>\n",
       "      <td>balanced</td>\n",
       "      <td>balanced</td>\n",
       "      <td>0.267708</td>\n",
       "      <td>0.2295</td>\n",
       "      <td>0.208482</td>\n",
       "    </tr>\n",
       "    <tr>\n",
       "      <th>4</th>\n",
       "      <td>TfIdf-max_features</td>\n",
       "      <td>RF</td>\n",
       "      <td>25</td>\n",
       "      <td>-1</td>\n",
       "      <td>0.1990</td>\n",
       "      <td>balanced</td>\n",
       "      <td>balanced</td>\n",
       "      <td>0.195523</td>\n",
       "      <td>0.1990</td>\n",
       "      <td>0.196287</td>\n",
       "    </tr>\n",
       "    <tr>\n",
       "      <th>8</th>\n",
       "      <td>TfIdf-max_features</td>\n",
       "      <td>NB</td>\n",
       "      <td>45</td>\n",
       "      <td>-1</td>\n",
       "      <td>0.2150</td>\n",
       "      <td>balanced</td>\n",
       "      <td>balanced</td>\n",
       "      <td>0.265851</td>\n",
       "      <td>0.2150</td>\n",
       "      <td>0.194494</td>\n",
       "    </tr>\n",
       "    <tr>\n",
       "      <th>1</th>\n",
       "      <td>TfIdf-max_features</td>\n",
       "      <td>RF</td>\n",
       "      <td>5</td>\n",
       "      <td>-1</td>\n",
       "      <td>0.1780</td>\n",
       "      <td>balanced</td>\n",
       "      <td>balanced</td>\n",
       "      <td>0.174046</td>\n",
       "      <td>0.1780</td>\n",
       "      <td>0.175076</td>\n",
       "    </tr>\n",
       "    <tr>\n",
       "      <th>5</th>\n",
       "      <td>TfIdf-max_features</td>\n",
       "      <td>NB</td>\n",
       "      <td>25</td>\n",
       "      <td>-1</td>\n",
       "      <td>0.2030</td>\n",
       "      <td>balanced</td>\n",
       "      <td>balanced</td>\n",
       "      <td>0.233725</td>\n",
       "      <td>0.2030</td>\n",
       "      <td>0.173851</td>\n",
       "    </tr>\n",
       "    <tr>\n",
       "      <th>30</th>\n",
       "      <td>TfIdf-max_features</td>\n",
       "      <td>SVM</td>\n",
       "      <td>1100</td>\n",
       "      <td>-1</td>\n",
       "      <td>0.2010</td>\n",
       "      <td>balanced</td>\n",
       "      <td>balanced</td>\n",
       "      <td>0.336395</td>\n",
       "      <td>0.2010</td>\n",
       "      <td>0.160468</td>\n",
       "    </tr>\n",
       "    <tr>\n",
       "      <th>33</th>\n",
       "      <td>TfIdf-max_features</td>\n",
       "      <td>SVM</td>\n",
       "      <td>1300</td>\n",
       "      <td>-1</td>\n",
       "      <td>0.1485</td>\n",
       "      <td>balanced</td>\n",
       "      <td>balanced</td>\n",
       "      <td>0.434677</td>\n",
       "      <td>0.1485</td>\n",
       "      <td>0.114902</td>\n",
       "    </tr>\n",
       "    <tr>\n",
       "      <th>2</th>\n",
       "      <td>TfIdf-max_features</td>\n",
       "      <td>NB</td>\n",
       "      <td>5</td>\n",
       "      <td>-1</td>\n",
       "      <td>0.1560</td>\n",
       "      <td>balanced</td>\n",
       "      <td>balanced</td>\n",
       "      <td>0.156572</td>\n",
       "      <td>0.1560</td>\n",
       "      <td>0.106952</td>\n",
       "    </tr>\n",
       "    <tr>\n",
       "      <th>12</th>\n",
       "      <td>TfIdf-max_features</td>\n",
       "      <td>SVM</td>\n",
       "      <td>85</td>\n",
       "      <td>-1</td>\n",
       "      <td>0.1515</td>\n",
       "      <td>balanced</td>\n",
       "      <td>balanced</td>\n",
       "      <td>0.529980</td>\n",
       "      <td>0.1515</td>\n",
       "      <td>0.103751</td>\n",
       "    </tr>\n",
       "    <tr>\n",
       "      <th>18</th>\n",
       "      <td>TfIdf-max_features</td>\n",
       "      <td>SVM</td>\n",
       "      <td>300</td>\n",
       "      <td>-1</td>\n",
       "      <td>0.1380</td>\n",
       "      <td>balanced</td>\n",
       "      <td>balanced</td>\n",
       "      <td>0.462112</td>\n",
       "      <td>0.1380</td>\n",
       "      <td>0.090270</td>\n",
       "    </tr>\n",
       "    <tr>\n",
       "      <th>6</th>\n",
       "      <td>TfIdf-max_features</td>\n",
       "      <td>SVM</td>\n",
       "      <td>45</td>\n",
       "      <td>-1</td>\n",
       "      <td>0.1395</td>\n",
       "      <td>balanced</td>\n",
       "      <td>balanced</td>\n",
       "      <td>0.160983</td>\n",
       "      <td>0.1395</td>\n",
       "      <td>0.078989</td>\n",
       "    </tr>\n",
       "    <tr>\n",
       "      <th>3</th>\n",
       "      <td>TfIdf-max_features</td>\n",
       "      <td>SVM</td>\n",
       "      <td>25</td>\n",
       "      <td>-1</td>\n",
       "      <td>0.1085</td>\n",
       "      <td>balanced</td>\n",
       "      <td>balanced</td>\n",
       "      <td>0.172541</td>\n",
       "      <td>0.1085</td>\n",
       "      <td>0.035546</td>\n",
       "    </tr>\n",
       "    <tr>\n",
       "      <th>0</th>\n",
       "      <td>TfIdf-max_features</td>\n",
       "      <td>SVM</td>\n",
       "      <td>5</td>\n",
       "      <td>-1</td>\n",
       "      <td>0.1040</td>\n",
       "      <td>balanced</td>\n",
       "      <td>balanced</td>\n",
       "      <td>0.063409</td>\n",
       "      <td>0.1040</td>\n",
       "      <td>0.025748</td>\n",
       "    </tr>\n",
       "  </tbody>\n",
       "</table>\n",
       "</div>"
      ],
      "text/plain": [
       "                method model n_components n_neighbors  accuracy     train  \\\n",
       "34  TfIdf-max_features    RF         1300          -1    0.3170  balanced   \n",
       "31  TfIdf-max_features    RF         1100          -1    0.3125  balanced   \n",
       "22  TfIdf-max_features    RF          500          -1    0.3040  balanced   \n",
       "28  TfIdf-max_features    RF          900          -1    0.3035  balanced   \n",
       "25  TfIdf-max_features    RF          700          -1    0.3035  balanced   \n",
       "19  TfIdf-max_features    RF          300          -1    0.2960  balanced   \n",
       "15  TfIdf-max_features   SVM          100          -1    0.2610  balanced   \n",
       "21  TfIdf-max_features   SVM          500          -1    0.2895  balanced   \n",
       "16  TfIdf-max_features    RF          100          -1    0.2625  balanced   \n",
       "13  TfIdf-max_features    RF           85          -1    0.2610  balanced   \n",
       "10  TfIdf-max_features    RF           65          -1    0.2515  balanced   \n",
       "23  TfIdf-max_features    NB          500          -1    0.2595  balanced   \n",
       "26  TfIdf-max_features    NB          700          -1    0.2610  balanced   \n",
       "29  TfIdf-max_features    NB          900          -1    0.2625  balanced   \n",
       "24  TfIdf-max_features   SVM          700          -1    0.2650  balanced   \n",
       "32  TfIdf-max_features    NB         1100          -1    0.2515  balanced   \n",
       "35  TfIdf-max_features    NB         1300          -1    0.2530  balanced   \n",
       "20  TfIdf-max_features    NB          300          -1    0.2470  balanced   \n",
       "7   TfIdf-max_features    RF           45          -1    0.2260  balanced   \n",
       "17  TfIdf-max_features    NB          100          -1    0.2370  balanced   \n",
       "9   TfIdf-max_features   SVM           65          -1    0.2400  balanced   \n",
       "14  TfIdf-max_features    NB           85          -1    0.2350  balanced   \n",
       "27  TfIdf-max_features   SVM          900          -1    0.2305  balanced   \n",
       "11  TfIdf-max_features    NB           65          -1    0.2295  balanced   \n",
       "4   TfIdf-max_features    RF           25          -1    0.1990  balanced   \n",
       "8   TfIdf-max_features    NB           45          -1    0.2150  balanced   \n",
       "1   TfIdf-max_features    RF            5          -1    0.1780  balanced   \n",
       "5   TfIdf-max_features    NB           25          -1    0.2030  balanced   \n",
       "30  TfIdf-max_features   SVM         1100          -1    0.2010  balanced   \n",
       "33  TfIdf-max_features   SVM         1300          -1    0.1485  balanced   \n",
       "2   TfIdf-max_features    NB            5          -1    0.1560  balanced   \n",
       "12  TfIdf-max_features   SVM           85          -1    0.1515  balanced   \n",
       "18  TfIdf-max_features   SVM          300          -1    0.1380  balanced   \n",
       "6   TfIdf-max_features   SVM           45          -1    0.1395  balanced   \n",
       "3   TfIdf-max_features   SVM           25          -1    0.1085  balanced   \n",
       "0   TfIdf-max_features   SVM            5          -1    0.1040  balanced   \n",
       "\n",
       "        test  precision  recall        f1  \n",
       "34  balanced   0.311592  0.3170  0.312309  \n",
       "31  balanced   0.308839  0.3125  0.308489  \n",
       "22  balanced   0.299415  0.3040  0.299643  \n",
       "28  balanced   0.299334  0.3035  0.298443  \n",
       "25  balanced   0.296707  0.3035  0.298183  \n",
       "19  balanced   0.290878  0.2960  0.292527  \n",
       "15  balanced   0.319714  0.2610  0.263252  \n",
       "21  balanced   0.300387  0.2895  0.262259  \n",
       "16  balanced   0.256477  0.2625  0.258449  \n",
       "13  balanced   0.256967  0.2610  0.258207  \n",
       "10  balanced   0.246357  0.2515  0.248288  \n",
       "23  balanced   0.285489  0.2595  0.246016  \n",
       "26  balanced   0.278285  0.2610  0.245518  \n",
       "29  balanced   0.271170  0.2625  0.244408  \n",
       "24  balanced   0.320603  0.2650  0.243946  \n",
       "32  balanced   0.256199  0.2515  0.233182  \n",
       "35  balanced   0.254682  0.2530  0.232999  \n",
       "20  balanced   0.272202  0.2470  0.231702  \n",
       "7   balanced   0.221295  0.2260  0.222803  \n",
       "17  balanced   0.264156  0.2370  0.216578  \n",
       "9   balanced   0.301643  0.2400  0.216274  \n",
       "14  balanced   0.263095  0.2350  0.214564  \n",
       "27  balanced   0.278057  0.2305  0.210836  \n",
       "11  balanced   0.267708  0.2295  0.208482  \n",
       "4   balanced   0.195523  0.1990  0.196287  \n",
       "8   balanced   0.265851  0.2150  0.194494  \n",
       "1   balanced   0.174046  0.1780  0.175076  \n",
       "5   balanced   0.233725  0.2030  0.173851  \n",
       "30  balanced   0.336395  0.2010  0.160468  \n",
       "33  balanced   0.434677  0.1485  0.114902  \n",
       "2   balanced   0.156572  0.1560  0.106952  \n",
       "12  balanced   0.529980  0.1515  0.103751  \n",
       "18  balanced   0.462112  0.1380  0.090270  \n",
       "6   balanced   0.160983  0.1395  0.078989  \n",
       "3   balanced   0.172541  0.1085  0.035546  \n",
       "0   balanced   0.063409  0.1040  0.025748  "
      ]
     },
     "execution_count": 26,
     "metadata": {},
     "output_type": "execute_result"
    }
   ],
   "source": [
    "df.sort_values(\"f1\", ascending = False)"
   ]
  },
  {
   "cell_type": "code",
   "execution_count": 27,
   "id": "2a7d0232",
   "metadata": {},
   "outputs": [],
   "source": [
    "from sklearn.metrics import f1_score"
   ]
  },
  {
   "cell_type": "markdown",
   "id": "0005eb7c",
   "metadata": {},
   "source": [
    "# Best models"
   ]
  },
  {
   "cell_type": "code",
   "execution_count": null,
   "id": "4ec15a0e",
   "metadata": {},
   "outputs": [],
   "source": [
    "i = 1300\n",
    "\n",
    "vectorizer1 = TfidfVectorizer(stop_words = 'english', max_features=i)\n",
    "vectorizer2 = TfidfVectorizer(stop_words = 'english', max_features=i)\n",
    "\n",
    "\n",
    "X_pcab, y_trainb = datasetToTfIdfPredictorsAndLabels(X__trainb, vectorizer1, vectorizer2)\n",
    "X_pca_testb, y_testb = datasetToTfIdfPredictorsAndLabelsForTest(X__testb, vectorizer1, vectorizer2)\n",
    "\n",
    "\n",
    "loaded_model = pickle.load(open(\"rf_model_1300.sav\", 'rb'))\n",
    "\n",
    "\n",
    "model_pred = loaded_model.predict(X_pca_testb)\n",
    "\n",
    "rf_proba = loaded_model.predict_proba(X_pca_testb)\n",
    "\n",
    "rf_f1_scores = f1_score(y_testb, model_pred, average = None, labels=np.unique(y_testb))\n",
    "\n",
    "print(rf_f1_scores)\n",
    "print(np.unique(y_testb))\n",
    "\n",
    "pd.DataFrame(rf_proba).to_csv(\"rf_proba.csv\")\n",
    "pd.DataFrame(rf_f1_scores).to_csv(\"rf_f1_scores.csv\")\n"
   ]
  },
  {
   "cell_type": "code",
   "execution_count": 36,
   "id": "051da1b5",
   "metadata": {},
   "outputs": [
    {
     "name": "stdout",
     "output_type": "stream",
     "text": [
      "[0.288      0.37745098 0.23364486 0.39277652 0.35443038 0.14835165\n",
      " 0.36807095 0.47002398 0.21428571 0.27605634]\n",
      "['advice' 'art' 'discussion' 'media' 'meme' 'other' 'rant' 'relationship'\n",
      " 'serious' 'social']\n"
     ]
    }
   ],
   "source": [
    "rf_f1_scores = f1_score(y_testb, model_pred, average = None, labels=np.unique(y_testb))\n",
    "\n",
    "print(rf_f1_scores)\n",
    "print(np.unique(y_testb))\n",
    "\n",
    "pd.DataFrame(rf_proba).to_csv(\"rf_proba.csv\")\n",
    "pd.DataFrame(rf_f1_scores).to_csv(\"rf_f1_scores.csv\")"
   ]
  },
  {
   "cell_type": "code",
   "execution_count": 45,
   "id": "013cf698",
   "metadata": {},
   "outputs": [
    {
     "name": "stderr",
     "output_type": "stream",
     "text": [
      "C:\\Users\\Patryk\\anaconda3\\lib\\site-packages\\sklearn\\utils\\validation.py:63: DataConversionWarning: A column-vector y was passed when a 1d array was expected. Please change the shape of y to (n_samples, ), for example using ravel().\n",
      "  return f(*args, **kwargs)\n",
      "C:\\Users\\Patryk\\anaconda3\\lib\\site-packages\\sklearn\\svm\\_base.py:985: ConvergenceWarning: Liblinear failed to converge, increase the number of iterations.\n",
      "  warnings.warn(\"Liblinear failed to converge, increase \"\n",
      "C:\\Users\\Patryk\\anaconda3\\lib\\site-packages\\sklearn\\svm\\_base.py:985: ConvergenceWarning: Liblinear failed to converge, increase the number of iterations.\n",
      "  warnings.warn(\"Liblinear failed to converge, increase \"\n",
      "C:\\Users\\Patryk\\anaconda3\\lib\\site-packages\\sklearn\\svm\\_base.py:985: ConvergenceWarning: Liblinear failed to converge, increase the number of iterations.\n",
      "  warnings.warn(\"Liblinear failed to converge, increase \"\n",
      "C:\\Users\\Patryk\\anaconda3\\lib\\site-packages\\sklearn\\svm\\_base.py:985: ConvergenceWarning: Liblinear failed to converge, increase the number of iterations.\n",
      "  warnings.warn(\"Liblinear failed to converge, increase \"\n"
     ]
    },
    {
     "name": "stdout",
     "output_type": "stream",
     "text": [
      "[0.25626741 0.34782609 0.2029703  0.34008097 0.3022113  0.08403361\n",
      " 0.2394822  0.44380403 0.18068536 0.23121387]\n",
      "['advice' 'art' 'discussion' 'media' 'meme' 'other' 'rant' 'relationship'\n",
      " 'serious' 'social']\n"
     ]
    },
    {
     "name": "stderr",
     "output_type": "stream",
     "text": [
      "C:\\Users\\Patryk\\anaconda3\\lib\\site-packages\\sklearn\\svm\\_base.py:985: ConvergenceWarning: Liblinear failed to converge, increase the number of iterations.\n",
      "  warnings.warn(\"Liblinear failed to converge, increase \"\n"
     ]
    }
   ],
   "source": [
    "from sklearn.calibration import CalibratedClassifierCV\n",
    "\n",
    "i = 100\n",
    "\n",
    "vectorizer1 = TfidfVectorizer(stop_words = 'english', max_features=i)\n",
    "vectorizer2 = TfidfVectorizer(stop_words = 'english', max_features=i)\n",
    "\n",
    "\n",
    "X_pcab, y_trainb = datasetToTfIdfPredictorsAndLabels(X__trainb, vectorizer1, vectorizer2)\n",
    "X_pca_testb, y_testb = datasetToTfIdfPredictorsAndLabelsForTest(X__testb, vectorizer1, vectorizer2)\n",
    "\n",
    "\n",
    "loaded_model = CalibratedClassifierCV(pickle.load(open(\"svm_model_100.sav\", 'rb')))\n",
    "\n",
    "loaded_model.fit(X_pcab, y_trainb)\n",
    "\n",
    "model_pred = loaded_model.predict(X_pca_testb)\n",
    "\n",
    "svm_proba = loaded_model.predict_proba(X_pca_testb)\n",
    "\n",
    "svm_f1_scores = f1_score(y_testb, model_pred, average = None, labels=np.unique(y_testb))\n",
    "\n",
    "print(svm_f1_scores)\n",
    "print(np.unique(y_testb))\n",
    "\n",
    "pd.DataFrame(svm_proba).to_csv(\"svm_proba.csv\")\n",
    "pd.DataFrame(svm_f1_scores).to_csv(\"svm_f1_scores.csv\")\n",
    "\n"
   ]
  },
  {
   "cell_type": "code",
   "execution_count": 46,
   "id": "75b5c659",
   "metadata": {},
   "outputs": [
    {
     "name": "stdout",
     "output_type": "stream",
     "text": [
      "[0.25925926 0.3011583  0.1409396  0.28742515 0.23382046 0.10441767\n",
      " 0.25655977 0.35748792 0.22516556 0.29392971]\n",
      "['advice' 'art' 'discussion' 'media' 'meme' 'other' 'rant' 'relationship'\n",
      " 'serious' 'social']\n"
     ]
    }
   ],
   "source": [
    "i = 500\n",
    "\n",
    "vectorizer1 = TfidfVectorizer(stop_words = 'english', max_features=i)\n",
    "vectorizer2 = TfidfVectorizer(stop_words = 'english', max_features=i)\n",
    "\n",
    "\n",
    "X_pcab, y_trainb = datasetToTfIdfPredictorsAndLabels(X__trainb, vectorizer1, vectorizer2)\n",
    "X_pca_testb, y_testb = datasetToTfIdfPredictorsAndLabelsForTest(X__testb, vectorizer1, vectorizer2)\n",
    "\n",
    "\n",
    "loaded_model = pickle.load(open(\"nb_model_500.sav\", 'rb'))\n",
    "\n",
    "\n",
    "model_pred = loaded_model.predict(X_pca_testb)\n",
    "\n",
    "nb_proba = loaded_model.predict_proba(X_pca_testb)\n",
    "\n",
    "nb_f1_scores = f1_score(y_testb, model_pred, average = None, labels=np.unique(y_testb))\n",
    "\n",
    "print(nb_f1_scores)\n",
    "print(np.unique(y_testb))\n",
    "\n",
    "pd.DataFrame(nb_proba).to_csv(\"nb_proba.csv\")\n",
    "pd.DataFrame(nb_f1_scores).to_csv(\"nb_f1_scores.csv\")\n"
   ]
  },
  {
   "cell_type": "code",
   "execution_count": null,
   "id": "9516f65e",
   "metadata": {},
   "outputs": [],
   "source": []
  },
  {
   "cell_type": "markdown",
   "id": "b7a22800",
   "metadata": {},
   "source": [
    "# Conclusions\n",
    "\n",
    "Naive Bayes and Random Forest models started to stabilize when reaching 200 features -- their performance slightly continued to increase with increasing number of features selected by TdIdf vectorizer. The performance of SVC was similar to the random model -- therefore, classes do not seem to be linearly separable."
   ]
  }
 ],
 "metadata": {
  "kernelspec": {
   "display_name": "Python 3 (ipykernel)",
   "language": "python",
   "name": "python3"
  },
  "language_info": {
   "codemirror_mode": {
    "name": "ipython",
    "version": 3
   },
   "file_extension": ".py",
   "mimetype": "text/x-python",
   "name": "python",
   "nbconvert_exporter": "python",
   "pygments_lexer": "ipython3",
   "version": "3.9.7"
  }
 },
 "nbformat": 4,
 "nbformat_minor": 5
}
